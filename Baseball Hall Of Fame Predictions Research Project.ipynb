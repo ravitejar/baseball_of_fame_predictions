{
 "cells": [
  {
   "cell_type": "markdown",
   "metadata": {},
   "source": [
    "## 1. IMPORT INDIVIDUAL DATASETS"
   ]
  },
  {
   "cell_type": "code",
   "execution_count": 316,
   "metadata": {
    "collapsed": true
   },
   "outputs": [],
   "source": [
    "import pandas as pd\n",
    "import numpy as np\n",
    "from pandas import DataFrame,Series\n",
    "import matplotlib.pyplot as plt\n",
    "import seaborn as sns\n",
    "%matplotlib inline\n",
    "import re\n",
    "import random as rm\n",
    "from datetime import datetime\n",
    "from sklearn.cross_validation import train_test_split,StratifiedKFold,KFold,cross_val_score\n",
    "from sklearn import cross_validation\n",
    "from sklearn.linear_model import LogisticRegression\n",
    "from sklearn.metrics import accuracy_score,confusion_matrix,roc_curve, auc, classification_report\n",
    "from scipy import interp\n",
    "from sklearn import tree\n",
    "from sklearn.tree import DecisionTreeClassifier,export_graphviz\n",
    "from sklearn import svm\n",
    "from sklearn.naive_bayes import GaussianNB\n",
    "from sklearn.ensemble import RandomForestClassifier\n",
    "from sklearn.ensemble import GradientBoostingClassifier\n",
    "from sklearn.ensemble import GradientBoostingClassifier  #GBM algorithm\n",
    "from sklearn import cross_validation, metrics   #Additional scklearn functions\n",
    "from sklearn.grid_search import GridSearchCV   #Perforing grid search\n",
    "from matplotlib.pylab import rcParams\n",
    "from __future__ import division"
   ]
  },
  {
   "cell_type": "code",
   "execution_count": 317,
   "metadata": {
    "collapsed": false
   },
   "outputs": [
    {
     "name": "stdout",
     "output_type": "stream",
     "text": [
      "C:\\Users\\raviteja\\Desktop\\MSBAPM\\Baseball-Hall of Fame Predictions\\Fielder\\baseball-collection of 27 datasets\n"
     ]
    }
   ],
   "source": [
    "%cd \"C:\\Users\\raviteja\\Desktop\\MSBAPM\\Baseball-Hall of Fame Predictions\\Fielder\\baseball-collection of 27 datasets\""
   ]
  },
  {
   "cell_type": "markdown",
   "metadata": {},
   "source": [
    "### Master"
   ]
  },
  {
   "cell_type": "code",
   "execution_count": 318,
   "metadata": {
    "collapsed": false
   },
   "outputs": [],
   "source": [
    "master=pd.read_csv('Master.csv')"
   ]
  },
  {
   "cell_type": "code",
   "execution_count": 319,
   "metadata": {
    "collapsed": false
   },
   "outputs": [],
   "source": [
    "master.columns=[u'playerID_MAS', u'birthYear_MAS', u'birthMonth_MAS', u'birthDay_MAS', u'birthCountry_MAS',\n",
    "       u'birthState_MAS', u'birthCity_MAS', u'deathYear_MAS', u'deathMonth_MAS', u'deathDay_MAS',\n",
    "       u'deathCountry_MAS', u'deathState_MAS', u'deathCity_MAS', u'nameFirst_MAS', u'nameLast_MAS',\n",
    "       u'nameGiven_MAS', u'weight_MAS', u'height_MAS', u'bats_MAS', u'throws_MAS', u'debut_MAS',\n",
    "       u'finalGame_MAS', u'retroID_MAS', u'bbrefID_MAS']"
   ]
  },
  {
   "cell_type": "code",
   "execution_count": 320,
   "metadata": {
    "collapsed": false
   },
   "outputs": [],
   "source": [
    "master.set_index('playerID_MAS',inplace=True)"
   ]
  },
  {
   "cell_type": "markdown",
   "metadata": {},
   "source": [
    "### Awards"
   ]
  },
  {
   "cell_type": "code",
   "execution_count": 321,
   "metadata": {
    "collapsed": true
   },
   "outputs": [],
   "source": [
    "awards=pd.read_csv('AwardsPlayers.csv')"
   ]
  },
  {
   "cell_type": "code",
   "execution_count": 322,
   "metadata": {
    "collapsed": false
   },
   "outputs": [],
   "source": [
    "awards=pd.pivot_table(awards[['playerID','awardID']].dropna(),index='playerID',columns='awardID',aggfunc=len)"
   ]
  },
  {
   "cell_type": "code",
   "execution_count": 323,
   "metadata": {
    "collapsed": false
   },
   "outputs": [],
   "source": [
    "awards.columns=[u'ALCS MVP_AW', u'All-Star Game MVP_AW', u'Babe Ruth Award_AW',\n",
    "       u'Baseball Magazine All-Star_AW', u'Branch Rickey Award_AW',\n",
    "       u'Comeback Player of the Year_AW', u'Cy Young Award_AW', u'Gold Glove_AW',\n",
    "       u'Hank Aaron Award_AW', u'Hutch Award_AW', u'Lou Gehrig Memorial Award_AW',\n",
    "       u'Most Valuable Player_AW', u'NLCS MVP_AW', u'Pitching Triple Crown_AW',\n",
    "       u'Roberto Clemente Award_AW', u'Rolaids Relief Man Award_AW',\n",
    "       u'Rookie of the Year_AW', u'Silver Slugger_AW', u'TSN All-Star_AW',\n",
    "       u'TSN Fireman of the Year_AW', u'TSN Guide MVP_AW',\n",
    "       u'TSN Major League Player of the Year_AW', u'TSN Pitcher of the Year_AW',\n",
    "       u'TSN Player of the Year_AW', u'TSN Reliever of the Year_AW', u'Triple Crown_AW',\n",
    "       u'World Series MVP_AW']"
   ]
  },
  {
   "cell_type": "markdown",
   "metadata": {},
   "source": [
    "### Appearances"
   ]
  },
  {
   "cell_type": "code",
   "execution_count": 324,
   "metadata": {
    "collapsed": true
   },
   "outputs": [],
   "source": [
    "appearances=pd.read_csv('Appearances.csv')"
   ]
  },
  {
   "cell_type": "code",
   "execution_count": 325,
   "metadata": {
    "collapsed": true
   },
   "outputs": [],
   "source": [
    "app_leagues=pd.pivot_table(appearances[['playerID','lgID']].dropna(),index='playerID',columns='lgID',aggfunc=len)"
   ]
  },
  {
   "cell_type": "code",
   "execution_count": 326,
   "metadata": {
    "collapsed": true
   },
   "outputs": [],
   "source": [
    "x=appearances.iloc[:,3:].groupby(by='playerID').sum()"
   ]
  },
  {
   "cell_type": "code",
   "execution_count": 327,
   "metadata": {
    "collapsed": true
   },
   "outputs": [],
   "source": [
    "appearances=pd.concat([app_leagues,x],axis=1)"
   ]
  },
  {
   "cell_type": "code",
   "execution_count": 328,
   "metadata": {
    "collapsed": false
   },
   "outputs": [],
   "source": [
    "appearances.columns=[u'AA_AP', u'AL_AP', u'FL_AP', u'NL_AP', u'PL_AP', u'UA_AP', u'G_all_AP', u'GS_AP', u'G_batting_AP',\n",
    "       u'G_defense_AP', u'G_p_AP', u'G_c_AP', u'G_1b_AP', u'G_2b_AP', u'G_3b_AP', u'G_ss_AP',\n",
    "       u'G_lf_AP', u'G_cf_AP', u'G_rf_AP', u'G_of_AP', u'G_dh_AP', u'G_ph_AP', u'G_pr_AP']"
   ]
  },
  {
   "cell_type": "markdown",
   "metadata": {},
   "source": [
    "### HallOfFame"
   ]
  },
  {
   "cell_type": "code",
   "execution_count": 329,
   "metadata": {
    "collapsed": true
   },
   "outputs": [],
   "source": [
    "halloffame=pd.read_csv('HallOfFame.csv')"
   ]
  },
  {
   "cell_type": "code",
   "execution_count": 330,
   "metadata": {
    "collapsed": false
   },
   "outputs": [
    {
     "data": {
      "text/html": [
       "<div>\n",
       "<table border=\"1\" class=\"dataframe\">\n",
       "  <thead>\n",
       "    <tr style=\"text-align: right;\">\n",
       "      <th></th>\n",
       "      <th>playerID</th>\n",
       "      <th>yearid</th>\n",
       "      <th>votedBy</th>\n",
       "      <th>ballots</th>\n",
       "      <th>needed</th>\n",
       "      <th>votes</th>\n",
       "      <th>inducted</th>\n",
       "      <th>category</th>\n",
       "      <th>needed_note</th>\n",
       "    </tr>\n",
       "  </thead>\n",
       "  <tbody>\n",
       "    <tr>\n",
       "      <th>0</th>\n",
       "      <td>cobbty01</td>\n",
       "      <td>1936</td>\n",
       "      <td>BBWAA</td>\n",
       "      <td>226</td>\n",
       "      <td>170</td>\n",
       "      <td>222</td>\n",
       "      <td>Y</td>\n",
       "      <td>Player</td>\n",
       "      <td>NaN</td>\n",
       "    </tr>\n",
       "    <tr>\n",
       "      <th>1</th>\n",
       "      <td>ruthba01</td>\n",
       "      <td>1936</td>\n",
       "      <td>BBWAA</td>\n",
       "      <td>226</td>\n",
       "      <td>170</td>\n",
       "      <td>215</td>\n",
       "      <td>Y</td>\n",
       "      <td>Player</td>\n",
       "      <td>NaN</td>\n",
       "    </tr>\n",
       "    <tr>\n",
       "      <th>2</th>\n",
       "      <td>wagneho01</td>\n",
       "      <td>1936</td>\n",
       "      <td>BBWAA</td>\n",
       "      <td>226</td>\n",
       "      <td>170</td>\n",
       "      <td>215</td>\n",
       "      <td>Y</td>\n",
       "      <td>Player</td>\n",
       "      <td>NaN</td>\n",
       "    </tr>\n",
       "    <tr>\n",
       "      <th>3</th>\n",
       "      <td>mathech01</td>\n",
       "      <td>1936</td>\n",
       "      <td>BBWAA</td>\n",
       "      <td>226</td>\n",
       "      <td>170</td>\n",
       "      <td>205</td>\n",
       "      <td>Y</td>\n",
       "      <td>Player</td>\n",
       "      <td>NaN</td>\n",
       "    </tr>\n",
       "    <tr>\n",
       "      <th>4</th>\n",
       "      <td>johnswa01</td>\n",
       "      <td>1936</td>\n",
       "      <td>BBWAA</td>\n",
       "      <td>226</td>\n",
       "      <td>170</td>\n",
       "      <td>189</td>\n",
       "      <td>Y</td>\n",
       "      <td>Player</td>\n",
       "      <td>NaN</td>\n",
       "    </tr>\n",
       "    <tr>\n",
       "      <th>5</th>\n",
       "      <td>lajoina01</td>\n",
       "      <td>1936</td>\n",
       "      <td>BBWAA</td>\n",
       "      <td>226</td>\n",
       "      <td>170</td>\n",
       "      <td>146</td>\n",
       "      <td>N</td>\n",
       "      <td>Player</td>\n",
       "      <td>NaN</td>\n",
       "    </tr>\n",
       "    <tr>\n",
       "      <th>6</th>\n",
       "      <td>speaktr01</td>\n",
       "      <td>1936</td>\n",
       "      <td>BBWAA</td>\n",
       "      <td>226</td>\n",
       "      <td>170</td>\n",
       "      <td>133</td>\n",
       "      <td>N</td>\n",
       "      <td>Player</td>\n",
       "      <td>NaN</td>\n",
       "    </tr>\n",
       "    <tr>\n",
       "      <th>7</th>\n",
       "      <td>youngcy01</td>\n",
       "      <td>1936</td>\n",
       "      <td>BBWAA</td>\n",
       "      <td>226</td>\n",
       "      <td>170</td>\n",
       "      <td>111</td>\n",
       "      <td>N</td>\n",
       "      <td>Player</td>\n",
       "      <td>NaN</td>\n",
       "    </tr>\n",
       "    <tr>\n",
       "      <th>8</th>\n",
       "      <td>hornsro01</td>\n",
       "      <td>1936</td>\n",
       "      <td>BBWAA</td>\n",
       "      <td>226</td>\n",
       "      <td>170</td>\n",
       "      <td>105</td>\n",
       "      <td>N</td>\n",
       "      <td>Player</td>\n",
       "      <td>NaN</td>\n",
       "    </tr>\n",
       "    <tr>\n",
       "      <th>9</th>\n",
       "      <td>cochrmi01</td>\n",
       "      <td>1936</td>\n",
       "      <td>BBWAA</td>\n",
       "      <td>226</td>\n",
       "      <td>170</td>\n",
       "      <td>80</td>\n",
       "      <td>N</td>\n",
       "      <td>Player</td>\n",
       "      <td>NaN</td>\n",
       "    </tr>\n",
       "    <tr>\n",
       "      <th>10</th>\n",
       "      <td>sislege01</td>\n",
       "      <td>1936</td>\n",
       "      <td>BBWAA</td>\n",
       "      <td>226</td>\n",
       "      <td>170</td>\n",
       "      <td>77</td>\n",
       "      <td>N</td>\n",
       "      <td>Player</td>\n",
       "      <td>NaN</td>\n",
       "    </tr>\n",
       "    <tr>\n",
       "      <th>11</th>\n",
       "      <td>collied01</td>\n",
       "      <td>1936</td>\n",
       "      <td>BBWAA</td>\n",
       "      <td>226</td>\n",
       "      <td>170</td>\n",
       "      <td>60</td>\n",
       "      <td>N</td>\n",
       "      <td>Player</td>\n",
       "      <td>NaN</td>\n",
       "    </tr>\n",
       "    <tr>\n",
       "      <th>12</th>\n",
       "      <td>colliji01</td>\n",
       "      <td>1936</td>\n",
       "      <td>BBWAA</td>\n",
       "      <td>226</td>\n",
       "      <td>170</td>\n",
       "      <td>58</td>\n",
       "      <td>N</td>\n",
       "      <td>Player</td>\n",
       "      <td>NaN</td>\n",
       "    </tr>\n",
       "    <tr>\n",
       "      <th>13</th>\n",
       "      <td>alexape01</td>\n",
       "      <td>1936</td>\n",
       "      <td>BBWAA</td>\n",
       "      <td>226</td>\n",
       "      <td>170</td>\n",
       "      <td>55</td>\n",
       "      <td>N</td>\n",
       "      <td>Player</td>\n",
       "      <td>NaN</td>\n",
       "    </tr>\n",
       "    <tr>\n",
       "      <th>14</th>\n",
       "      <td>gehrilo01</td>\n",
       "      <td>1936</td>\n",
       "      <td>BBWAA</td>\n",
       "      <td>226</td>\n",
       "      <td>170</td>\n",
       "      <td>51</td>\n",
       "      <td>N</td>\n",
       "      <td>Player</td>\n",
       "      <td>NaN</td>\n",
       "    </tr>\n",
       "    <tr>\n",
       "      <th>15</th>\n",
       "      <td>bresnro01</td>\n",
       "      <td>1936</td>\n",
       "      <td>BBWAA</td>\n",
       "      <td>226</td>\n",
       "      <td>170</td>\n",
       "      <td>47</td>\n",
       "      <td>N</td>\n",
       "      <td>Player</td>\n",
       "      <td>NaN</td>\n",
       "    </tr>\n",
       "    <tr>\n",
       "      <th>16</th>\n",
       "      <td>keelewi01</td>\n",
       "      <td>1936</td>\n",
       "      <td>BBWAA</td>\n",
       "      <td>226</td>\n",
       "      <td>170</td>\n",
       "      <td>40</td>\n",
       "      <td>N</td>\n",
       "      <td>Player</td>\n",
       "      <td>NaN</td>\n",
       "    </tr>\n",
       "    <tr>\n",
       "      <th>17</th>\n",
       "      <td>ansonca01</td>\n",
       "      <td>1936</td>\n",
       "      <td>Veterans</td>\n",
       "      <td>78</td>\n",
       "      <td>59</td>\n",
       "      <td>39</td>\n",
       "      <td>N</td>\n",
       "      <td>Player</td>\n",
       "      <td>NaN</td>\n",
       "    </tr>\n",
       "    <tr>\n",
       "      <th>18</th>\n",
       "      <td>ewingbu01</td>\n",
       "      <td>1936</td>\n",
       "      <td>Veterans</td>\n",
       "      <td>78</td>\n",
       "      <td>59</td>\n",
       "      <td>39</td>\n",
       "      <td>N</td>\n",
       "      <td>Player</td>\n",
       "      <td>NaN</td>\n",
       "    </tr>\n",
       "    <tr>\n",
       "      <th>19</th>\n",
       "      <td>keelewi01</td>\n",
       "      <td>1936</td>\n",
       "      <td>Veterans</td>\n",
       "      <td>78</td>\n",
       "      <td>59</td>\n",
       "      <td>33</td>\n",
       "      <td>N</td>\n",
       "      <td>Player</td>\n",
       "      <td>NaN</td>\n",
       "    </tr>\n",
       "    <tr>\n",
       "      <th>20</th>\n",
       "      <td>wadderu01</td>\n",
       "      <td>1936</td>\n",
       "      <td>BBWAA</td>\n",
       "      <td>226</td>\n",
       "      <td>170</td>\n",
       "      <td>33</td>\n",
       "      <td>N</td>\n",
       "      <td>Player</td>\n",
       "      <td>NaN</td>\n",
       "    </tr>\n",
       "    <tr>\n",
       "      <th>21</th>\n",
       "      <td>youngcy01</td>\n",
       "      <td>1936</td>\n",
       "      <td>Veterans</td>\n",
       "      <td>78</td>\n",
       "      <td>59</td>\n",
       "      <td>32</td>\n",
       "      <td>N</td>\n",
       "      <td>Player</td>\n",
       "      <td>NaN</td>\n",
       "    </tr>\n",
       "    <tr>\n",
       "      <th>22</th>\n",
       "      <td>delahed01</td>\n",
       "      <td>1936</td>\n",
       "      <td>Veterans</td>\n",
       "      <td>78</td>\n",
       "      <td>59</td>\n",
       "      <td>21</td>\n",
       "      <td>N</td>\n",
       "      <td>Player</td>\n",
       "      <td>NaN</td>\n",
       "    </tr>\n",
       "    <tr>\n",
       "      <th>23</th>\n",
       "      <td>foxxji01</td>\n",
       "      <td>1936</td>\n",
       "      <td>BBWAA</td>\n",
       "      <td>226</td>\n",
       "      <td>170</td>\n",
       "      <td>21</td>\n",
       "      <td>N</td>\n",
       "      <td>Player</td>\n",
       "      <td>NaN</td>\n",
       "    </tr>\n",
       "    <tr>\n",
       "      <th>24</th>\n",
       "      <td>walshed01</td>\n",
       "      <td>1936</td>\n",
       "      <td>BBWAA</td>\n",
       "      <td>226</td>\n",
       "      <td>170</td>\n",
       "      <td>20</td>\n",
       "      <td>N</td>\n",
       "      <td>Player</td>\n",
       "      <td>NaN</td>\n",
       "    </tr>\n",
       "    <tr>\n",
       "      <th>25</th>\n",
       "      <td>mcgrajo01</td>\n",
       "      <td>1936</td>\n",
       "      <td>Veterans</td>\n",
       "      <td>78</td>\n",
       "      <td>59</td>\n",
       "      <td>17</td>\n",
       "      <td>N</td>\n",
       "      <td>Player</td>\n",
       "      <td>NaN</td>\n",
       "    </tr>\n",
       "    <tr>\n",
       "      <th>26</th>\n",
       "      <td>delahed01</td>\n",
       "      <td>1936</td>\n",
       "      <td>BBWAA</td>\n",
       "      <td>226</td>\n",
       "      <td>170</td>\n",
       "      <td>17</td>\n",
       "      <td>N</td>\n",
       "      <td>Player</td>\n",
       "      <td>NaN</td>\n",
       "    </tr>\n",
       "    <tr>\n",
       "      <th>27</th>\n",
       "      <td>radboch01</td>\n",
       "      <td>1936</td>\n",
       "      <td>Veterans</td>\n",
       "      <td>78</td>\n",
       "      <td>59</td>\n",
       "      <td>16</td>\n",
       "      <td>N</td>\n",
       "      <td>Player</td>\n",
       "      <td>NaN</td>\n",
       "    </tr>\n",
       "    <tr>\n",
       "      <th>28</th>\n",
       "      <td>traynpi01</td>\n",
       "      <td>1936</td>\n",
       "      <td>BBWAA</td>\n",
       "      <td>226</td>\n",
       "      <td>170</td>\n",
       "      <td>16</td>\n",
       "      <td>N</td>\n",
       "      <td>Player</td>\n",
       "      <td>NaN</td>\n",
       "    </tr>\n",
       "    <tr>\n",
       "      <th>29</th>\n",
       "      <td>kellyki01</td>\n",
       "      <td>1936</td>\n",
       "      <td>Veterans</td>\n",
       "      <td>78</td>\n",
       "      <td>59</td>\n",
       "      <td>15</td>\n",
       "      <td>N</td>\n",
       "      <td>Player</td>\n",
       "      <td>NaN</td>\n",
       "    </tr>\n",
       "    <tr>\n",
       "      <th>...</th>\n",
       "      <td>...</td>\n",
       "      <td>...</td>\n",
       "      <td>...</td>\n",
       "      <td>...</td>\n",
       "      <td>...</td>\n",
       "      <td>...</td>\n",
       "      <td>...</td>\n",
       "      <td>...</td>\n",
       "      <td>...</td>\n",
       "    </tr>\n",
       "    <tr>\n",
       "      <th>4090</th>\n",
       "      <td>bagweje01</td>\n",
       "      <td>2016</td>\n",
       "      <td>BBWAA</td>\n",
       "      <td>440</td>\n",
       "      <td>330</td>\n",
       "      <td>315</td>\n",
       "      <td>N</td>\n",
       "      <td>Player</td>\n",
       "      <td>NaN</td>\n",
       "    </tr>\n",
       "    <tr>\n",
       "      <th>4091</th>\n",
       "      <td>raineti01</td>\n",
       "      <td>2016</td>\n",
       "      <td>BBWAA</td>\n",
       "      <td>440</td>\n",
       "      <td>330</td>\n",
       "      <td>307</td>\n",
       "      <td>N</td>\n",
       "      <td>Player</td>\n",
       "      <td>NaN</td>\n",
       "    </tr>\n",
       "    <tr>\n",
       "      <th>4092</th>\n",
       "      <td>hoffmtr01</td>\n",
       "      <td>2016</td>\n",
       "      <td>BBWAA</td>\n",
       "      <td>440</td>\n",
       "      <td>330</td>\n",
       "      <td>296</td>\n",
       "      <td>N</td>\n",
       "      <td>Player</td>\n",
       "      <td>NaN</td>\n",
       "    </tr>\n",
       "    <tr>\n",
       "      <th>4093</th>\n",
       "      <td>schilcu01</td>\n",
       "      <td>2016</td>\n",
       "      <td>BBWAA</td>\n",
       "      <td>440</td>\n",
       "      <td>330</td>\n",
       "      <td>230</td>\n",
       "      <td>N</td>\n",
       "      <td>Player</td>\n",
       "      <td>NaN</td>\n",
       "    </tr>\n",
       "    <tr>\n",
       "      <th>4094</th>\n",
       "      <td>clemero02</td>\n",
       "      <td>2016</td>\n",
       "      <td>BBWAA</td>\n",
       "      <td>440</td>\n",
       "      <td>330</td>\n",
       "      <td>199</td>\n",
       "      <td>N</td>\n",
       "      <td>Player</td>\n",
       "      <td>NaN</td>\n",
       "    </tr>\n",
       "    <tr>\n",
       "      <th>4095</th>\n",
       "      <td>bondsba01</td>\n",
       "      <td>2016</td>\n",
       "      <td>BBWAA</td>\n",
       "      <td>440</td>\n",
       "      <td>330</td>\n",
       "      <td>195</td>\n",
       "      <td>N</td>\n",
       "      <td>Player</td>\n",
       "      <td>NaN</td>\n",
       "    </tr>\n",
       "    <tr>\n",
       "      <th>4096</th>\n",
       "      <td>martied01</td>\n",
       "      <td>2016</td>\n",
       "      <td>BBWAA</td>\n",
       "      <td>440</td>\n",
       "      <td>330</td>\n",
       "      <td>191</td>\n",
       "      <td>N</td>\n",
       "      <td>Player</td>\n",
       "      <td>NaN</td>\n",
       "    </tr>\n",
       "    <tr>\n",
       "      <th>4097</th>\n",
       "      <td>mussimi01</td>\n",
       "      <td>2016</td>\n",
       "      <td>BBWAA</td>\n",
       "      <td>440</td>\n",
       "      <td>330</td>\n",
       "      <td>189</td>\n",
       "      <td>N</td>\n",
       "      <td>Player</td>\n",
       "      <td>NaN</td>\n",
       "    </tr>\n",
       "    <tr>\n",
       "      <th>4098</th>\n",
       "      <td>trammal01</td>\n",
       "      <td>2016</td>\n",
       "      <td>BBWAA</td>\n",
       "      <td>440</td>\n",
       "      <td>330</td>\n",
       "      <td>180</td>\n",
       "      <td>N</td>\n",
       "      <td>Player</td>\n",
       "      <td>NaN</td>\n",
       "    </tr>\n",
       "    <tr>\n",
       "      <th>4099</th>\n",
       "      <td>smithle02</td>\n",
       "      <td>2016</td>\n",
       "      <td>BBWAA</td>\n",
       "      <td>440</td>\n",
       "      <td>330</td>\n",
       "      <td>150</td>\n",
       "      <td>N</td>\n",
       "      <td>Player</td>\n",
       "      <td>NaN</td>\n",
       "    </tr>\n",
       "    <tr>\n",
       "      <th>4100</th>\n",
       "      <td>mcgrifr01</td>\n",
       "      <td>2016</td>\n",
       "      <td>BBWAA</td>\n",
       "      <td>440</td>\n",
       "      <td>330</td>\n",
       "      <td>92</td>\n",
       "      <td>N</td>\n",
       "      <td>Player</td>\n",
       "      <td>NaN</td>\n",
       "    </tr>\n",
       "    <tr>\n",
       "      <th>4101</th>\n",
       "      <td>kentje01</td>\n",
       "      <td>2016</td>\n",
       "      <td>BBWAA</td>\n",
       "      <td>440</td>\n",
       "      <td>330</td>\n",
       "      <td>73</td>\n",
       "      <td>N</td>\n",
       "      <td>Player</td>\n",
       "      <td>NaN</td>\n",
       "    </tr>\n",
       "    <tr>\n",
       "      <th>4102</th>\n",
       "      <td>walkela01</td>\n",
       "      <td>2016</td>\n",
       "      <td>BBWAA</td>\n",
       "      <td>440</td>\n",
       "      <td>330</td>\n",
       "      <td>68</td>\n",
       "      <td>N</td>\n",
       "      <td>Player</td>\n",
       "      <td>NaN</td>\n",
       "    </tr>\n",
       "    <tr>\n",
       "      <th>4103</th>\n",
       "      <td>mcgwima01</td>\n",
       "      <td>2016</td>\n",
       "      <td>BBWAA</td>\n",
       "      <td>440</td>\n",
       "      <td>330</td>\n",
       "      <td>54</td>\n",
       "      <td>N</td>\n",
       "      <td>Player</td>\n",
       "      <td>NaN</td>\n",
       "    </tr>\n",
       "    <tr>\n",
       "      <th>4104</th>\n",
       "      <td>sheffga01</td>\n",
       "      <td>2016</td>\n",
       "      <td>BBWAA</td>\n",
       "      <td>440</td>\n",
       "      <td>330</td>\n",
       "      <td>51</td>\n",
       "      <td>N</td>\n",
       "      <td>Player</td>\n",
       "      <td>NaN</td>\n",
       "    </tr>\n",
       "    <tr>\n",
       "      <th>4105</th>\n",
       "      <td>wagnebi02</td>\n",
       "      <td>2016</td>\n",
       "      <td>BBWAA</td>\n",
       "      <td>440</td>\n",
       "      <td>330</td>\n",
       "      <td>46</td>\n",
       "      <td>N</td>\n",
       "      <td>Player</td>\n",
       "      <td>NaN</td>\n",
       "    </tr>\n",
       "    <tr>\n",
       "      <th>4106</th>\n",
       "      <td>sosasa01</td>\n",
       "      <td>2016</td>\n",
       "      <td>BBWAA</td>\n",
       "      <td>440</td>\n",
       "      <td>330</td>\n",
       "      <td>31</td>\n",
       "      <td>N</td>\n",
       "      <td>Player</td>\n",
       "      <td>NaN</td>\n",
       "    </tr>\n",
       "    <tr>\n",
       "      <th>4107</th>\n",
       "      <td>edmonji01</td>\n",
       "      <td>2016</td>\n",
       "      <td>BBWAA</td>\n",
       "      <td>440</td>\n",
       "      <td>330</td>\n",
       "      <td>11</td>\n",
       "      <td>N</td>\n",
       "      <td>Player</td>\n",
       "      <td>NaN</td>\n",
       "    </tr>\n",
       "    <tr>\n",
       "      <th>4108</th>\n",
       "      <td>garcino01</td>\n",
       "      <td>2016</td>\n",
       "      <td>BBWAA</td>\n",
       "      <td>440</td>\n",
       "      <td>330</td>\n",
       "      <td>8</td>\n",
       "      <td>N</td>\n",
       "      <td>Player</td>\n",
       "      <td>NaN</td>\n",
       "    </tr>\n",
       "    <tr>\n",
       "      <th>4109</th>\n",
       "      <td>sweenmi01</td>\n",
       "      <td>2016</td>\n",
       "      <td>BBWAA</td>\n",
       "      <td>440</td>\n",
       "      <td>330</td>\n",
       "      <td>3</td>\n",
       "      <td>N</td>\n",
       "      <td>Player</td>\n",
       "      <td>NaN</td>\n",
       "    </tr>\n",
       "    <tr>\n",
       "      <th>4110</th>\n",
       "      <td>kendaja01</td>\n",
       "      <td>2016</td>\n",
       "      <td>BBWAA</td>\n",
       "      <td>440</td>\n",
       "      <td>330</td>\n",
       "      <td>2</td>\n",
       "      <td>N</td>\n",
       "      <td>Player</td>\n",
       "      <td>NaN</td>\n",
       "    </tr>\n",
       "    <tr>\n",
       "      <th>4111</th>\n",
       "      <td>eckstda01</td>\n",
       "      <td>2016</td>\n",
       "      <td>BBWAA</td>\n",
       "      <td>440</td>\n",
       "      <td>330</td>\n",
       "      <td>2</td>\n",
       "      <td>N</td>\n",
       "      <td>Player</td>\n",
       "      <td>NaN</td>\n",
       "    </tr>\n",
       "    <tr>\n",
       "      <th>4112</th>\n",
       "      <td>anderga01</td>\n",
       "      <td>2016</td>\n",
       "      <td>BBWAA</td>\n",
       "      <td>440</td>\n",
       "      <td>330</td>\n",
       "      <td>1</td>\n",
       "      <td>N</td>\n",
       "      <td>Player</td>\n",
       "      <td>NaN</td>\n",
       "    </tr>\n",
       "    <tr>\n",
       "      <th>4113</th>\n",
       "      <td>glaustr01</td>\n",
       "      <td>2016</td>\n",
       "      <td>BBWAA</td>\n",
       "      <td>440</td>\n",
       "      <td>330</td>\n",
       "      <td>0</td>\n",
       "      <td>N</td>\n",
       "      <td>Player</td>\n",
       "      <td>NaN</td>\n",
       "    </tr>\n",
       "    <tr>\n",
       "      <th>4114</th>\n",
       "      <td>winnra01</td>\n",
       "      <td>2016</td>\n",
       "      <td>BBWAA</td>\n",
       "      <td>440</td>\n",
       "      <td>330</td>\n",
       "      <td>0</td>\n",
       "      <td>N</td>\n",
       "      <td>Player</td>\n",
       "      <td>NaN</td>\n",
       "    </tr>\n",
       "    <tr>\n",
       "      <th>4115</th>\n",
       "      <td>grudzma01</td>\n",
       "      <td>2016</td>\n",
       "      <td>BBWAA</td>\n",
       "      <td>440</td>\n",
       "      <td>330</td>\n",
       "      <td>0</td>\n",
       "      <td>N</td>\n",
       "      <td>Player</td>\n",
       "      <td>NaN</td>\n",
       "    </tr>\n",
       "    <tr>\n",
       "      <th>4116</th>\n",
       "      <td>ausmubr01</td>\n",
       "      <td>2016</td>\n",
       "      <td>BBWAA</td>\n",
       "      <td>440</td>\n",
       "      <td>330</td>\n",
       "      <td>0</td>\n",
       "      <td>N</td>\n",
       "      <td>Player</td>\n",
       "      <td>NaN</td>\n",
       "    </tr>\n",
       "    <tr>\n",
       "      <th>4117</th>\n",
       "      <td>hamptmi01</td>\n",
       "      <td>2016</td>\n",
       "      <td>BBWAA</td>\n",
       "      <td>440</td>\n",
       "      <td>330</td>\n",
       "      <td>0</td>\n",
       "      <td>N</td>\n",
       "      <td>Player</td>\n",
       "      <td>NaN</td>\n",
       "    </tr>\n",
       "    <tr>\n",
       "      <th>4118</th>\n",
       "      <td>castilu01</td>\n",
       "      <td>2016</td>\n",
       "      <td>BBWAA</td>\n",
       "      <td>440</td>\n",
       "      <td>330</td>\n",
       "      <td>0</td>\n",
       "      <td>N</td>\n",
       "      <td>Player</td>\n",
       "      <td>NaN</td>\n",
       "    </tr>\n",
       "    <tr>\n",
       "      <th>4119</th>\n",
       "      <td>lowelmi01</td>\n",
       "      <td>2016</td>\n",
       "      <td>BBWAA</td>\n",
       "      <td>440</td>\n",
       "      <td>330</td>\n",
       "      <td>0</td>\n",
       "      <td>N</td>\n",
       "      <td>Player</td>\n",
       "      <td>NaN</td>\n",
       "    </tr>\n",
       "  </tbody>\n",
       "</table>\n",
       "<p>4120 rows × 9 columns</p>\n",
       "</div>"
      ],
      "text/plain": [
       "       playerID  yearid   votedBy  ballots  needed  votes inducted category  \\\n",
       "0      cobbty01    1936     BBWAA      226     170    222        Y   Player   \n",
       "1      ruthba01    1936     BBWAA      226     170    215        Y   Player   \n",
       "2     wagneho01    1936     BBWAA      226     170    215        Y   Player   \n",
       "3     mathech01    1936     BBWAA      226     170    205        Y   Player   \n",
       "4     johnswa01    1936     BBWAA      226     170    189        Y   Player   \n",
       "5     lajoina01    1936     BBWAA      226     170    146        N   Player   \n",
       "6     speaktr01    1936     BBWAA      226     170    133        N   Player   \n",
       "7     youngcy01    1936     BBWAA      226     170    111        N   Player   \n",
       "8     hornsro01    1936     BBWAA      226     170    105        N   Player   \n",
       "9     cochrmi01    1936     BBWAA      226     170     80        N   Player   \n",
       "10    sislege01    1936     BBWAA      226     170     77        N   Player   \n",
       "11    collied01    1936     BBWAA      226     170     60        N   Player   \n",
       "12    colliji01    1936     BBWAA      226     170     58        N   Player   \n",
       "13    alexape01    1936     BBWAA      226     170     55        N   Player   \n",
       "14    gehrilo01    1936     BBWAA      226     170     51        N   Player   \n",
       "15    bresnro01    1936     BBWAA      226     170     47        N   Player   \n",
       "16    keelewi01    1936     BBWAA      226     170     40        N   Player   \n",
       "17    ansonca01    1936  Veterans       78      59     39        N   Player   \n",
       "18    ewingbu01    1936  Veterans       78      59     39        N   Player   \n",
       "19    keelewi01    1936  Veterans       78      59     33        N   Player   \n",
       "20    wadderu01    1936     BBWAA      226     170     33        N   Player   \n",
       "21    youngcy01    1936  Veterans       78      59     32        N   Player   \n",
       "22    delahed01    1936  Veterans       78      59     21        N   Player   \n",
       "23     foxxji01    1936     BBWAA      226     170     21        N   Player   \n",
       "24    walshed01    1936     BBWAA      226     170     20        N   Player   \n",
       "25    mcgrajo01    1936  Veterans       78      59     17        N   Player   \n",
       "26    delahed01    1936     BBWAA      226     170     17        N   Player   \n",
       "27    radboch01    1936  Veterans       78      59     16        N   Player   \n",
       "28    traynpi01    1936     BBWAA      226     170     16        N   Player   \n",
       "29    kellyki01    1936  Veterans       78      59     15        N   Player   \n",
       "...         ...     ...       ...      ...     ...    ...      ...      ...   \n",
       "4090  bagweje01    2016     BBWAA      440     330    315        N   Player   \n",
       "4091  raineti01    2016     BBWAA      440     330    307        N   Player   \n",
       "4092  hoffmtr01    2016     BBWAA      440     330    296        N   Player   \n",
       "4093  schilcu01    2016     BBWAA      440     330    230        N   Player   \n",
       "4094  clemero02    2016     BBWAA      440     330    199        N   Player   \n",
       "4095  bondsba01    2016     BBWAA      440     330    195        N   Player   \n",
       "4096  martied01    2016     BBWAA      440     330    191        N   Player   \n",
       "4097  mussimi01    2016     BBWAA      440     330    189        N   Player   \n",
       "4098  trammal01    2016     BBWAA      440     330    180        N   Player   \n",
       "4099  smithle02    2016     BBWAA      440     330    150        N   Player   \n",
       "4100  mcgrifr01    2016     BBWAA      440     330     92        N   Player   \n",
       "4101   kentje01    2016     BBWAA      440     330     73        N   Player   \n",
       "4102  walkela01    2016     BBWAA      440     330     68        N   Player   \n",
       "4103  mcgwima01    2016     BBWAA      440     330     54        N   Player   \n",
       "4104  sheffga01    2016     BBWAA      440     330     51        N   Player   \n",
       "4105  wagnebi02    2016     BBWAA      440     330     46        N   Player   \n",
       "4106   sosasa01    2016     BBWAA      440     330     31        N   Player   \n",
       "4107  edmonji01    2016     BBWAA      440     330     11        N   Player   \n",
       "4108  garcino01    2016     BBWAA      440     330      8        N   Player   \n",
       "4109  sweenmi01    2016     BBWAA      440     330      3        N   Player   \n",
       "4110  kendaja01    2016     BBWAA      440     330      2        N   Player   \n",
       "4111  eckstda01    2016     BBWAA      440     330      2        N   Player   \n",
       "4112  anderga01    2016     BBWAA      440     330      1        N   Player   \n",
       "4113  glaustr01    2016     BBWAA      440     330      0        N   Player   \n",
       "4114   winnra01    2016     BBWAA      440     330      0        N   Player   \n",
       "4115  grudzma01    2016     BBWAA      440     330      0        N   Player   \n",
       "4116  ausmubr01    2016     BBWAA      440     330      0        N   Player   \n",
       "4117  hamptmi01    2016     BBWAA      440     330      0        N   Player   \n",
       "4118  castilu01    2016     BBWAA      440     330      0        N   Player   \n",
       "4119  lowelmi01    2016     BBWAA      440     330      0        N   Player   \n",
       "\n",
       "     needed_note  \n",
       "0            NaN  \n",
       "1            NaN  \n",
       "2            NaN  \n",
       "3            NaN  \n",
       "4            NaN  \n",
       "5            NaN  \n",
       "6            NaN  \n",
       "7            NaN  \n",
       "8            NaN  \n",
       "9            NaN  \n",
       "10           NaN  \n",
       "11           NaN  \n",
       "12           NaN  \n",
       "13           NaN  \n",
       "14           NaN  \n",
       "15           NaN  \n",
       "16           NaN  \n",
       "17           NaN  \n",
       "18           NaN  \n",
       "19           NaN  \n",
       "20           NaN  \n",
       "21           NaN  \n",
       "22           NaN  \n",
       "23           NaN  \n",
       "24           NaN  \n",
       "25           NaN  \n",
       "26           NaN  \n",
       "27           NaN  \n",
       "28           NaN  \n",
       "29           NaN  \n",
       "...          ...  \n",
       "4090         NaN  \n",
       "4091         NaN  \n",
       "4092         NaN  \n",
       "4093         NaN  \n",
       "4094         NaN  \n",
       "4095         NaN  \n",
       "4096         NaN  \n",
       "4097         NaN  \n",
       "4098         NaN  \n",
       "4099         NaN  \n",
       "4100         NaN  \n",
       "4101         NaN  \n",
       "4102         NaN  \n",
       "4103         NaN  \n",
       "4104         NaN  \n",
       "4105         NaN  \n",
       "4106         NaN  \n",
       "4107         NaN  \n",
       "4108         NaN  \n",
       "4109         NaN  \n",
       "4110         NaN  \n",
       "4111         NaN  \n",
       "4112         NaN  \n",
       "4113         NaN  \n",
       "4114         NaN  \n",
       "4115         NaN  \n",
       "4116         NaN  \n",
       "4117         NaN  \n",
       "4118         NaN  \n",
       "4119         NaN  \n",
       "\n",
       "[4120 rows x 9 columns]"
      ]
     },
     "execution_count": 330,
     "metadata": {},
     "output_type": "execute_result"
    }
   ],
   "source": [
    "halloffame"
   ]
  },
  {
   "cell_type": "code",
   "execution_count": 331,
   "metadata": {
    "collapsed": false
   },
   "outputs": [],
   "source": [
    "halloffame_all=halloffame[(halloffame.category=='Player')&(halloffame.votedBy=='BBWAA')][['playerID','yearid','votedBy','ballots','needed','votes','inducted']]"
   ]
  },
  {
   "cell_type": "code",
   "execution_count": 332,
   "metadata": {
    "collapsed": false
   },
   "outputs": [],
   "source": [
    "halloffame_all.columns=['playerID_HOF',u'yearid_HOF', u'votedBy_HOF', u'ballots_HOF', u'needed_HOF', u'votes_HOF', u'inducted_HOF']"
   ]
  },
  {
   "cell_type": "code",
   "execution_count": 333,
   "metadata": {
    "collapsed": false
   },
   "outputs": [],
   "source": [
    "halloffame_all.set_index('playerID_HOF',inplace=True)"
   ]
  },
  {
   "cell_type": "code",
   "execution_count": 334,
   "metadata": {
    "collapsed": false
   },
   "outputs": [],
   "source": [
    "halloffame=halloffame_all[halloffame_all.inducted_HOF=='Y']"
   ]
  },
  {
   "cell_type": "markdown",
   "metadata": {},
   "source": [
    "### Salaries"
   ]
  },
  {
   "cell_type": "code",
   "execution_count": 335,
   "metadata": {
    "collapsed": true
   },
   "outputs": [],
   "source": [
    "salaries=pd.read_csv('Salaries.csv')"
   ]
  },
  {
   "cell_type": "code",
   "execution_count": 336,
   "metadata": {
    "collapsed": true
   },
   "outputs": [],
   "source": [
    "salaries=pd.groupby(salaries[['playerID','salary']],by='playerID').mean()"
   ]
  },
  {
   "cell_type": "code",
   "execution_count": 337,
   "metadata": {
    "collapsed": false
   },
   "outputs": [],
   "source": [
    "salaries.columns=['salary_SAL']"
   ]
  },
  {
   "cell_type": "markdown",
   "metadata": {},
   "source": [
    "### Batting"
   ]
  },
  {
   "cell_type": "code",
   "execution_count": 338,
   "metadata": {
    "collapsed": true
   },
   "outputs": [],
   "source": [
    "batting=pd.read_csv('Batting.csv')"
   ]
  },
  {
   "cell_type": "code",
   "execution_count": 339,
   "metadata": {
    "collapsed": false
   },
   "outputs": [],
   "source": [
    "batting=batting.groupby(by='playerID').sum()"
   ]
  },
  {
   "cell_type": "code",
   "execution_count": 340,
   "metadata": {
    "collapsed": true
   },
   "outputs": [],
   "source": [
    "batting=batting.drop(['yearID','stint'],axis=1)"
   ]
  },
  {
   "cell_type": "code",
   "execution_count": 341,
   "metadata": {
    "collapsed": false
   },
   "outputs": [],
   "source": [
    "batting.columns=[u'G_BAT', u'AB_BAT', u'R_BAT', u'H_BAT', u'2B_BAT', u'3B_BAT', u'HR_BAT', u'RBI_BAT', u'SB_BAT', u'CS_BAT',\n",
    "       u'BB_BAT', u'SO_BAT', u'IBB_BAT', u'HBP_BAT', u'SH_BAT', u'SF_BAT', u'GIDP_BAT']"
   ]
  },
  {
   "cell_type": "markdown",
   "metadata": {},
   "source": [
    "### Pitching"
   ]
  },
  {
   "cell_type": "code",
   "execution_count": 342,
   "metadata": {
    "collapsed": true
   },
   "outputs": [],
   "source": [
    "pitching=pd.read_csv('Pitching.csv')"
   ]
  },
  {
   "cell_type": "code",
   "execution_count": 343,
   "metadata": {
    "collapsed": true
   },
   "outputs": [],
   "source": [
    "pitching=pitching.groupby(by='playerID').sum()"
   ]
  },
  {
   "cell_type": "code",
   "execution_count": 344,
   "metadata": {
    "collapsed": true
   },
   "outputs": [],
   "source": [
    "pitching=pitching.drop(['yearID','stint'],axis=1)"
   ]
  },
  {
   "cell_type": "code",
   "execution_count": 345,
   "metadata": {
    "collapsed": false
   },
   "outputs": [],
   "source": [
    "pitching.columns=[u'W_PIT', u'L_PIT', u'G_PIT', u'GS_PIT', u'CG_PIT', u'SHO_PIT', u'SV_PIT', u'IPouts_PIT', u'H_PIT', u'ER_PIT',\n",
    "       u'HR_PIT', u'BB_PIT', u'SO_PIT', u'BAOpp_PIT', u'ERA_PIT', u'IBB_PIT', u'WP_PIT', u'HBP_PIT', u'BK_PIT',\n",
    "       u'BFP_PIT', u'GF_PIT', u'R_PIT', u'SH_PIT', u'SF_PIT', u'GIDP_PIT']"
   ]
  },
  {
   "cell_type": "markdown",
   "metadata": {},
   "source": [
    "### Fielding"
   ]
  },
  {
   "cell_type": "code",
   "execution_count": 346,
   "metadata": {
    "collapsed": true
   },
   "outputs": [],
   "source": [
    "fielding=pd.read_csv('Fielding.csv')"
   ]
  },
  {
   "cell_type": "code",
   "execution_count": 347,
   "metadata": {
    "collapsed": true
   },
   "outputs": [],
   "source": [
    "fielding=fielding.groupby(by='playerID').sum()"
   ]
  },
  {
   "cell_type": "code",
   "execution_count": 348,
   "metadata": {
    "collapsed": true
   },
   "outputs": [],
   "source": [
    "fielding=fielding.drop(['yearID','stint'],axis=1)"
   ]
  },
  {
   "cell_type": "code",
   "execution_count": 349,
   "metadata": {
    "collapsed": false
   },
   "outputs": [],
   "source": [
    "fielding.columns=[u'G_FIE', u'GS_FIE', u'InnOuts_FIE', u'PO_FIE', u'A_FIE', u'E_FIE', u'DP_FIE', u'PB_FIE', u'WP_FIE', u'SB_FIE',\n",
    "       u'CS_FIE', u'ZR_FIE']"
   ]
  },
  {
   "cell_type": "markdown",
   "metadata": {},
   "source": [
    "# 2. MERGE THE DATASETS"
   ]
  },
  {
   "cell_type": "code",
   "execution_count": 350,
   "metadata": {
    "collapsed": true
   },
   "outputs": [],
   "source": [
    "x=master.merge(salaries,how='left',left_index=True,right_index=True)"
   ]
  },
  {
   "cell_type": "code",
   "execution_count": 351,
   "metadata": {
    "collapsed": true
   },
   "outputs": [],
   "source": [
    "x=x.merge(awards,how='left',left_index=True,right_index=True)"
   ]
  },
  {
   "cell_type": "code",
   "execution_count": 352,
   "metadata": {
    "collapsed": true
   },
   "outputs": [],
   "source": [
    "x=x.merge(appearances,how='left',left_index=True,right_index=True)"
   ]
  },
  {
   "cell_type": "code",
   "execution_count": 353,
   "metadata": {
    "collapsed": true
   },
   "outputs": [],
   "source": [
    "x=x.merge(batting,how='left',left_index=True,right_index=True)"
   ]
  },
  {
   "cell_type": "code",
   "execution_count": 354,
   "metadata": {
    "collapsed": true
   },
   "outputs": [],
   "source": [
    "x=x.merge(pitching,how='left',left_index=True,right_index=True)"
   ]
  },
  {
   "cell_type": "code",
   "execution_count": 355,
   "metadata": {
    "collapsed": true
   },
   "outputs": [],
   "source": [
    "x=x.merge(fielding,how='left',left_index=True,right_index=True)"
   ]
  },
  {
   "cell_type": "code",
   "execution_count": 356,
   "metadata": {
    "collapsed": true
   },
   "outputs": [],
   "source": [
    "baseball=x.merge(halloffame,how='left',left_index=True,right_index=True)"
   ]
  },
  {
   "cell_type": "code",
   "execution_count": 357,
   "metadata": {
    "collapsed": true
   },
   "outputs": [],
   "source": [
    "baseball.to_csv(\"baseball_merged_dataset.csv\")"
   ]
  },
  {
   "cell_type": "markdown",
   "metadata": {},
   "source": [
    "# 3. EXPLORATORY DATA ANALYSIS"
   ]
  },
  {
   "cell_type": "markdown",
   "metadata": {},
   "source": [
    "### Remove unnecessary variables"
   ]
  },
  {
   "cell_type": "code",
   "execution_count": 358,
   "metadata": {
    "collapsed": true
   },
   "outputs": [],
   "source": [
    "baseball=pd.read_csv('baseball_merged_dataset.csv',index_col='playerID_MAS')"
   ]
  },
  {
   "cell_type": "code",
   "execution_count": 359,
   "metadata": {
    "collapsed": false
   },
   "outputs": [
    {
     "data": {
      "text/plain": [
       "(18846, 134)"
      ]
     },
     "execution_count": 359,
     "metadata": {},
     "output_type": "execute_result"
    }
   ],
   "source": [
    "baseball.shape"
   ]
  },
  {
   "cell_type": "code",
   "execution_count": 360,
   "metadata": {
    "collapsed": false
   },
   "outputs": [
    {
     "data": {
      "text/plain": [
       "Y    116\n",
       "Name: inducted_HOF, dtype: int64"
      ]
     },
     "execution_count": 360,
     "metadata": {},
     "output_type": "execute_result"
    }
   ],
   "source": [
    "baseball.inducted_HOF.value_counts()"
   ]
  },
  {
   "cell_type": "code",
   "execution_count": 361,
   "metadata": {
    "collapsed": false
   },
   "outputs": [],
   "source": [
    "baseball.index.name='Player_ID'"
   ]
  },
  {
   "cell_type": "code",
   "execution_count": 362,
   "metadata": {
    "collapsed": false
   },
   "outputs": [],
   "source": [
    "baseball.drop([u'birthYear_MAS', u'birthMonth_MAS', u'birthDay_MAS',\n",
    "       u'birthCountry_MAS', u'birthState_MAS', u'birthCity_MAS', u'deathYear_MAS',\n",
    "       u'deathMonth_MAS', u'deathDay_MAS',u'deathCountry_MAS', u'deathState_MAS', u'deathCity_MAS',\n",
    "       u'nameFirst_MAS', u'nameLast_MAS', u'nameGiven_MAS',u'bats_MAS', u'throws_MAS',u'retroID_MAS', u'bbrefID_MAS','salary_SAL'\n",
    "              ,'yearid_HOF','votedBy_HOF','ballots_HOF','needed_HOF','votes_HOF'],axis=1,inplace=True)"
   ]
  },
  {
   "cell_type": "markdown",
   "metadata": {},
   "source": [
    "### Impute missing values"
   ]
  },
  {
   "cell_type": "code",
   "execution_count": 363,
   "metadata": {
    "collapsed": true
   },
   "outputs": [],
   "source": [
    "for i in baseball.columns:\n",
    "    if re.search(\"AP\",i):\n",
    "        baseball[i].fillna(0,inplace=True)"
   ]
  },
  {
   "cell_type": "code",
   "execution_count": 364,
   "metadata": {
    "collapsed": false
   },
   "outputs": [],
   "source": [
    "for i in baseball.columns:\n",
    "    if re.search(\"AW\",i):\n",
    "        baseball[i].fillna(0,inplace=True)"
   ]
  },
  {
   "cell_type": "code",
   "execution_count": 365,
   "metadata": {
    "collapsed": true
   },
   "outputs": [],
   "source": [
    "for i in baseball.columns:\n",
    "    if re.search(\"BAT\",i):\n",
    "        baseball[i].fillna(0,inplace=True)"
   ]
  },
  {
   "cell_type": "code",
   "execution_count": 366,
   "metadata": {
    "collapsed": true
   },
   "outputs": [],
   "source": [
    "for i in baseball.columns:\n",
    "    if re.search(\"PIT\",i):\n",
    "        baseball[i].fillna(0,inplace=True)"
   ]
  },
  {
   "cell_type": "code",
   "execution_count": 367,
   "metadata": {
    "collapsed": true
   },
   "outputs": [],
   "source": [
    "for i in baseball.columns:\n",
    "    if re.search(\"FIE\",i):\n",
    "        baseball[i].fillna(0,inplace=True)"
   ]
  },
  {
   "cell_type": "code",
   "execution_count": 368,
   "metadata": {
    "collapsed": true
   },
   "outputs": [],
   "source": [
    "def getcolinfo():\n",
    "    global mastercol\n",
    "    global awardscol\n",
    "    global salariescol\n",
    "    global halloffamecol\n",
    "    global collegecol\n",
    "    global battingcol\n",
    "    global pitchingcol\n",
    "    global fieldingcol\n",
    "    global appearancescol\n",
    "    mastercol=[]\n",
    "    awardscol=[]\n",
    "    halloffamecol=[]\n",
    "    battingcol=[]\n",
    "    pitchingcol=[]\n",
    "    fieldingcol=[]\n",
    "    appearancescol=[]\n",
    "    for i in baseball.columns:\n",
    "        if re.search(\"MAS\",i):\n",
    "            mastercol.append(i)\n",
    "        elif re.search(\"AW\",i):\n",
    "            awardscol.append(i)\n",
    "        elif re.search(\"HOF\",i):\n",
    "            halloffamecol.append(i)\n",
    "        elif re.search(\"BAT\",i):\n",
    "            battingcol.append(i)\n",
    "        elif re.search(\"PIT\",i):\n",
    "            pitchingcol.append(i)\n",
    "        elif re.search(\"FIE\",i):\n",
    "            fieldingcol.append(i)\n",
    "        elif re.search(\"AP\",i):\n",
    "            appearancescol.append(i)"
   ]
  },
  {
   "cell_type": "code",
   "execution_count": 369,
   "metadata": {
    "collapsed": true
   },
   "outputs": [],
   "source": [
    "getcolinfo()"
   ]
  },
  {
   "cell_type": "code",
   "execution_count": 370,
   "metadata": {
    "collapsed": false
   },
   "outputs": [],
   "source": [
    "baseball.inducted_HOF.fillna('N',inplace=True)"
   ]
  },
  {
   "cell_type": "code",
   "execution_count": 371,
   "metadata": {
    "collapsed": false
   },
   "outputs": [],
   "source": [
    "baseball.weight_MAS.fillna(baseball.weight_MAS.mode()[0],inplace=True)"
   ]
  },
  {
   "cell_type": "code",
   "execution_count": 372,
   "metadata": {
    "collapsed": true
   },
   "outputs": [],
   "source": [
    "baseball.height_MAS.fillna(baseball.height_MAS.mode()[0],inplace=True)"
   ]
  },
  {
   "cell_type": "code",
   "execution_count": 373,
   "metadata": {
    "collapsed": false
   },
   "outputs": [],
   "source": [
    "baseball.debut_MAS=baseball.debut_MAS.str[0:4]"
   ]
  },
  {
   "cell_type": "code",
   "execution_count": 374,
   "metadata": {
    "collapsed": false
   },
   "outputs": [],
   "source": [
    "baseball.finalGame_MAS=baseball.finalGame_MAS.str[0:4]"
   ]
  },
  {
   "cell_type": "code",
   "execution_count": 375,
   "metadata": {
    "collapsed": true
   },
   "outputs": [],
   "source": [
    "baseball.debut_MAS.fillna(-1,inplace=True)"
   ]
  },
  {
   "cell_type": "code",
   "execution_count": 376,
   "metadata": {
    "collapsed": true
   },
   "outputs": [],
   "source": [
    "baseball.finalGame_MAS.fillna(-1,inplace=True)"
   ]
  },
  {
   "cell_type": "code",
   "execution_count": 377,
   "metadata": {
    "collapsed": true
   },
   "outputs": [],
   "source": [
    "baseball.inducted_HOF.fillna(0,inplace=True)"
   ]
  },
  {
   "cell_type": "markdown",
   "metadata": {},
   "source": [
    "# 4. ELLIGIBLE HALL OF FAMERS"
   ]
  },
  {
   "cell_type": "code",
   "execution_count": 378,
   "metadata": {
    "collapsed": false
   },
   "outputs": [],
   "source": [
    "#Years in Hall of Fame ballot<=10\n",
    "years_in_ballot=halloffame_all[['yearid_HOF']].groupby(halloffame_all.index).count()\n",
    "years_in_ballot=years_in_ballot<=10"
   ]
  },
  {
   "cell_type": "code",
   "execution_count": 379,
   "metadata": {
    "collapsed": false
   },
   "outputs": [],
   "source": [
    "#Years in MLB>=10\n",
    "appearances1=pd.read_csv('Appearances.csv')\n",
    "appearances1=appearances1.set_index('playerID')\n",
    "appearances1=DataFrame(appearances1[['yearID']].groupby(appearances1.index).yearID.nunique())>=10"
   ]
  },
  {
   "cell_type": "code",
   "execution_count": 380,
   "metadata": {
    "collapsed": false
   },
   "outputs": [],
   "source": [
    "#Minimum votes in ballot\n",
    "ballot_percent=DataFrame((halloffame_all.votes_HOF/halloffame_all.ballots_HOF)*100)\n",
    "player_ballot_percentage=(ballot_percent<75)&(ballot_percent>=5)\n",
    "min_vote_criteria=player_ballot_percentage.groupby(player_ballot_percentage.index).all()"
   ]
  },
  {
   "cell_type": "code",
   "execution_count": 381,
   "metadata": {
    "collapsed": false
   },
   "outputs": [],
   "source": [
    "#Retired prior to 5 years\n",
    "player_retirement=(DataFrame(datetime.now().year-baseball.finalGame_MAS.astype('float'))>=5) & \\\n",
    "(DataFrame(datetime.now().year-baseball.finalGame_MAS.astype('float'))<=20)"
   ]
  },
  {
   "cell_type": "code",
   "execution_count": 382,
   "metadata": {
    "collapsed": false
   },
   "outputs": [
    {
     "data": {
      "text/html": [
       "<div>\n",
       "<table border=\"1\" class=\"dataframe\">\n",
       "  <thead>\n",
       "    <tr style=\"text-align: right;\">\n",
       "      <th></th>\n",
       "      <th>finalGame_MAS</th>\n",
       "    </tr>\n",
       "    <tr>\n",
       "      <th>Player_ID</th>\n",
       "      <th></th>\n",
       "    </tr>\n",
       "  </thead>\n",
       "  <tbody>\n",
       "    <tr>\n",
       "      <th>aardsda01</th>\n",
       "      <td>False</td>\n",
       "    </tr>\n",
       "    <tr>\n",
       "      <th>aaronha01</th>\n",
       "      <td>False</td>\n",
       "    </tr>\n",
       "    <tr>\n",
       "      <th>aaronto01</th>\n",
       "      <td>False</td>\n",
       "    </tr>\n",
       "    <tr>\n",
       "      <th>aasedo01</th>\n",
       "      <td>False</td>\n",
       "    </tr>\n",
       "    <tr>\n",
       "      <th>abadan01</th>\n",
       "      <td>True</td>\n",
       "    </tr>\n",
       "    <tr>\n",
       "      <th>abadfe01</th>\n",
       "      <td>False</td>\n",
       "    </tr>\n",
       "    <tr>\n",
       "      <th>abadijo01</th>\n",
       "      <td>False</td>\n",
       "    </tr>\n",
       "    <tr>\n",
       "      <th>abbated01</th>\n",
       "      <td>False</td>\n",
       "    </tr>\n",
       "    <tr>\n",
       "      <th>abbeybe01</th>\n",
       "      <td>False</td>\n",
       "    </tr>\n",
       "    <tr>\n",
       "      <th>abbeych01</th>\n",
       "      <td>False</td>\n",
       "    </tr>\n",
       "    <tr>\n",
       "      <th>abbotda01</th>\n",
       "      <td>False</td>\n",
       "    </tr>\n",
       "    <tr>\n",
       "      <th>abbotfr01</th>\n",
       "      <td>False</td>\n",
       "    </tr>\n",
       "    <tr>\n",
       "      <th>abbotgl01</th>\n",
       "      <td>False</td>\n",
       "    </tr>\n",
       "    <tr>\n",
       "      <th>abbotje01</th>\n",
       "      <td>True</td>\n",
       "    </tr>\n",
       "    <tr>\n",
       "      <th>abbotji01</th>\n",
       "      <td>True</td>\n",
       "    </tr>\n",
       "    <tr>\n",
       "      <th>abbotku01</th>\n",
       "      <td>True</td>\n",
       "    </tr>\n",
       "    <tr>\n",
       "      <th>abbotky01</th>\n",
       "      <td>True</td>\n",
       "    </tr>\n",
       "    <tr>\n",
       "      <th>abbotod01</th>\n",
       "      <td>False</td>\n",
       "    </tr>\n",
       "    <tr>\n",
       "      <th>abbotpa01</th>\n",
       "      <td>True</td>\n",
       "    </tr>\n",
       "    <tr>\n",
       "      <th>aberal01</th>\n",
       "      <td>False</td>\n",
       "    </tr>\n",
       "    <tr>\n",
       "      <th>abercda01</th>\n",
       "      <td>False</td>\n",
       "    </tr>\n",
       "    <tr>\n",
       "      <th>abercre01</th>\n",
       "      <td>True</td>\n",
       "    </tr>\n",
       "    <tr>\n",
       "      <th>abernbi01</th>\n",
       "      <td>False</td>\n",
       "    </tr>\n",
       "    <tr>\n",
       "      <th>abernbr01</th>\n",
       "      <td>True</td>\n",
       "    </tr>\n",
       "    <tr>\n",
       "      <th>abernte01</th>\n",
       "      <td>False</td>\n",
       "    </tr>\n",
       "    <tr>\n",
       "      <th>abernte02</th>\n",
       "      <td>False</td>\n",
       "    </tr>\n",
       "    <tr>\n",
       "      <th>abernwo01</th>\n",
       "      <td>False</td>\n",
       "    </tr>\n",
       "    <tr>\n",
       "      <th>aberscl01</th>\n",
       "      <td>False</td>\n",
       "    </tr>\n",
       "    <tr>\n",
       "      <th>ablesha01</th>\n",
       "      <td>False</td>\n",
       "    </tr>\n",
       "    <tr>\n",
       "      <th>abnersh01</th>\n",
       "      <td>False</td>\n",
       "    </tr>\n",
       "    <tr>\n",
       "      <th>...</th>\n",
       "      <td>...</td>\n",
       "    </tr>\n",
       "    <tr>\n",
       "      <th>zimmejo02</th>\n",
       "      <td>False</td>\n",
       "    </tr>\n",
       "    <tr>\n",
       "      <th>zimmero01</th>\n",
       "      <td>False</td>\n",
       "    </tr>\n",
       "    <tr>\n",
       "      <th>zimmery01</th>\n",
       "      <td>False</td>\n",
       "    </tr>\n",
       "    <tr>\n",
       "      <th>zinkch01</th>\n",
       "      <td>True</td>\n",
       "    </tr>\n",
       "    <tr>\n",
       "      <th>zinkwa01</th>\n",
       "      <td>False</td>\n",
       "    </tr>\n",
       "    <tr>\n",
       "      <th>zinnfr01</th>\n",
       "      <td>False</td>\n",
       "    </tr>\n",
       "    <tr>\n",
       "      <th>zinngu01</th>\n",
       "      <td>False</td>\n",
       "    </tr>\n",
       "    <tr>\n",
       "      <th>zinnji01</th>\n",
       "      <td>False</td>\n",
       "    </tr>\n",
       "    <tr>\n",
       "      <th>zinsebi01</th>\n",
       "      <td>False</td>\n",
       "    </tr>\n",
       "    <tr>\n",
       "      <th>zinteal01</th>\n",
       "      <td>True</td>\n",
       "    </tr>\n",
       "    <tr>\n",
       "      <th>zipfebu01</th>\n",
       "      <td>False</td>\n",
       "    </tr>\n",
       "    <tr>\n",
       "      <th>ziskri01</th>\n",
       "      <td>False</td>\n",
       "    </tr>\n",
       "    <tr>\n",
       "      <th>zitoba01</th>\n",
       "      <td>False</td>\n",
       "    </tr>\n",
       "    <tr>\n",
       "      <th>zitzmbi01</th>\n",
       "      <td>False</td>\n",
       "    </tr>\n",
       "    <tr>\n",
       "      <th>zmiched01</th>\n",
       "      <td>False</td>\n",
       "    </tr>\n",
       "    <tr>\n",
       "      <th>zobribe01</th>\n",
       "      <td>False</td>\n",
       "    </tr>\n",
       "    <tr>\n",
       "      <th>zoccope01</th>\n",
       "      <td>True</td>\n",
       "    </tr>\n",
       "    <tr>\n",
       "      <th>zoldasa01</th>\n",
       "      <td>False</td>\n",
       "    </tr>\n",
       "    <tr>\n",
       "      <th>zoskyed01</th>\n",
       "      <td>True</td>\n",
       "    </tr>\n",
       "    <tr>\n",
       "      <th>zuberbi01</th>\n",
       "      <td>False</td>\n",
       "    </tr>\n",
       "    <tr>\n",
       "      <th>zuberjo01</th>\n",
       "      <td>True</td>\n",
       "    </tr>\n",
       "    <tr>\n",
       "      <th>zuletju01</th>\n",
       "      <td>True</td>\n",
       "    </tr>\n",
       "    <tr>\n",
       "      <th>zumayjo01</th>\n",
       "      <td>True</td>\n",
       "    </tr>\n",
       "    <tr>\n",
       "      <th>zuninmi01</th>\n",
       "      <td>False</td>\n",
       "    </tr>\n",
       "    <tr>\n",
       "      <th>zupcibo01</th>\n",
       "      <td>False</td>\n",
       "    </tr>\n",
       "    <tr>\n",
       "      <th>zupofr01</th>\n",
       "      <td>False</td>\n",
       "    </tr>\n",
       "    <tr>\n",
       "      <th>zuvelpa01</th>\n",
       "      <td>False</td>\n",
       "    </tr>\n",
       "    <tr>\n",
       "      <th>zuverge01</th>\n",
       "      <td>False</td>\n",
       "    </tr>\n",
       "    <tr>\n",
       "      <th>zwilldu01</th>\n",
       "      <td>False</td>\n",
       "    </tr>\n",
       "    <tr>\n",
       "      <th>zychto01</th>\n",
       "      <td>False</td>\n",
       "    </tr>\n",
       "  </tbody>\n",
       "</table>\n",
       "<p>18846 rows × 1 columns</p>\n",
       "</div>"
      ],
      "text/plain": [
       "          finalGame_MAS\n",
       "Player_ID              \n",
       "aardsda01         False\n",
       "aaronha01         False\n",
       "aaronto01         False\n",
       "aasedo01          False\n",
       "abadan01           True\n",
       "abadfe01          False\n",
       "abadijo01         False\n",
       "abbated01         False\n",
       "abbeybe01         False\n",
       "abbeych01         False\n",
       "abbotda01         False\n",
       "abbotfr01         False\n",
       "abbotgl01         False\n",
       "abbotje01          True\n",
       "abbotji01          True\n",
       "abbotku01          True\n",
       "abbotky01          True\n",
       "abbotod01         False\n",
       "abbotpa01          True\n",
       "aberal01          False\n",
       "abercda01         False\n",
       "abercre01          True\n",
       "abernbi01         False\n",
       "abernbr01          True\n",
       "abernte01         False\n",
       "abernte02         False\n",
       "abernwo01         False\n",
       "aberscl01         False\n",
       "ablesha01         False\n",
       "abnersh01         False\n",
       "...                 ...\n",
       "zimmejo02         False\n",
       "zimmero01         False\n",
       "zimmery01         False\n",
       "zinkch01           True\n",
       "zinkwa01          False\n",
       "zinnfr01          False\n",
       "zinngu01          False\n",
       "zinnji01          False\n",
       "zinsebi01         False\n",
       "zinteal01          True\n",
       "zipfebu01         False\n",
       "ziskri01          False\n",
       "zitoba01          False\n",
       "zitzmbi01         False\n",
       "zmiched01         False\n",
       "zobribe01         False\n",
       "zoccope01          True\n",
       "zoldasa01         False\n",
       "zoskyed01          True\n",
       "zuberbi01         False\n",
       "zuberjo01          True\n",
       "zuletju01          True\n",
       "zumayjo01          True\n",
       "zuninmi01         False\n",
       "zupcibo01         False\n",
       "zupofr01          False\n",
       "zuvelpa01         False\n",
       "zuverge01         False\n",
       "zwilldu01         False\n",
       "zychto01          False\n",
       "\n",
       "[18846 rows x 1 columns]"
      ]
     },
     "execution_count": 382,
     "metadata": {},
     "output_type": "execute_result"
    }
   ],
   "source": [
    "player_retirement"
   ]
  },
  {
   "cell_type": "code",
   "execution_count": 383,
   "metadata": {
    "collapsed": false
   },
   "outputs": [],
   "source": [
    "appearances1.columns=['10_MLB']"
   ]
  },
  {
   "cell_type": "code",
   "execution_count": 384,
   "metadata": {
    "collapsed": false
   },
   "outputs": [],
   "source": [
    "player_retirement.columns=['Player_Retirement']"
   ]
  },
  {
   "cell_type": "code",
   "execution_count": 385,
   "metadata": {
    "collapsed": false
   },
   "outputs": [],
   "source": [
    "years_in_ballot.columns=['years_in_ballot']"
   ]
  },
  {
   "cell_type": "code",
   "execution_count": 386,
   "metadata": {
    "collapsed": false
   },
   "outputs": [],
   "source": [
    "min_vote_criteria.columns=['Min_Vote_Criteria']"
   ]
  },
  {
   "cell_type": "code",
   "execution_count": 387,
   "metadata": {
    "collapsed": false
   },
   "outputs": [],
   "source": [
    "elligibility=pd.merge(appearances1,player_retirement,left_index=True,right_index=True)"
   ]
  },
  {
   "cell_type": "code",
   "execution_count": 388,
   "metadata": {
    "collapsed": false
   },
   "outputs": [],
   "source": [
    "elligibility=pd.merge(elligibility,years_in_ballot,how='left',left_index=True,right_index=True)"
   ]
  },
  {
   "cell_type": "code",
   "execution_count": 389,
   "metadata": {
    "collapsed": true
   },
   "outputs": [],
   "source": [
    "elligibility=pd.merge(elligibility,min_vote_criteria,how='left',left_index=True,right_index=True)"
   ]
  },
  {
   "cell_type": "code",
   "execution_count": 390,
   "metadata": {
    "collapsed": false
   },
   "outputs": [],
   "source": [
    "elligibility=elligibility.fillna(True,axis=1)"
   ]
  },
  {
   "cell_type": "code",
   "execution_count": 391,
   "metadata": {
    "collapsed": false
   },
   "outputs": [],
   "source": [
    "elligibility1=elligibility.all(axis=1)"
   ]
  },
  {
   "cell_type": "code",
   "execution_count": 392,
   "metadata": {
    "collapsed": false
   },
   "outputs": [],
   "source": [
    "elligibility1=DataFrame(elligibility1,columns=['HOF_Eligibility'])"
   ]
  },
  {
   "cell_type": "code",
   "execution_count": 393,
   "metadata": {
    "collapsed": false
   },
   "outputs": [],
   "source": [
    "baseball=pd.merge(baseball,elligibility1,how='left',left_index=True,right_index=True)"
   ]
  },
  {
   "cell_type": "code",
   "execution_count": 394,
   "metadata": {
    "collapsed": false
   },
   "outputs": [],
   "source": [
    "new_data={True:'Elligible',False:'Not Elligible'}\n",
    "baseball['HOF_Eligibility']=baseball.HOF_Eligibility.map(new_data)"
   ]
  },
  {
   "cell_type": "code",
   "execution_count": 395,
   "metadata": {
    "collapsed": false
   },
   "outputs": [],
   "source": [
    "baseball.HOF_Eligibility.fillna('Not_Elligible',inplace=True)"
   ]
  },
  {
   "cell_type": "code",
   "execution_count": 396,
   "metadata": {
    "collapsed": false
   },
   "outputs": [],
   "source": [
    "baseball.drop([u'debut_MAS', u'finalGame_MAS'],axis=1,inplace=True)"
   ]
  },
  {
   "cell_type": "code",
   "execution_count": 397,
   "metadata": {
    "collapsed": false
   },
   "outputs": [
    {
     "data": {
      "text/plain": [
       "Index([u'G_BAT', u'AB_BAT', u'R_BAT', u'H_BAT', u'2B_BAT', u'3B_BAT',\n",
       "       u'HR_BAT', u'RBI_BAT', u'SB_BAT', u'CS_BAT', u'BB_BAT', u'SO_BAT',\n",
       "       u'IBB_BAT', u'HBP_BAT', u'SH_BAT', u'SF_BAT', u'GIDP_BAT'],\n",
       "      dtype='object')"
      ]
     },
     "execution_count": 397,
     "metadata": {},
     "output_type": "execute_result"
    }
   ],
   "source": [
    "baseball[battingcol].columns"
   ]
  },
  {
   "cell_type": "markdown",
   "metadata": {},
   "source": [
    "# FEAUTURE ENGINEERING"
   ]
  },
  {
   "cell_type": "markdown",
   "metadata": {},
   "source": [
    "#### Batting"
   ]
  },
  {
   "cell_type": "code",
   "execution_count": 398,
   "metadata": {
    "collapsed": false
   },
   "outputs": [],
   "source": [
    "baseball['AB/HR_BAT']=baseball.AB_BAT/baseball.HR_BAT\n",
    "baseball['BA_BAT']=baseball.H_BAT/baseball.AB_BAT\n",
    "baseball['OBP_BAT']=(baseball.H_BAT+baseball.BB_BAT+baseball.HBP_BAT)/(baseball.AB_BAT+baseball.BB_BAT+baseball.HBP_BAT+baseball.SF_BAT)\n",
    "baseball['BB/SO_BAT']=baseball.BB_BAT/baseball.SO_BAT\n",
    "baseball['TB_BAT']=baseball['H_BAT']+baseball['2B_BAT']+2*baseball['3B_BAT']+3*baseball['HR_BAT']\n",
    "baseball['TOB_BAT']=baseball.H_BAT+baseball.BB_BAT+baseball.HBP_BAT\n",
    "baseball['TA_BAT']=(baseball.TB_BAT+baseball.BB_BAT+baseball.HBP_BAT+baseball.SB_BAT-baseball.CS_BAT)/(baseball.AB_BAT-baseball.H_BAT+baseball.CS_BAT+baseball.GIDP_BAT)\n",
    "baseball['XBH_BAT']=baseball['2B_BAT']+baseball['3B_BAT']+baseball['HR_BAT']\n",
    "baseball['SBA/ATT_BAT']=baseball.SB_BAT+baseball.CS_BAT"
   ]
  },
  {
   "cell_type": "code",
   "execution_count": 399,
   "metadata": {
    "collapsed": false
   },
   "outputs": [],
   "source": [
    "baseball.replace([np.inf, -np.inf], 5000,inplace=True)"
   ]
  },
  {
   "cell_type": "markdown",
   "metadata": {},
   "source": [
    "#### Pitching"
   ]
  },
  {
   "cell_type": "code",
   "execution_count": 400,
   "metadata": {
    "collapsed": true
   },
   "outputs": [],
   "source": [
    "baseball['BB/9_PIT']=baseball.BB_PIT/9\n",
    "baseball['SO/9_PIT']=baseball.SO_PIT/9"
   ]
  },
  {
   "cell_type": "code",
   "execution_count": null,
   "metadata": {
    "collapsed": true
   },
   "outputs": [],
   "source": []
  },
  {
   "cell_type": "code",
   "execution_count": null,
   "metadata": {
    "collapsed": false
   },
   "outputs": [],
   "source": []
  },
  {
   "cell_type": "code",
   "execution_count": 401,
   "metadata": {
    "collapsed": false
   },
   "outputs": [
    {
     "data": {
      "text/plain": [
       "Index([u'W_PIT', u'L_PIT', u'G_PIT', u'GS_PIT', u'CG_PIT', u'SHO_PIT',\n",
       "       u'SV_PIT', u'IPouts_PIT', u'H_PIT', u'ER_PIT', u'HR_PIT', u'BB_PIT',\n",
       "       u'SO_PIT', u'BAOpp_PIT', u'ERA_PIT', u'IBB_PIT', u'WP_PIT', u'HBP_PIT',\n",
       "       u'BK_PIT', u'BFP_PIT', u'GF_PIT', u'R_PIT', u'SH_PIT', u'SF_PIT',\n",
       "       u'GIDP_PIT'],\n",
       "      dtype='object')"
      ]
     },
     "execution_count": 401,
     "metadata": {},
     "output_type": "execute_result"
    }
   ],
   "source": [
    "baseball[pitchingcol].columns"
   ]
  },
  {
   "cell_type": "code",
   "execution_count": null,
   "metadata": {
    "collapsed": true
   },
   "outputs": [],
   "source": []
  },
  {
   "cell_type": "code",
   "execution_count": null,
   "metadata": {
    "collapsed": true
   },
   "outputs": [],
   "source": []
  },
  {
   "cell_type": "code",
   "execution_count": 402,
   "metadata": {
    "collapsed": false
   },
   "outputs": [
    {
     "data": {
      "text/plain": [
       "Index([u'weight_MAS', u'height_MAS', u'ALCS MVP_AW', u'All-Star Game MVP_AW',\n",
       "       u'Babe Ruth Award_AW', u'Baseball Magazine All-Star_AW',\n",
       "       u'Branch Rickey Award_AW', u'Comeback Player of the Year_AW',\n",
       "       u'Cy Young Award_AW', u'Gold Glove_AW',\n",
       "       ...\n",
       "       u'BA_BAT', u'OBP_BAT', u'BB/SO_BAT', u'TB_BAT', u'TOB_BAT', u'TA_BAT',\n",
       "       u'XBH_BAT', u'SBA/ATT_BAT', u'BB/9_PIT', u'SO/9_PIT'],\n",
       "      dtype='object', length=119)"
      ]
     },
     "execution_count": 402,
     "metadata": {},
     "output_type": "execute_result"
    }
   ],
   "source": [
    "baseball.columns"
   ]
  },
  {
   "cell_type": "code",
   "execution_count": 403,
   "metadata": {
    "collapsed": true
   },
   "outputs": [],
   "source": [
    "getcolinfo()"
   ]
  },
  {
   "cell_type": "code",
   "execution_count": 404,
   "metadata": {
    "collapsed": true
   },
   "outputs": [],
   "source": [
    "baseball.to_csv('baseball_mdl_rdy_not_ndim.csv')"
   ]
  },
  {
   "cell_type": "markdown",
   "metadata": {},
   "source": [
    "#### Awards"
   ]
  },
  {
   "cell_type": "code",
   "execution_count": 405,
   "metadata": {
    "collapsed": false
   },
   "outputs": [
    {
     "data": {
      "text/plain": [
       "['ALCS MVP_AW',\n",
       " 'All-Star Game MVP_AW',\n",
       " 'Babe Ruth Award_AW',\n",
       " 'Baseball Magazine All-Star_AW',\n",
       " 'Branch Rickey Award_AW',\n",
       " 'Comeback Player of the Year_AW',\n",
       " 'Cy Young Award_AW',\n",
       " 'Gold Glove_AW',\n",
       " 'Hank Aaron Award_AW',\n",
       " 'Hutch Award_AW',\n",
       " 'Lou Gehrig Memorial Award_AW',\n",
       " 'Most Valuable Player_AW',\n",
       " 'NLCS MVP_AW',\n",
       " 'Pitching Triple Crown_AW',\n",
       " 'Roberto Clemente Award_AW',\n",
       " 'Rolaids Relief Man Award_AW',\n",
       " 'Rookie of the Year_AW',\n",
       " 'Silver Slugger_AW',\n",
       " 'TSN All-Star_AW',\n",
       " 'TSN Fireman of the Year_AW',\n",
       " 'TSN Guide MVP_AW',\n",
       " 'TSN Major League Player of the Year_AW',\n",
       " 'TSN Pitcher of the Year_AW',\n",
       " 'TSN Player of the Year_AW',\n",
       " 'TSN Reliever of the Year_AW',\n",
       " 'Triple Crown_AW',\n",
       " 'World Series MVP_AW']"
      ]
     },
     "execution_count": 405,
     "metadata": {},
     "output_type": "execute_result"
    }
   ],
   "source": [
    "awardscol"
   ]
  },
  {
   "cell_type": "code",
   "execution_count": 406,
   "metadata": {
    "collapsed": true
   },
   "outputs": [],
   "source": [
    "baseball['Character_Award_AW']=baseball['Branch Rickey Award_AW']+baseball['Hutch Award_AW']+\\\n",
    "baseball['Lou Gehrig Memorial Award_AW']+baseball['Roberto Clemente Award_AW']"
   ]
  },
  {
   "cell_type": "code",
   "execution_count": 407,
   "metadata": {
    "collapsed": false
   },
   "outputs": [],
   "source": [
    "baseball['Performance_Award_AW']=baseball['ALCS MVP_AW']+baseball['All-Star Game MVP_AW']+baseball['Babe Ruth Award_AW']+\\\n",
    "baseball['Gold Glove_AW']+baseball['Hank Aaron Award_AW']+baseball['TSN Major League Player of the Year_AW']+\\\n",
    "baseball['Most Valuable Player_AW']+baseball['NLCS MVP_AW']\\\n",
    "+baseball['Rookie of the Year_AW']+baseball['Silver Slugger_AW']+\\\n",
    "baseball['Triple Crown_AW']+baseball['World Series MVP_AW']"
   ]
  },
  {
   "cell_type": "code",
   "execution_count": 408,
   "metadata": {
    "collapsed": false
   },
   "outputs": [],
   "source": [
    "baseball.drop(awardscol,axis=1,inplace=True)"
   ]
  },
  {
   "cell_type": "code",
   "execution_count": 409,
   "metadata": {
    "collapsed": true
   },
   "outputs": [],
   "source": [
    "getcolinfo()"
   ]
  },
  {
   "cell_type": "code",
   "execution_count": 410,
   "metadata": {
    "collapsed": false
   },
   "outputs": [
    {
     "data": {
      "text/plain": [
       "Index([u'weight_MAS', u'height_MAS', u'AA_AP', u'AL_AP', u'FL_AP', u'NL_AP',\n",
       "       u'PL_AP', u'UA_AP', u'G_all_AP', u'GS_AP', u'G_batting_AP',\n",
       "       u'G_defense_AP', u'G_p_AP', u'G_c_AP', u'G_1b_AP', u'G_2b_AP',\n",
       "       u'G_3b_AP', u'G_ss_AP', u'G_lf_AP', u'G_cf_AP', u'G_rf_AP', u'G_of_AP',\n",
       "       u'G_dh_AP', u'G_ph_AP', u'G_pr_AP', u'G_BAT', u'AB_BAT', u'R_BAT',\n",
       "       u'H_BAT', u'2B_BAT', u'3B_BAT', u'HR_BAT', u'RBI_BAT', u'SB_BAT',\n",
       "       u'CS_BAT', u'BB_BAT', u'SO_BAT', u'IBB_BAT', u'HBP_BAT', u'SH_BAT',\n",
       "       u'SF_BAT', u'GIDP_BAT', u'W_PIT', u'L_PIT', u'G_PIT', u'GS_PIT',\n",
       "       u'CG_PIT', u'SHO_PIT', u'SV_PIT', u'IPouts_PIT', u'H_PIT', u'ER_PIT',\n",
       "       u'HR_PIT', u'BB_PIT', u'SO_PIT', u'BAOpp_PIT', u'ERA_PIT', u'IBB_PIT',\n",
       "       u'WP_PIT', u'HBP_PIT', u'BK_PIT', u'BFP_PIT', u'GF_PIT', u'R_PIT',\n",
       "       u'SH_PIT', u'SF_PIT', u'GIDP_PIT', u'G_FIE', u'GS_FIE', u'InnOuts_FIE',\n",
       "       u'PO_FIE', u'A_FIE', u'E_FIE', u'DP_FIE', u'PB_FIE', u'WP_FIE',\n",
       "       u'SB_FIE', u'CS_FIE', u'ZR_FIE', u'inducted_HOF', u'HOF_Eligibility',\n",
       "       u'AB/HR_BAT', u'BA_BAT', u'OBP_BAT', u'BB/SO_BAT', u'TB_BAT',\n",
       "       u'TOB_BAT', u'TA_BAT', u'XBH_BAT', u'SBA/ATT_BAT', u'BB/9_PIT',\n",
       "       u'SO/9_PIT', u'Character_Award_AW', u'Performance_Award_AW'],\n",
       "      dtype='object')"
      ]
     },
     "execution_count": 410,
     "metadata": {},
     "output_type": "execute_result"
    }
   ],
   "source": [
    "baseball.columns"
   ]
  },
  {
   "cell_type": "markdown",
   "metadata": {},
   "source": [
    "# 5. DIMENSIONALITY REDUCTION"
   ]
  },
  {
   "cell_type": "markdown",
   "metadata": {},
   "source": [
    "#### Hitting Statistics"
   ]
  },
  {
   "cell_type": "code",
   "execution_count": 411,
   "metadata": {
    "collapsed": false
   },
   "outputs": [
    {
     "data": {
      "text/html": [
       "<div>\n",
       "<table border=\"1\" class=\"dataframe\">\n",
       "  <thead>\n",
       "    <tr style=\"text-align: right;\">\n",
       "      <th></th>\n",
       "      <th>G_BAT</th>\n",
       "      <th>AB_BAT</th>\n",
       "      <th>R_BAT</th>\n",
       "      <th>H_BAT</th>\n",
       "      <th>2B_BAT</th>\n",
       "      <th>3B_BAT</th>\n",
       "      <th>HR_BAT</th>\n",
       "      <th>RBI_BAT</th>\n",
       "      <th>SB_BAT</th>\n",
       "      <th>CS_BAT</th>\n",
       "      <th>...</th>\n",
       "      <th>GIDP_BAT</th>\n",
       "      <th>AB/HR_BAT</th>\n",
       "      <th>BA_BAT</th>\n",
       "      <th>OBP_BAT</th>\n",
       "      <th>BB/SO_BAT</th>\n",
       "      <th>TB_BAT</th>\n",
       "      <th>TOB_BAT</th>\n",
       "      <th>TA_BAT</th>\n",
       "      <th>XBH_BAT</th>\n",
       "      <th>SBA/ATT_BAT</th>\n",
       "    </tr>\n",
       "  </thead>\n",
       "  <tbody>\n",
       "    <tr>\n",
       "      <th>G_BAT</th>\n",
       "      <td>1.000000</td>\n",
       "      <td>0.965756</td>\n",
       "      <td>0.933386</td>\n",
       "      <td>0.954425</td>\n",
       "      <td>0.937058</td>\n",
       "      <td>0.782955</td>\n",
       "      <td>0.761301</td>\n",
       "      <td>0.922797</td>\n",
       "      <td>0.661346</td>\n",
       "      <td>0.722342</td>\n",
       "      <td>...</td>\n",
       "      <td>0.791537</td>\n",
       "      <td>-0.524791</td>\n",
       "      <td>0.277260</td>\n",
       "      <td>0.276801</td>\n",
       "      <td>-0.140394</td>\n",
       "      <td>0.947177</td>\n",
       "      <td>0.953927</td>\n",
       "      <td>-0.050070</td>\n",
       "      <td>0.922726</td>\n",
       "      <td>0.713399</td>\n",
       "    </tr>\n",
       "    <tr>\n",
       "      <th>AB_BAT</th>\n",
       "      <td>0.965756</td>\n",
       "      <td>1.000000</td>\n",
       "      <td>0.978800</td>\n",
       "      <td>0.995074</td>\n",
       "      <td>0.975568</td>\n",
       "      <td>0.835845</td>\n",
       "      <td>0.782841</td>\n",
       "      <td>0.960413</td>\n",
       "      <td>0.710974</td>\n",
       "      <td>0.740757</td>\n",
       "      <td>...</td>\n",
       "      <td>0.797733</td>\n",
       "      <td>-0.517245</td>\n",
       "      <td>0.307572</td>\n",
       "      <td>0.305553</td>\n",
       "      <td>-0.103713</td>\n",
       "      <td>0.986053</td>\n",
       "      <td>0.990670</td>\n",
       "      <td>-0.046150</td>\n",
       "      <td>0.959966</td>\n",
       "      <td>0.758236</td>\n",
       "    </tr>\n",
       "    <tr>\n",
       "      <th>R_BAT</th>\n",
       "      <td>0.933386</td>\n",
       "      <td>0.978800</td>\n",
       "      <td>1.000000</td>\n",
       "      <td>0.985978</td>\n",
       "      <td>0.969018</td>\n",
       "      <td>0.860520</td>\n",
       "      <td>0.796891</td>\n",
       "      <td>0.962431</td>\n",
       "      <td>0.756933</td>\n",
       "      <td>0.730457</td>\n",
       "      <td>...</td>\n",
       "      <td>0.743234</td>\n",
       "      <td>-0.475157</td>\n",
       "      <td>0.297106</td>\n",
       "      <td>0.300083</td>\n",
       "      <td>-0.098134</td>\n",
       "      <td>0.983751</td>\n",
       "      <td>0.989449</td>\n",
       "      <td>-0.040892</td>\n",
       "      <td>0.964655</td>\n",
       "      <td>0.793111</td>\n",
       "    </tr>\n",
       "    <tr>\n",
       "      <th>H_BAT</th>\n",
       "      <td>0.954425</td>\n",
       "      <td>0.995074</td>\n",
       "      <td>0.985978</td>\n",
       "      <td>1.000000</td>\n",
       "      <td>0.982356</td>\n",
       "      <td>0.853276</td>\n",
       "      <td>0.782748</td>\n",
       "      <td>0.966985</td>\n",
       "      <td>0.718148</td>\n",
       "      <td>0.738730</td>\n",
       "      <td>...</td>\n",
       "      <td>0.785495</td>\n",
       "      <td>-0.494750</td>\n",
       "      <td>0.307543</td>\n",
       "      <td>0.304672</td>\n",
       "      <td>-0.100721</td>\n",
       "      <td>0.991030</td>\n",
       "      <td>0.994128</td>\n",
       "      <td>-0.042796</td>\n",
       "      <td>0.966237</td>\n",
       "      <td>0.763578</td>\n",
       "    </tr>\n",
       "    <tr>\n",
       "      <th>2B_BAT</th>\n",
       "      <td>0.937058</td>\n",
       "      <td>0.975568</td>\n",
       "      <td>0.969018</td>\n",
       "      <td>0.982356</td>\n",
       "      <td>1.000000</td>\n",
       "      <td>0.806222</td>\n",
       "      <td>0.820282</td>\n",
       "      <td>0.971302</td>\n",
       "      <td>0.660873</td>\n",
       "      <td>0.723208</td>\n",
       "      <td>...</td>\n",
       "      <td>0.808248</td>\n",
       "      <td>-0.483282</td>\n",
       "      <td>0.298835</td>\n",
       "      <td>0.298400</td>\n",
       "      <td>-0.107155</td>\n",
       "      <td>0.987087</td>\n",
       "      <td>0.980064</td>\n",
       "      <td>-0.040855</td>\n",
       "      <td>0.983518</td>\n",
       "      <td>0.713224</td>\n",
       "    </tr>\n",
       "    <tr>\n",
       "      <th>3B_BAT</th>\n",
       "      <td>0.782955</td>\n",
       "      <td>0.835845</td>\n",
       "      <td>0.860520</td>\n",
       "      <td>0.853276</td>\n",
       "      <td>0.806222</td>\n",
       "      <td>1.000000</td>\n",
       "      <td>0.493553</td>\n",
       "      <td>0.792019</td>\n",
       "      <td>0.770235</td>\n",
       "      <td>0.604818</td>\n",
       "      <td>...</td>\n",
       "      <td>0.427987</td>\n",
       "      <td>-0.409345</td>\n",
       "      <td>0.268398</td>\n",
       "      <td>0.260984</td>\n",
       "      <td>-0.062494</td>\n",
       "      <td>0.818784</td>\n",
       "      <td>0.836053</td>\n",
       "      <td>-0.035344</td>\n",
       "      <td>0.780309</td>\n",
       "      <td>0.773399</td>\n",
       "    </tr>\n",
       "    <tr>\n",
       "      <th>HR_BAT</th>\n",
       "      <td>0.761301</td>\n",
       "      <td>0.782841</td>\n",
       "      <td>0.796891</td>\n",
       "      <td>0.782748</td>\n",
       "      <td>0.820282</td>\n",
       "      <td>0.493553</td>\n",
       "      <td>1.000000</td>\n",
       "      <td>0.884673</td>\n",
       "      <td>0.393217</td>\n",
       "      <td>0.558520</td>\n",
       "      <td>...</td>\n",
       "      <td>0.819522</td>\n",
       "      <td>-0.364573</td>\n",
       "      <td>0.213148</td>\n",
       "      <td>0.226862</td>\n",
       "      <td>-0.093719</td>\n",
       "      <td>0.856865</td>\n",
       "      <td>0.808294</td>\n",
       "      <td>-0.028799</td>\n",
       "      <td>0.901995</td>\n",
       "      <td>0.455522</td>\n",
       "    </tr>\n",
       "    <tr>\n",
       "      <th>RBI_BAT</th>\n",
       "      <td>0.922797</td>\n",
       "      <td>0.960413</td>\n",
       "      <td>0.962431</td>\n",
       "      <td>0.966985</td>\n",
       "      <td>0.971302</td>\n",
       "      <td>0.792019</td>\n",
       "      <td>0.884673</td>\n",
       "      <td>1.000000</td>\n",
       "      <td>0.624637</td>\n",
       "      <td>0.659891</td>\n",
       "      <td>...</td>\n",
       "      <td>0.798946</td>\n",
       "      <td>-0.467460</td>\n",
       "      <td>0.288279</td>\n",
       "      <td>0.290768</td>\n",
       "      <td>-0.101771</td>\n",
       "      <td>0.986948</td>\n",
       "      <td>0.970393</td>\n",
       "      <td>-0.039489</td>\n",
       "      <td>0.988304</td>\n",
       "      <td>0.668368</td>\n",
       "    </tr>\n",
       "    <tr>\n",
       "      <th>SB_BAT</th>\n",
       "      <td>0.661346</td>\n",
       "      <td>0.710974</td>\n",
       "      <td>0.756933</td>\n",
       "      <td>0.718148</td>\n",
       "      <td>0.660873</td>\n",
       "      <td>0.770235</td>\n",
       "      <td>0.393217</td>\n",
       "      <td>0.624637</td>\n",
       "      <td>1.000000</td>\n",
       "      <td>0.707136</td>\n",
       "      <td>...</td>\n",
       "      <td>0.362545</td>\n",
       "      <td>-0.322133</td>\n",
       "      <td>0.209129</td>\n",
       "      <td>0.209814</td>\n",
       "      <td>-0.046029</td>\n",
       "      <td>0.678247</td>\n",
       "      <td>0.713108</td>\n",
       "      <td>-0.027676</td>\n",
       "      <td>0.628738</td>\n",
       "      <td>0.985128</td>\n",
       "    </tr>\n",
       "    <tr>\n",
       "      <th>CS_BAT</th>\n",
       "      <td>0.722342</td>\n",
       "      <td>0.740757</td>\n",
       "      <td>0.730457</td>\n",
       "      <td>0.738730</td>\n",
       "      <td>0.723208</td>\n",
       "      <td>0.604818</td>\n",
       "      <td>0.558520</td>\n",
       "      <td>0.659891</td>\n",
       "      <td>0.707136</td>\n",
       "      <td>1.000000</td>\n",
       "      <td>...</td>\n",
       "      <td>0.624726</td>\n",
       "      <td>-0.354464</td>\n",
       "      <td>0.217358</td>\n",
       "      <td>0.219850</td>\n",
       "      <td>-0.103372</td>\n",
       "      <td>0.726081</td>\n",
       "      <td>0.739680</td>\n",
       "      <td>-0.029919</td>\n",
       "      <td>0.701724</td>\n",
       "      <td>0.818111</td>\n",
       "    </tr>\n",
       "    <tr>\n",
       "      <th>BB_BAT</th>\n",
       "      <td>0.900796</td>\n",
       "      <td>0.925306</td>\n",
       "      <td>0.943857</td>\n",
       "      <td>0.925189</td>\n",
       "      <td>0.920049</td>\n",
       "      <td>0.747836</td>\n",
       "      <td>0.828444</td>\n",
       "      <td>0.925884</td>\n",
       "      <td>0.656895</td>\n",
       "      <td>0.705029</td>\n",
       "      <td>...</td>\n",
       "      <td>0.761360</td>\n",
       "      <td>-0.452379</td>\n",
       "      <td>0.272826</td>\n",
       "      <td>0.298415</td>\n",
       "      <td>-0.098499</td>\n",
       "      <td>0.938719</td>\n",
       "      <td>0.960377</td>\n",
       "      <td>-0.038547</td>\n",
       "      <td>0.932375</td>\n",
       "      <td>0.705572</td>\n",
       "    </tr>\n",
       "    <tr>\n",
       "      <th>SO_BAT</th>\n",
       "      <td>0.843129</td>\n",
       "      <td>0.841910</td>\n",
       "      <td>0.813632</td>\n",
       "      <td>0.818207</td>\n",
       "      <td>0.845151</td>\n",
       "      <td>0.534084</td>\n",
       "      <td>0.884204</td>\n",
       "      <td>0.848115</td>\n",
       "      <td>0.495627</td>\n",
       "      <td>0.701464</td>\n",
       "      <td>...</td>\n",
       "      <td>0.851078</td>\n",
       "      <td>-0.479450</td>\n",
       "      <td>0.243326</td>\n",
       "      <td>0.254383</td>\n",
       "      <td>-0.151797</td>\n",
       "      <td>0.859976</td>\n",
       "      <td>0.835781</td>\n",
       "      <td>-0.043574</td>\n",
       "      <td>0.880032</td>\n",
       "      <td>0.573547</td>\n",
       "    </tr>\n",
       "    <tr>\n",
       "      <th>IBB_BAT</th>\n",
       "      <td>0.634633</td>\n",
       "      <td>0.639252</td>\n",
       "      <td>0.623060</td>\n",
       "      <td>0.635187</td>\n",
       "      <td>0.659648</td>\n",
       "      <td>0.322059</td>\n",
       "      <td>0.798206</td>\n",
       "      <td>0.688943</td>\n",
       "      <td>0.312941</td>\n",
       "      <td>0.522924</td>\n",
       "      <td>...</td>\n",
       "      <td>0.767189</td>\n",
       "      <td>-0.274593</td>\n",
       "      <td>0.159095</td>\n",
       "      <td>0.171308</td>\n",
       "      <td>-0.075814</td>\n",
       "      <td>0.687377</td>\n",
       "      <td>0.659172</td>\n",
       "      <td>-0.021907</td>\n",
       "      <td>0.712934</td>\n",
       "      <td>0.381585</td>\n",
       "    </tr>\n",
       "    <tr>\n",
       "      <th>HBP_BAT</th>\n",
       "      <td>0.735867</td>\n",
       "      <td>0.766334</td>\n",
       "      <td>0.771645</td>\n",
       "      <td>0.764627</td>\n",
       "      <td>0.765611</td>\n",
       "      <td>0.627611</td>\n",
       "      <td>0.642005</td>\n",
       "      <td>0.754603</td>\n",
       "      <td>0.600728</td>\n",
       "      <td>0.535528</td>\n",
       "      <td>...</td>\n",
       "      <td>0.595986</td>\n",
       "      <td>-0.397637</td>\n",
       "      <td>0.238867</td>\n",
       "      <td>0.250725</td>\n",
       "      <td>-0.062787</td>\n",
       "      <td>0.767603</td>\n",
       "      <td>0.775644</td>\n",
       "      <td>-0.033813</td>\n",
       "      <td>0.759470</td>\n",
       "      <td>0.618702</td>\n",
       "    </tr>\n",
       "    <tr>\n",
       "      <th>SH_BAT</th>\n",
       "      <td>0.628870</td>\n",
       "      <td>0.622431</td>\n",
       "      <td>0.575362</td>\n",
       "      <td>0.612914</td>\n",
       "      <td>0.553548</td>\n",
       "      <td>0.674555</td>\n",
       "      <td>0.214787</td>\n",
       "      <td>0.510931</td>\n",
       "      <td>0.539835</td>\n",
       "      <td>0.474202</td>\n",
       "      <td>...</td>\n",
       "      <td>0.255477</td>\n",
       "      <td>-0.353846</td>\n",
       "      <td>0.183613</td>\n",
       "      <td>0.174093</td>\n",
       "      <td>-0.054900</td>\n",
       "      <td>0.552134</td>\n",
       "      <td>0.597549</td>\n",
       "      <td>-0.039315</td>\n",
       "      <td>0.489252</td>\n",
       "      <td>0.554276</td>\n",
       "    </tr>\n",
       "    <tr>\n",
       "      <th>SF_BAT</th>\n",
       "      <td>0.740630</td>\n",
       "      <td>0.746259</td>\n",
       "      <td>0.706788</td>\n",
       "      <td>0.731930</td>\n",
       "      <td>0.764246</td>\n",
       "      <td>0.374967</td>\n",
       "      <td>0.824260</td>\n",
       "      <td>0.757844</td>\n",
       "      <td>0.396613</td>\n",
       "      <td>0.651501</td>\n",
       "      <td>...</td>\n",
       "      <td>0.895129</td>\n",
       "      <td>-0.360442</td>\n",
       "      <td>0.199852</td>\n",
       "      <td>0.206079</td>\n",
       "      <td>-0.101173</td>\n",
       "      <td>0.771845</td>\n",
       "      <td>0.743159</td>\n",
       "      <td>-0.029193</td>\n",
       "      <td>0.789900</td>\n",
       "      <td>0.480880</td>\n",
       "    </tr>\n",
       "    <tr>\n",
       "      <th>GIDP_BAT</th>\n",
       "      <td>0.791537</td>\n",
       "      <td>0.797733</td>\n",
       "      <td>0.743234</td>\n",
       "      <td>0.785495</td>\n",
       "      <td>0.808248</td>\n",
       "      <td>0.427987</td>\n",
       "      <td>0.819522</td>\n",
       "      <td>0.798946</td>\n",
       "      <td>0.362545</td>\n",
       "      <td>0.624726</td>\n",
       "      <td>...</td>\n",
       "      <td>1.000000</td>\n",
       "      <td>-0.412019</td>\n",
       "      <td>0.230430</td>\n",
       "      <td>0.234017</td>\n",
       "      <td>-0.119451</td>\n",
       "      <td>0.814111</td>\n",
       "      <td>0.790423</td>\n",
       "      <td>-0.034459</td>\n",
       "      <td>0.820824</td>\n",
       "      <td>0.446665</td>\n",
       "    </tr>\n",
       "    <tr>\n",
       "      <th>AB/HR_BAT</th>\n",
       "      <td>-0.524791</td>\n",
       "      <td>-0.517245</td>\n",
       "      <td>-0.475157</td>\n",
       "      <td>-0.494750</td>\n",
       "      <td>-0.483282</td>\n",
       "      <td>-0.409345</td>\n",
       "      <td>-0.364573</td>\n",
       "      <td>-0.467460</td>\n",
       "      <td>-0.322133</td>\n",
       "      <td>-0.354464</td>\n",
       "      <td>...</td>\n",
       "      <td>-0.412019</td>\n",
       "      <td>1.000000</td>\n",
       "      <td>-0.375225</td>\n",
       "      <td>-0.401092</td>\n",
       "      <td>0.145532</td>\n",
       "      <td>-0.484580</td>\n",
       "      <td>-0.491038</td>\n",
       "      <td>0.062434</td>\n",
       "      <td>-0.466927</td>\n",
       "      <td>-0.348346</td>\n",
       "    </tr>\n",
       "    <tr>\n",
       "      <th>BA_BAT</th>\n",
       "      <td>0.277260</td>\n",
       "      <td>0.307572</td>\n",
       "      <td>0.297106</td>\n",
       "      <td>0.307543</td>\n",
       "      <td>0.298835</td>\n",
       "      <td>0.268398</td>\n",
       "      <td>0.213148</td>\n",
       "      <td>0.288279</td>\n",
       "      <td>0.209129</td>\n",
       "      <td>0.217358</td>\n",
       "      <td>...</td>\n",
       "      <td>0.230430</td>\n",
       "      <td>-0.375225</td>\n",
       "      <td>1.000000</td>\n",
       "      <td>0.915008</td>\n",
       "      <td>0.024101</td>\n",
       "      <td>0.298843</td>\n",
       "      <td>0.302688</td>\n",
       "      <td>0.491826</td>\n",
       "      <td>0.286361</td>\n",
       "      <td>0.223046</td>\n",
       "    </tr>\n",
       "    <tr>\n",
       "      <th>OBP_BAT</th>\n",
       "      <td>0.276801</td>\n",
       "      <td>0.305553</td>\n",
       "      <td>0.300083</td>\n",
       "      <td>0.304672</td>\n",
       "      <td>0.298400</td>\n",
       "      <td>0.260984</td>\n",
       "      <td>0.226862</td>\n",
       "      <td>0.290768</td>\n",
       "      <td>0.209814</td>\n",
       "      <td>0.219850</td>\n",
       "      <td>...</td>\n",
       "      <td>0.234017</td>\n",
       "      <td>-0.401092</td>\n",
       "      <td>0.915008</td>\n",
       "      <td>1.000000</td>\n",
       "      <td>0.155303</td>\n",
       "      <td>0.299510</td>\n",
       "      <td>0.308070</td>\n",
       "      <td>0.495858</td>\n",
       "      <td>0.290066</td>\n",
       "      <td>0.224205</td>\n",
       "    </tr>\n",
       "    <tr>\n",
       "      <th>BB/SO_BAT</th>\n",
       "      <td>-0.140394</td>\n",
       "      <td>-0.103713</td>\n",
       "      <td>-0.098134</td>\n",
       "      <td>-0.100721</td>\n",
       "      <td>-0.107155</td>\n",
       "      <td>-0.062494</td>\n",
       "      <td>-0.093719</td>\n",
       "      <td>-0.101771</td>\n",
       "      <td>-0.046029</td>\n",
       "      <td>-0.103372</td>\n",
       "      <td>...</td>\n",
       "      <td>-0.119451</td>\n",
       "      <td>0.145532</td>\n",
       "      <td>0.024101</td>\n",
       "      <td>0.155303</td>\n",
       "      <td>1.000000</td>\n",
       "      <td>-0.102872</td>\n",
       "      <td>-0.101340</td>\n",
       "      <td>0.193658</td>\n",
       "      <td>-0.104411</td>\n",
       "      <td>-0.062611</td>\n",
       "    </tr>\n",
       "    <tr>\n",
       "      <th>TB_BAT</th>\n",
       "      <td>0.947177</td>\n",
       "      <td>0.986053</td>\n",
       "      <td>0.983751</td>\n",
       "      <td>0.991030</td>\n",
       "      <td>0.987087</td>\n",
       "      <td>0.818784</td>\n",
       "      <td>0.856865</td>\n",
       "      <td>0.986948</td>\n",
       "      <td>0.678247</td>\n",
       "      <td>0.726081</td>\n",
       "      <td>...</td>\n",
       "      <td>0.814111</td>\n",
       "      <td>-0.484580</td>\n",
       "      <td>0.298843</td>\n",
       "      <td>0.299510</td>\n",
       "      <td>-0.102872</td>\n",
       "      <td>1.000000</td>\n",
       "      <td>0.991541</td>\n",
       "      <td>-0.041199</td>\n",
       "      <td>0.991023</td>\n",
       "      <td>0.728053</td>\n",
       "    </tr>\n",
       "    <tr>\n",
       "      <th>TOB_BAT</th>\n",
       "      <td>0.953927</td>\n",
       "      <td>0.990670</td>\n",
       "      <td>0.989449</td>\n",
       "      <td>0.994128</td>\n",
       "      <td>0.980064</td>\n",
       "      <td>0.836053</td>\n",
       "      <td>0.808294</td>\n",
       "      <td>0.970393</td>\n",
       "      <td>0.713108</td>\n",
       "      <td>0.739680</td>\n",
       "      <td>...</td>\n",
       "      <td>0.790423</td>\n",
       "      <td>-0.491038</td>\n",
       "      <td>0.302688</td>\n",
       "      <td>0.308070</td>\n",
       "      <td>-0.101340</td>\n",
       "      <td>0.991541</td>\n",
       "      <td>1.000000</td>\n",
       "      <td>-0.042297</td>\n",
       "      <td>0.971787</td>\n",
       "      <td>0.759710</td>\n",
       "    </tr>\n",
       "    <tr>\n",
       "      <th>TA_BAT</th>\n",
       "      <td>-0.050070</td>\n",
       "      <td>-0.046150</td>\n",
       "      <td>-0.040892</td>\n",
       "      <td>-0.042796</td>\n",
       "      <td>-0.040855</td>\n",
       "      <td>-0.035344</td>\n",
       "      <td>-0.028799</td>\n",
       "      <td>-0.039489</td>\n",
       "      <td>-0.027676</td>\n",
       "      <td>-0.029919</td>\n",
       "      <td>...</td>\n",
       "      <td>-0.034459</td>\n",
       "      <td>0.062434</td>\n",
       "      <td>0.491826</td>\n",
       "      <td>0.495858</td>\n",
       "      <td>0.193658</td>\n",
       "      <td>-0.041199</td>\n",
       "      <td>-0.042297</td>\n",
       "      <td>1.000000</td>\n",
       "      <td>-0.038840</td>\n",
       "      <td>-0.029798</td>\n",
       "    </tr>\n",
       "    <tr>\n",
       "      <th>XBH_BAT</th>\n",
       "      <td>0.922726</td>\n",
       "      <td>0.959966</td>\n",
       "      <td>0.964655</td>\n",
       "      <td>0.966237</td>\n",
       "      <td>0.983518</td>\n",
       "      <td>0.780309</td>\n",
       "      <td>0.901995</td>\n",
       "      <td>0.988304</td>\n",
       "      <td>0.628738</td>\n",
       "      <td>0.701724</td>\n",
       "      <td>...</td>\n",
       "      <td>0.820824</td>\n",
       "      <td>-0.466927</td>\n",
       "      <td>0.286361</td>\n",
       "      <td>0.290066</td>\n",
       "      <td>-0.104411</td>\n",
       "      <td>0.991023</td>\n",
       "      <td>0.971787</td>\n",
       "      <td>-0.038840</td>\n",
       "      <td>1.000000</td>\n",
       "      <td>0.681869</td>\n",
       "    </tr>\n",
       "    <tr>\n",
       "      <th>SBA/ATT_BAT</th>\n",
       "      <td>0.713399</td>\n",
       "      <td>0.758236</td>\n",
       "      <td>0.793111</td>\n",
       "      <td>0.763578</td>\n",
       "      <td>0.713224</td>\n",
       "      <td>0.773399</td>\n",
       "      <td>0.455522</td>\n",
       "      <td>0.668368</td>\n",
       "      <td>0.985128</td>\n",
       "      <td>0.818111</td>\n",
       "      <td>...</td>\n",
       "      <td>0.446665</td>\n",
       "      <td>-0.348346</td>\n",
       "      <td>0.223046</td>\n",
       "      <td>0.224205</td>\n",
       "      <td>-0.062611</td>\n",
       "      <td>0.728053</td>\n",
       "      <td>0.759710</td>\n",
       "      <td>-0.029798</td>\n",
       "      <td>0.681869</td>\n",
       "      <td>1.000000</td>\n",
       "    </tr>\n",
       "  </tbody>\n",
       "</table>\n",
       "<p>26 rows × 26 columns</p>\n",
       "</div>"
      ],
      "text/plain": [
       "                G_BAT    AB_BAT     R_BAT     H_BAT    2B_BAT    3B_BAT  \\\n",
       "G_BAT        1.000000  0.965756  0.933386  0.954425  0.937058  0.782955   \n",
       "AB_BAT       0.965756  1.000000  0.978800  0.995074  0.975568  0.835845   \n",
       "R_BAT        0.933386  0.978800  1.000000  0.985978  0.969018  0.860520   \n",
       "H_BAT        0.954425  0.995074  0.985978  1.000000  0.982356  0.853276   \n",
       "2B_BAT       0.937058  0.975568  0.969018  0.982356  1.000000  0.806222   \n",
       "3B_BAT       0.782955  0.835845  0.860520  0.853276  0.806222  1.000000   \n",
       "HR_BAT       0.761301  0.782841  0.796891  0.782748  0.820282  0.493553   \n",
       "RBI_BAT      0.922797  0.960413  0.962431  0.966985  0.971302  0.792019   \n",
       "SB_BAT       0.661346  0.710974  0.756933  0.718148  0.660873  0.770235   \n",
       "CS_BAT       0.722342  0.740757  0.730457  0.738730  0.723208  0.604818   \n",
       "BB_BAT       0.900796  0.925306  0.943857  0.925189  0.920049  0.747836   \n",
       "SO_BAT       0.843129  0.841910  0.813632  0.818207  0.845151  0.534084   \n",
       "IBB_BAT      0.634633  0.639252  0.623060  0.635187  0.659648  0.322059   \n",
       "HBP_BAT      0.735867  0.766334  0.771645  0.764627  0.765611  0.627611   \n",
       "SH_BAT       0.628870  0.622431  0.575362  0.612914  0.553548  0.674555   \n",
       "SF_BAT       0.740630  0.746259  0.706788  0.731930  0.764246  0.374967   \n",
       "GIDP_BAT     0.791537  0.797733  0.743234  0.785495  0.808248  0.427987   \n",
       "AB/HR_BAT   -0.524791 -0.517245 -0.475157 -0.494750 -0.483282 -0.409345   \n",
       "BA_BAT       0.277260  0.307572  0.297106  0.307543  0.298835  0.268398   \n",
       "OBP_BAT      0.276801  0.305553  0.300083  0.304672  0.298400  0.260984   \n",
       "BB/SO_BAT   -0.140394 -0.103713 -0.098134 -0.100721 -0.107155 -0.062494   \n",
       "TB_BAT       0.947177  0.986053  0.983751  0.991030  0.987087  0.818784   \n",
       "TOB_BAT      0.953927  0.990670  0.989449  0.994128  0.980064  0.836053   \n",
       "TA_BAT      -0.050070 -0.046150 -0.040892 -0.042796 -0.040855 -0.035344   \n",
       "XBH_BAT      0.922726  0.959966  0.964655  0.966237  0.983518  0.780309   \n",
       "SBA/ATT_BAT  0.713399  0.758236  0.793111  0.763578  0.713224  0.773399   \n",
       "\n",
       "               HR_BAT   RBI_BAT    SB_BAT    CS_BAT     ...       GIDP_BAT  \\\n",
       "G_BAT        0.761301  0.922797  0.661346  0.722342     ...       0.791537   \n",
       "AB_BAT       0.782841  0.960413  0.710974  0.740757     ...       0.797733   \n",
       "R_BAT        0.796891  0.962431  0.756933  0.730457     ...       0.743234   \n",
       "H_BAT        0.782748  0.966985  0.718148  0.738730     ...       0.785495   \n",
       "2B_BAT       0.820282  0.971302  0.660873  0.723208     ...       0.808248   \n",
       "3B_BAT       0.493553  0.792019  0.770235  0.604818     ...       0.427987   \n",
       "HR_BAT       1.000000  0.884673  0.393217  0.558520     ...       0.819522   \n",
       "RBI_BAT      0.884673  1.000000  0.624637  0.659891     ...       0.798946   \n",
       "SB_BAT       0.393217  0.624637  1.000000  0.707136     ...       0.362545   \n",
       "CS_BAT       0.558520  0.659891  0.707136  1.000000     ...       0.624726   \n",
       "BB_BAT       0.828444  0.925884  0.656895  0.705029     ...       0.761360   \n",
       "SO_BAT       0.884204  0.848115  0.495627  0.701464     ...       0.851078   \n",
       "IBB_BAT      0.798206  0.688943  0.312941  0.522924     ...       0.767189   \n",
       "HBP_BAT      0.642005  0.754603  0.600728  0.535528     ...       0.595986   \n",
       "SH_BAT       0.214787  0.510931  0.539835  0.474202     ...       0.255477   \n",
       "SF_BAT       0.824260  0.757844  0.396613  0.651501     ...       0.895129   \n",
       "GIDP_BAT     0.819522  0.798946  0.362545  0.624726     ...       1.000000   \n",
       "AB/HR_BAT   -0.364573 -0.467460 -0.322133 -0.354464     ...      -0.412019   \n",
       "BA_BAT       0.213148  0.288279  0.209129  0.217358     ...       0.230430   \n",
       "OBP_BAT      0.226862  0.290768  0.209814  0.219850     ...       0.234017   \n",
       "BB/SO_BAT   -0.093719 -0.101771 -0.046029 -0.103372     ...      -0.119451   \n",
       "TB_BAT       0.856865  0.986948  0.678247  0.726081     ...       0.814111   \n",
       "TOB_BAT      0.808294  0.970393  0.713108  0.739680     ...       0.790423   \n",
       "TA_BAT      -0.028799 -0.039489 -0.027676 -0.029919     ...      -0.034459   \n",
       "XBH_BAT      0.901995  0.988304  0.628738  0.701724     ...       0.820824   \n",
       "SBA/ATT_BAT  0.455522  0.668368  0.985128  0.818111     ...       0.446665   \n",
       "\n",
       "             AB/HR_BAT    BA_BAT   OBP_BAT  BB/SO_BAT    TB_BAT   TOB_BAT  \\\n",
       "G_BAT        -0.524791  0.277260  0.276801  -0.140394  0.947177  0.953927   \n",
       "AB_BAT       -0.517245  0.307572  0.305553  -0.103713  0.986053  0.990670   \n",
       "R_BAT        -0.475157  0.297106  0.300083  -0.098134  0.983751  0.989449   \n",
       "H_BAT        -0.494750  0.307543  0.304672  -0.100721  0.991030  0.994128   \n",
       "2B_BAT       -0.483282  0.298835  0.298400  -0.107155  0.987087  0.980064   \n",
       "3B_BAT       -0.409345  0.268398  0.260984  -0.062494  0.818784  0.836053   \n",
       "HR_BAT       -0.364573  0.213148  0.226862  -0.093719  0.856865  0.808294   \n",
       "RBI_BAT      -0.467460  0.288279  0.290768  -0.101771  0.986948  0.970393   \n",
       "SB_BAT       -0.322133  0.209129  0.209814  -0.046029  0.678247  0.713108   \n",
       "CS_BAT       -0.354464  0.217358  0.219850  -0.103372  0.726081  0.739680   \n",
       "BB_BAT       -0.452379  0.272826  0.298415  -0.098499  0.938719  0.960377   \n",
       "SO_BAT       -0.479450  0.243326  0.254383  -0.151797  0.859976  0.835781   \n",
       "IBB_BAT      -0.274593  0.159095  0.171308  -0.075814  0.687377  0.659172   \n",
       "HBP_BAT      -0.397637  0.238867  0.250725  -0.062787  0.767603  0.775644   \n",
       "SH_BAT       -0.353846  0.183613  0.174093  -0.054900  0.552134  0.597549   \n",
       "SF_BAT       -0.360442  0.199852  0.206079  -0.101173  0.771845  0.743159   \n",
       "GIDP_BAT     -0.412019  0.230430  0.234017  -0.119451  0.814111  0.790423   \n",
       "AB/HR_BAT     1.000000 -0.375225 -0.401092   0.145532 -0.484580 -0.491038   \n",
       "BA_BAT       -0.375225  1.000000  0.915008   0.024101  0.298843  0.302688   \n",
       "OBP_BAT      -0.401092  0.915008  1.000000   0.155303  0.299510  0.308070   \n",
       "BB/SO_BAT     0.145532  0.024101  0.155303   1.000000 -0.102872 -0.101340   \n",
       "TB_BAT       -0.484580  0.298843  0.299510  -0.102872  1.000000  0.991541   \n",
       "TOB_BAT      -0.491038  0.302688  0.308070  -0.101340  0.991541  1.000000   \n",
       "TA_BAT        0.062434  0.491826  0.495858   0.193658 -0.041199 -0.042297   \n",
       "XBH_BAT      -0.466927  0.286361  0.290066  -0.104411  0.991023  0.971787   \n",
       "SBA/ATT_BAT  -0.348346  0.223046  0.224205  -0.062611  0.728053  0.759710   \n",
       "\n",
       "               TA_BAT   XBH_BAT  SBA/ATT_BAT  \n",
       "G_BAT       -0.050070  0.922726     0.713399  \n",
       "AB_BAT      -0.046150  0.959966     0.758236  \n",
       "R_BAT       -0.040892  0.964655     0.793111  \n",
       "H_BAT       -0.042796  0.966237     0.763578  \n",
       "2B_BAT      -0.040855  0.983518     0.713224  \n",
       "3B_BAT      -0.035344  0.780309     0.773399  \n",
       "HR_BAT      -0.028799  0.901995     0.455522  \n",
       "RBI_BAT     -0.039489  0.988304     0.668368  \n",
       "SB_BAT      -0.027676  0.628738     0.985128  \n",
       "CS_BAT      -0.029919  0.701724     0.818111  \n",
       "BB_BAT      -0.038547  0.932375     0.705572  \n",
       "SO_BAT      -0.043574  0.880032     0.573547  \n",
       "IBB_BAT     -0.021907  0.712934     0.381585  \n",
       "HBP_BAT     -0.033813  0.759470     0.618702  \n",
       "SH_BAT      -0.039315  0.489252     0.554276  \n",
       "SF_BAT      -0.029193  0.789900     0.480880  \n",
       "GIDP_BAT    -0.034459  0.820824     0.446665  \n",
       "AB/HR_BAT    0.062434 -0.466927    -0.348346  \n",
       "BA_BAT       0.491826  0.286361     0.223046  \n",
       "OBP_BAT      0.495858  0.290066     0.224205  \n",
       "BB/SO_BAT    0.193658 -0.104411    -0.062611  \n",
       "TB_BAT      -0.041199  0.991023     0.728053  \n",
       "TOB_BAT     -0.042297  0.971787     0.759710  \n",
       "TA_BAT       1.000000 -0.038840    -0.029798  \n",
       "XBH_BAT     -0.038840  1.000000     0.681869  \n",
       "SBA/ATT_BAT -0.029798  0.681869     1.000000  \n",
       "\n",
       "[26 rows x 26 columns]"
      ]
     },
     "execution_count": 411,
     "metadata": {},
     "output_type": "execute_result"
    }
   ],
   "source": [
    "baseball[battingcol].corr()"
   ]
  },
  {
   "cell_type": "code",
   "execution_count": 412,
   "metadata": {
    "collapsed": false
   },
   "outputs": [],
   "source": [
    "baseball.drop(['AB_BAT','R_BAT','H_BAT','2B_BAT','RBI_BAT','BB_BAT','SO_BAT',\\\n",
    "               'HBP_BAT','SF_BAT','GIDP_BAT','G_BAT',\\\n",
    "'SB_BAT','IBB_BAT','CS_BAT','OBP_BAT',\\\n",
    "'3B_BAT','HR_BAT','TA_BAT','BB/SO_BAT','XBH_BAT'],axis=1,inplace=True)"
   ]
  },
  {
   "cell_type": "markdown",
   "metadata": {},
   "source": [
    "#### Pitching Statistics"
   ]
  },
  {
   "cell_type": "code",
   "execution_count": 413,
   "metadata": {
    "collapsed": false
   },
   "outputs": [
    {
     "data": {
      "text/html": [
       "<div>\n",
       "<table border=\"1\" class=\"dataframe\">\n",
       "  <thead>\n",
       "    <tr style=\"text-align: right;\">\n",
       "      <th></th>\n",
       "      <th>W_PIT</th>\n",
       "      <th>L_PIT</th>\n",
       "      <th>G_PIT</th>\n",
       "      <th>GS_PIT</th>\n",
       "      <th>CG_PIT</th>\n",
       "      <th>SHO_PIT</th>\n",
       "      <th>SV_PIT</th>\n",
       "      <th>IPouts_PIT</th>\n",
       "      <th>H_PIT</th>\n",
       "      <th>ER_PIT</th>\n",
       "      <th>...</th>\n",
       "      <th>HBP_PIT</th>\n",
       "      <th>BK_PIT</th>\n",
       "      <th>BFP_PIT</th>\n",
       "      <th>GF_PIT</th>\n",
       "      <th>R_PIT</th>\n",
       "      <th>SH_PIT</th>\n",
       "      <th>SF_PIT</th>\n",
       "      <th>GIDP_PIT</th>\n",
       "      <th>BB/9_PIT</th>\n",
       "      <th>SO/9_PIT</th>\n",
       "    </tr>\n",
       "  </thead>\n",
       "  <tbody>\n",
       "    <tr>\n",
       "      <th>W_PIT</th>\n",
       "      <td>1.000000</td>\n",
       "      <td>0.959714</td>\n",
       "      <td>0.784120</td>\n",
       "      <td>0.962950</td>\n",
       "      <td>0.820400</td>\n",
       "      <td>0.879492</td>\n",
       "      <td>0.252589</td>\n",
       "      <td>0.990107</td>\n",
       "      <td>0.981188</td>\n",
       "      <td>0.961257</td>\n",
       "      <td>...</td>\n",
       "      <td>0.838190</td>\n",
       "      <td>0.609679</td>\n",
       "      <td>0.964937</td>\n",
       "      <td>0.376701</td>\n",
       "      <td>0.962740</td>\n",
       "      <td>0.337968</td>\n",
       "      <td>0.335741</td>\n",
       "      <td>0.134406</td>\n",
       "      <td>0.935481</td>\n",
       "      <td>0.931332</td>\n",
       "    </tr>\n",
       "    <tr>\n",
       "      <th>L_PIT</th>\n",
       "      <td>0.959714</td>\n",
       "      <td>1.000000</td>\n",
       "      <td>0.811924</td>\n",
       "      <td>0.956051</td>\n",
       "      <td>0.785616</td>\n",
       "      <td>0.820298</td>\n",
       "      <td>0.274208</td>\n",
       "      <td>0.985801</td>\n",
       "      <td>0.987580</td>\n",
       "      <td>0.984605</td>\n",
       "      <td>...</td>\n",
       "      <td>0.854465</td>\n",
       "      <td>0.625812</td>\n",
       "      <td>0.964131</td>\n",
       "      <td>0.415796</td>\n",
       "      <td>0.982636</td>\n",
       "      <td>0.341608</td>\n",
       "      <td>0.343907</td>\n",
       "      <td>0.133310</td>\n",
       "      <td>0.957816</td>\n",
       "      <td>0.915080</td>\n",
       "    </tr>\n",
       "    <tr>\n",
       "      <th>G_PIT</th>\n",
       "      <td>0.784120</td>\n",
       "      <td>0.811924</td>\n",
       "      <td>1.000000</td>\n",
       "      <td>0.676952</td>\n",
       "      <td>0.492653</td>\n",
       "      <td>0.560889</td>\n",
       "      <td>0.599786</td>\n",
       "      <td>0.807130</td>\n",
       "      <td>0.799329</td>\n",
       "      <td>0.813068</td>\n",
       "      <td>...</td>\n",
       "      <td>0.739170</td>\n",
       "      <td>0.604074</td>\n",
       "      <td>0.813757</td>\n",
       "      <td>0.795418</td>\n",
       "      <td>0.786101</td>\n",
       "      <td>0.396429</td>\n",
       "      <td>0.408657</td>\n",
       "      <td>0.149419</td>\n",
       "      <td>0.820001</td>\n",
       "      <td>0.820204</td>\n",
       "    </tr>\n",
       "    <tr>\n",
       "      <th>GS_PIT</th>\n",
       "      <td>0.962950</td>\n",
       "      <td>0.956051</td>\n",
       "      <td>0.676952</td>\n",
       "      <td>1.000000</td>\n",
       "      <td>0.776161</td>\n",
       "      <td>0.858014</td>\n",
       "      <td>0.103243</td>\n",
       "      <td>0.969539</td>\n",
       "      <td>0.966954</td>\n",
       "      <td>0.963181</td>\n",
       "      <td>...</td>\n",
       "      <td>0.833546</td>\n",
       "      <td>0.625698</td>\n",
       "      <td>0.951245</td>\n",
       "      <td>0.200924</td>\n",
       "      <td>0.955571</td>\n",
       "      <td>0.372228</td>\n",
       "      <td>0.370646</td>\n",
       "      <td>0.155600</td>\n",
       "      <td>0.925630</td>\n",
       "      <td>0.917266</td>\n",
       "    </tr>\n",
       "    <tr>\n",
       "      <th>CG_PIT</th>\n",
       "      <td>0.820400</td>\n",
       "      <td>0.785616</td>\n",
       "      <td>0.492653</td>\n",
       "      <td>0.776161</td>\n",
       "      <td>1.000000</td>\n",
       "      <td>0.857547</td>\n",
       "      <td>0.073609</td>\n",
       "      <td>0.816979</td>\n",
       "      <td>0.816057</td>\n",
       "      <td>0.743889</td>\n",
       "      <td>...</td>\n",
       "      <td>0.618746</td>\n",
       "      <td>0.289894</td>\n",
       "      <td>0.730510</td>\n",
       "      <td>0.150205</td>\n",
       "      <td>0.820104</td>\n",
       "      <td>0.002267</td>\n",
       "      <td>-0.003045</td>\n",
       "      <td>-0.014942</td>\n",
       "      <td>0.718891</td>\n",
       "      <td>0.630983</td>\n",
       "    </tr>\n",
       "    <tr>\n",
       "      <th>SHO_PIT</th>\n",
       "      <td>0.879492</td>\n",
       "      <td>0.820298</td>\n",
       "      <td>0.560889</td>\n",
       "      <td>0.858014</td>\n",
       "      <td>0.857547</td>\n",
       "      <td>1.000000</td>\n",
       "      <td>0.090049</td>\n",
       "      <td>0.864518</td>\n",
       "      <td>0.841603</td>\n",
       "      <td>0.788671</td>\n",
       "      <td>...</td>\n",
       "      <td>0.689008</td>\n",
       "      <td>0.458378</td>\n",
       "      <td>0.843260</td>\n",
       "      <td>0.169902</td>\n",
       "      <td>0.803104</td>\n",
       "      <td>0.079307</td>\n",
       "      <td>0.071230</td>\n",
       "      <td>0.017271</td>\n",
       "      <td>0.785171</td>\n",
       "      <td>0.773359</td>\n",
       "    </tr>\n",
       "    <tr>\n",
       "      <th>SV_PIT</th>\n",
       "      <td>0.252589</td>\n",
       "      <td>0.274208</td>\n",
       "      <td>0.599786</td>\n",
       "      <td>0.103243</td>\n",
       "      <td>0.073609</td>\n",
       "      <td>0.090049</td>\n",
       "      <td>1.000000</td>\n",
       "      <td>0.258166</td>\n",
       "      <td>0.241986</td>\n",
       "      <td>0.243400</td>\n",
       "      <td>...</td>\n",
       "      <td>0.236289</td>\n",
       "      <td>0.218551</td>\n",
       "      <td>0.268961</td>\n",
       "      <td>0.907336</td>\n",
       "      <td>0.226096</td>\n",
       "      <td>0.132561</td>\n",
       "      <td>0.127764</td>\n",
       "      <td>0.034450</td>\n",
       "      <td>0.277533</td>\n",
       "      <td>0.317147</td>\n",
       "    </tr>\n",
       "    <tr>\n",
       "      <th>IPouts_PIT</th>\n",
       "      <td>0.990107</td>\n",
       "      <td>0.985801</td>\n",
       "      <td>0.807130</td>\n",
       "      <td>0.969539</td>\n",
       "      <td>0.816979</td>\n",
       "      <td>0.864518</td>\n",
       "      <td>0.258166</td>\n",
       "      <td>1.000000</td>\n",
       "      <td>0.995590</td>\n",
       "      <td>0.982496</td>\n",
       "      <td>...</td>\n",
       "      <td>0.854756</td>\n",
       "      <td>0.625261</td>\n",
       "      <td>0.975395</td>\n",
       "      <td>0.396066</td>\n",
       "      <td>0.983509</td>\n",
       "      <td>0.337296</td>\n",
       "      <td>0.337831</td>\n",
       "      <td>0.132648</td>\n",
       "      <td>0.956492</td>\n",
       "      <td>0.933780</td>\n",
       "    </tr>\n",
       "    <tr>\n",
       "      <th>H_PIT</th>\n",
       "      <td>0.981188</td>\n",
       "      <td>0.987580</td>\n",
       "      <td>0.799329</td>\n",
       "      <td>0.966954</td>\n",
       "      <td>0.816057</td>\n",
       "      <td>0.841603</td>\n",
       "      <td>0.241986</td>\n",
       "      <td>0.995590</td>\n",
       "      <td>1.000000</td>\n",
       "      <td>0.988393</td>\n",
       "      <td>...</td>\n",
       "      <td>0.845877</td>\n",
       "      <td>0.613021</td>\n",
       "      <td>0.967167</td>\n",
       "      <td>0.385277</td>\n",
       "      <td>0.991696</td>\n",
       "      <td>0.340396</td>\n",
       "      <td>0.342755</td>\n",
       "      <td>0.128735</td>\n",
       "      <td>0.947930</td>\n",
       "      <td>0.910610</td>\n",
       "    </tr>\n",
       "    <tr>\n",
       "      <th>ER_PIT</th>\n",
       "      <td>0.961257</td>\n",
       "      <td>0.984605</td>\n",
       "      <td>0.813068</td>\n",
       "      <td>0.963181</td>\n",
       "      <td>0.743889</td>\n",
       "      <td>0.788671</td>\n",
       "      <td>0.243400</td>\n",
       "      <td>0.982496</td>\n",
       "      <td>0.988393</td>\n",
       "      <td>1.000000</td>\n",
       "      <td>...</td>\n",
       "      <td>0.855569</td>\n",
       "      <td>0.647944</td>\n",
       "      <td>0.964486</td>\n",
       "      <td>0.394010</td>\n",
       "      <td>0.986805</td>\n",
       "      <td>0.389882</td>\n",
       "      <td>0.397585</td>\n",
       "      <td>0.143365</td>\n",
       "      <td>0.966433</td>\n",
       "      <td>0.924621</td>\n",
       "    </tr>\n",
       "    <tr>\n",
       "      <th>HR_PIT</th>\n",
       "      <td>0.847239</td>\n",
       "      <td>0.866427</td>\n",
       "      <td>0.783067</td>\n",
       "      <td>0.873221</td>\n",
       "      <td>0.465319</td>\n",
       "      <td>0.634849</td>\n",
       "      <td>0.259682</td>\n",
       "      <td>0.863723</td>\n",
       "      <td>0.860924</td>\n",
       "      <td>0.908523</td>\n",
       "      <td>...</td>\n",
       "      <td>0.780455</td>\n",
       "      <td>0.697566</td>\n",
       "      <td>0.889810</td>\n",
       "      <td>0.389692</td>\n",
       "      <td>0.848912</td>\n",
       "      <td>0.510937</td>\n",
       "      <td>0.528850</td>\n",
       "      <td>0.196585</td>\n",
       "      <td>0.865734</td>\n",
       "      <td>0.914258</td>\n",
       "    </tr>\n",
       "    <tr>\n",
       "      <th>BB_PIT</th>\n",
       "      <td>0.935481</td>\n",
       "      <td>0.957816</td>\n",
       "      <td>0.820001</td>\n",
       "      <td>0.925630</td>\n",
       "      <td>0.718891</td>\n",
       "      <td>0.785171</td>\n",
       "      <td>0.277533</td>\n",
       "      <td>0.956492</td>\n",
       "      <td>0.947930</td>\n",
       "      <td>0.966433</td>\n",
       "      <td>...</td>\n",
       "      <td>0.848945</td>\n",
       "      <td>0.655436</td>\n",
       "      <td>0.942323</td>\n",
       "      <td>0.432188</td>\n",
       "      <td>0.949031</td>\n",
       "      <td>0.344359</td>\n",
       "      <td>0.345818</td>\n",
       "      <td>0.124814</td>\n",
       "      <td>1.000000</td>\n",
       "      <td>0.926241</td>\n",
       "    </tr>\n",
       "    <tr>\n",
       "      <th>SO_PIT</th>\n",
       "      <td>0.931332</td>\n",
       "      <td>0.915080</td>\n",
       "      <td>0.820204</td>\n",
       "      <td>0.917266</td>\n",
       "      <td>0.630983</td>\n",
       "      <td>0.773359</td>\n",
       "      <td>0.317147</td>\n",
       "      <td>0.933780</td>\n",
       "      <td>0.910610</td>\n",
       "      <td>0.924621</td>\n",
       "      <td>...</td>\n",
       "      <td>0.851336</td>\n",
       "      <td>0.692258</td>\n",
       "      <td>0.937722</td>\n",
       "      <td>0.430677</td>\n",
       "      <td>0.894879</td>\n",
       "      <td>0.474149</td>\n",
       "      <td>0.472885</td>\n",
       "      <td>0.211567</td>\n",
       "      <td>0.926241</td>\n",
       "      <td>1.000000</td>\n",
       "    </tr>\n",
       "    <tr>\n",
       "      <th>BAOpp_PIT</th>\n",
       "      <td>0.546977</td>\n",
       "      <td>0.578803</td>\n",
       "      <td>0.565497</td>\n",
       "      <td>0.514094</td>\n",
       "      <td>0.433635</td>\n",
       "      <td>0.444200</td>\n",
       "      <td>0.232790</td>\n",
       "      <td>0.572074</td>\n",
       "      <td>0.573079</td>\n",
       "      <td>0.574427</td>\n",
       "      <td>...</td>\n",
       "      <td>0.528240</td>\n",
       "      <td>0.368124</td>\n",
       "      <td>0.564190</td>\n",
       "      <td>0.373731</td>\n",
       "      <td>0.572068</td>\n",
       "      <td>0.212117</td>\n",
       "      <td>0.221791</td>\n",
       "      <td>0.079373</td>\n",
       "      <td>0.580578</td>\n",
       "      <td>0.527560</td>\n",
       "    </tr>\n",
       "    <tr>\n",
       "      <th>ERA_PIT</th>\n",
       "      <td>0.653760</td>\n",
       "      <td>0.714470</td>\n",
       "      <td>0.782120</td>\n",
       "      <td>0.625931</td>\n",
       "      <td>0.395331</td>\n",
       "      <td>0.453316</td>\n",
       "      <td>0.324468</td>\n",
       "      <td>0.692988</td>\n",
       "      <td>0.702260</td>\n",
       "      <td>0.743258</td>\n",
       "      <td>...</td>\n",
       "      <td>0.655857</td>\n",
       "      <td>0.546057</td>\n",
       "      <td>0.704772</td>\n",
       "      <td>0.527165</td>\n",
       "      <td>0.709791</td>\n",
       "      <td>0.372300</td>\n",
       "      <td>0.396584</td>\n",
       "      <td>0.119246</td>\n",
       "      <td>0.736550</td>\n",
       "      <td>0.686963</td>\n",
       "    </tr>\n",
       "    <tr>\n",
       "      <th>IBB_PIT</th>\n",
       "      <td>0.579641</td>\n",
       "      <td>0.614253</td>\n",
       "      <td>0.784008</td>\n",
       "      <td>0.531406</td>\n",
       "      <td>0.179794</td>\n",
       "      <td>0.369504</td>\n",
       "      <td>0.465156</td>\n",
       "      <td>0.600730</td>\n",
       "      <td>0.586283</td>\n",
       "      <td>0.624451</td>\n",
       "      <td>...</td>\n",
       "      <td>0.564425</td>\n",
       "      <td>0.637927</td>\n",
       "      <td>0.635161</td>\n",
       "      <td>0.618348</td>\n",
       "      <td>0.565060</td>\n",
       "      <td>0.358113</td>\n",
       "      <td>0.349893</td>\n",
       "      <td>0.106392</td>\n",
       "      <td>0.627521</td>\n",
       "      <td>0.703619</td>\n",
       "    </tr>\n",
       "    <tr>\n",
       "      <th>WP_PIT</th>\n",
       "      <td>0.846528</td>\n",
       "      <td>0.863737</td>\n",
       "      <td>0.756344</td>\n",
       "      <td>0.830350</td>\n",
       "      <td>0.676404</td>\n",
       "      <td>0.684315</td>\n",
       "      <td>0.272057</td>\n",
       "      <td>0.866045</td>\n",
       "      <td>0.852832</td>\n",
       "      <td>0.860904</td>\n",
       "      <td>...</td>\n",
       "      <td>0.771023</td>\n",
       "      <td>0.602422</td>\n",
       "      <td>0.844131</td>\n",
       "      <td>0.400246</td>\n",
       "      <td>0.870358</td>\n",
       "      <td>0.348478</td>\n",
       "      <td>0.357721</td>\n",
       "      <td>0.161635</td>\n",
       "      <td>0.881908</td>\n",
       "      <td>0.871802</td>\n",
       "    </tr>\n",
       "    <tr>\n",
       "      <th>HBP_PIT</th>\n",
       "      <td>0.838190</td>\n",
       "      <td>0.854465</td>\n",
       "      <td>0.739170</td>\n",
       "      <td>0.833546</td>\n",
       "      <td>0.618746</td>\n",
       "      <td>0.689008</td>\n",
       "      <td>0.236289</td>\n",
       "      <td>0.854756</td>\n",
       "      <td>0.845877</td>\n",
       "      <td>0.855569</td>\n",
       "      <td>...</td>\n",
       "      <td>1.000000</td>\n",
       "      <td>0.583047</td>\n",
       "      <td>0.841966</td>\n",
       "      <td>0.372418</td>\n",
       "      <td>0.838069</td>\n",
       "      <td>0.469645</td>\n",
       "      <td>0.480172</td>\n",
       "      <td>0.199417</td>\n",
       "      <td>0.848945</td>\n",
       "      <td>0.851336</td>\n",
       "    </tr>\n",
       "    <tr>\n",
       "      <th>BK_PIT</th>\n",
       "      <td>0.609679</td>\n",
       "      <td>0.625812</td>\n",
       "      <td>0.604074</td>\n",
       "      <td>0.625698</td>\n",
       "      <td>0.289894</td>\n",
       "      <td>0.458378</td>\n",
       "      <td>0.218551</td>\n",
       "      <td>0.625261</td>\n",
       "      <td>0.613021</td>\n",
       "      <td>0.647944</td>\n",
       "      <td>...</td>\n",
       "      <td>0.583047</td>\n",
       "      <td>1.000000</td>\n",
       "      <td>0.651006</td>\n",
       "      <td>0.324665</td>\n",
       "      <td>0.599705</td>\n",
       "      <td>0.269793</td>\n",
       "      <td>0.267676</td>\n",
       "      <td>0.093622</td>\n",
       "      <td>0.655436</td>\n",
       "      <td>0.692258</td>\n",
       "    </tr>\n",
       "    <tr>\n",
       "      <th>BFP_PIT</th>\n",
       "      <td>0.964937</td>\n",
       "      <td>0.964131</td>\n",
       "      <td>0.813757</td>\n",
       "      <td>0.951245</td>\n",
       "      <td>0.730510</td>\n",
       "      <td>0.843260</td>\n",
       "      <td>0.268961</td>\n",
       "      <td>0.975395</td>\n",
       "      <td>0.967167</td>\n",
       "      <td>0.964486</td>\n",
       "      <td>...</td>\n",
       "      <td>0.841966</td>\n",
       "      <td>0.651006</td>\n",
       "      <td>1.000000</td>\n",
       "      <td>0.411647</td>\n",
       "      <td>0.943750</td>\n",
       "      <td>0.359907</td>\n",
       "      <td>0.361506</td>\n",
       "      <td>0.140640</td>\n",
       "      <td>0.942323</td>\n",
       "      <td>0.937722</td>\n",
       "    </tr>\n",
       "    <tr>\n",
       "      <th>GF_PIT</th>\n",
       "      <td>0.376701</td>\n",
       "      <td>0.415796</td>\n",
       "      <td>0.795418</td>\n",
       "      <td>0.200924</td>\n",
       "      <td>0.150205</td>\n",
       "      <td>0.169902</td>\n",
       "      <td>0.907336</td>\n",
       "      <td>0.396066</td>\n",
       "      <td>0.385277</td>\n",
       "      <td>0.394010</td>\n",
       "      <td>...</td>\n",
       "      <td>0.372418</td>\n",
       "      <td>0.324665</td>\n",
       "      <td>0.411647</td>\n",
       "      <td>1.000000</td>\n",
       "      <td>0.370667</td>\n",
       "      <td>0.177528</td>\n",
       "      <td>0.183881</td>\n",
       "      <td>0.045999</td>\n",
       "      <td>0.432188</td>\n",
       "      <td>0.430677</td>\n",
       "    </tr>\n",
       "    <tr>\n",
       "      <th>R_PIT</th>\n",
       "      <td>0.962740</td>\n",
       "      <td>0.982636</td>\n",
       "      <td>0.786101</td>\n",
       "      <td>0.955571</td>\n",
       "      <td>0.820104</td>\n",
       "      <td>0.803104</td>\n",
       "      <td>0.226096</td>\n",
       "      <td>0.983509</td>\n",
       "      <td>0.991696</td>\n",
       "      <td>0.986805</td>\n",
       "      <td>...</td>\n",
       "      <td>0.838069</td>\n",
       "      <td>0.599705</td>\n",
       "      <td>0.943750</td>\n",
       "      <td>0.370667</td>\n",
       "      <td>1.000000</td>\n",
       "      <td>0.342657</td>\n",
       "      <td>0.348570</td>\n",
       "      <td>0.123680</td>\n",
       "      <td>0.949031</td>\n",
       "      <td>0.894879</td>\n",
       "    </tr>\n",
       "    <tr>\n",
       "      <th>SH_PIT</th>\n",
       "      <td>0.337968</td>\n",
       "      <td>0.341608</td>\n",
       "      <td>0.396429</td>\n",
       "      <td>0.372228</td>\n",
       "      <td>0.002267</td>\n",
       "      <td>0.079307</td>\n",
       "      <td>0.132561</td>\n",
       "      <td>0.337296</td>\n",
       "      <td>0.340396</td>\n",
       "      <td>0.389882</td>\n",
       "      <td>...</td>\n",
       "      <td>0.469645</td>\n",
       "      <td>0.269793</td>\n",
       "      <td>0.359907</td>\n",
       "      <td>0.177528</td>\n",
       "      <td>0.342657</td>\n",
       "      <td>1.000000</td>\n",
       "      <td>0.923475</td>\n",
       "      <td>0.426238</td>\n",
       "      <td>0.344359</td>\n",
       "      <td>0.474149</td>\n",
       "    </tr>\n",
       "    <tr>\n",
       "      <th>SF_PIT</th>\n",
       "      <td>0.335741</td>\n",
       "      <td>0.343907</td>\n",
       "      <td>0.408657</td>\n",
       "      <td>0.370646</td>\n",
       "      <td>-0.003045</td>\n",
       "      <td>0.071230</td>\n",
       "      <td>0.127764</td>\n",
       "      <td>0.337831</td>\n",
       "      <td>0.342755</td>\n",
       "      <td>0.397585</td>\n",
       "      <td>...</td>\n",
       "      <td>0.480172</td>\n",
       "      <td>0.267676</td>\n",
       "      <td>0.361506</td>\n",
       "      <td>0.183881</td>\n",
       "      <td>0.348570</td>\n",
       "      <td>0.923475</td>\n",
       "      <td>1.000000</td>\n",
       "      <td>0.458186</td>\n",
       "      <td>0.345818</td>\n",
       "      <td>0.472885</td>\n",
       "    </tr>\n",
       "    <tr>\n",
       "      <th>GIDP_PIT</th>\n",
       "      <td>0.134406</td>\n",
       "      <td>0.133310</td>\n",
       "      <td>0.149419</td>\n",
       "      <td>0.155600</td>\n",
       "      <td>-0.014942</td>\n",
       "      <td>0.017271</td>\n",
       "      <td>0.034450</td>\n",
       "      <td>0.132648</td>\n",
       "      <td>0.128735</td>\n",
       "      <td>0.143365</td>\n",
       "      <td>...</td>\n",
       "      <td>0.199417</td>\n",
       "      <td>0.093622</td>\n",
       "      <td>0.140640</td>\n",
       "      <td>0.045999</td>\n",
       "      <td>0.123680</td>\n",
       "      <td>0.426238</td>\n",
       "      <td>0.458186</td>\n",
       "      <td>1.000000</td>\n",
       "      <td>0.124814</td>\n",
       "      <td>0.211567</td>\n",
       "    </tr>\n",
       "    <tr>\n",
       "      <th>BB/9_PIT</th>\n",
       "      <td>0.935481</td>\n",
       "      <td>0.957816</td>\n",
       "      <td>0.820001</td>\n",
       "      <td>0.925630</td>\n",
       "      <td>0.718891</td>\n",
       "      <td>0.785171</td>\n",
       "      <td>0.277533</td>\n",
       "      <td>0.956492</td>\n",
       "      <td>0.947930</td>\n",
       "      <td>0.966433</td>\n",
       "      <td>...</td>\n",
       "      <td>0.848945</td>\n",
       "      <td>0.655436</td>\n",
       "      <td>0.942323</td>\n",
       "      <td>0.432188</td>\n",
       "      <td>0.949031</td>\n",
       "      <td>0.344359</td>\n",
       "      <td>0.345818</td>\n",
       "      <td>0.124814</td>\n",
       "      <td>1.000000</td>\n",
       "      <td>0.926241</td>\n",
       "    </tr>\n",
       "    <tr>\n",
       "      <th>SO/9_PIT</th>\n",
       "      <td>0.931332</td>\n",
       "      <td>0.915080</td>\n",
       "      <td>0.820204</td>\n",
       "      <td>0.917266</td>\n",
       "      <td>0.630983</td>\n",
       "      <td>0.773359</td>\n",
       "      <td>0.317147</td>\n",
       "      <td>0.933780</td>\n",
       "      <td>0.910610</td>\n",
       "      <td>0.924621</td>\n",
       "      <td>...</td>\n",
       "      <td>0.851336</td>\n",
       "      <td>0.692258</td>\n",
       "      <td>0.937722</td>\n",
       "      <td>0.430677</td>\n",
       "      <td>0.894879</td>\n",
       "      <td>0.474149</td>\n",
       "      <td>0.472885</td>\n",
       "      <td>0.211567</td>\n",
       "      <td>0.926241</td>\n",
       "      <td>1.000000</td>\n",
       "    </tr>\n",
       "  </tbody>\n",
       "</table>\n",
       "<p>27 rows × 27 columns</p>\n",
       "</div>"
      ],
      "text/plain": [
       "               W_PIT     L_PIT     G_PIT    GS_PIT    CG_PIT   SHO_PIT  \\\n",
       "W_PIT       1.000000  0.959714  0.784120  0.962950  0.820400  0.879492   \n",
       "L_PIT       0.959714  1.000000  0.811924  0.956051  0.785616  0.820298   \n",
       "G_PIT       0.784120  0.811924  1.000000  0.676952  0.492653  0.560889   \n",
       "GS_PIT      0.962950  0.956051  0.676952  1.000000  0.776161  0.858014   \n",
       "CG_PIT      0.820400  0.785616  0.492653  0.776161  1.000000  0.857547   \n",
       "SHO_PIT     0.879492  0.820298  0.560889  0.858014  0.857547  1.000000   \n",
       "SV_PIT      0.252589  0.274208  0.599786  0.103243  0.073609  0.090049   \n",
       "IPouts_PIT  0.990107  0.985801  0.807130  0.969539  0.816979  0.864518   \n",
       "H_PIT       0.981188  0.987580  0.799329  0.966954  0.816057  0.841603   \n",
       "ER_PIT      0.961257  0.984605  0.813068  0.963181  0.743889  0.788671   \n",
       "HR_PIT      0.847239  0.866427  0.783067  0.873221  0.465319  0.634849   \n",
       "BB_PIT      0.935481  0.957816  0.820001  0.925630  0.718891  0.785171   \n",
       "SO_PIT      0.931332  0.915080  0.820204  0.917266  0.630983  0.773359   \n",
       "BAOpp_PIT   0.546977  0.578803  0.565497  0.514094  0.433635  0.444200   \n",
       "ERA_PIT     0.653760  0.714470  0.782120  0.625931  0.395331  0.453316   \n",
       "IBB_PIT     0.579641  0.614253  0.784008  0.531406  0.179794  0.369504   \n",
       "WP_PIT      0.846528  0.863737  0.756344  0.830350  0.676404  0.684315   \n",
       "HBP_PIT     0.838190  0.854465  0.739170  0.833546  0.618746  0.689008   \n",
       "BK_PIT      0.609679  0.625812  0.604074  0.625698  0.289894  0.458378   \n",
       "BFP_PIT     0.964937  0.964131  0.813757  0.951245  0.730510  0.843260   \n",
       "GF_PIT      0.376701  0.415796  0.795418  0.200924  0.150205  0.169902   \n",
       "R_PIT       0.962740  0.982636  0.786101  0.955571  0.820104  0.803104   \n",
       "SH_PIT      0.337968  0.341608  0.396429  0.372228  0.002267  0.079307   \n",
       "SF_PIT      0.335741  0.343907  0.408657  0.370646 -0.003045  0.071230   \n",
       "GIDP_PIT    0.134406  0.133310  0.149419  0.155600 -0.014942  0.017271   \n",
       "BB/9_PIT    0.935481  0.957816  0.820001  0.925630  0.718891  0.785171   \n",
       "SO/9_PIT    0.931332  0.915080  0.820204  0.917266  0.630983  0.773359   \n",
       "\n",
       "              SV_PIT  IPouts_PIT     H_PIT    ER_PIT    ...      HBP_PIT  \\\n",
       "W_PIT       0.252589    0.990107  0.981188  0.961257    ...     0.838190   \n",
       "L_PIT       0.274208    0.985801  0.987580  0.984605    ...     0.854465   \n",
       "G_PIT       0.599786    0.807130  0.799329  0.813068    ...     0.739170   \n",
       "GS_PIT      0.103243    0.969539  0.966954  0.963181    ...     0.833546   \n",
       "CG_PIT      0.073609    0.816979  0.816057  0.743889    ...     0.618746   \n",
       "SHO_PIT     0.090049    0.864518  0.841603  0.788671    ...     0.689008   \n",
       "SV_PIT      1.000000    0.258166  0.241986  0.243400    ...     0.236289   \n",
       "IPouts_PIT  0.258166    1.000000  0.995590  0.982496    ...     0.854756   \n",
       "H_PIT       0.241986    0.995590  1.000000  0.988393    ...     0.845877   \n",
       "ER_PIT      0.243400    0.982496  0.988393  1.000000    ...     0.855569   \n",
       "HR_PIT      0.259682    0.863723  0.860924  0.908523    ...     0.780455   \n",
       "BB_PIT      0.277533    0.956492  0.947930  0.966433    ...     0.848945   \n",
       "SO_PIT      0.317147    0.933780  0.910610  0.924621    ...     0.851336   \n",
       "BAOpp_PIT   0.232790    0.572074  0.573079  0.574427    ...     0.528240   \n",
       "ERA_PIT     0.324468    0.692988  0.702260  0.743258    ...     0.655857   \n",
       "IBB_PIT     0.465156    0.600730  0.586283  0.624451    ...     0.564425   \n",
       "WP_PIT      0.272057    0.866045  0.852832  0.860904    ...     0.771023   \n",
       "HBP_PIT     0.236289    0.854756  0.845877  0.855569    ...     1.000000   \n",
       "BK_PIT      0.218551    0.625261  0.613021  0.647944    ...     0.583047   \n",
       "BFP_PIT     0.268961    0.975395  0.967167  0.964486    ...     0.841966   \n",
       "GF_PIT      0.907336    0.396066  0.385277  0.394010    ...     0.372418   \n",
       "R_PIT       0.226096    0.983509  0.991696  0.986805    ...     0.838069   \n",
       "SH_PIT      0.132561    0.337296  0.340396  0.389882    ...     0.469645   \n",
       "SF_PIT      0.127764    0.337831  0.342755  0.397585    ...     0.480172   \n",
       "GIDP_PIT    0.034450    0.132648  0.128735  0.143365    ...     0.199417   \n",
       "BB/9_PIT    0.277533    0.956492  0.947930  0.966433    ...     0.848945   \n",
       "SO/9_PIT    0.317147    0.933780  0.910610  0.924621    ...     0.851336   \n",
       "\n",
       "              BK_PIT   BFP_PIT    GF_PIT     R_PIT    SH_PIT    SF_PIT  \\\n",
       "W_PIT       0.609679  0.964937  0.376701  0.962740  0.337968  0.335741   \n",
       "L_PIT       0.625812  0.964131  0.415796  0.982636  0.341608  0.343907   \n",
       "G_PIT       0.604074  0.813757  0.795418  0.786101  0.396429  0.408657   \n",
       "GS_PIT      0.625698  0.951245  0.200924  0.955571  0.372228  0.370646   \n",
       "CG_PIT      0.289894  0.730510  0.150205  0.820104  0.002267 -0.003045   \n",
       "SHO_PIT     0.458378  0.843260  0.169902  0.803104  0.079307  0.071230   \n",
       "SV_PIT      0.218551  0.268961  0.907336  0.226096  0.132561  0.127764   \n",
       "IPouts_PIT  0.625261  0.975395  0.396066  0.983509  0.337296  0.337831   \n",
       "H_PIT       0.613021  0.967167  0.385277  0.991696  0.340396  0.342755   \n",
       "ER_PIT      0.647944  0.964486  0.394010  0.986805  0.389882  0.397585   \n",
       "HR_PIT      0.697566  0.889810  0.389692  0.848912  0.510937  0.528850   \n",
       "BB_PIT      0.655436  0.942323  0.432188  0.949031  0.344359  0.345818   \n",
       "SO_PIT      0.692258  0.937722  0.430677  0.894879  0.474149  0.472885   \n",
       "BAOpp_PIT   0.368124  0.564190  0.373731  0.572068  0.212117  0.221791   \n",
       "ERA_PIT     0.546057  0.704772  0.527165  0.709791  0.372300  0.396584   \n",
       "IBB_PIT     0.637927  0.635161  0.618348  0.565060  0.358113  0.349893   \n",
       "WP_PIT      0.602422  0.844131  0.400246  0.870358  0.348478  0.357721   \n",
       "HBP_PIT     0.583047  0.841966  0.372418  0.838069  0.469645  0.480172   \n",
       "BK_PIT      1.000000  0.651006  0.324665  0.599705  0.269793  0.267676   \n",
       "BFP_PIT     0.651006  1.000000  0.411647  0.943750  0.359907  0.361506   \n",
       "GF_PIT      0.324665  0.411647  1.000000  0.370667  0.177528  0.183881   \n",
       "R_PIT       0.599705  0.943750  0.370667  1.000000  0.342657  0.348570   \n",
       "SH_PIT      0.269793  0.359907  0.177528  0.342657  1.000000  0.923475   \n",
       "SF_PIT      0.267676  0.361506  0.183881  0.348570  0.923475  1.000000   \n",
       "GIDP_PIT    0.093622  0.140640  0.045999  0.123680  0.426238  0.458186   \n",
       "BB/9_PIT    0.655436  0.942323  0.432188  0.949031  0.344359  0.345818   \n",
       "SO/9_PIT    0.692258  0.937722  0.430677  0.894879  0.474149  0.472885   \n",
       "\n",
       "            GIDP_PIT  BB/9_PIT  SO/9_PIT  \n",
       "W_PIT       0.134406  0.935481  0.931332  \n",
       "L_PIT       0.133310  0.957816  0.915080  \n",
       "G_PIT       0.149419  0.820001  0.820204  \n",
       "GS_PIT      0.155600  0.925630  0.917266  \n",
       "CG_PIT     -0.014942  0.718891  0.630983  \n",
       "SHO_PIT     0.017271  0.785171  0.773359  \n",
       "SV_PIT      0.034450  0.277533  0.317147  \n",
       "IPouts_PIT  0.132648  0.956492  0.933780  \n",
       "H_PIT       0.128735  0.947930  0.910610  \n",
       "ER_PIT      0.143365  0.966433  0.924621  \n",
       "HR_PIT      0.196585  0.865734  0.914258  \n",
       "BB_PIT      0.124814  1.000000  0.926241  \n",
       "SO_PIT      0.211567  0.926241  1.000000  \n",
       "BAOpp_PIT   0.079373  0.580578  0.527560  \n",
       "ERA_PIT     0.119246  0.736550  0.686963  \n",
       "IBB_PIT     0.106392  0.627521  0.703619  \n",
       "WP_PIT      0.161635  0.881908  0.871802  \n",
       "HBP_PIT     0.199417  0.848945  0.851336  \n",
       "BK_PIT      0.093622  0.655436  0.692258  \n",
       "BFP_PIT     0.140640  0.942323  0.937722  \n",
       "GF_PIT      0.045999  0.432188  0.430677  \n",
       "R_PIT       0.123680  0.949031  0.894879  \n",
       "SH_PIT      0.426238  0.344359  0.474149  \n",
       "SF_PIT      0.458186  0.345818  0.472885  \n",
       "GIDP_PIT    1.000000  0.124814  0.211567  \n",
       "BB/9_PIT    0.124814  1.000000  0.926241  \n",
       "SO/9_PIT    0.211567  0.926241  1.000000  \n",
       "\n",
       "[27 rows x 27 columns]"
      ]
     },
     "execution_count": 413,
     "metadata": {},
     "output_type": "execute_result"
    }
   ],
   "source": [
    "baseball[pitchingcol].corr()"
   ]
  },
  {
   "cell_type": "code",
   "execution_count": 414,
   "metadata": {
    "collapsed": true
   },
   "outputs": [],
   "source": [
    "baseball.drop(['L_PIT','G_PIT','GS_PIT','CG_PIT','SHO_PIT','IPouts_PIT','H_PIT','ER_PIT','HBP_PIT','BFP_PIT','R_PIT','W_PIT','SV_PIT','BB_PIT','SO_PIT','WP_PIT','SO/9_PIT','BK_PIT','SH_PIT'],axis=1,inplace=True)"
   ]
  },
  {
   "cell_type": "markdown",
   "metadata": {},
   "source": [
    "#### Fielding Statistics"
   ]
  },
  {
   "cell_type": "code",
   "execution_count": 415,
   "metadata": {
    "collapsed": false
   },
   "outputs": [
    {
     "data": {
      "text/html": [
       "<div>\n",
       "<table border=\"1\" class=\"dataframe\">\n",
       "  <thead>\n",
       "    <tr style=\"text-align: right;\">\n",
       "      <th></th>\n",
       "      <th>G_FIE</th>\n",
       "      <th>GS_FIE</th>\n",
       "      <th>InnOuts_FIE</th>\n",
       "      <th>PO_FIE</th>\n",
       "      <th>A_FIE</th>\n",
       "      <th>E_FIE</th>\n",
       "      <th>DP_FIE</th>\n",
       "      <th>PB_FIE</th>\n",
       "      <th>WP_FIE</th>\n",
       "      <th>SB_FIE</th>\n",
       "      <th>CS_FIE</th>\n",
       "      <th>ZR_FIE</th>\n",
       "    </tr>\n",
       "  </thead>\n",
       "  <tbody>\n",
       "    <tr>\n",
       "      <th>G_FIE</th>\n",
       "      <td>1.000000</td>\n",
       "      <td>0.766667</td>\n",
       "      <td>0.856232</td>\n",
       "      <td>0.758638</td>\n",
       "      <td>0.513931</td>\n",
       "      <td>0.592072</td>\n",
       "      <td>0.533740</td>\n",
       "      <td>0.119437</td>\n",
       "      <td>0.140944</td>\n",
       "      <td>0.151271</td>\n",
       "      <td>0.155290</td>\n",
       "      <td>0.119633</td>\n",
       "    </tr>\n",
       "    <tr>\n",
       "      <th>GS_FIE</th>\n",
       "      <td>0.766667</td>\n",
       "      <td>1.000000</td>\n",
       "      <td>0.930609</td>\n",
       "      <td>0.583017</td>\n",
       "      <td>0.311620</td>\n",
       "      <td>0.307011</td>\n",
       "      <td>0.363594</td>\n",
       "      <td>0.038168</td>\n",
       "      <td>0.197773</td>\n",
       "      <td>0.161809</td>\n",
       "      <td>0.176861</td>\n",
       "      <td>0.170725</td>\n",
       "    </tr>\n",
       "    <tr>\n",
       "      <th>InnOuts_FIE</th>\n",
       "      <td>0.856232</td>\n",
       "      <td>0.930609</td>\n",
       "      <td>1.000000</td>\n",
       "      <td>0.638983</td>\n",
       "      <td>0.377250</td>\n",
       "      <td>0.320416</td>\n",
       "      <td>0.443315</td>\n",
       "      <td>0.045687</td>\n",
       "      <td>0.189845</td>\n",
       "      <td>0.207265</td>\n",
       "      <td>0.210785</td>\n",
       "      <td>0.160567</td>\n",
       "    </tr>\n",
       "    <tr>\n",
       "      <th>PO_FIE</th>\n",
       "      <td>0.758638</td>\n",
       "      <td>0.583017</td>\n",
       "      <td>0.638983</td>\n",
       "      <td>1.000000</td>\n",
       "      <td>0.374605</td>\n",
       "      <td>0.524159</td>\n",
       "      <td>0.689369</td>\n",
       "      <td>0.236283</td>\n",
       "      <td>0.276807</td>\n",
       "      <td>0.320341</td>\n",
       "      <td>0.321600</td>\n",
       "      <td>0.235080</td>\n",
       "    </tr>\n",
       "    <tr>\n",
       "      <th>A_FIE</th>\n",
       "      <td>0.513931</td>\n",
       "      <td>0.311620</td>\n",
       "      <td>0.377250</td>\n",
       "      <td>0.374605</td>\n",
       "      <td>1.000000</td>\n",
       "      <td>0.735441</td>\n",
       "      <td>0.794272</td>\n",
       "      <td>0.076735</td>\n",
       "      <td>0.033364</td>\n",
       "      <td>0.034864</td>\n",
       "      <td>0.037468</td>\n",
       "      <td>0.031944</td>\n",
       "    </tr>\n",
       "    <tr>\n",
       "      <th>E_FIE</th>\n",
       "      <td>0.592072</td>\n",
       "      <td>0.307011</td>\n",
       "      <td>0.320416</td>\n",
       "      <td>0.524159</td>\n",
       "      <td>0.735441</td>\n",
       "      <td>1.000000</td>\n",
       "      <td>0.569615</td>\n",
       "      <td>0.292816</td>\n",
       "      <td>0.058267</td>\n",
       "      <td>0.056775</td>\n",
       "      <td>0.059794</td>\n",
       "      <td>0.052680</td>\n",
       "    </tr>\n",
       "    <tr>\n",
       "      <th>DP_FIE</th>\n",
       "      <td>0.533740</td>\n",
       "      <td>0.363594</td>\n",
       "      <td>0.443315</td>\n",
       "      <td>0.689369</td>\n",
       "      <td>0.794272</td>\n",
       "      <td>0.569615</td>\n",
       "      <td>1.000000</td>\n",
       "      <td>0.025662</td>\n",
       "      <td>0.019722</td>\n",
       "      <td>0.018116</td>\n",
       "      <td>0.019357</td>\n",
       "      <td>0.017217</td>\n",
       "    </tr>\n",
       "    <tr>\n",
       "      <th>PB_FIE</th>\n",
       "      <td>0.119437</td>\n",
       "      <td>0.038168</td>\n",
       "      <td>0.045687</td>\n",
       "      <td>0.236283</td>\n",
       "      <td>0.076735</td>\n",
       "      <td>0.292816</td>\n",
       "      <td>0.025662</td>\n",
       "      <td>1.000000</td>\n",
       "      <td>0.325744</td>\n",
       "      <td>0.336987</td>\n",
       "      <td>0.342703</td>\n",
       "      <td>0.274148</td>\n",
       "    </tr>\n",
       "    <tr>\n",
       "      <th>WP_FIE</th>\n",
       "      <td>0.140944</td>\n",
       "      <td>0.197773</td>\n",
       "      <td>0.189845</td>\n",
       "      <td>0.276807</td>\n",
       "      <td>0.033364</td>\n",
       "      <td>0.058267</td>\n",
       "      <td>0.019722</td>\n",
       "      <td>0.325744</td>\n",
       "      <td>1.000000</td>\n",
       "      <td>0.841473</td>\n",
       "      <td>0.901461</td>\n",
       "      <td>0.829198</td>\n",
       "    </tr>\n",
       "    <tr>\n",
       "      <th>SB_FIE</th>\n",
       "      <td>0.151271</td>\n",
       "      <td>0.161809</td>\n",
       "      <td>0.207265</td>\n",
       "      <td>0.320341</td>\n",
       "      <td>0.034864</td>\n",
       "      <td>0.056775</td>\n",
       "      <td>0.018116</td>\n",
       "      <td>0.336987</td>\n",
       "      <td>0.841473</td>\n",
       "      <td>1.000000</td>\n",
       "      <td>0.966357</td>\n",
       "      <td>0.647046</td>\n",
       "    </tr>\n",
       "    <tr>\n",
       "      <th>CS_FIE</th>\n",
       "      <td>0.155290</td>\n",
       "      <td>0.176861</td>\n",
       "      <td>0.210785</td>\n",
       "      <td>0.321600</td>\n",
       "      <td>0.037468</td>\n",
       "      <td>0.059794</td>\n",
       "      <td>0.019357</td>\n",
       "      <td>0.342703</td>\n",
       "      <td>0.901461</td>\n",
       "      <td>0.966357</td>\n",
       "      <td>1.000000</td>\n",
       "      <td>0.766544</td>\n",
       "    </tr>\n",
       "    <tr>\n",
       "      <th>ZR_FIE</th>\n",
       "      <td>0.119633</td>\n",
       "      <td>0.170725</td>\n",
       "      <td>0.160567</td>\n",
       "      <td>0.235080</td>\n",
       "      <td>0.031944</td>\n",
       "      <td>0.052680</td>\n",
       "      <td>0.017217</td>\n",
       "      <td>0.274148</td>\n",
       "      <td>0.829198</td>\n",
       "      <td>0.647046</td>\n",
       "      <td>0.766544</td>\n",
       "      <td>1.000000</td>\n",
       "    </tr>\n",
       "  </tbody>\n",
       "</table>\n",
       "</div>"
      ],
      "text/plain": [
       "                G_FIE    GS_FIE  InnOuts_FIE    PO_FIE     A_FIE     E_FIE  \\\n",
       "G_FIE        1.000000  0.766667     0.856232  0.758638  0.513931  0.592072   \n",
       "GS_FIE       0.766667  1.000000     0.930609  0.583017  0.311620  0.307011   \n",
       "InnOuts_FIE  0.856232  0.930609     1.000000  0.638983  0.377250  0.320416   \n",
       "PO_FIE       0.758638  0.583017     0.638983  1.000000  0.374605  0.524159   \n",
       "A_FIE        0.513931  0.311620     0.377250  0.374605  1.000000  0.735441   \n",
       "E_FIE        0.592072  0.307011     0.320416  0.524159  0.735441  1.000000   \n",
       "DP_FIE       0.533740  0.363594     0.443315  0.689369  0.794272  0.569615   \n",
       "PB_FIE       0.119437  0.038168     0.045687  0.236283  0.076735  0.292816   \n",
       "WP_FIE       0.140944  0.197773     0.189845  0.276807  0.033364  0.058267   \n",
       "SB_FIE       0.151271  0.161809     0.207265  0.320341  0.034864  0.056775   \n",
       "CS_FIE       0.155290  0.176861     0.210785  0.321600  0.037468  0.059794   \n",
       "ZR_FIE       0.119633  0.170725     0.160567  0.235080  0.031944  0.052680   \n",
       "\n",
       "               DP_FIE    PB_FIE    WP_FIE    SB_FIE    CS_FIE    ZR_FIE  \n",
       "G_FIE        0.533740  0.119437  0.140944  0.151271  0.155290  0.119633  \n",
       "GS_FIE       0.363594  0.038168  0.197773  0.161809  0.176861  0.170725  \n",
       "InnOuts_FIE  0.443315  0.045687  0.189845  0.207265  0.210785  0.160567  \n",
       "PO_FIE       0.689369  0.236283  0.276807  0.320341  0.321600  0.235080  \n",
       "A_FIE        0.794272  0.076735  0.033364  0.034864  0.037468  0.031944  \n",
       "E_FIE        0.569615  0.292816  0.058267  0.056775  0.059794  0.052680  \n",
       "DP_FIE       1.000000  0.025662  0.019722  0.018116  0.019357  0.017217  \n",
       "PB_FIE       0.025662  1.000000  0.325744  0.336987  0.342703  0.274148  \n",
       "WP_FIE       0.019722  0.325744  1.000000  0.841473  0.901461  0.829198  \n",
       "SB_FIE       0.018116  0.336987  0.841473  1.000000  0.966357  0.647046  \n",
       "CS_FIE       0.019357  0.342703  0.901461  0.966357  1.000000  0.766544  \n",
       "ZR_FIE       0.017217  0.274148  0.829198  0.647046  0.766544  1.000000  "
      ]
     },
     "execution_count": 415,
     "metadata": {},
     "output_type": "execute_result"
    }
   ],
   "source": [
    "baseball[fieldingcol].corr()"
   ]
  },
  {
   "cell_type": "code",
   "execution_count": 416,
   "metadata": {
    "collapsed": true
   },
   "outputs": [],
   "source": [
    "baseball.drop(['GS_FIE','InnOuts_FIE','PO_FIE','E_FIE','DP_FIE','WP_FIE','CS_FIE','ZR_FIE'],axis=1,inplace=True)"
   ]
  },
  {
   "cell_type": "code",
   "execution_count": 417,
   "metadata": {
    "collapsed": false
   },
   "outputs": [],
   "source": [
    "baseball.to_csv('baseball_mdl_rdy.csv')"
   ]
  },
  {
   "cell_type": "code",
   "execution_count": 418,
   "metadata": {
    "collapsed": false
   },
   "outputs": [
    {
     "data": {
      "text/plain": [
       "(18846, 47)"
      ]
     },
     "execution_count": 418,
     "metadata": {},
     "output_type": "execute_result"
    }
   ],
   "source": [
    "baseball.shape"
   ]
  },
  {
   "cell_type": "code",
   "execution_count": 419,
   "metadata": {
    "collapsed": false
   },
   "outputs": [],
   "source": [
    "baseball.dropna(inplace=True)"
   ]
  },
  {
   "cell_type": "code",
   "execution_count": 420,
   "metadata": {
    "collapsed": false
   },
   "outputs": [
    {
     "data": {
      "text/plain": [
       "weight_MAS              0\n",
       "height_MAS              0\n",
       "AA_AP                   0\n",
       "AL_AP                   0\n",
       "FL_AP                   0\n",
       "NL_AP                   0\n",
       "PL_AP                   0\n",
       "UA_AP                   0\n",
       "G_all_AP                0\n",
       "GS_AP                   0\n",
       "G_batting_AP            0\n",
       "G_defense_AP            0\n",
       "G_p_AP                  0\n",
       "G_c_AP                  0\n",
       "G_1b_AP                 0\n",
       "G_2b_AP                 0\n",
       "G_3b_AP                 0\n",
       "G_ss_AP                 0\n",
       "G_lf_AP                 0\n",
       "G_cf_AP                 0\n",
       "G_rf_AP                 0\n",
       "G_of_AP                 0\n",
       "G_dh_AP                 0\n",
       "G_ph_AP                 0\n",
       "G_pr_AP                 0\n",
       "SH_BAT                  0\n",
       "HR_PIT                  0\n",
       "BAOpp_PIT               0\n",
       "ERA_PIT                 0\n",
       "IBB_PIT                 0\n",
       "GF_PIT                  0\n",
       "SF_PIT                  0\n",
       "GIDP_PIT                0\n",
       "G_FIE                   0\n",
       "A_FIE                   0\n",
       "PB_FIE                  0\n",
       "SB_FIE                  0\n",
       "inducted_HOF            0\n",
       "HOF_Eligibility         0\n",
       "AB/HR_BAT               0\n",
       "BA_BAT                  0\n",
       "TB_BAT                  0\n",
       "TOB_BAT                 0\n",
       "SBA/ATT_BAT             0\n",
       "BB/9_PIT                0\n",
       "Character_Award_AW      0\n",
       "Performance_Award_AW    0\n",
       "dtype: int64"
      ]
     },
     "execution_count": 420,
     "metadata": {},
     "output_type": "execute_result"
    }
   ],
   "source": [
    "baseball.isnull().sum()"
   ]
  },
  {
   "cell_type": "markdown",
   "metadata": {},
   "source": [
    "### Feature Scaling"
   ]
  },
  {
   "cell_type": "code",
   "execution_count": 421,
   "metadata": {
    "collapsed": true
   },
   "outputs": [],
   "source": [
    "new_data={'N':0,'Y':1}\n",
    "baseball.inducted_HOF=baseball.inducted_HOF.map(new_data)"
   ]
  },
  {
   "cell_type": "code",
   "execution_count": 422,
   "metadata": {
    "collapsed": true
   },
   "outputs": [],
   "source": [
    "new_data={'Not Elligible':0,'Elligible':1}\n",
    "baseball.HOF_Eligibility=baseball.HOF_Eligibility.map(new_data)"
   ]
  },
  {
   "cell_type": "code",
   "execution_count": 423,
   "metadata": {
    "collapsed": false
   },
   "outputs": [
    {
     "data": {
      "text/plain": [
       "Index([u'weight_MAS', u'height_MAS', u'AA_AP', u'AL_AP', u'FL_AP', u'NL_AP',\n",
       "       u'PL_AP', u'UA_AP', u'G_all_AP', u'GS_AP', u'G_batting_AP',\n",
       "       u'G_defense_AP', u'G_p_AP', u'G_c_AP', u'G_1b_AP', u'G_2b_AP',\n",
       "       u'G_3b_AP', u'G_ss_AP', u'G_lf_AP', u'G_cf_AP', u'G_rf_AP', u'G_of_AP',\n",
       "       u'G_dh_AP', u'G_ph_AP', u'G_pr_AP', u'SH_BAT', u'HR_PIT', u'BAOpp_PIT',\n",
       "       u'ERA_PIT', u'IBB_PIT', u'GF_PIT', u'SF_PIT', u'GIDP_PIT', u'G_FIE',\n",
       "       u'A_FIE', u'PB_FIE', u'SB_FIE', u'inducted_HOF', u'HOF_Eligibility',\n",
       "       u'AB/HR_BAT', u'BA_BAT', u'TB_BAT', u'TOB_BAT', u'SBA/ATT_BAT',\n",
       "       u'BB/9_PIT', u'Character_Award_AW', u'Performance_Award_AW'],\n",
       "      dtype='object')"
      ]
     },
     "execution_count": 423,
     "metadata": {},
     "output_type": "execute_result"
    }
   ],
   "source": [
    "baseball.columns"
   ]
  },
  {
   "cell_type": "code",
   "execution_count": 424,
   "metadata": {
    "collapsed": false,
    "scrolled": true
   },
   "outputs": [
    {
     "data": {
      "text/html": [
       "<div>\n",
       "<table border=\"1\" class=\"dataframe\">\n",
       "  <thead>\n",
       "    <tr style=\"text-align: right;\">\n",
       "      <th></th>\n",
       "      <th>weight_MAS</th>\n",
       "      <th>height_MAS</th>\n",
       "      <th>AA_AP</th>\n",
       "      <th>AL_AP</th>\n",
       "      <th>FL_AP</th>\n",
       "      <th>NL_AP</th>\n",
       "      <th>PL_AP</th>\n",
       "      <th>UA_AP</th>\n",
       "      <th>G_all_AP</th>\n",
       "      <th>GS_AP</th>\n",
       "      <th>...</th>\n",
       "      <th>inducted_HOF</th>\n",
       "      <th>HOF_Eligibility</th>\n",
       "      <th>AB/HR_BAT</th>\n",
       "      <th>BA_BAT</th>\n",
       "      <th>TB_BAT</th>\n",
       "      <th>TOB_BAT</th>\n",
       "      <th>SBA/ATT_BAT</th>\n",
       "      <th>BB/9_PIT</th>\n",
       "      <th>Character_Award_AW</th>\n",
       "      <th>Performance_Award_AW</th>\n",
       "    </tr>\n",
       "    <tr>\n",
       "      <th>Player_ID</th>\n",
       "      <th></th>\n",
       "      <th></th>\n",
       "      <th></th>\n",
       "      <th></th>\n",
       "      <th></th>\n",
       "      <th></th>\n",
       "      <th></th>\n",
       "      <th></th>\n",
       "      <th></th>\n",
       "      <th></th>\n",
       "      <th></th>\n",
       "      <th></th>\n",
       "      <th></th>\n",
       "      <th></th>\n",
       "      <th></th>\n",
       "      <th></th>\n",
       "      <th></th>\n",
       "      <th></th>\n",
       "      <th></th>\n",
       "      <th></th>\n",
       "      <th></th>\n",
       "    </tr>\n",
       "  </thead>\n",
       "  <tbody>\n",
       "    <tr>\n",
       "      <th>aardsda01</th>\n",
       "      <td>220</td>\n",
       "      <td>75</td>\n",
       "      <td>0</td>\n",
       "      <td>5</td>\n",
       "      <td>0</td>\n",
       "      <td>4</td>\n",
       "      <td>0</td>\n",
       "      <td>0</td>\n",
       "      <td>331</td>\n",
       "      <td>0</td>\n",
       "      <td>...</td>\n",
       "      <td>0</td>\n",
       "      <td>0</td>\n",
       "      <td>5000.000000</td>\n",
       "      <td>0.000000</td>\n",
       "      <td>0</td>\n",
       "      <td>0</td>\n",
       "      <td>0</td>\n",
       "      <td>20.333333</td>\n",
       "      <td>0</td>\n",
       "      <td>0</td>\n",
       "    </tr>\n",
       "    <tr>\n",
       "      <th>aaronha01</th>\n",
       "      <td>180</td>\n",
       "      <td>72</td>\n",
       "      <td>0</td>\n",
       "      <td>2</td>\n",
       "      <td>0</td>\n",
       "      <td>21</td>\n",
       "      <td>0</td>\n",
       "      <td>0</td>\n",
       "      <td>3298</td>\n",
       "      <td>288</td>\n",
       "      <td>...</td>\n",
       "      <td>1</td>\n",
       "      <td>0</td>\n",
       "      <td>16.376159</td>\n",
       "      <td>0.304998</td>\n",
       "      <td>6856</td>\n",
       "      <td>5205</td>\n",
       "      <td>313</td>\n",
       "      <td>0.000000</td>\n",
       "      <td>1</td>\n",
       "      <td>4</td>\n",
       "    </tr>\n",
       "    <tr>\n",
       "      <th>aaronto01</th>\n",
       "      <td>190</td>\n",
       "      <td>75</td>\n",
       "      <td>0</td>\n",
       "      <td>0</td>\n",
       "      <td>0</td>\n",
       "      <td>7</td>\n",
       "      <td>0</td>\n",
       "      <td>0</td>\n",
       "      <td>437</td>\n",
       "      <td>0</td>\n",
       "      <td>...</td>\n",
       "      <td>0</td>\n",
       "      <td>0</td>\n",
       "      <td>72.615385</td>\n",
       "      <td>0.228814</td>\n",
       "      <td>309</td>\n",
       "      <td>302</td>\n",
       "      <td>17</td>\n",
       "      <td>0.000000</td>\n",
       "      <td>0</td>\n",
       "      <td>0</td>\n",
       "    </tr>\n",
       "    <tr>\n",
       "      <th>aasedo01</th>\n",
       "      <td>190</td>\n",
       "      <td>75</td>\n",
       "      <td>0</td>\n",
       "      <td>11</td>\n",
       "      <td>0</td>\n",
       "      <td>2</td>\n",
       "      <td>0</td>\n",
       "      <td>0</td>\n",
       "      <td>448</td>\n",
       "      <td>0</td>\n",
       "      <td>...</td>\n",
       "      <td>0</td>\n",
       "      <td>0</td>\n",
       "      <td>5000.000000</td>\n",
       "      <td>0.000000</td>\n",
       "      <td>0</td>\n",
       "      <td>0</td>\n",
       "      <td>0</td>\n",
       "      <td>50.777778</td>\n",
       "      <td>0</td>\n",
       "      <td>0</td>\n",
       "    </tr>\n",
       "    <tr>\n",
       "      <th>abadan01</th>\n",
       "      <td>184</td>\n",
       "      <td>73</td>\n",
       "      <td>0</td>\n",
       "      <td>2</td>\n",
       "      <td>0</td>\n",
       "      <td>1</td>\n",
       "      <td>0</td>\n",
       "      <td>0</td>\n",
       "      <td>15</td>\n",
       "      <td>4</td>\n",
       "      <td>...</td>\n",
       "      <td>0</td>\n",
       "      <td>0</td>\n",
       "      <td>5000.000000</td>\n",
       "      <td>0.095238</td>\n",
       "      <td>2</td>\n",
       "      <td>6</td>\n",
       "      <td>1</td>\n",
       "      <td>0.000000</td>\n",
       "      <td>0</td>\n",
       "      <td>0</td>\n",
       "    </tr>\n",
       "  </tbody>\n",
       "</table>\n",
       "<p>5 rows × 47 columns</p>\n",
       "</div>"
      ],
      "text/plain": [
       "           weight_MAS  height_MAS  AA_AP  AL_AP  FL_AP  NL_AP  PL_AP  UA_AP  \\\n",
       "Player_ID                                                                     \n",
       "aardsda01         220          75      0      5      0      4      0      0   \n",
       "aaronha01         180          72      0      2      0     21      0      0   \n",
       "aaronto01         190          75      0      0      0      7      0      0   \n",
       "aasedo01          190          75      0     11      0      2      0      0   \n",
       "abadan01          184          73      0      2      0      1      0      0   \n",
       "\n",
       "           G_all_AP  GS_AP          ...           inducted_HOF  \\\n",
       "Player_ID                           ...                          \n",
       "aardsda01       331      0          ...                      0   \n",
       "aaronha01      3298    288          ...                      1   \n",
       "aaronto01       437      0          ...                      0   \n",
       "aasedo01        448      0          ...                      0   \n",
       "abadan01         15      4          ...                      0   \n",
       "\n",
       "           HOF_Eligibility    AB/HR_BAT    BA_BAT  TB_BAT  TOB_BAT  \\\n",
       "Player_ID                                                            \n",
       "aardsda01                0  5000.000000  0.000000       0        0   \n",
       "aaronha01                0    16.376159  0.304998    6856     5205   \n",
       "aaronto01                0    72.615385  0.228814     309      302   \n",
       "aasedo01                 0  5000.000000  0.000000       0        0   \n",
       "abadan01                 0  5000.000000  0.095238       2        6   \n",
       "\n",
       "           SBA/ATT_BAT   BB/9_PIT  Character_Award_AW  Performance_Award_AW  \n",
       "Player_ID                                                                    \n",
       "aardsda01            0  20.333333                   0                     0  \n",
       "aaronha01          313   0.000000                   1                     4  \n",
       "aaronto01           17   0.000000                   0                     0  \n",
       "aasedo01             0  50.777778                   0                     0  \n",
       "abadan01             1   0.000000                   0                     0  \n",
       "\n",
       "[5 rows x 47 columns]"
      ]
     },
     "execution_count": 424,
     "metadata": {},
     "output_type": "execute_result"
    }
   ],
   "source": [
    "baseball.head()"
   ]
  },
  {
   "cell_type": "code",
   "execution_count": 310,
   "metadata": {
    "collapsed": false
   },
   "outputs": [
    {
     "ename": "ValueError",
     "evalue": "Shape of passed values is (45, 16704), indices imply (70, 16704)",
     "output_type": "error",
     "traceback": [
      "\u001b[1;31m---------------------------------------------------------------------------\u001b[0m",
      "\u001b[1;31mValueError\u001b[0m                                Traceback (most recent call last)",
      "\u001b[1;32m<ipython-input-310-38561a98af2e>\u001b[0m in \u001b[0;36m<module>\u001b[1;34m()\u001b[0m\n\u001b[0;32m     22\u001b[0m        \u001b[1;34mu'A_FIE'\u001b[0m\u001b[1;33m,\u001b[0m \u001b[1;34mu'PB_FIE'\u001b[0m\u001b[1;33m,\u001b[0m \u001b[1;34mu'SB_FIE'\u001b[0m\u001b[1;33m,\u001b[0m\u001b[1;33m\u001b[0m\u001b[0m\n\u001b[0;32m     23\u001b[0m        \u001b[1;34mu'AB/HR_BAT'\u001b[0m\u001b[1;33m,\u001b[0m \u001b[1;34mu'BA_BAT'\u001b[0m\u001b[1;33m,\u001b[0m \u001b[1;34mu'TB_BAT'\u001b[0m\u001b[1;33m,\u001b[0m \u001b[1;34mu'TOB_BAT'\u001b[0m\u001b[1;33m,\u001b[0m \u001b[1;34mu'SBA/ATT_BAT'\u001b[0m\u001b[1;33m,\u001b[0m\u001b[1;33m\u001b[0m\u001b[0m\n\u001b[1;32m---> 24\u001b[1;33m        u'BB/9_PIT'],index=baseball.index)\n\u001b[0m",
      "\u001b[1;32mC:\\Users\\raviteja\\Anaconda2\\lib\\site-packages\\pandas\\core\\frame.pyc\u001b[0m in \u001b[0;36m__init__\u001b[1;34m(self, data, index, columns, dtype, copy)\u001b[0m\n\u001b[0;32m    255\u001b[0m             \u001b[1;32melse\u001b[0m\u001b[1;33m:\u001b[0m\u001b[1;33m\u001b[0m\u001b[0m\n\u001b[0;32m    256\u001b[0m                 mgr = self._init_ndarray(data, index, columns, dtype=dtype,\n\u001b[1;32m--> 257\u001b[1;33m                                          copy=copy)\n\u001b[0m\u001b[0;32m    258\u001b[0m         \u001b[1;32melif\u001b[0m \u001b[0misinstance\u001b[0m\u001b[1;33m(\u001b[0m\u001b[0mdata\u001b[0m\u001b[1;33m,\u001b[0m \u001b[1;33m(\u001b[0m\u001b[0mlist\u001b[0m\u001b[1;33m,\u001b[0m \u001b[0mtypes\u001b[0m\u001b[1;33m.\u001b[0m\u001b[0mGeneratorType\u001b[0m\u001b[1;33m)\u001b[0m\u001b[1;33m)\u001b[0m\u001b[1;33m:\u001b[0m\u001b[1;33m\u001b[0m\u001b[0m\n\u001b[0;32m    259\u001b[0m             \u001b[1;32mif\u001b[0m \u001b[0misinstance\u001b[0m\u001b[1;33m(\u001b[0m\u001b[0mdata\u001b[0m\u001b[1;33m,\u001b[0m \u001b[0mtypes\u001b[0m\u001b[1;33m.\u001b[0m\u001b[0mGeneratorType\u001b[0m\u001b[1;33m)\u001b[0m\u001b[1;33m:\u001b[0m\u001b[1;33m\u001b[0m\u001b[0m\n",
      "\u001b[1;32mC:\\Users\\raviteja\\Anaconda2\\lib\\site-packages\\pandas\\core\\frame.pyc\u001b[0m in \u001b[0;36m_init_ndarray\u001b[1;34m(self, values, index, columns, dtype, copy)\u001b[0m\n\u001b[0;32m    435\u001b[0m             \u001b[0mvalues\u001b[0m \u001b[1;33m=\u001b[0m \u001b[0m_possibly_infer_to_datetimelike\u001b[0m\u001b[1;33m(\u001b[0m\u001b[0mvalues\u001b[0m\u001b[1;33m)\u001b[0m\u001b[1;33m\u001b[0m\u001b[0m\n\u001b[0;32m    436\u001b[0m \u001b[1;33m\u001b[0m\u001b[0m\n\u001b[1;32m--> 437\u001b[1;33m         \u001b[1;32mreturn\u001b[0m \u001b[0mcreate_block_manager_from_blocks\u001b[0m\u001b[1;33m(\u001b[0m\u001b[1;33m[\u001b[0m\u001b[0mvalues\u001b[0m\u001b[1;33m]\u001b[0m\u001b[1;33m,\u001b[0m \u001b[1;33m[\u001b[0m\u001b[0mcolumns\u001b[0m\u001b[1;33m,\u001b[0m \u001b[0mindex\u001b[0m\u001b[1;33m]\u001b[0m\u001b[1;33m)\u001b[0m\u001b[1;33m\u001b[0m\u001b[0m\n\u001b[0m\u001b[0;32m    438\u001b[0m \u001b[1;33m\u001b[0m\u001b[0m\n\u001b[0;32m    439\u001b[0m     \u001b[1;33m@\u001b[0m\u001b[0mproperty\u001b[0m\u001b[1;33m\u001b[0m\u001b[0m\n",
      "\u001b[1;32mC:\\Users\\raviteja\\Anaconda2\\lib\\site-packages\\pandas\\core\\internals.pyc\u001b[0m in \u001b[0;36mcreate_block_manager_from_blocks\u001b[1;34m(blocks, axes)\u001b[0m\n\u001b[0;32m   3903\u001b[0m         \u001b[0mblocks\u001b[0m \u001b[1;33m=\u001b[0m \u001b[1;33m[\u001b[0m\u001b[0mgetattr\u001b[0m\u001b[1;33m(\u001b[0m\u001b[0mb\u001b[0m\u001b[1;33m,\u001b[0m \u001b[1;34m'values'\u001b[0m\u001b[1;33m,\u001b[0m \u001b[0mb\u001b[0m\u001b[1;33m)\u001b[0m \u001b[1;32mfor\u001b[0m \u001b[0mb\u001b[0m \u001b[1;32min\u001b[0m \u001b[0mblocks\u001b[0m\u001b[1;33m]\u001b[0m\u001b[1;33m\u001b[0m\u001b[0m\n\u001b[0;32m   3904\u001b[0m         \u001b[0mtot_items\u001b[0m \u001b[1;33m=\u001b[0m \u001b[0msum\u001b[0m\u001b[1;33m(\u001b[0m\u001b[0mb\u001b[0m\u001b[1;33m.\u001b[0m\u001b[0mshape\u001b[0m\u001b[1;33m[\u001b[0m\u001b[1;36m0\u001b[0m\u001b[1;33m]\u001b[0m \u001b[1;32mfor\u001b[0m \u001b[0mb\u001b[0m \u001b[1;32min\u001b[0m \u001b[0mblocks\u001b[0m\u001b[1;33m)\u001b[0m\u001b[1;33m\u001b[0m\u001b[0m\n\u001b[1;32m-> 3905\u001b[1;33m         \u001b[0mconstruction_error\u001b[0m\u001b[1;33m(\u001b[0m\u001b[0mtot_items\u001b[0m\u001b[1;33m,\u001b[0m \u001b[0mblocks\u001b[0m\u001b[1;33m[\u001b[0m\u001b[1;36m0\u001b[0m\u001b[1;33m]\u001b[0m\u001b[1;33m.\u001b[0m\u001b[0mshape\u001b[0m\u001b[1;33m[\u001b[0m\u001b[1;36m1\u001b[0m\u001b[1;33m:\u001b[0m\u001b[1;33m]\u001b[0m\u001b[1;33m,\u001b[0m \u001b[0maxes\u001b[0m\u001b[1;33m,\u001b[0m \u001b[0me\u001b[0m\u001b[1;33m)\u001b[0m\u001b[1;33m\u001b[0m\u001b[0m\n\u001b[0m\u001b[0;32m   3906\u001b[0m \u001b[1;33m\u001b[0m\u001b[0m\n\u001b[0;32m   3907\u001b[0m \u001b[1;33m\u001b[0m\u001b[0m\n",
      "\u001b[1;32mC:\\Users\\raviteja\\Anaconda2\\lib\\site-packages\\pandas\\core\\internals.pyc\u001b[0m in \u001b[0;36mconstruction_error\u001b[1;34m(tot_items, block_shape, axes, e)\u001b[0m\n\u001b[0;32m   3880\u001b[0m         \u001b[1;32mraise\u001b[0m \u001b[0me\u001b[0m\u001b[1;33m\u001b[0m\u001b[0m\n\u001b[0;32m   3881\u001b[0m     raise ValueError(\"Shape of passed values is {0}, indices imply {1}\".format(\n\u001b[1;32m-> 3882\u001b[1;33m         passed,implied))\n\u001b[0m\u001b[0;32m   3883\u001b[0m \u001b[1;33m\u001b[0m\u001b[0m\n\u001b[0;32m   3884\u001b[0m \u001b[1;33m\u001b[0m\u001b[0m\n",
      "\u001b[1;31mValueError\u001b[0m: Shape of passed values is (45, 16704), indices imply (70, 16704)"
     ]
    }
   ],
   "source": [
    "from sklearn import preprocessing\n",
    "std_scle=preprocessing.StandardScaler().fit(baseball.drop(['HOF_Eligibility','inducted_HOF'],axis=1))\n",
    "baseball_scaled=DataFrame(std_scle.transform(X=baseball.drop(['HOF_Eligibility','inducted_HOF'],axis=1),y=['HOF_Eligibility','inducted_HOF']),\n",
    "         columns=[u'weight_MAS', u'height_MAS', u'ALCS MVP_AW', u'All-Star Game MVP_AW',\n",
    "       u'Babe Ruth Award_AW', u'Baseball Magazine All-Star_AW',\n",
    "       u'Branch Rickey Award_AW', u'Comeback Player of the Year_AW',\n",
    "       u'Cy Young Award_AW', u'Gold Glove_AW', u'Hank Aaron Award_AW',\n",
    "       u'Hutch Award_AW', u'Lou Gehrig Memorial Award_AW',\n",
    "       u'Most Valuable Player_AW', u'NLCS MVP_AW', u'Pitching Triple Crown_AW',\n",
    "       u'Roberto Clemente Award_AW', u'Rolaids Relief Man Award_AW',\n",
    "       u'Rookie of the Year_AW', u'Silver Slugger_AW', u'TSN All-Star_AW',\n",
    "       u'TSN Fireman of the Year_AW', u'TSN Guide MVP_AW',\n",
    "       u'TSN Major League Player of the Year_AW',\n",
    "       u'TSN Pitcher of the Year_AW', u'TSN Player of the Year_AW',\n",
    "       u'TSN Reliever of the Year_AW', u'Triple Crown_AW',\n",
    "       u'World Series MVP_AW', u'AA_AP', u'AL_AP', u'FL_AP', u'NL_AP',\n",
    "       u'PL_AP', u'UA_AP', u'G_all_AP', u'GS_AP', u'G_batting_AP',\n",
    "       u'G_defense_AP', u'G_p_AP', u'G_c_AP', u'G_1b_AP', u'G_2b_AP',\n",
    "       u'G_3b_AP', u'G_ss_AP', u'G_lf_AP', u'G_cf_AP', u'G_rf_AP', u'G_of_AP',\n",
    "       u'G_dh_AP', u'G_ph_AP', u'G_pr_AP', u'SH_BAT', u'HR_PIT', u'BAOpp_PIT',\n",
    "       u'ERA_PIT', u'IBB_PIT', u'GF_PIT', u'SF_PIT', u'GIDP_PIT', u'G_FIE',\n",
    "       u'A_FIE', u'PB_FIE', u'SB_FIE',\n",
    "       u'AB/HR_BAT', u'BA_BAT', u'TB_BAT', u'TOB_BAT', u'SBA/ATT_BAT',\n",
    "       u'BB/9_PIT'],index=baseball.index)"
   ]
  },
  {
   "cell_type": "code",
   "execution_count": 425,
   "metadata": {
    "collapsed": false
   },
   "outputs": [],
   "source": [
    "from sklearn import preprocessing\n",
    "std_scle=preprocessing.StandardScaler().fit(baseball.drop(['HOF_Eligibility','inducted_HOF'],axis=1))\n",
    "baseball_scaled=DataFrame(std_scle.transform(X=baseball.drop(['HOF_Eligibility','inducted_HOF'],axis=1),y=['HOF_Eligibility','inducted_HOF']),\n",
    "         columns=[u'weight_MAS', u'height_MAS', u'AA_AP', u'AL_AP', u'FL_AP', u'NL_AP',\n",
    "       u'PL_AP', u'UA_AP', u'G_all_AP', u'GS_AP', u'G_batting_AP',\n",
    "       u'G_defense_AP', u'G_p_AP', u'G_c_AP', u'G_1b_AP', u'G_2b_AP',\n",
    "       u'G_3b_AP', u'G_ss_AP', u'G_lf_AP', u'G_cf_AP', u'G_rf_AP', u'G_of_AP',\n",
    "       u'G_dh_AP', u'G_ph_AP', u'G_pr_AP', u'SH_BAT', u'HR_PIT', u'BAOpp_PIT',\n",
    "       u'ERA_PIT', u'IBB_PIT', u'GF_PIT', u'SF_PIT', u'GIDP_PIT', u'G_FIE',\n",
    "       u'A_FIE', u'PB_FIE', u'SB_FIE',\n",
    "       u'AB/HR_BAT', u'BA_BAT', u'TB_BAT', u'TOB_BAT', u'SBA/ATT_BAT',\n",
    "       u'BB/9_PIT','Character_Award_AW','Performance_Award_AW'],index=baseball.index)"
   ]
  },
  {
   "cell_type": "code",
   "execution_count": 426,
   "metadata": {
    "collapsed": false
   },
   "outputs": [
    {
     "data": {
      "text/html": [
       "<div>\n",
       "<table border=\"1\" class=\"dataframe\">\n",
       "  <thead>\n",
       "    <tr style=\"text-align: right;\">\n",
       "      <th></th>\n",
       "      <th>weight_MAS</th>\n",
       "      <th>height_MAS</th>\n",
       "      <th>AA_AP</th>\n",
       "      <th>AL_AP</th>\n",
       "      <th>FL_AP</th>\n",
       "      <th>NL_AP</th>\n",
       "      <th>PL_AP</th>\n",
       "      <th>UA_AP</th>\n",
       "      <th>G_all_AP</th>\n",
       "      <th>GS_AP</th>\n",
       "      <th>...</th>\n",
       "      <th>inducted_HOF</th>\n",
       "      <th>HOF_Eligibility</th>\n",
       "      <th>AB/HR_BAT</th>\n",
       "      <th>BA_BAT</th>\n",
       "      <th>TB_BAT</th>\n",
       "      <th>TOB_BAT</th>\n",
       "      <th>SBA/ATT_BAT</th>\n",
       "      <th>BB/9_PIT</th>\n",
       "      <th>Character_Award_AW</th>\n",
       "      <th>Performance_Award_AW</th>\n",
       "    </tr>\n",
       "    <tr>\n",
       "      <th>Player_ID</th>\n",
       "      <th></th>\n",
       "      <th></th>\n",
       "      <th></th>\n",
       "      <th></th>\n",
       "      <th></th>\n",
       "      <th></th>\n",
       "      <th></th>\n",
       "      <th></th>\n",
       "      <th></th>\n",
       "      <th></th>\n",
       "      <th></th>\n",
       "      <th></th>\n",
       "      <th></th>\n",
       "      <th></th>\n",
       "      <th></th>\n",
       "      <th></th>\n",
       "      <th></th>\n",
       "      <th></th>\n",
       "      <th></th>\n",
       "      <th></th>\n",
       "      <th></th>\n",
       "    </tr>\n",
       "  </thead>\n",
       "  <tbody>\n",
       "    <tr>\n",
       "      <th>aardsda01</th>\n",
       "      <td>220</td>\n",
       "      <td>75</td>\n",
       "      <td>0</td>\n",
       "      <td>5</td>\n",
       "      <td>0</td>\n",
       "      <td>4</td>\n",
       "      <td>0</td>\n",
       "      <td>0</td>\n",
       "      <td>331</td>\n",
       "      <td>0</td>\n",
       "      <td>...</td>\n",
       "      <td>0</td>\n",
       "      <td>0</td>\n",
       "      <td>5000.000000</td>\n",
       "      <td>0.000000</td>\n",
       "      <td>0</td>\n",
       "      <td>0</td>\n",
       "      <td>0</td>\n",
       "      <td>20.333333</td>\n",
       "      <td>0</td>\n",
       "      <td>0</td>\n",
       "    </tr>\n",
       "    <tr>\n",
       "      <th>aaronha01</th>\n",
       "      <td>180</td>\n",
       "      <td>72</td>\n",
       "      <td>0</td>\n",
       "      <td>2</td>\n",
       "      <td>0</td>\n",
       "      <td>21</td>\n",
       "      <td>0</td>\n",
       "      <td>0</td>\n",
       "      <td>3298</td>\n",
       "      <td>288</td>\n",
       "      <td>...</td>\n",
       "      <td>1</td>\n",
       "      <td>0</td>\n",
       "      <td>16.376159</td>\n",
       "      <td>0.304998</td>\n",
       "      <td>6856</td>\n",
       "      <td>5205</td>\n",
       "      <td>313</td>\n",
       "      <td>0.000000</td>\n",
       "      <td>1</td>\n",
       "      <td>4</td>\n",
       "    </tr>\n",
       "    <tr>\n",
       "      <th>aaronto01</th>\n",
       "      <td>190</td>\n",
       "      <td>75</td>\n",
       "      <td>0</td>\n",
       "      <td>0</td>\n",
       "      <td>0</td>\n",
       "      <td>7</td>\n",
       "      <td>0</td>\n",
       "      <td>0</td>\n",
       "      <td>437</td>\n",
       "      <td>0</td>\n",
       "      <td>...</td>\n",
       "      <td>0</td>\n",
       "      <td>0</td>\n",
       "      <td>72.615385</td>\n",
       "      <td>0.228814</td>\n",
       "      <td>309</td>\n",
       "      <td>302</td>\n",
       "      <td>17</td>\n",
       "      <td>0.000000</td>\n",
       "      <td>0</td>\n",
       "      <td>0</td>\n",
       "    </tr>\n",
       "    <tr>\n",
       "      <th>aasedo01</th>\n",
       "      <td>190</td>\n",
       "      <td>75</td>\n",
       "      <td>0</td>\n",
       "      <td>11</td>\n",
       "      <td>0</td>\n",
       "      <td>2</td>\n",
       "      <td>0</td>\n",
       "      <td>0</td>\n",
       "      <td>448</td>\n",
       "      <td>0</td>\n",
       "      <td>...</td>\n",
       "      <td>0</td>\n",
       "      <td>0</td>\n",
       "      <td>5000.000000</td>\n",
       "      <td>0.000000</td>\n",
       "      <td>0</td>\n",
       "      <td>0</td>\n",
       "      <td>0</td>\n",
       "      <td>50.777778</td>\n",
       "      <td>0</td>\n",
       "      <td>0</td>\n",
       "    </tr>\n",
       "    <tr>\n",
       "      <th>abadan01</th>\n",
       "      <td>184</td>\n",
       "      <td>73</td>\n",
       "      <td>0</td>\n",
       "      <td>2</td>\n",
       "      <td>0</td>\n",
       "      <td>1</td>\n",
       "      <td>0</td>\n",
       "      <td>0</td>\n",
       "      <td>15</td>\n",
       "      <td>4</td>\n",
       "      <td>...</td>\n",
       "      <td>0</td>\n",
       "      <td>0</td>\n",
       "      <td>5000.000000</td>\n",
       "      <td>0.095238</td>\n",
       "      <td>2</td>\n",
       "      <td>6</td>\n",
       "      <td>1</td>\n",
       "      <td>0.000000</td>\n",
       "      <td>0</td>\n",
       "      <td>0</td>\n",
       "    </tr>\n",
       "  </tbody>\n",
       "</table>\n",
       "<p>5 rows × 47 columns</p>\n",
       "</div>"
      ],
      "text/plain": [
       "           weight_MAS  height_MAS  AA_AP  AL_AP  FL_AP  NL_AP  PL_AP  UA_AP  \\\n",
       "Player_ID                                                                     \n",
       "aardsda01         220          75      0      5      0      4      0      0   \n",
       "aaronha01         180          72      0      2      0     21      0      0   \n",
       "aaronto01         190          75      0      0      0      7      0      0   \n",
       "aasedo01          190          75      0     11      0      2      0      0   \n",
       "abadan01          184          73      0      2      0      1      0      0   \n",
       "\n",
       "           G_all_AP  GS_AP          ...           inducted_HOF  \\\n",
       "Player_ID                           ...                          \n",
       "aardsda01       331      0          ...                      0   \n",
       "aaronha01      3298    288          ...                      1   \n",
       "aaronto01       437      0          ...                      0   \n",
       "aasedo01        448      0          ...                      0   \n",
       "abadan01         15      4          ...                      0   \n",
       "\n",
       "           HOF_Eligibility    AB/HR_BAT    BA_BAT  TB_BAT  TOB_BAT  \\\n",
       "Player_ID                                                            \n",
       "aardsda01                0  5000.000000  0.000000       0        0   \n",
       "aaronha01                0    16.376159  0.304998    6856     5205   \n",
       "aaronto01                0    72.615385  0.228814     309      302   \n",
       "aasedo01                 0  5000.000000  0.000000       0        0   \n",
       "abadan01                 0  5000.000000  0.095238       2        6   \n",
       "\n",
       "           SBA/ATT_BAT   BB/9_PIT  Character_Award_AW  Performance_Award_AW  \n",
       "Player_ID                                                                    \n",
       "aardsda01            0  20.333333                   0                     0  \n",
       "aaronha01          313   0.000000                   1                     4  \n",
       "aaronto01           17   0.000000                   0                     0  \n",
       "aasedo01             0  50.777778                   0                     0  \n",
       "abadan01             1   0.000000                   0                     0  \n",
       "\n",
       "[5 rows x 47 columns]"
      ]
     },
     "execution_count": 426,
     "metadata": {},
     "output_type": "execute_result"
    }
   ],
   "source": [
    "baseball.head()"
   ]
  },
  {
   "cell_type": "code",
   "execution_count": 427,
   "metadata": {
    "collapsed": false
   },
   "outputs": [],
   "source": [
    "    baseball=pd.merge(baseball_scaled,baseball[['HOF_Eligibility','inducted_HOF']],how='inner',right_index=True,left_index=True)"
   ]
  },
  {
   "cell_type": "code",
   "execution_count": 428,
   "metadata": {
    "collapsed": false
   },
   "outputs": [
    {
     "data": {
      "text/plain": [
       "(16704, 47)"
      ]
     },
     "execution_count": 428,
     "metadata": {},
     "output_type": "execute_result"
    }
   ],
   "source": [
    "baseball.shape"
   ]
  },
  {
   "cell_type": "markdown",
   "metadata": {},
   "source": [
    "# 6. MODELLING-HITTERS/FIELDERS/PITCHER"
   ]
  },
  {
   "cell_type": "code",
   "execution_count": null,
   "metadata": {
    "collapsed": true
   },
   "outputs": [],
   "source": []
  },
  {
   "cell_type": "code",
   "execution_count": 429,
   "metadata": {
    "collapsed": true
   },
   "outputs": [],
   "source": [
    "baseball_elligible=baseball[baseball.HOF_Eligibility==1]"
   ]
  },
  {
   "cell_type": "code",
   "execution_count": 430,
   "metadata": {
    "collapsed": false
   },
   "outputs": [],
   "source": [
    "baseball_hof=baseball[baseball.inducted_HOF==1]"
   ]
  },
  {
   "cell_type": "code",
   "execution_count": 431,
   "metadata": {
    "collapsed": false
   },
   "outputs": [
    {
     "data": {
      "text/plain": [
       "(116, 47)"
      ]
     },
     "execution_count": 431,
     "metadata": {},
     "output_type": "execute_result"
    }
   ],
   "source": [
    "baseball_hof.shape"
   ]
  },
  {
   "cell_type": "code",
   "execution_count": 432,
   "metadata": {
    "collapsed": false
   },
   "outputs": [
    {
     "name": "stderr",
     "output_type": "stream",
     "text": [
      "C:\\Users\\raviteja\\Anaconda2\\lib\\site-packages\\ipykernel\\__main__.py:1: SettingWithCopyWarning: \n",
      "A value is trying to be set on a copy of a slice from a DataFrame\n",
      "\n",
      "See the caveats in the documentation: http://pandas.pydata.org/pandas-docs/stable/indexing.html#indexing-view-versus-copy\n",
      "  if __name__ == '__main__':\n"
     ]
    }
   ],
   "source": [
    "baseball_elligible.drop('HOF_Eligibility',axis=1,inplace=True)"
   ]
  },
  {
   "cell_type": "code",
   "execution_count": 433,
   "metadata": {
    "collapsed": false
   },
   "outputs": [
    {
     "name": "stderr",
     "output_type": "stream",
     "text": [
      "C:\\Users\\raviteja\\Anaconda2\\lib\\site-packages\\ipykernel\\__main__.py:1: SettingWithCopyWarning: \n",
      "A value is trying to be set on a copy of a slice from a DataFrame\n",
      "\n",
      "See the caveats in the documentation: http://pandas.pydata.org/pandas-docs/stable/indexing.html#indexing-view-versus-copy\n",
      "  if __name__ == '__main__':\n"
     ]
    }
   ],
   "source": [
    "baseball_hof.drop('HOF_Eligibility',axis=1,inplace=True)"
   ]
  },
  {
   "cell_type": "code",
   "execution_count": 434,
   "metadata": {
    "collapsed": false
   },
   "outputs": [
    {
     "data": {
      "text/plain": [
       "(116, 46)"
      ]
     },
     "execution_count": 434,
     "metadata": {},
     "output_type": "execute_result"
    }
   ],
   "source": [
    "baseball_hof.shape"
   ]
  },
  {
   "cell_type": "code",
   "execution_count": 435,
   "metadata": {
    "collapsed": false
   },
   "outputs": [
    {
     "data": {
      "text/plain": [
       "(526, 46)"
      ]
     },
     "execution_count": 435,
     "metadata": {},
     "output_type": "execute_result"
    }
   ],
   "source": [
    "baseball_elligible.shape"
   ]
  },
  {
   "cell_type": "code",
   "execution_count": 436,
   "metadata": {
    "collapsed": true
   },
   "outputs": [],
   "source": [
    "baseball_elligible_all=baseball_elligible.append(baseball_hof)\n",
    "baseball_elligible_all.to_csv('baseball_hof_elligible.csv')"
   ]
  },
  {
   "cell_type": "code",
   "execution_count": 437,
   "metadata": {
    "collapsed": false
   },
   "outputs": [
    {
     "data": {
      "text/plain": [
       "(642, 46)"
      ]
     },
     "execution_count": 437,
     "metadata": {},
     "output_type": "execute_result"
    }
   ],
   "source": [
    "baseball_elligible_all.shape"
   ]
  },
  {
   "cell_type": "code",
   "execution_count": 438,
   "metadata": {
    "collapsed": false
   },
   "outputs": [
    {
     "data": {
      "text/plain": [
       "0    526\n",
       "1    116\n",
       "Name: inducted_HOF, dtype: int64"
      ]
     },
     "execution_count": 438,
     "metadata": {},
     "output_type": "execute_result"
    }
   ],
   "source": [
    "baseball_elligible_all.inducted_HOF.value_counts()"
   ]
  },
  {
   "cell_type": "code",
   "execution_count": 439,
   "metadata": {
    "collapsed": false
   },
   "outputs": [],
   "source": [
    "baseball_elligible=baseball_elligible.sample(n=300,random_state=1)"
   ]
  },
  {
   "cell_type": "code",
   "execution_count": 440,
   "metadata": {
    "collapsed": true
   },
   "outputs": [],
   "source": [
    "mdl_rdy=baseball_elligible.append(baseball_hof)"
   ]
  },
  {
   "cell_type": "code",
   "execution_count": 441,
   "metadata": {
    "collapsed": false
   },
   "outputs": [
    {
     "data": {
      "text/plain": [
       "(416, 46)"
      ]
     },
     "execution_count": 441,
     "metadata": {},
     "output_type": "execute_result"
    }
   ],
   "source": [
    "mdl_rdy.shape"
   ]
  },
  {
   "cell_type": "code",
   "execution_count": 442,
   "metadata": {
    "collapsed": false
   },
   "outputs": [],
   "source": [
    "x=mdl_rdy.drop(['inducted_HOF'],axis=1)"
   ]
  },
  {
   "cell_type": "code",
   "execution_count": 443,
   "metadata": {
    "collapsed": true
   },
   "outputs": [],
   "source": [
    "y=mdl_rdy.inducted_HOF"
   ]
  },
  {
   "cell_type": "code",
   "execution_count": 444,
   "metadata": {
    "collapsed": false
   },
   "outputs": [],
   "source": [
    "X_train, X_test, y_train, y_test = train_test_split(x, y, test_size=0.4, random_state=42)"
   ]
  },
  {
   "cell_type": "markdown",
   "metadata": {},
   "source": [
    "### Baseline Logistic Regression"
   ]
  },
  {
   "cell_type": "code",
   "execution_count": 445,
   "metadata": {
    "collapsed": false
   },
   "outputs": [
    {
     "name": "stdout",
     "output_type": "stream",
     "text": [
      "MODEL METRICS\n",
      "-------------\n",
      "Model Accuracy(Train): 1.0\n",
      "Model Accuracy(Test): 0.952095808383\n",
      "Confusion Matrix(Train):\n",
      "[[183   0]\n",
      " [  0  66]]\n",
      "Confusion Matrix(Test):\n",
      "[[113   4]\n",
      " [  4  46]]\n",
      "True Positive Rate: 0.92\n",
      "False Positive Rate: 0.034188034188\n",
      "ROC AUC: 0.98\n"
     ]
    },
    {
     "data": {
      "image/png": "[encoded data removed]",
      "text/plain": [
       "<matplotlib.figure.Figure at 0x25429390>"
      ]
     },
     "metadata": {},
     "output_type": "display_data"
    }
   ],
   "source": [
    "log_regression_all=LogisticRegression(penalty='l1')\n",
    "log_regression_all.fit(X_train,y_train)\n",
    "\n",
    "t1=log_regression_all.predict(X_train)\n",
    "t=log_regression_all.predict(X_test)\n",
    "#print classification_report(y_test,t)\n",
    "print \"MODEL METRICS\"\n",
    "print \"-------------\"\n",
    "print \"Model Accuracy(Train):\",accuracy_score(y_train,t1)\n",
    "print \"Model Accuracy(Test):\",accuracy_score(y_test,t)\n",
    "print \"Confusion Matrix(Train):\\n\",confusion_matrix(y_train,t1)\n",
    "print \"Confusion Matrix(Test):\\n\",confusion_matrix(y_test,t)\n",
    "x=confusion_matrix(y_test,t)\n",
    "tpr=x[1,1]/(x[1,0]+x[1,1])\n",
    "fpr=x[0,1]/(x[0,0]+x[0,1])\n",
    "print \"True Positive Rate:\",tpr\n",
    "print \"False Positive Rate:\",fpr\n",
    "\n",
    "\n",
    "fpr, tpr, _ =metrics.roc_curve(y_test,log_regression_all.predict_proba(X_test)[:,[1]],)\n",
    "# Calculate the AUC\n",
    "roc_auc = auc(fpr, tpr)\n",
    "print 'ROC AUC: %0.2f' % roc_auc\n",
    " \n",
    "# Plot of a ROC curve for a specific class\n",
    "plt.figure()\n",
    "plt.plot(fpr, tpr, label='ROC curve (area = %0.2f)' % roc_auc)\n",
    "plt.plot([0, 1], [0, 1], 'k--')\n",
    "plt.xlim([0.0, 1.0])\n",
    "plt.ylim([0.0, 1.05])\n",
    "plt.xlabel('False Positive Rate')\n",
    "plt.ylabel('True Positive Rate')\n",
    "plt.title('ROC Curve')\n",
    "plt.legend(loc=\"lower right\")\n",
    "plt.show()\n"
   ]
  },
  {
   "cell_type": "code",
   "execution_count": 446,
   "metadata": {
    "collapsed": false
   },
   "outputs": [
    {
     "data": {
      "text/html": [
       "<div>\n",
       "<table border=\"1\" class=\"dataframe\">\n",
       "  <thead>\n",
       "    <tr style=\"text-align: right;\">\n",
       "      <th></th>\n",
       "      <th>Variable</th>\n",
       "      <th>Coeffecient</th>\n",
       "    </tr>\n",
       "  </thead>\n",
       "  <tbody>\n",
       "    <tr>\n",
       "      <th>39</th>\n",
       "      <td>TB_BAT</td>\n",
       "      <td>1.622236</td>\n",
       "    </tr>\n",
       "    <tr>\n",
       "      <th>44</th>\n",
       "      <td>Performance_Award_AW</td>\n",
       "      <td>1.361773</td>\n",
       "    </tr>\n",
       "    <tr>\n",
       "      <th>42</th>\n",
       "      <td>BB/9_PIT</td>\n",
       "      <td>1.043658</td>\n",
       "    </tr>\n",
       "    <tr>\n",
       "      <th>18</th>\n",
       "      <td>G_lf_AP</td>\n",
       "      <td>0.443220</td>\n",
       "    </tr>\n",
       "    <tr>\n",
       "      <th>25</th>\n",
       "      <td>SH_BAT</td>\n",
       "      <td>0.419671</td>\n",
       "    </tr>\n",
       "    <tr>\n",
       "      <th>26</th>\n",
       "      <td>HR_PIT</td>\n",
       "      <td>0.330150</td>\n",
       "    </tr>\n",
       "    <tr>\n",
       "      <th>30</th>\n",
       "      <td>GF_PIT</td>\n",
       "      <td>0.300891</td>\n",
       "    </tr>\n",
       "    <tr>\n",
       "      <th>19</th>\n",
       "      <td>G_cf_AP</td>\n",
       "      <td>0.256684</td>\n",
       "    </tr>\n",
       "    <tr>\n",
       "      <th>14</th>\n",
       "      <td>G_1b_AP</td>\n",
       "      <td>0.137531</td>\n",
       "    </tr>\n",
       "    <tr>\n",
       "      <th>10</th>\n",
       "      <td>G_batting_AP</td>\n",
       "      <td>0.111535</td>\n",
       "    </tr>\n",
       "    <tr>\n",
       "      <th>22</th>\n",
       "      <td>G_dh_AP</td>\n",
       "      <td>0.015956</td>\n",
       "    </tr>\n",
       "    <tr>\n",
       "      <th>16</th>\n",
       "      <td>G_3b_AP</td>\n",
       "      <td>0.002867</td>\n",
       "    </tr>\n",
       "    <tr>\n",
       "      <th>29</th>\n",
       "      <td>IBB_PIT</td>\n",
       "      <td>-0.073119</td>\n",
       "    </tr>\n",
       "    <tr>\n",
       "      <th>41</th>\n",
       "      <td>SBA/ATT_BAT</td>\n",
       "      <td>-0.133580</td>\n",
       "    </tr>\n",
       "    <tr>\n",
       "      <th>1</th>\n",
       "      <td>height_MAS</td>\n",
       "      <td>-0.156169</td>\n",
       "    </tr>\n",
       "    <tr>\n",
       "      <th>31</th>\n",
       "      <td>SF_PIT</td>\n",
       "      <td>-0.168732</td>\n",
       "    </tr>\n",
       "    <tr>\n",
       "      <th>23</th>\n",
       "      <td>G_ph_AP</td>\n",
       "      <td>-0.175098</td>\n",
       "    </tr>\n",
       "    <tr>\n",
       "      <th>20</th>\n",
       "      <td>G_rf_AP</td>\n",
       "      <td>-0.330139</td>\n",
       "    </tr>\n",
       "    <tr>\n",
       "      <th>0</th>\n",
       "      <td>weight_MAS</td>\n",
       "      <td>-0.487368</td>\n",
       "    </tr>\n",
       "    <tr>\n",
       "      <th>28</th>\n",
       "      <td>ERA_PIT</td>\n",
       "      <td>-0.830541</td>\n",
       "    </tr>\n",
       "    <tr>\n",
       "      <th>9</th>\n",
       "      <td>GS_AP</td>\n",
       "      <td>-1.986741</td>\n",
       "    </tr>\n",
       "  </tbody>\n",
       "</table>\n",
       "</div>"
      ],
      "text/plain": [
       "                Variable  Coeffecient\n",
       "39                TB_BAT     1.622236\n",
       "44  Performance_Award_AW     1.361773\n",
       "42              BB/9_PIT     1.043658\n",
       "18               G_lf_AP     0.443220\n",
       "25                SH_BAT     0.419671\n",
       "26                HR_PIT     0.330150\n",
       "30                GF_PIT     0.300891\n",
       "19               G_cf_AP     0.256684\n",
       "14               G_1b_AP     0.137531\n",
       "10          G_batting_AP     0.111535\n",
       "22               G_dh_AP     0.015956\n",
       "16               G_3b_AP     0.002867\n",
       "29               IBB_PIT    -0.073119\n",
       "41           SBA/ATT_BAT    -0.133580\n",
       "1             height_MAS    -0.156169\n",
       "31                SF_PIT    -0.168732\n",
       "23               G_ph_AP    -0.175098\n",
       "20               G_rf_AP    -0.330139\n",
       "0             weight_MAS    -0.487368\n",
       "28               ERA_PIT    -0.830541\n",
       "9                  GS_AP    -1.986741"
      ]
     },
     "execution_count": 446,
     "metadata": {},
     "output_type": "execute_result"
    }
   ],
   "source": [
    "coeffecients1=DataFrame(zip(X_train.columns,log_regression_all.coef_.flatten()),columns=['Variable','Coeffecient'])\n",
    "imp_coefficients=coeffecients1[coeffecients1.Coeffecient<>0]\n",
    "imp_coefficients.sort_values(by='Coeffecient',ascending=False)"
   ]
  },
  {
   "cell_type": "code",
   "execution_count": 447,
   "metadata": {
    "collapsed": false
   },
   "outputs": [
    {
     "name": "stdout",
     "output_type": "stream",
     "text": [
      "[[113   4]\n",
      " [  4  46]]\n",
      "[[111   6]\n",
      " [  1  49]]\n"
     ]
    }
   ],
   "source": [
    "print confusion_matrix(y_test, t)\n",
    "pred_prob=log_regression_all.predict_proba(X_test)[:,[1]]\n",
    "pred=pred_prob>.2\n",
    "pred=pred.astype(int)  \n",
    "print confusion_matrix(y_test, pred)"
   ]
  },
  {
   "cell_type": "code",
   "execution_count": 448,
   "metadata": {
    "collapsed": true
   },
   "outputs": [],
   "source": [
    "cutoff=[]\n",
    "tpr=[]\n",
    "fpr=[]\n",
    "tnr=[]\n",
    "for i in np.arange(0,1,0.05):\n",
    "    cutoff.append(i)\n",
    "    pred_prob=log_regression_all.predict_proba(X_test)[:,[1]]\n",
    "    pred=pred_prob>i\n",
    "    pred=pred.astype(int)\n",
    "    x=confusion_matrix(y_test, pred)\n",
    "    tpr1=x[1,1]/(x[1,0]+x[1,1])\n",
    "    tnr1=x[0,0]/(x[0,0]+x[0,1])\n",
    "    fpr1=x[0,1]/(x[0,0]+x[0,1])\n",
    "    tpr.append(tpr1)\n",
    "    fpr.append(fpr1)\n",
    "    tnr.append(tnr1)\n",
    "threshold=DataFrame([cutoff,tpr,tnr,fpr]).transpose()\n",
    "threshold.columns=['Threshold','True Positive Rate','True Negative Rate','False Positive Rate']\n",
    "threshold.to_csv('threshold_model1.csv')"
   ]
  },
  {
   "cell_type": "code",
   "execution_count": 449,
   "metadata": {
    "collapsed": false
   },
   "outputs": [
    {
     "data": {
      "text/html": [
       "<div>\n",
       "<table border=\"1\" class=\"dataframe\">\n",
       "  <thead>\n",
       "    <tr style=\"text-align: right;\">\n",
       "      <th></th>\n",
       "      <th>Threshold</th>\n",
       "      <th>True Positive Rate</th>\n",
       "      <th>True Negative Rate</th>\n",
       "      <th>False Positive Rate</th>\n",
       "    </tr>\n",
       "  </thead>\n",
       "  <tbody>\n",
       "    <tr>\n",
       "      <th>0</th>\n",
       "      <td>0.00</td>\n",
       "      <td>1.00</td>\n",
       "      <td>0.000000</td>\n",
       "      <td>1.000000</td>\n",
       "    </tr>\n",
       "    <tr>\n",
       "      <th>1</th>\n",
       "      <td>0.05</td>\n",
       "      <td>1.00</td>\n",
       "      <td>0.905983</td>\n",
       "      <td>0.094017</td>\n",
       "    </tr>\n",
       "    <tr>\n",
       "      <th>2</th>\n",
       "      <td>0.10</td>\n",
       "      <td>1.00</td>\n",
       "      <td>0.931624</td>\n",
       "      <td>0.068376</td>\n",
       "    </tr>\n",
       "    <tr>\n",
       "      <th>3</th>\n",
       "      <td>0.15</td>\n",
       "      <td>0.98</td>\n",
       "      <td>0.931624</td>\n",
       "      <td>0.068376</td>\n",
       "    </tr>\n",
       "    <tr>\n",
       "      <th>4</th>\n",
       "      <td>0.20</td>\n",
       "      <td>0.98</td>\n",
       "      <td>0.948718</td>\n",
       "      <td>0.051282</td>\n",
       "    </tr>\n",
       "    <tr>\n",
       "      <th>5</th>\n",
       "      <td>0.25</td>\n",
       "      <td>0.96</td>\n",
       "      <td>0.957265</td>\n",
       "      <td>0.042735</td>\n",
       "    </tr>\n",
       "    <tr>\n",
       "      <th>6</th>\n",
       "      <td>0.30</td>\n",
       "      <td>0.96</td>\n",
       "      <td>0.957265</td>\n",
       "      <td>0.042735</td>\n",
       "    </tr>\n",
       "    <tr>\n",
       "      <th>7</th>\n",
       "      <td>0.35</td>\n",
       "      <td>0.96</td>\n",
       "      <td>0.965812</td>\n",
       "      <td>0.034188</td>\n",
       "    </tr>\n",
       "    <tr>\n",
       "      <th>8</th>\n",
       "      <td>0.40</td>\n",
       "      <td>0.96</td>\n",
       "      <td>0.965812</td>\n",
       "      <td>0.034188</td>\n",
       "    </tr>\n",
       "    <tr>\n",
       "      <th>9</th>\n",
       "      <td>0.45</td>\n",
       "      <td>0.96</td>\n",
       "      <td>0.965812</td>\n",
       "      <td>0.034188</td>\n",
       "    </tr>\n",
       "    <tr>\n",
       "      <th>10</th>\n",
       "      <td>0.50</td>\n",
       "      <td>0.92</td>\n",
       "      <td>0.965812</td>\n",
       "      <td>0.034188</td>\n",
       "    </tr>\n",
       "    <tr>\n",
       "      <th>11</th>\n",
       "      <td>0.55</td>\n",
       "      <td>0.92</td>\n",
       "      <td>0.965812</td>\n",
       "      <td>0.034188</td>\n",
       "    </tr>\n",
       "    <tr>\n",
       "      <th>12</th>\n",
       "      <td>0.60</td>\n",
       "      <td>0.90</td>\n",
       "      <td>0.965812</td>\n",
       "      <td>0.034188</td>\n",
       "    </tr>\n",
       "    <tr>\n",
       "      <th>13</th>\n",
       "      <td>0.65</td>\n",
       "      <td>0.88</td>\n",
       "      <td>0.965812</td>\n",
       "      <td>0.034188</td>\n",
       "    </tr>\n",
       "    <tr>\n",
       "      <th>14</th>\n",
       "      <td>0.70</td>\n",
       "      <td>0.88</td>\n",
       "      <td>0.965812</td>\n",
       "      <td>0.034188</td>\n",
       "    </tr>\n",
       "    <tr>\n",
       "      <th>15</th>\n",
       "      <td>0.75</td>\n",
       "      <td>0.88</td>\n",
       "      <td>0.965812</td>\n",
       "      <td>0.034188</td>\n",
       "    </tr>\n",
       "    <tr>\n",
       "      <th>16</th>\n",
       "      <td>0.80</td>\n",
       "      <td>0.88</td>\n",
       "      <td>0.974359</td>\n",
       "      <td>0.025641</td>\n",
       "    </tr>\n",
       "    <tr>\n",
       "      <th>17</th>\n",
       "      <td>0.85</td>\n",
       "      <td>0.84</td>\n",
       "      <td>0.974359</td>\n",
       "      <td>0.025641</td>\n",
       "    </tr>\n",
       "    <tr>\n",
       "      <th>18</th>\n",
       "      <td>0.90</td>\n",
       "      <td>0.78</td>\n",
       "      <td>0.974359</td>\n",
       "      <td>0.025641</td>\n",
       "    </tr>\n",
       "    <tr>\n",
       "      <th>19</th>\n",
       "      <td>0.95</td>\n",
       "      <td>0.74</td>\n",
       "      <td>0.982906</td>\n",
       "      <td>0.017094</td>\n",
       "    </tr>\n",
       "  </tbody>\n",
       "</table>\n",
       "</div>"
      ],
      "text/plain": [
       "    Threshold  True Positive Rate  True Negative Rate  False Positive Rate\n",
       "0        0.00                1.00            0.000000             1.000000\n",
       "1        0.05                1.00            0.905983             0.094017\n",
       "2        0.10                1.00            0.931624             0.068376\n",
       "3        0.15                0.98            0.931624             0.068376\n",
       "4        0.20                0.98            0.948718             0.051282\n",
       "5        0.25                0.96            0.957265             0.042735\n",
       "6        0.30                0.96            0.957265             0.042735\n",
       "7        0.35                0.96            0.965812             0.034188\n",
       "8        0.40                0.96            0.965812             0.034188\n",
       "9        0.45                0.96            0.965812             0.034188\n",
       "10       0.50                0.92            0.965812             0.034188\n",
       "11       0.55                0.92            0.965812             0.034188\n",
       "12       0.60                0.90            0.965812             0.034188\n",
       "13       0.65                0.88            0.965812             0.034188\n",
       "14       0.70                0.88            0.965812             0.034188\n",
       "15       0.75                0.88            0.965812             0.034188\n",
       "16       0.80                0.88            0.974359             0.025641\n",
       "17       0.85                0.84            0.974359             0.025641\n",
       "18       0.90                0.78            0.974359             0.025641\n",
       "19       0.95                0.74            0.982906             0.017094"
      ]
     },
     "execution_count": 449,
     "metadata": {},
     "output_type": "execute_result"
    }
   ],
   "source": [
    "threshold"
   ]
  },
  {
   "cell_type": "markdown",
   "metadata": {},
   "source": [
    "### Baseline Decision Tree"
   ]
  },
  {
   "cell_type": "code",
   "execution_count": 450,
   "metadata": {
    "collapsed": false
   },
   "outputs": [
    {
     "name": "stdout",
     "output_type": "stream",
     "text": [
      "MODEL METRICS\n",
      "-------------\n",
      "Model Accuracy(Train): 1.0\n",
      "Model Accuracy(Test): 0.934131736527\n",
      "Confusion Matrix(Train):\n",
      "[[183   0]\n",
      " [  0  66]]\n",
      "Confusion Matrix(Test):\n",
      "[[111   6]\n",
      " [  5  45]]\n",
      "True Positive Rate: 0.9\n",
      "False Positive Rate: 0.0512820512821\n",
      "ROC AUC: 0.92\n"
     ]
    },
    {
     "data": {
      "image/png": "[encoded data removed]",
      "text/plain": [
       "<matplotlib.figure.Figure at 0x20888080>"
      ]
     },
     "metadata": {},
     "output_type": "display_data"
    }
   ],
   "source": [
    "decision_tree_all=tree.DecisionTreeClassifier(criterion='gini',max_depth=20)\n",
    "decision_tree_all.fit(X_train,y_train)\n",
    "predict=decision_tree_all.predict(X_test)\n",
    "\n",
    "\n",
    "t1=decision_tree_all.predict(X_train)\n",
    "t=decision_tree_all.predict(X_test)\n",
    "#print classification_report(y_test,t)\n",
    "print \"MODEL METRICS\"\n",
    "print \"-------------\"\n",
    "print \"Model Accuracy(Train):\",accuracy_score(y_train,t1)\n",
    "print \"Model Accuracy(Test):\",accuracy_score(y_test,t)\n",
    "print \"Confusion Matrix(Train):\\n\",confusion_matrix(y_train,t1)\n",
    "print \"Confusion Matrix(Test):\\n\",confusion_matrix(y_test,t)\n",
    "x=confusion_matrix(y_test,t)\n",
    "tpr=x[1,1]/(x[1,0]+x[1,1])\n",
    "fpr=x[0,1]/(x[0,0]+x[0,1])\n",
    "print \"True Positive Rate:\",tpr\n",
    "print \"False Positive Rate:\",fpr\n",
    "\n",
    "\n",
    "fpr, tpr, _ =metrics.roc_curve(y_test,decision_tree_all.predict_proba(X_test)[:,[1]],)\n",
    "# Calculate the AUC\n",
    "roc_auc = auc(fpr, tpr)\n",
    "print 'ROC AUC: %0.2f' % roc_auc\n",
    " \n",
    "# Plot of a ROC curve for a specific class\n",
    "plt.figure()\n",
    "plt.plot(fpr, tpr, label='ROC curve (area = %0.2f)' % roc_auc)\n",
    "plt.plot([0, 1], [0, 1], 'k--')\n",
    "plt.xlim([0.0, 1.0])\n",
    "plt.ylim([0.0, 1.05])\n",
    "plt.xlabel('False Positive Rate')\n",
    "plt.ylabel('True Positive Rate')\n",
    "plt.title('ROC Curve')\n",
    "plt.legend(loc=\"lower right\")\n",
    "plt.show()"
   ]
  },
  {
   "cell_type": "code",
   "execution_count": 451,
   "metadata": {
    "collapsed": false
   },
   "outputs": [],
   "source": [
    "tree.export_graphviz(decision_tree_all,out_file='tree_all.dot',feature_names=X_train.columns) \n",
    "from sklearn.externals.six import StringIO  \n",
    "import pydot\n",
    "dot_data = StringIO() \n",
    "tree.export_graphviz(decision_tree_all, out_file=dot_data) \n",
    "graph = pydot.graph_from_dot_data(dot_data.getvalue()) "
   ]
  },
  {
   "cell_type": "code",
   "execution_count": 452,
   "metadata": {
    "collapsed": false
   },
   "outputs": [
    {
     "data": {
      "text/html": [
       "<div>\n",
       "<table border=\"1\" class=\"dataframe\">\n",
       "  <thead>\n",
       "    <tr style=\"text-align: right;\">\n",
       "      <th></th>\n",
       "      <th>Threshold</th>\n",
       "      <th>True Positive Rate</th>\n",
       "      <th>True Negative Rate</th>\n",
       "      <th>False Positive Rate</th>\n",
       "    </tr>\n",
       "  </thead>\n",
       "  <tbody>\n",
       "    <tr>\n",
       "      <th>0</th>\n",
       "      <td>0.00</td>\n",
       "      <td>0.9</td>\n",
       "      <td>0.948718</td>\n",
       "      <td>0.051282</td>\n",
       "    </tr>\n",
       "    <tr>\n",
       "      <th>1</th>\n",
       "      <td>0.05</td>\n",
       "      <td>0.9</td>\n",
       "      <td>0.948718</td>\n",
       "      <td>0.051282</td>\n",
       "    </tr>\n",
       "    <tr>\n",
       "      <th>2</th>\n",
       "      <td>0.10</td>\n",
       "      <td>0.9</td>\n",
       "      <td>0.948718</td>\n",
       "      <td>0.051282</td>\n",
       "    </tr>\n",
       "    <tr>\n",
       "      <th>3</th>\n",
       "      <td>0.15</td>\n",
       "      <td>0.9</td>\n",
       "      <td>0.948718</td>\n",
       "      <td>0.051282</td>\n",
       "    </tr>\n",
       "    <tr>\n",
       "      <th>4</th>\n",
       "      <td>0.20</td>\n",
       "      <td>0.9</td>\n",
       "      <td>0.948718</td>\n",
       "      <td>0.051282</td>\n",
       "    </tr>\n",
       "    <tr>\n",
       "      <th>5</th>\n",
       "      <td>0.25</td>\n",
       "      <td>0.9</td>\n",
       "      <td>0.948718</td>\n",
       "      <td>0.051282</td>\n",
       "    </tr>\n",
       "    <tr>\n",
       "      <th>6</th>\n",
       "      <td>0.30</td>\n",
       "      <td>0.9</td>\n",
       "      <td>0.948718</td>\n",
       "      <td>0.051282</td>\n",
       "    </tr>\n",
       "    <tr>\n",
       "      <th>7</th>\n",
       "      <td>0.35</td>\n",
       "      <td>0.9</td>\n",
       "      <td>0.948718</td>\n",
       "      <td>0.051282</td>\n",
       "    </tr>\n",
       "    <tr>\n",
       "      <th>8</th>\n",
       "      <td>0.40</td>\n",
       "      <td>0.9</td>\n",
       "      <td>0.948718</td>\n",
       "      <td>0.051282</td>\n",
       "    </tr>\n",
       "    <tr>\n",
       "      <th>9</th>\n",
       "      <td>0.45</td>\n",
       "      <td>0.9</td>\n",
       "      <td>0.948718</td>\n",
       "      <td>0.051282</td>\n",
       "    </tr>\n",
       "    <tr>\n",
       "      <th>10</th>\n",
       "      <td>0.50</td>\n",
       "      <td>0.9</td>\n",
       "      <td>0.948718</td>\n",
       "      <td>0.051282</td>\n",
       "    </tr>\n",
       "    <tr>\n",
       "      <th>11</th>\n",
       "      <td>0.55</td>\n",
       "      <td>0.9</td>\n",
       "      <td>0.948718</td>\n",
       "      <td>0.051282</td>\n",
       "    </tr>\n",
       "    <tr>\n",
       "      <th>12</th>\n",
       "      <td>0.60</td>\n",
       "      <td>0.9</td>\n",
       "      <td>0.948718</td>\n",
       "      <td>0.051282</td>\n",
       "    </tr>\n",
       "    <tr>\n",
       "      <th>13</th>\n",
       "      <td>0.65</td>\n",
       "      <td>0.9</td>\n",
       "      <td>0.948718</td>\n",
       "      <td>0.051282</td>\n",
       "    </tr>\n",
       "    <tr>\n",
       "      <th>14</th>\n",
       "      <td>0.70</td>\n",
       "      <td>0.9</td>\n",
       "      <td>0.948718</td>\n",
       "      <td>0.051282</td>\n",
       "    </tr>\n",
       "    <tr>\n",
       "      <th>15</th>\n",
       "      <td>0.75</td>\n",
       "      <td>0.9</td>\n",
       "      <td>0.948718</td>\n",
       "      <td>0.051282</td>\n",
       "    </tr>\n",
       "    <tr>\n",
       "      <th>16</th>\n",
       "      <td>0.80</td>\n",
       "      <td>0.9</td>\n",
       "      <td>0.948718</td>\n",
       "      <td>0.051282</td>\n",
       "    </tr>\n",
       "    <tr>\n",
       "      <th>17</th>\n",
       "      <td>0.85</td>\n",
       "      <td>0.9</td>\n",
       "      <td>0.948718</td>\n",
       "      <td>0.051282</td>\n",
       "    </tr>\n",
       "    <tr>\n",
       "      <th>18</th>\n",
       "      <td>0.90</td>\n",
       "      <td>0.9</td>\n",
       "      <td>0.948718</td>\n",
       "      <td>0.051282</td>\n",
       "    </tr>\n",
       "    <tr>\n",
       "      <th>19</th>\n",
       "      <td>0.95</td>\n",
       "      <td>0.9</td>\n",
       "      <td>0.948718</td>\n",
       "      <td>0.051282</td>\n",
       "    </tr>\n",
       "  </tbody>\n",
       "</table>\n",
       "</div>"
      ],
      "text/plain": [
       "    Threshold  True Positive Rate  True Negative Rate  False Positive Rate\n",
       "0        0.00                 0.9            0.948718             0.051282\n",
       "1        0.05                 0.9            0.948718             0.051282\n",
       "2        0.10                 0.9            0.948718             0.051282\n",
       "3        0.15                 0.9            0.948718             0.051282\n",
       "4        0.20                 0.9            0.948718             0.051282\n",
       "5        0.25                 0.9            0.948718             0.051282\n",
       "6        0.30                 0.9            0.948718             0.051282\n",
       "7        0.35                 0.9            0.948718             0.051282\n",
       "8        0.40                 0.9            0.948718             0.051282\n",
       "9        0.45                 0.9            0.948718             0.051282\n",
       "10       0.50                 0.9            0.948718             0.051282\n",
       "11       0.55                 0.9            0.948718             0.051282\n",
       "12       0.60                 0.9            0.948718             0.051282\n",
       "13       0.65                 0.9            0.948718             0.051282\n",
       "14       0.70                 0.9            0.948718             0.051282\n",
       "15       0.75                 0.9            0.948718             0.051282\n",
       "16       0.80                 0.9            0.948718             0.051282\n",
       "17       0.85                 0.9            0.948718             0.051282\n",
       "18       0.90                 0.9            0.948718             0.051282\n",
       "19       0.95                 0.9            0.948718             0.051282"
      ]
     },
     "execution_count": 452,
     "metadata": {},
     "output_type": "execute_result"
    }
   ],
   "source": [
    "cutoff=[]\n",
    "tpr=[]\n",
    "fpr=[]\n",
    "tnr=[]\n",
    "for i in np.arange(0,1,0.05):\n",
    "    cutoff.append(i)\n",
    "    pred_prob=decision_tree_all.predict_proba(X_test)[:,[1]]\n",
    "    pred=pred_prob>i\n",
    "    pred=pred.astype(int)\n",
    "    x=confusion_matrix(y_test, pred)\n",
    "    tpr1=x[1,1]/(x[1,0]+x[1,1])\n",
    "    tnr1=x[0,0]/(x[0,0]+x[0,1])\n",
    "    fpr1=x[0,1]/(x[0,0]+x[0,1])\n",
    "    tpr.append(tpr1)\n",
    "    fpr.append(fpr1)\n",
    "    tnr.append(tnr1)\n",
    "threshold=DataFrame([cutoff,tpr,tnr,fpr]).transpose()\n",
    "threshold.columns=['Threshold','True Positive Rate','True Negative Rate','False Positive Rate']\n",
    "threshold.to_csv('threshold_model2.csv')\n",
    "threshold"
   ]
  },
  {
   "cell_type": "code",
   "execution_count": 453,
   "metadata": {
    "collapsed": false
   },
   "outputs": [
    {
     "ename": "ValueError",
     "evalue": "endog must be in the unit interval.",
     "output_type": "error",
     "traceback": [
      "\u001b[1;31m---------------------------------------------------------------------------\u001b[0m",
      "\u001b[1;31mValueError\u001b[0m                                Traceback (most recent call last)",
      "\u001b[1;32m<ipython-input-453-1bdd3f7c18cb>\u001b[0m in \u001b[0;36m<module>\u001b[1;34m()\u001b[0m\n\u001b[0;32m      1\u001b[0m \u001b[1;32mimport\u001b[0m \u001b[0mstatsmodels\u001b[0m\u001b[1;33m.\u001b[0m\u001b[0mapi\u001b[0m \u001b[1;32mas\u001b[0m \u001b[0msm\u001b[0m\u001b[1;33m\u001b[0m\u001b[0m\n\u001b[1;32m----> 2\u001b[1;33m \u001b[0mlogit\u001b[0m\u001b[1;33m=\u001b[0m\u001b[0msm\u001b[0m\u001b[1;33m.\u001b[0m\u001b[0mLogit\u001b[0m\u001b[1;33m(\u001b[0m\u001b[0mX_train\u001b[0m\u001b[1;33m,\u001b[0m\u001b[0my_train\u001b[0m\u001b[1;33m)\u001b[0m\u001b[1;33m\u001b[0m\u001b[0m\n\u001b[0m\u001b[0;32m      3\u001b[0m \u001b[0mresult\u001b[0m\u001b[1;33m.\u001b[0m\u001b[0mlogit\u001b[0m\u001b[1;33m.\u001b[0m\u001b[0mfit\u001b[0m\u001b[1;33m(\u001b[0m\u001b[1;33m)\u001b[0m\u001b[1;33m\u001b[0m\u001b[0m\n\u001b[0;32m      4\u001b[0m \u001b[1;32mprint\u001b[0m \u001b[0mresult\u001b[0m\u001b[1;33m.\u001b[0m\u001b[0msummary\u001b[0m\u001b[1;33m(\u001b[0m\u001b[1;33m)\u001b[0m\u001b[1;33m\u001b[0m\u001b[0m\n",
      "\u001b[1;32mC:\\Users\\raviteja\\Anaconda2\\lib\\site-packages\\statsmodels-0.6.1-py2.7-win-amd64.egg\\statsmodels\\discrete\\discrete_model.pyc\u001b[0m in \u001b[0;36m__init__\u001b[1;34m(self, endog, exog, **kwargs)\u001b[0m\n\u001b[0;32m    402\u001b[0m         if (self.__class__.__name__ != 'MNLogit' and\n\u001b[0;32m    403\u001b[0m                 not np.all((self.endog >= 0) & (self.endog <= 1))):\n\u001b[1;32m--> 404\u001b[1;33m             \u001b[1;32mraise\u001b[0m \u001b[0mValueError\u001b[0m\u001b[1;33m(\u001b[0m\u001b[1;34m\"endog must be in the unit interval.\"\u001b[0m\u001b[1;33m)\u001b[0m\u001b[1;33m\u001b[0m\u001b[0m\n\u001b[0m\u001b[0;32m    405\u001b[0m \u001b[1;33m\u001b[0m\u001b[0m\n\u001b[0;32m    406\u001b[0m \u001b[1;33m\u001b[0m\u001b[0m\n",
      "\u001b[1;31mValueError\u001b[0m: endog must be in the unit interval."
     ]
    }
   ],
   "source": [
    "import statsmodels.api as sm\n",
    "logit=sm.Logit(X_train,y_train)\n",
    "result.logit.fit()\n",
    "print result.summary()"
   ]
  },
  {
   "cell_type": "markdown",
   "metadata": {},
   "source": [
    "### Baseline Support Vector Machine"
   ]
  },
  {
   "cell_type": "code",
   "execution_count": 454,
   "metadata": {
    "collapsed": false
   },
   "outputs": [
    {
     "name": "stdout",
     "output_type": "stream",
     "text": [
      "0.991967871486\n",
      "0.946107784431\n",
      "0    183\n",
      "1     66\n",
      "Name: inducted_HOF, dtype: int64\n",
      "[[109   8]\n",
      " [  1  49]]\n"
     ]
    }
   ],
   "source": [
    "svm_all=svm.SVC()\n",
    "svm_all.fit(X_train,y_train)\n",
    "print svm_all.score(X_train,y_train)\n",
    "predict=svm_all.predict(X_test)\n",
    "print accuracy_score(predict,y_test)\n",
    "print(y_train.value_counts())\n",
    "print confusion_matrix(y_test,predict)\n",
    "#print classification_report(y_test,predict)"
   ]
  },
  {
   "cell_type": "markdown",
   "metadata": {},
   "source": [
    "### Baseline Naive Bayes"
   ]
  },
  {
   "cell_type": "code",
   "execution_count": 455,
   "metadata": {
    "collapsed": false
   },
   "outputs": [],
   "source": [
    "naive_bayes_all=GaussianNB()\n",
    "naive_bayes_all.fit(X_train,y_train)\n",
    "predict=naive_bayes_all.predict(X_test)\n",
    "\n"
   ]
  },
  {
   "cell_type": "code",
   "execution_count": 456,
   "metadata": {
    "collapsed": false
   },
   "outputs": [
    {
     "name": "stdout",
     "output_type": "stream",
     "text": [
      "[[111   6]\n",
      " [  5  45]]\n",
      "[[90 27]\n",
      " [ 1 49]]\n"
     ]
    }
   ],
   "source": [
    "print confusion_matrix(y_test, t)\n",
    "pred_prob=naive_bayes_all.predict_proba(X_test)[:,[1]]\n",
    "pred=pred_prob>.00000001\n",
    "pred=pred.astype(int)  \n",
    "print confusion_matrix(y_test, pred)"
   ]
  },
  {
   "cell_type": "markdown",
   "metadata": {},
   "source": [
    "### Baseline Random Forest"
   ]
  },
  {
   "cell_type": "code",
   "execution_count": 457,
   "metadata": {
    "collapsed": false
   },
   "outputs": [
    {
     "name": "stdout",
     "output_type": "stream",
     "text": [
      "MODEL METRICS\n",
      "-------------\n",
      "Model Accuracy(Train): 0.995983935743\n",
      "Model Accuracy(Test): 0.964071856287\n",
      "Confusion Matrix(Train):\n",
      "[[183   0]\n",
      " [  1  65]]\n",
      "Confusion Matrix(Test):\n",
      "[[114   3]\n",
      " [  3  47]]\n",
      "True Positive Rate: 0.94\n",
      "False Positive Rate: 0.025641025641\n",
      "ROC AUC: 0.99\n"
     ]
    },
    {
     "data": {
      "image/png": "[encoded data removed]",
      "text/plain": [
       "<matplotlib.figure.Figure at 0x20be7fd0>"
      ]
     },
     "metadata": {},
     "output_type": "display_data"
    }
   ],
   "source": [
    "rf_all=RandomForestClassifier()\n",
    "rf_all.fit(X_train,y_train)\n",
    "\n",
    "t1=rf_all.predict(X_train)\n",
    "t=rf_all.predict(X_test)\n",
    "#print classification_report(y_test,t)\n",
    "print \"MODEL METRICS\"\n",
    "print \"-------------\"\n",
    "print \"Model Accuracy(Train):\",accuracy_score(y_train,t1)\n",
    "print \"Model Accuracy(Test):\",accuracy_score(y_test,t)\n",
    "print \"Confusion Matrix(Train):\\n\",confusion_matrix(y_train,t1)\n",
    "print \"Confusion Matrix(Test):\\n\",confusion_matrix(y_test,t)\n",
    "x=confusion_matrix(y_test,t)\n",
    "tpr=x[1,1]/(x[1,0]+x[1,1])\n",
    "fpr=x[0,1]/(x[0,0]+x[0,1])\n",
    "print \"True Positive Rate:\",tpr\n",
    "print \"False Positive Rate:\",fpr\n",
    "\n",
    "\n",
    "fpr, tpr, _ =metrics.roc_curve(y_test,rf_all.predict_proba(X_test)[:,[1]],)\n",
    "# Calculate the AUC\n",
    "roc_auc = auc(fpr, tpr)\n",
    "print 'ROC AUC: %0.2f' % roc_auc\n",
    " \n",
    "# Plot of a ROC curve for a specific class\n",
    "plt.figure()\n",
    "plt.plot(fpr, tpr, label='ROC curve (area = %0.2f)' % roc_auc)\n",
    "plt.plot([0, 1], [0, 1], 'k--')\n",
    "plt.xlim([0.0, 1.0])\n",
    "plt.ylim([0.0, 1.05])\n",
    "plt.xlabel('False Positive Rate')\n",
    "plt.ylabel('True Positive Rate')\n",
    "plt.title('ROC Curve')\n",
    "plt.legend(loc=\"lower right\")\n",
    "plt.show()"
   ]
  },
  {
   "cell_type": "code",
   "execution_count": 458,
   "metadata": {
    "collapsed": false
   },
   "outputs": [
    {
     "data": {
      "text/html": [
       "<div>\n",
       "<table border=\"1\" class=\"dataframe\">\n",
       "  <thead>\n",
       "    <tr style=\"text-align: right;\">\n",
       "      <th></th>\n",
       "      <th>Threshold</th>\n",
       "      <th>True Positive Rate</th>\n",
       "      <th>True Negative Rate</th>\n",
       "      <th>False Positive Rate</th>\n",
       "    </tr>\n",
       "  </thead>\n",
       "  <tbody>\n",
       "    <tr>\n",
       "      <th>0</th>\n",
       "      <td>0.00</td>\n",
       "      <td>1.00</td>\n",
       "      <td>0.709402</td>\n",
       "      <td>0.290598</td>\n",
       "    </tr>\n",
       "    <tr>\n",
       "      <th>1</th>\n",
       "      <td>0.05</td>\n",
       "      <td>1.00</td>\n",
       "      <td>0.709402</td>\n",
       "      <td>0.290598</td>\n",
       "    </tr>\n",
       "    <tr>\n",
       "      <th>2</th>\n",
       "      <td>0.10</td>\n",
       "      <td>1.00</td>\n",
       "      <td>0.854701</td>\n",
       "      <td>0.145299</td>\n",
       "    </tr>\n",
       "    <tr>\n",
       "      <th>3</th>\n",
       "      <td>0.15</td>\n",
       "      <td>1.00</td>\n",
       "      <td>0.854701</td>\n",
       "      <td>0.145299</td>\n",
       "    </tr>\n",
       "    <tr>\n",
       "      <th>4</th>\n",
       "      <td>0.20</td>\n",
       "      <td>0.96</td>\n",
       "      <td>0.940171</td>\n",
       "      <td>0.059829</td>\n",
       "    </tr>\n",
       "    <tr>\n",
       "      <th>5</th>\n",
       "      <td>0.25</td>\n",
       "      <td>0.96</td>\n",
       "      <td>0.940171</td>\n",
       "      <td>0.059829</td>\n",
       "    </tr>\n",
       "    <tr>\n",
       "      <th>6</th>\n",
       "      <td>0.30</td>\n",
       "      <td>0.96</td>\n",
       "      <td>0.940171</td>\n",
       "      <td>0.059829</td>\n",
       "    </tr>\n",
       "    <tr>\n",
       "      <th>7</th>\n",
       "      <td>0.35</td>\n",
       "      <td>0.96</td>\n",
       "      <td>0.940171</td>\n",
       "      <td>0.059829</td>\n",
       "    </tr>\n",
       "    <tr>\n",
       "      <th>8</th>\n",
       "      <td>0.40</td>\n",
       "      <td>0.96</td>\n",
       "      <td>0.965812</td>\n",
       "      <td>0.034188</td>\n",
       "    </tr>\n",
       "    <tr>\n",
       "      <th>9</th>\n",
       "      <td>0.45</td>\n",
       "      <td>0.96</td>\n",
       "      <td>0.965812</td>\n",
       "      <td>0.034188</td>\n",
       "    </tr>\n",
       "    <tr>\n",
       "      <th>10</th>\n",
       "      <td>0.50</td>\n",
       "      <td>0.94</td>\n",
       "      <td>0.974359</td>\n",
       "      <td>0.025641</td>\n",
       "    </tr>\n",
       "    <tr>\n",
       "      <th>11</th>\n",
       "      <td>0.55</td>\n",
       "      <td>0.94</td>\n",
       "      <td>0.974359</td>\n",
       "      <td>0.025641</td>\n",
       "    </tr>\n",
       "    <tr>\n",
       "      <th>12</th>\n",
       "      <td>0.60</td>\n",
       "      <td>0.86</td>\n",
       "      <td>0.974359</td>\n",
       "      <td>0.025641</td>\n",
       "    </tr>\n",
       "    <tr>\n",
       "      <th>13</th>\n",
       "      <td>0.65</td>\n",
       "      <td>0.86</td>\n",
       "      <td>0.974359</td>\n",
       "      <td>0.025641</td>\n",
       "    </tr>\n",
       "    <tr>\n",
       "      <th>14</th>\n",
       "      <td>0.70</td>\n",
       "      <td>0.68</td>\n",
       "      <td>0.982906</td>\n",
       "      <td>0.017094</td>\n",
       "    </tr>\n",
       "    <tr>\n",
       "      <th>15</th>\n",
       "      <td>0.75</td>\n",
       "      <td>0.68</td>\n",
       "      <td>0.982906</td>\n",
       "      <td>0.017094</td>\n",
       "    </tr>\n",
       "    <tr>\n",
       "      <th>16</th>\n",
       "      <td>0.80</td>\n",
       "      <td>0.58</td>\n",
       "      <td>0.991453</td>\n",
       "      <td>0.008547</td>\n",
       "    </tr>\n",
       "    <tr>\n",
       "      <th>17</th>\n",
       "      <td>0.85</td>\n",
       "      <td>0.58</td>\n",
       "      <td>0.991453</td>\n",
       "      <td>0.008547</td>\n",
       "    </tr>\n",
       "    <tr>\n",
       "      <th>18</th>\n",
       "      <td>0.90</td>\n",
       "      <td>0.32</td>\n",
       "      <td>1.000000</td>\n",
       "      <td>0.000000</td>\n",
       "    </tr>\n",
       "    <tr>\n",
       "      <th>19</th>\n",
       "      <td>0.95</td>\n",
       "      <td>0.32</td>\n",
       "      <td>1.000000</td>\n",
       "      <td>0.000000</td>\n",
       "    </tr>\n",
       "  </tbody>\n",
       "</table>\n",
       "</div>"
      ],
      "text/plain": [
       "    Threshold  True Positive Rate  True Negative Rate  False Positive Rate\n",
       "0        0.00                1.00            0.709402             0.290598\n",
       "1        0.05                1.00            0.709402             0.290598\n",
       "2        0.10                1.00            0.854701             0.145299\n",
       "3        0.15                1.00            0.854701             0.145299\n",
       "4        0.20                0.96            0.940171             0.059829\n",
       "5        0.25                0.96            0.940171             0.059829\n",
       "6        0.30                0.96            0.940171             0.059829\n",
       "7        0.35                0.96            0.940171             0.059829\n",
       "8        0.40                0.96            0.965812             0.034188\n",
       "9        0.45                0.96            0.965812             0.034188\n",
       "10       0.50                0.94            0.974359             0.025641\n",
       "11       0.55                0.94            0.974359             0.025641\n",
       "12       0.60                0.86            0.974359             0.025641\n",
       "13       0.65                0.86            0.974359             0.025641\n",
       "14       0.70                0.68            0.982906             0.017094\n",
       "15       0.75                0.68            0.982906             0.017094\n",
       "16       0.80                0.58            0.991453             0.008547\n",
       "17       0.85                0.58            0.991453             0.008547\n",
       "18       0.90                0.32            1.000000             0.000000\n",
       "19       0.95                0.32            1.000000             0.000000"
      ]
     },
     "execution_count": 458,
     "metadata": {},
     "output_type": "execute_result"
    }
   ],
   "source": [
    "cutoff=[]\n",
    "tpr=[]\n",
    "fpr=[]\n",
    "tnr=[]\n",
    "for i in np.arange(0,1,0.05):\n",
    "    cutoff.append(i)\n",
    "    pred_prob=rf_all.predict_proba(X_test)[:,[1]]\n",
    "    pred=pred_prob>i\n",
    "    pred=pred.astype(int)\n",
    "    x=confusion_matrix(y_test, pred)\n",
    "    tpr1=x[1,1]/(x[1,0]+x[1,1])\n",
    "    tnr1=x[0,0]/(x[0,0]+x[0,1])\n",
    "    fpr1=x[0,1]/(x[0,0]+x[0,1])\n",
    "    tpr.append(tpr1)\n",
    "    fpr.append(fpr1)\n",
    "    tnr.append(tnr1)\n",
    "threshold=DataFrame([cutoff,tpr,tnr,fpr]).transpose()\n",
    "threshold.columns=['Threshold','True Positive Rate','True Negative Rate','False Positive Rate']\n",
    "threshold.to_csv('threshold_model2.csv')\n",
    "threshold"
   ]
  },
  {
   "cell_type": "markdown",
   "metadata": {},
   "source": [
    "### Baseline Gradient Boosting"
   ]
  },
  {
   "cell_type": "code",
   "execution_count": 459,
   "metadata": {
    "collapsed": false
   },
   "outputs": [
    {
     "name": "stdout",
     "output_type": "stream",
     "text": [
      "MODEL METRICS\n",
      "-------------\n",
      "Model Accuracy(Train): 1.0\n",
      "Model Accuracy(Test): 0.952095808383\n",
      "Confusion Matrix(Train):\n",
      "[[183   0]\n",
      " [  0  66]]\n",
      "Confusion Matrix(Test):\n",
      "[[111   6]\n",
      " [  2  48]]\n",
      "True Positive Rate: 0.96\n",
      "False Positive Rate: 0.0512820512821\n",
      "ROC AUC: 0.98\n"
     ]
    },
    {
     "data": {
      "image/png": "[encoded data removed]",
      "text/plain": [
       "<matplotlib.figure.Figure at 0x20f9d518>"
      ]
     },
     "metadata": {},
     "output_type": "display_data"
    }
   ],
   "source": [
    "gbt_all=GradientBoostingClassifier(n_estimators=100,learning_rate=1.0,max_depth=1,random_state=0)\n",
    "gbt_all.fit(X_train,y_train)\n",
    "\n",
    "\n",
    "\n",
    "t1=gbt_all.predict(X_train)\n",
    "t=gbt_all.predict(X_test)\n",
    "#print classification_report(y_test,t)\n",
    "print \"MODEL METRICS\"\n",
    "print \"-------------\"\n",
    "print \"Model Accuracy(Train):\",accuracy_score(y_train,t1)\n",
    "print \"Model Accuracy(Test):\",accuracy_score(y_test,t)\n",
    "print \"Confusion Matrix(Train):\\n\",confusion_matrix(y_train,t1)\n",
    "print \"Confusion Matrix(Test):\\n\",confusion_matrix(y_test,t)\n",
    "x=confusion_matrix(y_test,t)\n",
    "tpr=x[1,1]/(x[1,0]+x[1,1])\n",
    "fpr=x[0,1]/(x[0,0]+x[0,1])\n",
    "print \"True Positive Rate:\",tpr\n",
    "print \"False Positive Rate:\",fpr\n",
    "\n",
    "\n",
    "fpr, tpr, _ =metrics.roc_curve(y_test,gbt_all.predict_proba(X_test)[:,[1]],)\n",
    "# Calculate the AUC\n",
    "roc_auc = auc(fpr, tpr)\n",
    "print 'ROC AUC: %0.2f' % roc_auc\n",
    " \n",
    "# Plot of a ROC curve for a specific class\n",
    "plt.figure()\n",
    "plt.plot(fpr, tpr, label='ROC curve (area = %0.2f)' % roc_auc)\n",
    "plt.plot([0, 1], [0, 1], 'k--')\n",
    "plt.xlim([0.0, 1.0])\n",
    "plt.ylim([0.0, 1.05])\n",
    "plt.xlabel('False Positive Rate')\n",
    "plt.ylabel('True Positive Rate')\n",
    "plt.title('ROC Curve')\n",
    "plt.legend(loc=\"lower right\")\n",
    "plt.show()"
   ]
  },
  {
   "cell_type": "code",
   "execution_count": 460,
   "metadata": {
    "collapsed": false
   },
   "outputs": [
    {
     "data": {
      "text/html": [
       "<div>\n",
       "<table border=\"1\" class=\"dataframe\">\n",
       "  <thead>\n",
       "    <tr style=\"text-align: right;\">\n",
       "      <th></th>\n",
       "      <th>Threshold</th>\n",
       "      <th>True Positive Rate</th>\n",
       "      <th>True Negative Rate</th>\n",
       "      <th>False Positive Rate</th>\n",
       "    </tr>\n",
       "  </thead>\n",
       "  <tbody>\n",
       "    <tr>\n",
       "      <th>0</th>\n",
       "      <td>0.00</td>\n",
       "      <td>1.00</td>\n",
       "      <td>0.000000</td>\n",
       "      <td>1.000000</td>\n",
       "    </tr>\n",
       "    <tr>\n",
       "      <th>1</th>\n",
       "      <td>0.05</td>\n",
       "      <td>1.00</td>\n",
       "      <td>0.940171</td>\n",
       "      <td>0.059829</td>\n",
       "    </tr>\n",
       "    <tr>\n",
       "      <th>2</th>\n",
       "      <td>0.10</td>\n",
       "      <td>0.98</td>\n",
       "      <td>0.948718</td>\n",
       "      <td>0.051282</td>\n",
       "    </tr>\n",
       "    <tr>\n",
       "      <th>3</th>\n",
       "      <td>0.15</td>\n",
       "      <td>0.96</td>\n",
       "      <td>0.948718</td>\n",
       "      <td>0.051282</td>\n",
       "    </tr>\n",
       "    <tr>\n",
       "      <th>4</th>\n",
       "      <td>0.20</td>\n",
       "      <td>0.96</td>\n",
       "      <td>0.948718</td>\n",
       "      <td>0.051282</td>\n",
       "    </tr>\n",
       "    <tr>\n",
       "      <th>5</th>\n",
       "      <td>0.25</td>\n",
       "      <td>0.96</td>\n",
       "      <td>0.948718</td>\n",
       "      <td>0.051282</td>\n",
       "    </tr>\n",
       "    <tr>\n",
       "      <th>6</th>\n",
       "      <td>0.30</td>\n",
       "      <td>0.96</td>\n",
       "      <td>0.948718</td>\n",
       "      <td>0.051282</td>\n",
       "    </tr>\n",
       "    <tr>\n",
       "      <th>7</th>\n",
       "      <td>0.35</td>\n",
       "      <td>0.96</td>\n",
       "      <td>0.948718</td>\n",
       "      <td>0.051282</td>\n",
       "    </tr>\n",
       "    <tr>\n",
       "      <th>8</th>\n",
       "      <td>0.40</td>\n",
       "      <td>0.96</td>\n",
       "      <td>0.948718</td>\n",
       "      <td>0.051282</td>\n",
       "    </tr>\n",
       "    <tr>\n",
       "      <th>9</th>\n",
       "      <td>0.45</td>\n",
       "      <td>0.96</td>\n",
       "      <td>0.948718</td>\n",
       "      <td>0.051282</td>\n",
       "    </tr>\n",
       "    <tr>\n",
       "      <th>10</th>\n",
       "      <td>0.50</td>\n",
       "      <td>0.96</td>\n",
       "      <td>0.948718</td>\n",
       "      <td>0.051282</td>\n",
       "    </tr>\n",
       "    <tr>\n",
       "      <th>11</th>\n",
       "      <td>0.55</td>\n",
       "      <td>0.96</td>\n",
       "      <td>0.948718</td>\n",
       "      <td>0.051282</td>\n",
       "    </tr>\n",
       "    <tr>\n",
       "      <th>12</th>\n",
       "      <td>0.60</td>\n",
       "      <td>0.96</td>\n",
       "      <td>0.948718</td>\n",
       "      <td>0.051282</td>\n",
       "    </tr>\n",
       "    <tr>\n",
       "      <th>13</th>\n",
       "      <td>0.65</td>\n",
       "      <td>0.96</td>\n",
       "      <td>0.948718</td>\n",
       "      <td>0.051282</td>\n",
       "    </tr>\n",
       "    <tr>\n",
       "      <th>14</th>\n",
       "      <td>0.70</td>\n",
       "      <td>0.96</td>\n",
       "      <td>0.948718</td>\n",
       "      <td>0.051282</td>\n",
       "    </tr>\n",
       "    <tr>\n",
       "      <th>15</th>\n",
       "      <td>0.75</td>\n",
       "      <td>0.96</td>\n",
       "      <td>0.948718</td>\n",
       "      <td>0.051282</td>\n",
       "    </tr>\n",
       "    <tr>\n",
       "      <th>16</th>\n",
       "      <td>0.80</td>\n",
       "      <td>0.96</td>\n",
       "      <td>0.965812</td>\n",
       "      <td>0.034188</td>\n",
       "    </tr>\n",
       "    <tr>\n",
       "      <th>17</th>\n",
       "      <td>0.85</td>\n",
       "      <td>0.90</td>\n",
       "      <td>0.974359</td>\n",
       "      <td>0.025641</td>\n",
       "    </tr>\n",
       "    <tr>\n",
       "      <th>18</th>\n",
       "      <td>0.90</td>\n",
       "      <td>0.90</td>\n",
       "      <td>0.974359</td>\n",
       "      <td>0.025641</td>\n",
       "    </tr>\n",
       "    <tr>\n",
       "      <th>19</th>\n",
       "      <td>0.95</td>\n",
       "      <td>0.88</td>\n",
       "      <td>0.974359</td>\n",
       "      <td>0.025641</td>\n",
       "    </tr>\n",
       "  </tbody>\n",
       "</table>\n",
       "</div>"
      ],
      "text/plain": [
       "    Threshold  True Positive Rate  True Negative Rate  False Positive Rate\n",
       "0        0.00                1.00            0.000000             1.000000\n",
       "1        0.05                1.00            0.940171             0.059829\n",
       "2        0.10                0.98            0.948718             0.051282\n",
       "3        0.15                0.96            0.948718             0.051282\n",
       "4        0.20                0.96            0.948718             0.051282\n",
       "5        0.25                0.96            0.948718             0.051282\n",
       "6        0.30                0.96            0.948718             0.051282\n",
       "7        0.35                0.96            0.948718             0.051282\n",
       "8        0.40                0.96            0.948718             0.051282\n",
       "9        0.45                0.96            0.948718             0.051282\n",
       "10       0.50                0.96            0.948718             0.051282\n",
       "11       0.55                0.96            0.948718             0.051282\n",
       "12       0.60                0.96            0.948718             0.051282\n",
       "13       0.65                0.96            0.948718             0.051282\n",
       "14       0.70                0.96            0.948718             0.051282\n",
       "15       0.75                0.96            0.948718             0.051282\n",
       "16       0.80                0.96            0.965812             0.034188\n",
       "17       0.85                0.90            0.974359             0.025641\n",
       "18       0.90                0.90            0.974359             0.025641\n",
       "19       0.95                0.88            0.974359             0.025641"
      ]
     },
     "execution_count": 460,
     "metadata": {},
     "output_type": "execute_result"
    }
   ],
   "source": [
    "cutoff=[]\n",
    "tpr=[]\n",
    "fpr=[]\n",
    "tnr=[]\n",
    "for i in np.arange(0,1,0.05):\n",
    "    cutoff.append(i)\n",
    "    pred_prob=gbt_all.predict_proba(X_test)[:,[1]]\n",
    "    pred=pred_prob>i\n",
    "    pred=pred.astype(int)\n",
    "    x=confusion_matrix(y_test, pred)\n",
    "    tpr1=x[1,1]/(x[1,0]+x[1,1])\n",
    "    tnr1=x[0,0]/(x[0,0]+x[0,1])\n",
    "    fpr1=x[0,1]/(x[0,0]+x[0,1])\n",
    "    tpr.append(tpr1)\n",
    "    fpr.append(fpr1)\n",
    "    tnr.append(tnr1)\n",
    "threshold=DataFrame([cutoff,tpr,tnr,fpr]).transpose()\n",
    "threshold.columns=['Threshold','True Positive Rate','True Negative Rate','False Positive Rate']\n",
    "threshold.to_csv('threshold_model2.csv')\n",
    "threshold"
   ]
  },
  {
   "cell_type": "code",
   "execution_count": 461,
   "metadata": {
    "collapsed": false
   },
   "outputs": [
    {
     "name": "stdout",
     "output_type": "stream",
     "text": [
      "[[111   6]\n",
      " [  2  48]]\n",
      "[[107  10]\n",
      " [  0  50]]\n"
     ]
    }
   ],
   "source": [
    "print confusion_matrix(y_test, t)\n",
    "pred_prob=gbt_all.predict_proba(X_test)[:,[1]]\n",
    "pred=pred_prob>.01\n",
    "pred=pred.astype(int)  \n",
    "print confusion_matrix(y_test, pred)"
   ]
  },
  {
   "cell_type": "code",
   "execution_count": 462,
   "metadata": {
    "collapsed": false
   },
   "outputs": [
    {
     "data": {
      "text/plain": [
       "<matplotlib.text.Text at 0x2c54c550>"
      ]
     },
     "execution_count": 462,
     "metadata": {},
     "output_type": "execute_result"
    },
    {
     "data": {
      "image/png": "[encoded data removed]",
      "text/plain": [
       "<matplotlib.figure.Figure at 0x2c5b20b8>"
      ]
     },
     "metadata": {},
     "output_type": "display_data"
    }
   ],
   "source": [
    "plt.figure(figsize=(20,10))\n",
    "feat_imp = pd.Series(gbt_all.feature_importances_, X_test.columns).sort_values(ascending=False)\n",
    "feat_imp.plot(kind='bar', title='Feature Importances')\n",
    "plt.ylabel('Feature Importance Score')"
   ]
  },
  {
   "cell_type": "markdown",
   "metadata": {},
   "source": [
    "#### Artificial Neural Networks"
   ]
  },
  {
   "cell_type": "code",
   "execution_count": 463,
   "metadata": {
    "collapsed": false
   },
   "outputs": [
    {
     "name": "stdout",
     "output_type": "stream",
     "text": [
      "Requirement already satisfied (use --upgrade to upgrade): scikit-neuralnetwork in c:\\users\\raviteja\\anaconda2\\lib\\site-packages\n",
      "Requirement already satisfied (use --upgrade to upgrade): scikit-learn>=0.17 in c:\\users\\raviteja\\anaconda2\\lib\\site-packages (from scikit-neuralnetwork)\n",
      "Requirement already satisfied (use --upgrade to upgrade): Theano>=0.7 in c:\\users\\raviteja\\anaconda2\\lib\\site-packages (from scikit-neuralnetwork)\n",
      "Requirement already satisfied (use --upgrade to upgrade): colorama in c:\\users\\raviteja\\anaconda2\\lib\\site-packages (from scikit-neuralnetwork)\n",
      "Requirement already satisfied (use --upgrade to upgrade): Lasagne>=0.1 in c:\\users\\raviteja\\anaconda2\\lib\\site-packages (from scikit-neuralnetwork)\n",
      "Requirement already satisfied (use --upgrade to upgrade): six>=1.9.0 in c:\\users\\raviteja\\anaconda2\\lib\\site-packages (from Theano>=0.7->scikit-neuralnetwork)\n",
      "Requirement already satisfied (use --upgrade to upgrade): scipy>=0.11 in c:\\users\\raviteja\\anaconda2\\lib\\site-packages (from Theano>=0.7->scikit-neuralnetwork)\n",
      "Requirement already satisfied (use --upgrade to upgrade): numpy>=1.7.1 in c:\\users\\raviteja\\anaconda2\\lib\\site-packages (from Theano>=0.7->scikit-neuralnetwork)\n"
     ]
    }
   ],
   "source": [
    "!pip install scikit-neuralnetwork"
   ]
  },
  {
   "cell_type": "code",
   "execution_count": 138,
   "metadata": {
    "collapsed": false
   },
   "outputs": [
    {
     "ename": "ImportError",
     "evalue": "cannot import name MLPClassifier",
     "output_type": "error",
     "traceback": [
      "\u001b[1;31m---------------------------------------------------------------------------\u001b[0m",
      "\u001b[1;31mImportError\u001b[0m                               Traceback (most recent call last)",
      "\u001b[1;32m<ipython-input-138-6113b65dfa44>\u001b[0m in \u001b[0;36m<module>\u001b[1;34m()\u001b[0m\n\u001b[1;32m----> 1\u001b[1;33m \u001b[1;32mfrom\u001b[0m \u001b[0msklearn\u001b[0m\u001b[1;33m.\u001b[0m\u001b[0mneural_network\u001b[0m \u001b[1;32mimport\u001b[0m \u001b[0mMLPClassifier\u001b[0m\u001b[1;33m\u001b[0m\u001b[0m\n\u001b[0m",
      "\u001b[1;31mImportError\u001b[0m: cannot import name MLPClassifier"
     ]
    }
   ],
   "source": [
    "from sklearn.neural_network import MLPClassifier"
   ]
  },
  {
   "cell_type": "code",
   "execution_count": 147,
   "metadata": {
    "collapsed": false
   },
   "outputs": [
    {
     "name": "stdout",
     "output_type": "stream",
     "text": [
      "Requirement already satisfied (use --upgrade to upgrade): scikit-learn from git+git://github.com/scikit-learn/scikit-learn.git#egg=scikit-learn in c:\\users\\raviteja\\anaconda2\\lib\\site-packages\n"
     ]
    },
    {
     "name": "stderr",
     "output_type": "stream",
     "text": [
      "You are using pip version 8.0.3, however version 8.1.1 is available.\n",
      "You should consider upgrading via the 'python -m pip install --upgrade pip' command.\n"
     ]
    }
   ],
   "source": [
    "!pip install git+git://github.com/scikit-learn/scikit-learn.git#egg=scikit-learn"
   ]
  },
  {
   "cell_type": "code",
   "execution_count": 139,
   "metadata": {
    "collapsed": false
   },
   "outputs": [
    {
     "name": "stdout",
     "output_type": "stream",
     "text": [
      "The nltk version is 3.1.\n",
      "The scikit-learn version is 0.17.\n"
     ]
    }
   ],
   "source": [
    "import nltk\n",
    "import sklearn\n",
    "\n",
    "print('The nltk version is {}.'.format(nltk.__version__))\n",
    "print('The scikit-learn version is {}.'.format(sklearn.__version__))"
   ]
  },
  {
   "cell_type": "markdown",
   "metadata": {},
   "source": [
    "### Gradient Boosting"
   ]
  },
  {
   "cell_type": "code",
   "execution_count": 263,
   "metadata": {
    "collapsed": true
   },
   "outputs": [],
   "source": [
    "def modelfit(alg, X_train, X_test, y_train, y_test, performCV=True, printFeatureImportance=True, cv_folds=5):\n",
    "    #Fit the algorithm on the data\n",
    "    alg.fit(X_train,y_train)\n",
    "        \n",
    "    #Predict training set:\n",
    "    dtrain_predictions = alg.predict(X_train)\n",
    "    dtrain_predprob = alg.predict_proba(X_train)[:,1]\n",
    "    \n",
    "    #Perform cross-validation:\n",
    "    if performCV:\n",
    "        cv_score = cross_validation.cross_val_score(alg, X_train, y_train, cv=cv_folds, scoring='roc_auc')\n",
    "    \n",
    "    #Print model report:\n",
    "    print \"\\nModel Report\"\n",
    "    print \"Accuracy : %.4g\" % metrics.accuracy_score(y_train.values, dtrain_predictions)\n",
    "    print \"AUC Score (Train): %f\" % metrics.roc_auc_score(y_train, dtrain_predprob)\n",
    "    \n",
    "    if performCV:\n",
    "        print \"CV Score : Mean - %.7g | Std - %.7g | Min - %.7g | Max - %.7g\" % (np.mean(cv_score),np.std(cv_score),np.min(cv_score),np.max(cv_score))\n",
    "        \n",
    "    #Print Feature Importance:\n",
    "    if printFeatureImportance:\n",
    "        feat_imp = pd.Series(alg.feature_importances_, X_train.columns).sort_values(ascending=False)\n",
    "        feat_imp.plot(kind='bar', title='Feature Importances')\n",
    "        plt.ylabel('Feature Importance Score')\n",
    "        \n",
    "        \n",
    "        \n",
    "#TEST DATA\n",
    "        \n",
    "    #Predict training set:\n",
    "    dtrain_predictions = alg.predict(X_test)\n",
    "    dtrain_predprob = alg.predict_proba(X_test)[:,1]\n",
    "    \n",
    "\n",
    "    \n",
    "    #Print model report:\n",
    "    print \"\\nModel Report\"\n",
    "    print \"Accuracy : %.4g\" % metrics.accuracy_score(y_test.values, dtrain_predictions)\n",
    "    print \"AUC Score (Test): %f\" % metrics.roc_auc_score(y_test, dtrain_predprob)\n",
    "    print confusion_matrix(y_test,dtrain_predictions)\n",
    "\n",
    "        \n",
    "    #Print Feature Importance:\n",
    "    if printFeatureImportance:\n",
    "        feat_imp = pd.Series(alg.feature_importances_, X_test.columns).sort_values(ascending=False)\n",
    "        feat_imp.plot(kind='bar', title='Feature Importances')\n",
    "        plt.ylabel('Feature Importance Score')"
   ]
  },
  {
   "cell_type": "code",
   "execution_count": 1601,
   "metadata": {
    "collapsed": false
   },
   "outputs": [
    {
     "name": "stdout",
     "output_type": "stream",
     "text": [
      "\n",
      "Model Report\n",
      "Accuracy : 1\n",
      "AUC Score (Train): 1.000000\n",
      "CV Score : Mean - 0.9676675 | Std - 0.01559092 | Min - 0.9375661 | Max - 0.9830688\n",
      "\n",
      "Model Report\n",
      "Accuracy : 0.9327\n",
      "AUC Score (Test): 0.988579\n",
      "[[117   9]\n",
      " [  5  77]]\n"
     ]
    },
    {
     "data": {
      "image/png": "[encoded data removed]",
      "text/plain": [
       "<matplotlib.figure.Figure at 0x2d7385f8>"
      ]
     },
     "metadata": {},
     "output_type": "display_data"
    }
   ],
   "source": [
    "target='inducted_HOF'\n",
    "gbm0 = GradientBoostingClassifier(random_state=10)\n",
    "modelfit(gbm0, X_train, X_test, y_train, y_test)"
   ]
  },
  {
   "cell_type": "code",
   "execution_count": 1196,
   "metadata": {
    "collapsed": false
   },
   "outputs": [
    {
     "data": {
      "text/plain": [
       "({'n_estimators': 1}, 0.5)"
      ]
     },
     "execution_count": 1196,
     "metadata": {},
     "output_type": "execute_result"
    }
   ],
   "source": [
    "#Choose all predictors except target & IDcols\n",
    "import pylab as pl\n",
    "param_test1 = {'n_estimators':range(1,81,1)}\n",
    "gsearch1 = GridSearchCV(estimator = GradientBoostingClassifier(learning_rate=0.1, min_samples_split=500,min_samples_leaf=50,max_depth=8,max_features='sqrt',subsample=0.8,random_state=10), \n",
    "param_grid = param_test1, scoring='roc_auc',n_jobs=4,iid=False, cv=5)\n",
    "gsearch1.fit(X_train,y_train)\n",
    "gsearch1.best_params_, gsearch1.best_score_"
   ]
  },
  {
   "cell_type": "code",
   "execution_count": 1197,
   "metadata": {
    "collapsed": false
   },
   "outputs": [
    {
     "data": {
      "text/plain": [
       "([mean: 0.98086, std: 0.00959, params: {'min_samples_split': 200, 'max_depth': 5},\n",
       "  mean: 0.50000, std: 0.00000, params: {'min_samples_split': 400, 'max_depth': 5},\n",
       "  mean: 0.50000, std: 0.00000, params: {'min_samples_split': 600, 'max_depth': 5},\n",
       "  mean: 0.50000, std: 0.00000, params: {'min_samples_split': 800, 'max_depth': 5},\n",
       "  mean: 0.50000, std: 0.00000, params: {'min_samples_split': 1000, 'max_depth': 5},\n",
       "  mean: 0.98086, std: 0.00959, params: {'min_samples_split': 200, 'max_depth': 7},\n",
       "  mean: 0.50000, std: 0.00000, params: {'min_samples_split': 400, 'max_depth': 7},\n",
       "  mean: 0.50000, std: 0.00000, params: {'min_samples_split': 600, 'max_depth': 7},\n",
       "  mean: 0.50000, std: 0.00000, params: {'min_samples_split': 800, 'max_depth': 7},\n",
       "  mean: 0.50000, std: 0.00000, params: {'min_samples_split': 1000, 'max_depth': 7},\n",
       "  mean: 0.98086, std: 0.00959, params: {'min_samples_split': 200, 'max_depth': 9},\n",
       "  mean: 0.50000, std: 0.00000, params: {'min_samples_split': 400, 'max_depth': 9},\n",
       "  mean: 0.50000, std: 0.00000, params: {'min_samples_split': 600, 'max_depth': 9},\n",
       "  mean: 0.50000, std: 0.00000, params: {'min_samples_split': 800, 'max_depth': 9},\n",
       "  mean: 0.50000, std: 0.00000, params: {'min_samples_split': 1000, 'max_depth': 9},\n",
       "  mean: 0.98086, std: 0.00959, params: {'min_samples_split': 200, 'max_depth': 11},\n",
       "  mean: 0.50000, std: 0.00000, params: {'min_samples_split': 400, 'max_depth': 11},\n",
       "  mean: 0.50000, std: 0.00000, params: {'min_samples_split': 600, 'max_depth': 11},\n",
       "  mean: 0.50000, std: 0.00000, params: {'min_samples_split': 800, 'max_depth': 11},\n",
       "  mean: 0.50000, std: 0.00000, params: {'min_samples_split': 1000, 'max_depth': 11},\n",
       "  mean: 0.98086, std: 0.00959, params: {'min_samples_split': 200, 'max_depth': 13},\n",
       "  mean: 0.50000, std: 0.00000, params: {'min_samples_split': 400, 'max_depth': 13},\n",
       "  mean: 0.50000, std: 0.00000, params: {'min_samples_split': 600, 'max_depth': 13},\n",
       "  mean: 0.50000, std: 0.00000, params: {'min_samples_split': 800, 'max_depth': 13},\n",
       "  mean: 0.50000, std: 0.00000, params: {'min_samples_split': 1000, 'max_depth': 13},\n",
       "  mean: 0.98086, std: 0.00959, params: {'min_samples_split': 200, 'max_depth': 15},\n",
       "  mean: 0.50000, std: 0.00000, params: {'min_samples_split': 400, 'max_depth': 15},\n",
       "  mean: 0.50000, std: 0.00000, params: {'min_samples_split': 600, 'max_depth': 15},\n",
       "  mean: 0.50000, std: 0.00000, params: {'min_samples_split': 800, 'max_depth': 15},\n",
       "  mean: 0.50000, std: 0.00000, params: {'min_samples_split': 1000, 'max_depth': 15}],\n",
       " {'max_depth': 5, 'min_samples_split': 200},\n",
       " 0.98085600907029469)"
      ]
     },
     "execution_count": 1197,
     "metadata": {},
     "output_type": "execute_result"
    }
   ],
   "source": [
    "param_test2 = {'max_depth':range(5,16,2), 'min_samples_split':range(200,1001,200)}\n",
    "gsearch2 = GridSearchCV(estimator = GradientBoostingClassifier(learning_rate=0.1, n_estimators=60, max_features='sqrt', subsample=0.8, random_state=10), \n",
    "param_grid = param_test2, scoring='roc_auc',n_jobs=4,iid=False, cv=5)\n",
    "gsearch2.fit(X_train,y_train)\n",
    "gsearch2.grid_scores_, gsearch2.best_params_, gsearch2.best_score_"
   ]
  },
  {
   "cell_type": "code",
   "execution_count": 1198,
   "metadata": {
    "collapsed": false
   },
   "outputs": [
    {
     "data": {
      "text/plain": [
       "({'min_samples_leaf': 30, 'min_samples_split': 100}, 0.97673280423280429)"
      ]
     },
     "execution_count": 1198,
     "metadata": {},
     "output_type": "execute_result"
    }
   ],
   "source": [
    "param_test3 = {'min_samples_split':range(100,2100,200), 'min_samples_leaf':range(30,71,10)}\n",
    "gsearch3 = GridSearchCV(estimator = GradientBoostingClassifier(learning_rate=0.1, n_estimators=60,max_depth=9,max_features='sqrt', subsample=0.8, random_state=10), \n",
    "param_grid = param_test3, scoring='roc_auc',n_jobs=4,iid=False, cv=5)\n",
    "gsearch3.fit(X_train,y_train)\n",
    "gsearch3.best_params_, gsearch3.best_score_"
   ]
  },
  {
   "cell_type": "code",
   "execution_count": 1199,
   "metadata": {
    "collapsed": false
   },
   "outputs": [
    {
     "name": "stdout",
     "output_type": "stream",
     "text": [
      "\n",
      "Model Report\n",
      "Accuracy : 0.9841\n",
      "AUC Score (Train): 0.998199\n",
      "CV Score : Mean - 0.9767328 | Std - 0.01339147 | Min - 0.9571429 | Max - 0.994709\n",
      "\n",
      "Model Report\n",
      "Accuracy : 0.9052\n",
      "AUC Score (Test): 0.969882\n",
      "[[115   8]\n",
      " [ 12  76]]\n"
     ]
    },
    {
     "data": {
      "image/png": "[encoded data removed]",
      "text/plain": [
       "<matplotlib.figure.Figure at 0x251d80b8>"
      ]
     },
     "metadata": {},
     "output_type": "display_data"
    }
   ],
   "source": [
    "modelfit(gsearch3.best_estimator_, X_train, X_test, y_train, y_test)"
   ]
  },
  {
   "cell_type": "markdown",
   "metadata": {},
   "source": [
    "# 7. SEGMENTING INTO PITCHERS/HITTERS/CATCHERS"
   ]
  },
  {
   "cell_type": "code",
   "execution_count": 464,
   "metadata": {
    "collapsed": true
   },
   "outputs": [],
   "source": [
    "getcolinfo()"
   ]
  },
  {
   "cell_type": "code",
   "execution_count": 465,
   "metadata": {
    "collapsed": false
   },
   "outputs": [],
   "source": [
    "baseball['G_IF_AP']=baseball['G_1b_AP']+baseball['G_2b_AP']+baseball['G_3b_AP']+baseball['G_ss_AP']"
   ]
  },
  {
   "cell_type": "code",
   "execution_count": 466,
   "metadata": {
    "collapsed": true
   },
   "outputs": [],
   "source": [
    "baseball['G_F_AP']=baseball['G_IF_AP']+baseball['G_of_AP']"
   ]
  },
  {
   "cell_type": "code",
   "execution_count": 467,
   "metadata": {
    "collapsed": false
   },
   "outputs": [],
   "source": [
    "baseball['player_cat']=baseball[['G_F_AP','G_p_AP','G_c_AP']].idxmax(axis=1)"
   ]
  },
  {
   "cell_type": "code",
   "execution_count": 468,
   "metadata": {
    "collapsed": false
   },
   "outputs": [],
   "source": [
    "new={'G_F_AP':'Fielder','G_p_AP':'Pitcher','G_c_AP':'Catcher'}\n",
    "baseball['player_cat']=baseball.player_cat.map(new)"
   ]
  },
  {
   "cell_type": "code",
   "execution_count": 469,
   "metadata": {
    "collapsed": true
   },
   "outputs": [],
   "source": [
    "baseball.to_csv('bb_with cat.csv')"
   ]
  },
  {
   "cell_type": "code",
   "execution_count": 470,
   "metadata": {
    "collapsed": true
   },
   "outputs": [],
   "source": [
    "catcher=baseball[baseball.player_cat=='Catcher']"
   ]
  },
  {
   "cell_type": "code",
   "execution_count": 471,
   "metadata": {
    "collapsed": true
   },
   "outputs": [],
   "source": [
    "fielder=baseball[baseball.player_cat=='Fielder']"
   ]
  },
  {
   "cell_type": "code",
   "execution_count": 472,
   "metadata": {
    "collapsed": false
   },
   "outputs": [],
   "source": [
    "pitcher=baseball[baseball.player_cat=='Pitcher']"
   ]
  },
  {
   "cell_type": "code",
   "execution_count": 473,
   "metadata": {
    "collapsed": false
   },
   "outputs": [
    {
     "data": {
      "text/plain": [
       "(4244, 50)"
      ]
     },
     "execution_count": 473,
     "metadata": {},
     "output_type": "execute_result"
    }
   ],
   "source": [
    "pitcher.shape"
   ]
  },
  {
   "cell_type": "code",
   "execution_count": 474,
   "metadata": {
    "collapsed": false
   },
   "outputs": [
    {
     "data": {
      "text/plain": [
       "0    4204\n",
       "1      40\n",
       "Name: inducted_HOF, dtype: int64"
      ]
     },
     "execution_count": 474,
     "metadata": {},
     "output_type": "execute_result"
    }
   ],
   "source": [
    "pitcher.inducted_HOF.value_counts()"
   ]
  },
  {
   "cell_type": "code",
   "execution_count": 475,
   "metadata": {
    "collapsed": true
   },
   "outputs": [],
   "source": [
    "getcolinfo()"
   ]
  },
  {
   "cell_type": "code",
   "execution_count": 476,
   "metadata": {
    "collapsed": false
   },
   "outputs": [
    {
     "data": {
      "text/plain": [
       "[u'HR_PIT',\n",
       " u'BAOpp_PIT',\n",
       " u'ERA_PIT',\n",
       " u'IBB_PIT',\n",
       " u'GF_PIT',\n",
       " u'SF_PIT',\n",
       " u'GIDP_PIT',\n",
       " u'BB/9_PIT']"
      ]
     },
     "execution_count": 476,
     "metadata": {},
     "output_type": "execute_result"
    }
   ],
   "source": [
    "pitchingcol"
   ]
  },
  {
   "cell_type": "code",
   "execution_count": 477,
   "metadata": {
    "collapsed": false
   },
   "outputs": [
    {
     "data": {
      "text/plain": [
       "Index([          u'weight_MAS',           u'height_MAS',\n",
       "                      u'AA_AP',                u'AL_AP',\n",
       "                      u'FL_AP',                u'NL_AP',\n",
       "                      u'PL_AP',                u'UA_AP',\n",
       "                   u'G_all_AP',                u'GS_AP',\n",
       "               u'G_batting_AP',         u'G_defense_AP',\n",
       "                     u'G_p_AP',               u'G_c_AP',\n",
       "                    u'G_1b_AP',              u'G_2b_AP',\n",
       "                    u'G_3b_AP',              u'G_ss_AP',\n",
       "                    u'G_lf_AP',              u'G_cf_AP',\n",
       "                    u'G_rf_AP',              u'G_of_AP',\n",
       "                    u'G_dh_AP',              u'G_ph_AP',\n",
       "                    u'G_pr_AP',               u'SH_BAT',\n",
       "                     u'HR_PIT',            u'BAOpp_PIT',\n",
       "                    u'ERA_PIT',              u'IBB_PIT',\n",
       "                     u'GF_PIT',               u'SF_PIT',\n",
       "                   u'GIDP_PIT',                u'G_FIE',\n",
       "                      u'A_FIE',               u'PB_FIE',\n",
       "                     u'SB_FIE',            u'AB/HR_BAT',\n",
       "                     u'BA_BAT',               u'TB_BAT',\n",
       "                    u'TOB_BAT',          u'SBA/ATT_BAT',\n",
       "                   u'BB/9_PIT',   u'Character_Award_AW',\n",
       "       u'Performance_Award_AW',      u'HOF_Eligibility',\n",
       "               u'inducted_HOF',              u'G_IF_AP',\n",
       "                     u'G_F_AP',           u'player_cat'],\n",
       "      dtype='object')"
      ]
     },
     "execution_count": 477,
     "metadata": {},
     "output_type": "execute_result"
    }
   ],
   "source": [
    "fielder.columns"
   ]
  },
  {
   "cell_type": "markdown",
   "metadata": {},
   "source": [
    "# 8. MODELLING FOR FIELDERS"
   ]
  },
  {
   "cell_type": "code",
   "execution_count": 478,
   "metadata": {
    "collapsed": false
   },
   "outputs": [
    {
     "name": "stderr",
     "output_type": "stream",
     "text": [
      "C:\\Users\\raviteja\\Anaconda2\\lib\\site-packages\\ipykernel\\__main__.py:1: SettingWithCopyWarning: \n",
      "A value is trying to be set on a copy of a slice from a DataFrame\n",
      "\n",
      "See the caveats in the documentation: http://pandas.pydata.org/pandas-docs/stable/indexing.html#indexing-view-versus-copy\n",
      "  if __name__ == '__main__':\n",
      "C:\\Users\\raviteja\\Anaconda2\\lib\\site-packages\\ipykernel\\__main__.py:4: SettingWithCopyWarning: \n",
      "A value is trying to be set on a copy of a slice from a DataFrame\n",
      "\n",
      "See the caveats in the documentation: http://pandas.pydata.org/pandas-docs/stable/indexing.html#indexing-view-versus-copy\n"
     ]
    },
    {
     "name": "stdout",
     "output_type": "stream",
     "text": [
      "(288, 40)\n",
      "0    221\n",
      "1     67\n",
      "Name: inducted_HOF, dtype: int64\n"
     ]
    },
    {
     "name": "stderr",
     "output_type": "stream",
     "text": [
      "C:\\Users\\raviteja\\Anaconda2\\lib\\site-packages\\ipykernel\\__main__.py:5: SettingWithCopyWarning: \n",
      "A value is trying to be set on a copy of a slice from a DataFrame\n",
      "\n",
      "See the caveats in the documentation: http://pandas.pydata.org/pandas-docs/stable/indexing.html#indexing-view-versus-copy\n"
     ]
    }
   ],
   "source": [
    "fielder.drop(pitchingcol,axis=1,inplace=True)\n",
    "fielder_elligible=fielder[fielder.HOF_Eligibility==1]\n",
    "fielder_hof=fielder[fielder.inducted_HOF==1]\n",
    "fielder_elligible.drop(['HOF_Eligibility','player_cat'],axis=1,inplace=True)\n",
    "fielder_hof.drop(['HOF_Eligibility','player_cat'],axis=1,inplace=True)\n",
    "x=fielder_elligible.append(fielder_hof)\n",
    "print x.shape\n",
    "print x.inducted_HOF.value_counts()\n",
    "fielder_elligible=fielder_elligible.sample(n=100,random_state=1)\n",
    "mdl_rdy=fielder_elligible.append(fielder_hof)\n",
    "x=mdl_rdy.drop(['inducted_HOF'],axis=1)\n",
    "y=mdl_rdy.inducted_HOF\n",
    "X_train, X_test, y_train, y_test = train_test_split(x, y, test_size=0.4, random_state=42)"
   ]
  },
  {
   "cell_type": "code",
   "execution_count": 479,
   "metadata": {
    "collapsed": false
   },
   "outputs": [
    {
     "data": {
      "text/plain": [
       "(167, 40)"
      ]
     },
     "execution_count": 479,
     "metadata": {},
     "output_type": "execute_result"
    }
   ],
   "source": [
    "mdl_rdy.shape"
   ]
  },
  {
   "cell_type": "code",
   "execution_count": 480,
   "metadata": {
    "collapsed": false
   },
   "outputs": [
    {
     "data": {
      "text/plain": [
       "0    100\n",
       "1     67\n",
       "Name: inducted_HOF, dtype: int64"
      ]
     },
     "execution_count": 480,
     "metadata": {},
     "output_type": "execute_result"
    }
   ],
   "source": [
    "mdl_rdy.inducted_HOF.value_counts()"
   ]
  },
  {
   "cell_type": "markdown",
   "metadata": {},
   "source": [
    "### Logistic Regression"
   ]
  },
  {
   "cell_type": "code",
   "execution_count": 481,
   "metadata": {
    "collapsed": false
   },
   "outputs": [
    {
     "name": "stdout",
     "output_type": "stream",
     "text": [
      "MODEL METRICS\n",
      "-------------\n",
      "Model Accuracy(Train): 1.0\n",
      "Model Accuracy(Test): 0.970149253731\n",
      "Confusion Matrix(Train):\n",
      "[[58  0]\n",
      " [ 0 42]]\n",
      "Confusion Matrix(Test):\n",
      "[[42  0]\n",
      " [ 2 23]]\n",
      "True Positive Rate: 0.92\n",
      "False Positive Rate: 0.0\n",
      "ROC AUC: 0.98\n"
     ]
    },
    {
     "data": {
      "image/png": "[encoded data removed]",
      "text/plain": [
       "<matplotlib.figure.Figure at 0x20e65668>"
      ]
     },
     "metadata": {},
     "output_type": "display_data"
    }
   ],
   "source": [
    "log_regression_fielder=LogisticRegression(penalty='l1')\n",
    "log_regression_fielder.fit(X_train,y_train)\n",
    "\n",
    "\n",
    "t1=log_regression_fielder.predict(X_train)\n",
    "t=log_regression_fielder.predict(X_test)\n",
    "#print classification_report(y_test,t)\n",
    "print \"MODEL METRICS\"\n",
    "print \"-------------\"\n",
    "print \"Model Accuracy(Train):\",accuracy_score(y_train,t1)\n",
    "print \"Model Accuracy(Test):\",accuracy_score(y_test,t)\n",
    "print \"Confusion Matrix(Train):\\n\",confusion_matrix(y_train,t1)\n",
    "print \"Confusion Matrix(Test):\\n\",confusion_matrix(y_test,t)\n",
    "x=confusion_matrix(y_test,t)\n",
    "tpr=x[1,1]/(x[1,0]+x[1,1])\n",
    "fpr=x[0,1]/(x[0,0]+x[0,1])\n",
    "print \"True Positive Rate:\",tpr\n",
    "print \"False Positive Rate:\",fpr\n",
    "\n",
    "\n",
    "fpr, tpr, _ =metrics.roc_curve(y_test,log_regression_fielder.predict_proba(X_test)[:,[1]],)\n",
    "# Calculate the AUC\n",
    "roc_auc = auc(fpr, tpr)\n",
    "print 'ROC AUC: %0.2f' % roc_auc\n",
    " \n",
    "# Plot of a ROC curve for a specific class\n",
    "plt.figure()\n",
    "plt.plot(fpr, tpr, label='ROC curve (area = %0.2f)' % roc_auc)\n",
    "plt.plot([0, 1], [0, 1], 'k--')\n",
    "plt.xlim([0.0, 1.0])\n",
    "plt.ylim([0.0, 1.05])\n",
    "plt.xlabel('False Positive Rate')\n",
    "plt.ylabel('True Positive Rate')\n",
    "plt.title('ROC Curve')\n",
    "plt.legend(loc=\"lower right\")\n",
    "plt.show()"
   ]
  },
  {
   "cell_type": "code",
   "execution_count": 482,
   "metadata": {
    "collapsed": false
   },
   "outputs": [
    {
     "name": "stdout",
     "output_type": "stream",
     "text": [
      "[[42  0]\n",
      " [ 2 23]]\n",
      "[[ 3 39]\n",
      " [ 0 25]]\n"
     ]
    }
   ],
   "source": [
    "print confusion_matrix(y_test, t)\n",
    "pred_prob=log_regression_fielder.predict_proba(X_test)[:,[1]]\n",
    "pred=pred_prob>.00000001\n",
    "pred=pred.astype(int)  \n",
    "print confusion_matrix(y_test, pred)"
   ]
  },
  {
   "cell_type": "code",
   "execution_count": 483,
   "metadata": {
    "collapsed": false
   },
   "outputs": [
    {
     "data": {
      "text/html": [
       "<div>\n",
       "<table border=\"1\" class=\"dataframe\">\n",
       "  <thead>\n",
       "    <tr style=\"text-align: right;\">\n",
       "      <th></th>\n",
       "      <th>Threshold</th>\n",
       "      <th>True Positive Rate</th>\n",
       "      <th>True Negative Rate</th>\n",
       "      <th>False Positive Rate</th>\n",
       "    </tr>\n",
       "  </thead>\n",
       "  <tbody>\n",
       "    <tr>\n",
       "      <th>0</th>\n",
       "      <td>0.00</td>\n",
       "      <td>1.00</td>\n",
       "      <td>0.000000</td>\n",
       "      <td>1.000000</td>\n",
       "    </tr>\n",
       "    <tr>\n",
       "      <th>1</th>\n",
       "      <td>0.05</td>\n",
       "      <td>0.96</td>\n",
       "      <td>0.904762</td>\n",
       "      <td>0.095238</td>\n",
       "    </tr>\n",
       "    <tr>\n",
       "      <th>2</th>\n",
       "      <td>0.10</td>\n",
       "      <td>0.96</td>\n",
       "      <td>0.952381</td>\n",
       "      <td>0.047619</td>\n",
       "    </tr>\n",
       "    <tr>\n",
       "      <th>3</th>\n",
       "      <td>0.15</td>\n",
       "      <td>0.96</td>\n",
       "      <td>0.976190</td>\n",
       "      <td>0.023810</td>\n",
       "    </tr>\n",
       "    <tr>\n",
       "      <th>4</th>\n",
       "      <td>0.20</td>\n",
       "      <td>0.96</td>\n",
       "      <td>0.976190</td>\n",
       "      <td>0.023810</td>\n",
       "    </tr>\n",
       "    <tr>\n",
       "      <th>5</th>\n",
       "      <td>0.25</td>\n",
       "      <td>0.96</td>\n",
       "      <td>0.976190</td>\n",
       "      <td>0.023810</td>\n",
       "    </tr>\n",
       "    <tr>\n",
       "      <th>6</th>\n",
       "      <td>0.30</td>\n",
       "      <td>0.96</td>\n",
       "      <td>0.976190</td>\n",
       "      <td>0.023810</td>\n",
       "    </tr>\n",
       "    <tr>\n",
       "      <th>7</th>\n",
       "      <td>0.35</td>\n",
       "      <td>0.96</td>\n",
       "      <td>0.976190</td>\n",
       "      <td>0.023810</td>\n",
       "    </tr>\n",
       "    <tr>\n",
       "      <th>8</th>\n",
       "      <td>0.40</td>\n",
       "      <td>0.96</td>\n",
       "      <td>0.976190</td>\n",
       "      <td>0.023810</td>\n",
       "    </tr>\n",
       "    <tr>\n",
       "      <th>9</th>\n",
       "      <td>0.45</td>\n",
       "      <td>0.96</td>\n",
       "      <td>1.000000</td>\n",
       "      <td>0.000000</td>\n",
       "    </tr>\n",
       "    <tr>\n",
       "      <th>10</th>\n",
       "      <td>0.50</td>\n",
       "      <td>0.92</td>\n",
       "      <td>1.000000</td>\n",
       "      <td>0.000000</td>\n",
       "    </tr>\n",
       "    <tr>\n",
       "      <th>11</th>\n",
       "      <td>0.55</td>\n",
       "      <td>0.92</td>\n",
       "      <td>1.000000</td>\n",
       "      <td>0.000000</td>\n",
       "    </tr>\n",
       "    <tr>\n",
       "      <th>12</th>\n",
       "      <td>0.60</td>\n",
       "      <td>0.92</td>\n",
       "      <td>1.000000</td>\n",
       "      <td>0.000000</td>\n",
       "    </tr>\n",
       "    <tr>\n",
       "      <th>13</th>\n",
       "      <td>0.65</td>\n",
       "      <td>0.88</td>\n",
       "      <td>1.000000</td>\n",
       "      <td>0.000000</td>\n",
       "    </tr>\n",
       "    <tr>\n",
       "      <th>14</th>\n",
       "      <td>0.70</td>\n",
       "      <td>0.88</td>\n",
       "      <td>1.000000</td>\n",
       "      <td>0.000000</td>\n",
       "    </tr>\n",
       "    <tr>\n",
       "      <th>15</th>\n",
       "      <td>0.75</td>\n",
       "      <td>0.88</td>\n",
       "      <td>1.000000</td>\n",
       "      <td>0.000000</td>\n",
       "    </tr>\n",
       "    <tr>\n",
       "      <th>16</th>\n",
       "      <td>0.80</td>\n",
       "      <td>0.88</td>\n",
       "      <td>1.000000</td>\n",
       "      <td>0.000000</td>\n",
       "    </tr>\n",
       "    <tr>\n",
       "      <th>17</th>\n",
       "      <td>0.85</td>\n",
       "      <td>0.88</td>\n",
       "      <td>1.000000</td>\n",
       "      <td>0.000000</td>\n",
       "    </tr>\n",
       "    <tr>\n",
       "      <th>18</th>\n",
       "      <td>0.90</td>\n",
       "      <td>0.84</td>\n",
       "      <td>1.000000</td>\n",
       "      <td>0.000000</td>\n",
       "    </tr>\n",
       "    <tr>\n",
       "      <th>19</th>\n",
       "      <td>0.95</td>\n",
       "      <td>0.76</td>\n",
       "      <td>1.000000</td>\n",
       "      <td>0.000000</td>\n",
       "    </tr>\n",
       "  </tbody>\n",
       "</table>\n",
       "</div>"
      ],
      "text/plain": [
       "    Threshold  True Positive Rate  True Negative Rate  False Positive Rate\n",
       "0        0.00                1.00            0.000000             1.000000\n",
       "1        0.05                0.96            0.904762             0.095238\n",
       "2        0.10                0.96            0.952381             0.047619\n",
       "3        0.15                0.96            0.976190             0.023810\n",
       "4        0.20                0.96            0.976190             0.023810\n",
       "5        0.25                0.96            0.976190             0.023810\n",
       "6        0.30                0.96            0.976190             0.023810\n",
       "7        0.35                0.96            0.976190             0.023810\n",
       "8        0.40                0.96            0.976190             0.023810\n",
       "9        0.45                0.96            1.000000             0.000000\n",
       "10       0.50                0.92            1.000000             0.000000\n",
       "11       0.55                0.92            1.000000             0.000000\n",
       "12       0.60                0.92            1.000000             0.000000\n",
       "13       0.65                0.88            1.000000             0.000000\n",
       "14       0.70                0.88            1.000000             0.000000\n",
       "15       0.75                0.88            1.000000             0.000000\n",
       "16       0.80                0.88            1.000000             0.000000\n",
       "17       0.85                0.88            1.000000             0.000000\n",
       "18       0.90                0.84            1.000000             0.000000\n",
       "19       0.95                0.76            1.000000             0.000000"
      ]
     },
     "execution_count": 483,
     "metadata": {},
     "output_type": "execute_result"
    }
   ],
   "source": [
    "cutoff=[]\n",
    "tpr=[]\n",
    "fpr=[]\n",
    "tnr=[]\n",
    "for i in np.arange(0,1,0.05):\n",
    "    cutoff.append(i)\n",
    "    pred_prob=log_regression_fielder.predict_proba(X_test)[:,[1]]\n",
    "    pred=pred_prob>i\n",
    "    pred=pred.astype(int)\n",
    "    x=confusion_matrix(y_test, pred)\n",
    "    tpr1=x[1,1]/(x[1,0]+x[1,1])\n",
    "    tnr1=x[0,0]/(x[0,0]+x[0,1])\n",
    "    fpr1=x[0,1]/(x[0,0]+x[0,1])\n",
    "    tpr.append(tpr1)\n",
    "    fpr.append(fpr1)\n",
    "    tnr.append(tnr1)\n",
    "threshold=DataFrame([cutoff,tpr,tnr,fpr]).transpose()\n",
    "threshold.columns=['Threshold','True Positive Rate','True Negative Rate','False Positive Rate']\n",
    "threshold.to_csv('threshold_model2.csv')\n",
    "threshold"
   ]
  },
  {
   "cell_type": "code",
   "execution_count": 484,
   "metadata": {
    "collapsed": false
   },
   "outputs": [
    {
     "data": {
      "text/html": [
       "<div>\n",
       "<table border=\"1\" class=\"dataframe\">\n",
       "  <thead>\n",
       "    <tr style=\"text-align: right;\">\n",
       "      <th></th>\n",
       "      <th>Variable</th>\n",
       "      <th>Coeffecient</th>\n",
       "    </tr>\n",
       "  </thead>\n",
       "  <tbody>\n",
       "    <tr>\n",
       "      <th>35</th>\n",
       "      <td>Character_Award_AW</td>\n",
       "      <td>0.603076</td>\n",
       "    </tr>\n",
       "    <tr>\n",
       "      <th>22</th>\n",
       "      <td>G_dh_AP</td>\n",
       "      <td>0.593796</td>\n",
       "    </tr>\n",
       "    <tr>\n",
       "      <th>34</th>\n",
       "      <td>SBA/ATT_BAT</td>\n",
       "      <td>0.529820</td>\n",
       "    </tr>\n",
       "    <tr>\n",
       "      <th>19</th>\n",
       "      <td>G_cf_AP</td>\n",
       "      <td>0.485613</td>\n",
       "    </tr>\n",
       "    <tr>\n",
       "      <th>38</th>\n",
       "      <td>G_F_AP</td>\n",
       "      <td>0.255400</td>\n",
       "    </tr>\n",
       "    <tr>\n",
       "      <th>36</th>\n",
       "      <td>Performance_Award_AW</td>\n",
       "      <td>0.158054</td>\n",
       "    </tr>\n",
       "    <tr>\n",
       "      <th>14</th>\n",
       "      <td>G_1b_AP</td>\n",
       "      <td>0.126309</td>\n",
       "    </tr>\n",
       "    <tr>\n",
       "      <th>15</th>\n",
       "      <td>G_2b_AP</td>\n",
       "      <td>0.095959</td>\n",
       "    </tr>\n",
       "    <tr>\n",
       "      <th>18</th>\n",
       "      <td>G_lf_AP</td>\n",
       "      <td>-0.010704</td>\n",
       "    </tr>\n",
       "    <tr>\n",
       "      <th>5</th>\n",
       "      <td>NL_AP</td>\n",
       "      <td>-0.047754</td>\n",
       "    </tr>\n",
       "    <tr>\n",
       "      <th>24</th>\n",
       "      <td>G_pr_AP</td>\n",
       "      <td>-0.362636</td>\n",
       "    </tr>\n",
       "    <tr>\n",
       "      <th>9</th>\n",
       "      <td>GS_AP</td>\n",
       "      <td>-1.174659</td>\n",
       "    </tr>\n",
       "    <tr>\n",
       "      <th>23</th>\n",
       "      <td>G_ph_AP</td>\n",
       "      <td>-1.736820</td>\n",
       "    </tr>\n",
       "  </tbody>\n",
       "</table>\n",
       "</div>"
      ],
      "text/plain": [
       "                Variable  Coeffecient\n",
       "35    Character_Award_AW     0.603076\n",
       "22               G_dh_AP     0.593796\n",
       "34           SBA/ATT_BAT     0.529820\n",
       "19               G_cf_AP     0.485613\n",
       "38                G_F_AP     0.255400\n",
       "36  Performance_Award_AW     0.158054\n",
       "14               G_1b_AP     0.126309\n",
       "15               G_2b_AP     0.095959\n",
       "18               G_lf_AP    -0.010704\n",
       "5                  NL_AP    -0.047754\n",
       "24               G_pr_AP    -0.362636\n",
       "9                  GS_AP    -1.174659\n",
       "23               G_ph_AP    -1.736820"
      ]
     },
     "execution_count": 484,
     "metadata": {},
     "output_type": "execute_result"
    }
   ],
   "source": [
    "coeffecients1=DataFrame(zip(X_train.columns,log_regression_fielder.coef_.flatten()),columns=['Variable','Coeffecient'])\n",
    "imp_coefficients=coeffecients1[coeffecients1.Coeffecient<>0]\n",
    "imp_coefficients.sort_values(by='Coeffecient',ascending=False)"
   ]
  },
  {
   "cell_type": "markdown",
   "metadata": {},
   "source": [
    "### Decision Tree"
   ]
  },
  {
   "cell_type": "code",
   "execution_count": 485,
   "metadata": {
    "collapsed": false
   },
   "outputs": [
    {
     "name": "stdout",
     "output_type": "stream",
     "text": [
      "MODEL METRICS\n",
      "-------------\n",
      "Model Accuracy(Train): 1.0\n",
      "Model Accuracy(Test): 0.955223880597\n",
      "Confusion Matrix(Train):\n",
      "[[58  0]\n",
      " [ 0 42]]\n",
      "Confusion Matrix(Test):\n",
      "[[41  1]\n",
      " [ 2 23]]\n",
      "ROC AUC: 0.95\n"
     ]
    },
    {
     "data": {
      "image/png": "[encoded data removed]",
      "text/plain": [
       "<matplotlib.figure.Figure at 0x20e65ef0>"
      ]
     },
     "metadata": {},
     "output_type": "display_data"
    }
   ],
   "source": [
    "decision_tree_fielder=tree.DecisionTreeClassifier(criterion='gini',max_depth=20)\n",
    "decision_tree_fielder.fit(X_train,y_train)\n",
    "\n",
    "\n",
    "print \"MODEL METRICS\"\n",
    "print \"-------------\"\n",
    "print \"Model Accuracy(Train):\",decision_tree_fielder.score(X_train,y_train)\n",
    "t1=decision_tree_fielder.predict(X_train)\n",
    "t=decision_tree_fielder.predict(X_test)\n",
    "print \"Model Accuracy(Test):\",accuracy_score(y_test,t)\n",
    "print \"Confusion Matrix(Train):\\n\",confusion_matrix(y_train,t1)\n",
    "print \"Confusion Matrix(Test):\\n\",confusion_matrix(y_test,t)\n",
    "\n",
    "fpr, tpr, _ =metrics.roc_curve(y_test,decision_tree_fielder.predict_proba(X_test)[:,[1]],)\n",
    "# Calculate the AUC\n",
    "roc_auc = auc(fpr, tpr)\n",
    "print 'ROC AUC: %0.2f' % roc_auc\n",
    " \n",
    "# Plot of a ROC curve for a specific class\n",
    "plt.figure()\n",
    "plt.plot(fpr, tpr, label='ROC curve (area = %0.2f)' % roc_auc)\n",
    "plt.plot([0, 1], [0, 1], 'k--')\n",
    "plt.xlim([0.0, 1.0])\n",
    "plt.ylim([0.0, 1.05])\n",
    "plt.xlabel('False Positive Rate')\n",
    "plt.ylabel('True Positive Rate')\n",
    "plt.title('ROC Curve')\n",
    "plt.legend(loc=\"lower right\")\n",
    "plt.show()"
   ]
  },
  {
   "cell_type": "code",
   "execution_count": 486,
   "metadata": {
    "collapsed": false
   },
   "outputs": [],
   "source": [
    "tree.export_graphviz(decision_tree_fielder,out_file='tree_fielders.dot',feature_names=X_train.columns) \n",
    "from sklearn.externals.six import StringIO  \n",
    "import pydot\n",
    "dot_data1 = StringIO() \n",
    "tree.export_graphviz(decision_tree_fielder, out_file=dot_data1) \n",
    "graph = pydot.graph_from_dot_data(dot_data1.getvalue()) "
   ]
  },
  {
   "cell_type": "markdown",
   "metadata": {},
   "source": [
    "### Support Vector Machine"
   ]
  },
  {
   "cell_type": "code",
   "execution_count": 165,
   "metadata": {
    "collapsed": false
   },
   "outputs": [
    {
     "name": "stdout",
     "output_type": "stream",
     "text": [
      "1.0\n",
      "0.955223880597\n",
      "0    58\n",
      "1    42\n",
      "Name: inducted_HOF, dtype: int64\n",
      "[[39  3]\n",
      " [ 0 25]]\n",
      "             precision    recall  f1-score   support\n",
      "\n",
      "          0       1.00      0.93      0.96        42\n",
      "          1       0.89      1.00      0.94        25\n",
      "\n",
      "avg / total       0.96      0.96      0.96        67\n",
      "\n"
     ]
    }
   ],
   "source": [
    "svm_fielder=svm.SVC()\n",
    "svm_fielder.fit(X_train,y_train)\n",
    "print svm_fielder.score(X_train,y_train)\n",
    "predict=svm_fielder.predict(X_test)\n",
    "print accuracy_score(predict,y_test)\n",
    "print(y_train.value_counts())\n",
    "print confusion_matrix(y_test,predict)\n",
    "print classification_report(y_test,predict)"
   ]
  },
  {
   "cell_type": "markdown",
   "metadata": {},
   "source": [
    "### Naive Bayes"
   ]
  },
  {
   "cell_type": "code",
   "execution_count": 166,
   "metadata": {
    "collapsed": false
   },
   "outputs": [
    {
     "name": "stdout",
     "output_type": "stream",
     "text": [
      "MODEL METRICS\n",
      "-------------\n",
      "Model Accuracy(Train): 0.97\n",
      "Model Accuracy(Test): 0.955223880597\n",
      "Confusion Matrix(Train):\n",
      "[[58  0]\n",
      " [ 3 39]]\n",
      "Confusion Matrix(Test):\n",
      "[[41  1]\n",
      " [ 2 23]]\n",
      "ROC AUC: 0.95\n"
     ]
    },
    {
     "data": {
      "image/png": "[encoded data removed]",
      "text/plain": [
       "<matplotlib.figure.Figure at 0x20e5a160>"
      ]
     },
     "metadata": {},
     "output_type": "display_data"
    }
   ],
   "source": [
    "naive_bayes_fielder=GaussianNB()\n",
    "naive_bayes_fielder.fit(X_train,y_train)\n",
    "\n",
    "\n",
    "print \"MODEL METRICS\"\n",
    "print \"-------------\"\n",
    "print \"Model Accuracy(Train):\",naive_bayes_fielder.score(X_train,y_train)\n",
    "t1=naive_bayes_fielder.predict(X_train)\n",
    "t=naive_bayes_fielder.predict(X_test)\n",
    "print \"Model Accuracy(Test):\",accuracy_score(y_test,t)\n",
    "print \"Confusion Matrix(Train):\\n\",confusion_matrix(y_train,t1)\n",
    "print \"Confusion Matrix(Test):\\n\",confusion_matrix(y_test,t)\n",
    "\n",
    "\n",
    "fpr, tpr, _ =metrics.roc_curve(y_test,naive_bayes_fielder.predict_proba(X_test)[:,[1]],)\n",
    "# Calculate the AUC\n",
    "roc_auc = auc(fpr, tpr)\n",
    "print 'ROC AUC: %0.2f' % roc_auc\n",
    " \n",
    "# Plot of a ROC curve for a specific class\n",
    "plt.figure()\n",
    "plt.plot(fpr, tpr, label='ROC curve (area = %0.2f)' % roc_auc)\n",
    "plt.plot([0, 1], [0, 1], 'k--')\n",
    "plt.xlim([0.0, 1.0])\n",
    "plt.ylim([0.0, 1.05])\n",
    "plt.xlabel('False Positive Rate')\n",
    "plt.ylabel('True Positive Rate')\n",
    "plt.title('ROC Curve')\n",
    "plt.legend(loc=\"lower right\")\n",
    "plt.show()"
   ]
  },
  {
   "cell_type": "markdown",
   "metadata": {},
   "source": [
    "### Random Forests"
   ]
  },
  {
   "cell_type": "code",
   "execution_count": 487,
   "metadata": {
    "collapsed": false
   },
   "outputs": [
    {
     "name": "stdout",
     "output_type": "stream",
     "text": [
      "MODEL METRICS\n",
      "-------------\n",
      "Model Accuracy(Train): 1.0\n",
      "Model Accuracy(Test): 0.940298507463\n",
      "Confusion Matrix(Train):\n",
      "[[58  0]\n",
      " [ 0 42]]\n",
      "Confusion Matrix(Test):\n",
      "[[40  2]\n",
      " [ 2 23]]\n",
      "True Positive Rate: 0.92\n",
      "False Positive Rate: 0.047619047619\n",
      "ROC AUC: 1.00\n"
     ]
    },
    {
     "data": {
      "image/png": "[encoded data removed]",
      "text/plain": [
       "<matplotlib.figure.Figure at 0x25134550>"
      ]
     },
     "metadata": {},
     "output_type": "display_data"
    }
   ],
   "source": [
    "rf_fielder=RandomForestClassifier()\n",
    "rf_fielder.fit(X_train,y_train)\n",
    "\n",
    "\n",
    "t1=rf_fielder.predict(X_train)\n",
    "t=rf_fielder.predict(X_test)\n",
    "#print classification_report(y_test,t)\n",
    "print \"MODEL METRICS\"\n",
    "print \"-------------\"\n",
    "print \"Model Accuracy(Train):\",accuracy_score(y_train,t1)\n",
    "print \"Model Accuracy(Test):\",accuracy_score(y_test,t)\n",
    "print \"Confusion Matrix(Train):\\n\",confusion_matrix(y_train,t1)\n",
    "print \"Confusion Matrix(Test):\\n\",confusion_matrix(y_test,t)\n",
    "x=confusion_matrix(y_test,t)\n",
    "tpr=x[1,1]/(x[1,0]+x[1,1])\n",
    "fpr=x[0,1]/(x[0,0]+x[0,1])\n",
    "print \"True Positive Rate:\",tpr\n",
    "print \"False Positive Rate:\",fpr\n",
    "\n",
    "\n",
    "fpr, tpr, _ =metrics.roc_curve(y_test,rf_fielder.predict_proba(X_test)[:,[1]],)\n",
    "# Calculate the AUC\n",
    "roc_auc = auc(fpr, tpr)\n",
    "print 'ROC AUC: %0.2f' % roc_auc\n",
    " \n",
    "# Plot of a ROC curve for a specific class\n",
    "plt.figure()\n",
    "plt.plot(fpr, tpr, label='ROC curve (area = %0.2f)' % roc_auc)\n",
    "plt.plot([0, 1], [0, 1], 'k--')\n",
    "plt.xlim([0.0, 1.0])\n",
    "plt.ylim([0.0, 1.05])\n",
    "plt.xlabel('False Positive Rate')\n",
    "plt.ylabel('True Positive Rate')\n",
    "plt.title('ROC Curve')\n",
    "plt.legend(loc=\"lower right\")\n",
    "plt.show()"
   ]
  },
  {
   "cell_type": "code",
   "execution_count": 488,
   "metadata": {
    "collapsed": false
   },
   "outputs": [
    {
     "data": {
      "text/html": [
       "<div>\n",
       "<table border=\"1\" class=\"dataframe\">\n",
       "  <thead>\n",
       "    <tr style=\"text-align: right;\">\n",
       "      <th></th>\n",
       "      <th>Threshold</th>\n",
       "      <th>True Positive Rate</th>\n",
       "      <th>True Negative Rate</th>\n",
       "      <th>False Positive Rate</th>\n",
       "    </tr>\n",
       "  </thead>\n",
       "  <tbody>\n",
       "    <tr>\n",
       "      <th>0</th>\n",
       "      <td>0.00</td>\n",
       "      <td>1.00</td>\n",
       "      <td>0.857143</td>\n",
       "      <td>0.142857</td>\n",
       "    </tr>\n",
       "    <tr>\n",
       "      <th>1</th>\n",
       "      <td>0.05</td>\n",
       "      <td>1.00</td>\n",
       "      <td>0.857143</td>\n",
       "      <td>0.142857</td>\n",
       "    </tr>\n",
       "    <tr>\n",
       "      <th>2</th>\n",
       "      <td>0.10</td>\n",
       "      <td>1.00</td>\n",
       "      <td>0.928571</td>\n",
       "      <td>0.071429</td>\n",
       "    </tr>\n",
       "    <tr>\n",
       "      <th>3</th>\n",
       "      <td>0.15</td>\n",
       "      <td>1.00</td>\n",
       "      <td>0.928571</td>\n",
       "      <td>0.071429</td>\n",
       "    </tr>\n",
       "    <tr>\n",
       "      <th>4</th>\n",
       "      <td>0.20</td>\n",
       "      <td>1.00</td>\n",
       "      <td>0.952381</td>\n",
       "      <td>0.047619</td>\n",
       "    </tr>\n",
       "    <tr>\n",
       "      <th>5</th>\n",
       "      <td>0.25</td>\n",
       "      <td>1.00</td>\n",
       "      <td>0.952381</td>\n",
       "      <td>0.047619</td>\n",
       "    </tr>\n",
       "    <tr>\n",
       "      <th>6</th>\n",
       "      <td>0.30</td>\n",
       "      <td>0.96</td>\n",
       "      <td>0.952381</td>\n",
       "      <td>0.047619</td>\n",
       "    </tr>\n",
       "    <tr>\n",
       "      <th>7</th>\n",
       "      <td>0.35</td>\n",
       "      <td>0.96</td>\n",
       "      <td>0.952381</td>\n",
       "      <td>0.047619</td>\n",
       "    </tr>\n",
       "    <tr>\n",
       "      <th>8</th>\n",
       "      <td>0.40</td>\n",
       "      <td>0.96</td>\n",
       "      <td>0.952381</td>\n",
       "      <td>0.047619</td>\n",
       "    </tr>\n",
       "    <tr>\n",
       "      <th>9</th>\n",
       "      <td>0.45</td>\n",
       "      <td>0.96</td>\n",
       "      <td>0.952381</td>\n",
       "      <td>0.047619</td>\n",
       "    </tr>\n",
       "    <tr>\n",
       "      <th>10</th>\n",
       "      <td>0.50</td>\n",
       "      <td>0.92</td>\n",
       "      <td>0.952381</td>\n",
       "      <td>0.047619</td>\n",
       "    </tr>\n",
       "    <tr>\n",
       "      <th>11</th>\n",
       "      <td>0.55</td>\n",
       "      <td>0.92</td>\n",
       "      <td>0.952381</td>\n",
       "      <td>0.047619</td>\n",
       "    </tr>\n",
       "    <tr>\n",
       "      <th>12</th>\n",
       "      <td>0.60</td>\n",
       "      <td>0.92</td>\n",
       "      <td>1.000000</td>\n",
       "      <td>0.000000</td>\n",
       "    </tr>\n",
       "    <tr>\n",
       "      <th>13</th>\n",
       "      <td>0.65</td>\n",
       "      <td>0.92</td>\n",
       "      <td>1.000000</td>\n",
       "      <td>0.000000</td>\n",
       "    </tr>\n",
       "    <tr>\n",
       "      <th>14</th>\n",
       "      <td>0.70</td>\n",
       "      <td>0.84</td>\n",
       "      <td>1.000000</td>\n",
       "      <td>0.000000</td>\n",
       "    </tr>\n",
       "    <tr>\n",
       "      <th>15</th>\n",
       "      <td>0.75</td>\n",
       "      <td>0.84</td>\n",
       "      <td>1.000000</td>\n",
       "      <td>0.000000</td>\n",
       "    </tr>\n",
       "    <tr>\n",
       "      <th>16</th>\n",
       "      <td>0.80</td>\n",
       "      <td>0.48</td>\n",
       "      <td>1.000000</td>\n",
       "      <td>0.000000</td>\n",
       "    </tr>\n",
       "    <tr>\n",
       "      <th>17</th>\n",
       "      <td>0.85</td>\n",
       "      <td>0.48</td>\n",
       "      <td>1.000000</td>\n",
       "      <td>0.000000</td>\n",
       "    </tr>\n",
       "    <tr>\n",
       "      <th>18</th>\n",
       "      <td>0.90</td>\n",
       "      <td>0.24</td>\n",
       "      <td>1.000000</td>\n",
       "      <td>0.000000</td>\n",
       "    </tr>\n",
       "    <tr>\n",
       "      <th>19</th>\n",
       "      <td>0.95</td>\n",
       "      <td>0.24</td>\n",
       "      <td>1.000000</td>\n",
       "      <td>0.000000</td>\n",
       "    </tr>\n",
       "  </tbody>\n",
       "</table>\n",
       "</div>"
      ],
      "text/plain": [
       "    Threshold  True Positive Rate  True Negative Rate  False Positive Rate\n",
       "0        0.00                1.00            0.857143             0.142857\n",
       "1        0.05                1.00            0.857143             0.142857\n",
       "2        0.10                1.00            0.928571             0.071429\n",
       "3        0.15                1.00            0.928571             0.071429\n",
       "4        0.20                1.00            0.952381             0.047619\n",
       "5        0.25                1.00            0.952381             0.047619\n",
       "6        0.30                0.96            0.952381             0.047619\n",
       "7        0.35                0.96            0.952381             0.047619\n",
       "8        0.40                0.96            0.952381             0.047619\n",
       "9        0.45                0.96            0.952381             0.047619\n",
       "10       0.50                0.92            0.952381             0.047619\n",
       "11       0.55                0.92            0.952381             0.047619\n",
       "12       0.60                0.92            1.000000             0.000000\n",
       "13       0.65                0.92            1.000000             0.000000\n",
       "14       0.70                0.84            1.000000             0.000000\n",
       "15       0.75                0.84            1.000000             0.000000\n",
       "16       0.80                0.48            1.000000             0.000000\n",
       "17       0.85                0.48            1.000000             0.000000\n",
       "18       0.90                0.24            1.000000             0.000000\n",
       "19       0.95                0.24            1.000000             0.000000"
      ]
     },
     "execution_count": 488,
     "metadata": {},
     "output_type": "execute_result"
    }
   ],
   "source": [
    "cutoff=[]\n",
    "tpr=[]\n",
    "fpr=[]\n",
    "tnr=[]\n",
    "for i in np.arange(0,1,0.05):\n",
    "    cutoff.append(i)\n",
    "    pred_prob=rf_fielder.predict_proba(X_test)[:,[1]]\n",
    "    pred=pred_prob>i\n",
    "    pred=pred.astype(int)\n",
    "    x=confusion_matrix(y_test, pred)\n",
    "    tpr1=x[1,1]/(x[1,0]+x[1,1])\n",
    "    tnr1=x[0,0]/(x[0,0]+x[0,1])\n",
    "    fpr1=x[0,1]/(x[0,0]+x[0,1])\n",
    "    tpr.append(tpr1)\n",
    "    fpr.append(fpr1)\n",
    "    tnr.append(tnr1)\n",
    "threshold=DataFrame([cutoff,tpr,tnr,fpr]).transpose()\n",
    "threshold.columns=['Threshold','True Positive Rate','True Negative Rate','False Positive Rate']\n",
    "threshold.to_csv('threshold_model3.csv')\n",
    "threshold"
   ]
  },
  {
   "cell_type": "markdown",
   "metadata": {},
   "source": [
    "### Gradient Boosting"
   ]
  },
  {
   "cell_type": "code",
   "execution_count": 489,
   "metadata": {
    "collapsed": false
   },
   "outputs": [
    {
     "name": "stdout",
     "output_type": "stream",
     "text": [
      "MODEL METRICS\n",
      "-------------\n",
      "Model Accuracy(Train): 1.0\n",
      "Model Accuracy(Test): 0.925373134328\n",
      "Confusion Matrix(Train):\n",
      "[[58  0]\n",
      " [ 0 42]]\n",
      "Confusion Matrix(Test):\n",
      "[[40  2]\n",
      " [ 3 22]]\n",
      "True Positive Rate: 0.88\n",
      "False Positive Rate: 0.047619047619\n",
      "ROC AUC: 0.99\n"
     ]
    },
    {
     "data": {
      "image/png": "[encoded data removed]",
      "text/plain": [
       "<matplotlib.figure.Figure at 0x28ce7518>"
      ]
     },
     "metadata": {},
     "output_type": "display_data"
    }
   ],
   "source": [
    "gbt_fielder=GradientBoostingClassifier(n_estimators=100,learning_rate=1.0,max_depth=1,random_state=0)\n",
    "gbt_fielder.fit(X_train,y_train)\n",
    "\n",
    "\n",
    "\n",
    "t1=gbt_fielder.predict(X_train)\n",
    "t=gbt_fielder.predict(X_test)\n",
    "#print classification_report(y_test,t)\n",
    "print \"MODEL METRICS\"\n",
    "print \"-------------\"\n",
    "print \"Model Accuracy(Train):\",accuracy_score(y_train,t1)\n",
    "print \"Model Accuracy(Test):\",accuracy_score(y_test,t)\n",
    "print \"Confusion Matrix(Train):\\n\",confusion_matrix(y_train,t1)\n",
    "print \"Confusion Matrix(Test):\\n\",confusion_matrix(y_test,t)\n",
    "x=confusion_matrix(y_test,t)\n",
    "tpr=x[1,1]/(x[1,0]+x[1,1])\n",
    "fpr=x[0,1]/(x[0,0]+x[0,1])\n",
    "print \"True Positive Rate:\",tpr\n",
    "print \"False Positive Rate:\",fpr\n",
    "\n",
    "\n",
    "fpr, tpr, _ =metrics.roc_curve(y_test,gbt_fielder.predict_proba(X_test)[:,[1]],)\n",
    "# Calculate the AUC\n",
    "roc_auc = auc(fpr, tpr)\n",
    "print 'ROC AUC: %0.2f' % roc_auc\n",
    " \n",
    "# Plot of a ROC curve for a specific class\n",
    "plt.figure()\n",
    "plt.plot(fpr, tpr, label='ROC curve (area = %0.2f)' % roc_auc)\n",
    "plt.plot([0, 1], [0, 1], 'k--')\n",
    "plt.xlim([0.0, 1.0])\n",
    "plt.ylim([0.0, 1.05])\n",
    "plt.xlabel('False Positive Rate')\n",
    "plt.ylabel('True Positive Rate')\n",
    "plt.title('ROC Curve')\n",
    "plt.legend(loc=\"lower right\")\n",
    "plt.show()"
   ]
  },
  {
   "cell_type": "code",
   "execution_count": 490,
   "metadata": {
    "collapsed": false
   },
   "outputs": [
    {
     "name": "stdout",
     "output_type": "stream",
     "text": [
      "[[40  2]\n",
      " [ 3 22]]\n",
      "[[40  2]\n",
      " [ 0 25]]\n"
     ]
    }
   ],
   "source": [
    "print confusion_matrix(y_test, t)\n",
    "pred_prob=gbt_fielder.predict_proba(X_test)[:,[1]]\n",
    "pred=pred_prob>.01\n",
    "pred=pred.astype(int)  \n",
    "print confusion_matrix(y_test, pred)"
   ]
  },
  {
   "cell_type": "code",
   "execution_count": 493,
   "metadata": {
    "collapsed": false
   },
   "outputs": [
    {
     "data": {
      "text/html": [
       "<div>\n",
       "<table border=\"1\" class=\"dataframe\">\n",
       "  <thead>\n",
       "    <tr style=\"text-align: right;\">\n",
       "      <th></th>\n",
       "      <th>Threshold</th>\n",
       "      <th>True Positive Rate</th>\n",
       "      <th>True Negative Rate</th>\n",
       "      <th>False Positive Rate</th>\n",
       "    </tr>\n",
       "  </thead>\n",
       "  <tbody>\n",
       "    <tr>\n",
       "      <th>0</th>\n",
       "      <td>0.00</td>\n",
       "      <td>1.00</td>\n",
       "      <td>0.000000</td>\n",
       "      <td>1.000000</td>\n",
       "    </tr>\n",
       "    <tr>\n",
       "      <th>1</th>\n",
       "      <td>0.01</td>\n",
       "      <td>1.00</td>\n",
       "      <td>0.952381</td>\n",
       "      <td>0.047619</td>\n",
       "    </tr>\n",
       "    <tr>\n",
       "      <th>2</th>\n",
       "      <td>0.02</td>\n",
       "      <td>0.96</td>\n",
       "      <td>0.952381</td>\n",
       "      <td>0.047619</td>\n",
       "    </tr>\n",
       "    <tr>\n",
       "      <th>3</th>\n",
       "      <td>0.03</td>\n",
       "      <td>0.96</td>\n",
       "      <td>0.952381</td>\n",
       "      <td>0.047619</td>\n",
       "    </tr>\n",
       "    <tr>\n",
       "      <th>4</th>\n",
       "      <td>0.04</td>\n",
       "      <td>0.96</td>\n",
       "      <td>0.952381</td>\n",
       "      <td>0.047619</td>\n",
       "    </tr>\n",
       "    <tr>\n",
       "      <th>5</th>\n",
       "      <td>0.05</td>\n",
       "      <td>0.96</td>\n",
       "      <td>0.952381</td>\n",
       "      <td>0.047619</td>\n",
       "    </tr>\n",
       "    <tr>\n",
       "      <th>6</th>\n",
       "      <td>0.06</td>\n",
       "      <td>0.92</td>\n",
       "      <td>0.952381</td>\n",
       "      <td>0.047619</td>\n",
       "    </tr>\n",
       "    <tr>\n",
       "      <th>7</th>\n",
       "      <td>0.07</td>\n",
       "      <td>0.92</td>\n",
       "      <td>0.952381</td>\n",
       "      <td>0.047619</td>\n",
       "    </tr>\n",
       "    <tr>\n",
       "      <th>8</th>\n",
       "      <td>0.08</td>\n",
       "      <td>0.92</td>\n",
       "      <td>0.952381</td>\n",
       "      <td>0.047619</td>\n",
       "    </tr>\n",
       "    <tr>\n",
       "      <th>9</th>\n",
       "      <td>0.09</td>\n",
       "      <td>0.92</td>\n",
       "      <td>0.952381</td>\n",
       "      <td>0.047619</td>\n",
       "    </tr>\n",
       "  </tbody>\n",
       "</table>\n",
       "</div>"
      ],
      "text/plain": [
       "   Threshold  True Positive Rate  True Negative Rate  False Positive Rate\n",
       "0       0.00                1.00            0.000000             1.000000\n",
       "1       0.01                1.00            0.952381             0.047619\n",
       "2       0.02                0.96            0.952381             0.047619\n",
       "3       0.03                0.96            0.952381             0.047619\n",
       "4       0.04                0.96            0.952381             0.047619\n",
       "5       0.05                0.96            0.952381             0.047619\n",
       "6       0.06                0.92            0.952381             0.047619\n",
       "7       0.07                0.92            0.952381             0.047619\n",
       "8       0.08                0.92            0.952381             0.047619\n",
       "9       0.09                0.92            0.952381             0.047619"
      ]
     },
     "execution_count": 493,
     "metadata": {},
     "output_type": "execute_result"
    }
   ],
   "source": [
    "cutoff=[]\n",
    "tpr=[]\n",
    "fpr=[]\n",
    "tnr=[]\n",
    "for i in np.arange(0,0.1,0.01):\n",
    "    cutoff.append(i)\n",
    "    pred_prob=gbt_fielder.predict_proba(X_test)[:,[1]]\n",
    "    pred=pred_prob>i\n",
    "    pred=pred.astype(int)\n",
    "    x=confusion_matrix(y_test, pred)\n",
    "    tpr1=x[1,1]/(x[1,0]+x[1,1])\n",
    "    tnr1=x[0,0]/(x[0,0]+x[0,1])\n",
    "    fpr1=x[0,1]/(x[0,0]+x[0,1])\n",
    "    tpr.append(tpr1)\n",
    "    fpr.append(fpr1)\n",
    "    tnr.append(tnr1)\n",
    "threshold=DataFrame([cutoff,tpr,tnr,fpr]).transpose()\n",
    "threshold.columns=['Threshold','True Positive Rate','True Negative Rate','False Positive Rate']\n",
    "threshold.to_csv('threshold_model2.csv')\n",
    "threshold"
   ]
  },
  {
   "cell_type": "code",
   "execution_count": 492,
   "metadata": {
    "collapsed": false
   },
   "outputs": [
    {
     "data": {
      "text/plain": [
       "<matplotlib.text.Text at 0x28ce53c8>"
      ]
     },
     "execution_count": 492,
     "metadata": {},
     "output_type": "execute_result"
    },
    {
     "data": {
      "image/png": "[encoded data removed]",
      "text/plain": [
       "<matplotlib.figure.Figure at 0x2cc0f588>"
      ]
     },
     "metadata": {},
     "output_type": "display_data"
    }
   ],
   "source": [
    "plt.figure(figsize=(20,10))\n",
    "feat_imp = pd.Series(gbt_fielder.feature_importances_, X_test.columns).sort_values(ascending=False)\n",
    "feat_imp.plot(kind='bar', title='Feature Importances')\n",
    "plt.ylabel('Feature Importance Score')"
   ]
  },
  {
   "cell_type": "markdown",
   "metadata": {},
   "source": [
    "# 9. MODELLING FOR PITCHERS"
   ]
  },
  {
   "cell_type": "code",
   "execution_count": 173,
   "metadata": {
    "collapsed": false
   },
   "outputs": [
    {
     "name": "stderr",
     "output_type": "stream",
     "text": [
      "C:\\Users\\raviteja\\Anaconda2\\lib\\site-packages\\ipykernel\\__main__.py:1: SettingWithCopyWarning: \n",
      "A value is trying to be set on a copy of a slice from a DataFrame\n",
      "\n",
      "See the caveats in the documentation: http://pandas.pydata.org/pandas-docs/stable/indexing.html#indexing-view-versus-copy\n",
      "  if __name__ == '__main__':\n"
     ]
    }
   ],
   "source": [
    "pitcher.drop(battingcol,axis=1,inplace=True)"
   ]
  },
  {
   "cell_type": "code",
   "execution_count": 174,
   "metadata": {
    "collapsed": false
   },
   "outputs": [
    {
     "name": "stderr",
     "output_type": "stream",
     "text": [
      "C:\\Users\\raviteja\\Anaconda2\\lib\\site-packages\\ipykernel\\__main__.py:1: SettingWithCopyWarning: \n",
      "A value is trying to be set on a copy of a slice from a DataFrame\n",
      "\n",
      "See the caveats in the documentation: http://pandas.pydata.org/pandas-docs/stable/indexing.html#indexing-view-versus-copy\n",
      "  if __name__ == '__main__':\n"
     ]
    }
   ],
   "source": [
    "pitcher.drop(fieldingcol,axis=1,inplace=True)"
   ]
  },
  {
   "cell_type": "code",
   "execution_count": 175,
   "metadata": {
    "collapsed": false
   },
   "outputs": [
    {
     "data": {
      "text/plain": [
       "0    4204\n",
       "1      40\n",
       "Name: inducted_HOF, dtype: int64"
      ]
     },
     "execution_count": 175,
     "metadata": {},
     "output_type": "execute_result"
    }
   ],
   "source": [
    "pitcher.inducted_HOF.value_counts()"
   ]
  },
  {
   "cell_type": "code",
   "execution_count": 177,
   "metadata": {
    "collapsed": false
   },
   "outputs": [
    {
     "name": "stderr",
     "output_type": "stream",
     "text": [
      "C:\\Users\\raviteja\\Anaconda2\\lib\\site-packages\\ipykernel\\__main__.py:3: SettingWithCopyWarning: \n",
      "A value is trying to be set on a copy of a slice from a DataFrame\n",
      "\n",
      "See the caveats in the documentation: http://pandas.pydata.org/pandas-docs/stable/indexing.html#indexing-view-versus-copy\n",
      "  app.launch_new_instance()\n",
      "C:\\Users\\raviteja\\Anaconda2\\lib\\site-packages\\ipykernel\\__main__.py:4: SettingWithCopyWarning: \n",
      "A value is trying to be set on a copy of a slice from a DataFrame\n",
      "\n",
      "See the caveats in the documentation: http://pandas.pydata.org/pandas-docs/stable/indexing.html#indexing-view-versus-copy\n"
     ]
    },
    {
     "name": "stdout",
     "output_type": "stream",
     "text": [
      "(277, 63)\n",
      "0    237\n",
      "1     40\n",
      "Name: inducted_HOF, dtype: int64\n",
      "1    40\n",
      "Name: inducted_HOF, dtype: int64\n"
     ]
    }
   ],
   "source": [
    "pitcher_elligible=pitcher[pitcher.HOF_Eligibility==1]\n",
    "pitcher_hof=pitcher[pitcher.inducted_HOF==1]\n",
    "pitcher_elligible.drop(['HOF_Eligibility','player_cat'],axis=1,inplace=True)\n",
    "pitcher_hof.drop(['HOF_Eligibility','player_cat'],axis=1,inplace=True)\n",
    "x=pitcher_elligible.append(pitcher_hof)\n",
    "print x.shape\n",
    "print x.inducted_HOF.value_counts()\n",
    "print pitcher_hof.inducted_HOF.value_counts()\n",
    "pitcher_elligible=pitcher_elligible.sample(n=100,random_state=1)\n",
    "mdl_rdy=pitcher_elligible.append(pitcher_hof)\n",
    "x=mdl_rdy.drop(['inducted_HOF'],axis=1)\n",
    "y=mdl_rdy.inducted_HOF\n",
    "X_train, X_test, y_train, y_test = train_test_split(x, y, test_size=0.4, random_state=42)"
   ]
  },
  {
   "cell_type": "code",
   "execution_count": 178,
   "metadata": {
    "collapsed": false
   },
   "outputs": [
    {
     "data": {
      "text/plain": [
       "(140, 63)"
      ]
     },
     "execution_count": 178,
     "metadata": {},
     "output_type": "execute_result"
    }
   ],
   "source": [
    "mdl_rdy.shape"
   ]
  },
  {
   "cell_type": "markdown",
   "metadata": {},
   "source": [
    "### Logistic Regression"
   ]
  },
  {
   "cell_type": "code",
   "execution_count": 179,
   "metadata": {
    "collapsed": false
   },
   "outputs": [
    {
     "name": "stdout",
     "output_type": "stream",
     "text": [
      "MODEL METRICS\n",
      "-------------\n",
      "Model Accuracy(Train): 1.0\n",
      "Model Accuracy(Test): 0.910714285714\n",
      "Confusion Matrix(Train):\n",
      "[[62  0]\n",
      " [ 0 22]]\n",
      "Confusion Matrix(Test):\n",
      "[[36  2]\n",
      " [ 3 15]]\n",
      "True Positive Rate: 0.833333333333\n",
      "False Positive Rate: 0.0526315789474\n",
      "ROC AUC: 0.99\n"
     ]
    },
    {
     "data": {
      "image/png": "[encoded data removed]",
      "text/plain": [
       "<matplotlib.figure.Figure at 0x223f14e0>"
      ]
     },
     "metadata": {},
     "output_type": "display_data"
    }
   ],
   "source": [
    "log_regression_pitcher=LogisticRegression(penalty='l1')\n",
    "log_regression_pitcher.fit(X_train,y_train)\n",
    "\n",
    "\n",
    "t1=log_regression_pitcher.predict(X_train)\n",
    "t=log_regression_pitcher.predict(X_test)\n",
    "#print classification_report(y_test,t)\n",
    "print \"MODEL METRICS\"\n",
    "print \"-------------\"\n",
    "print \"Model Accuracy(Train):\",accuracy_score(y_train,t1)\n",
    "print \"Model Accuracy(Test):\",accuracy_score(y_test,t)\n",
    "print \"Confusion Matrix(Train):\\n\",confusion_matrix(y_train,t1)\n",
    "print \"Confusion Matrix(Test):\\n\",confusion_matrix(y_test,t)\n",
    "x=confusion_matrix(y_test,t)\n",
    "tpr=x[1,1]/(x[1,0]+x[1,1])\n",
    "fpr=x[0,1]/(x[0,0]+x[0,1])\n",
    "print \"True Positive Rate:\",tpr\n",
    "print \"False Positive Rate:\",fpr\n",
    "\n",
    "\n",
    "fpr, tpr, _ =metrics.roc_curve(y_test,log_regression_pitcher.predict_proba(X_test)[:,[1]],)\n",
    "# Calculate the AUC\n",
    "roc_auc = auc(fpr, tpr)\n",
    "print 'ROC AUC: %0.2f' % roc_auc\n",
    " \n",
    "# Plot of a ROC curve for a specific class\n",
    "plt.figure()\n",
    "plt.plot(fpr, tpr, label='ROC curve (area = %0.2f)' % roc_auc)\n",
    "plt.plot([0, 1], [0, 1], 'k--')\n",
    "plt.xlim([0.0, 1.0])\n",
    "plt.ylim([0.0, 1.05])\n",
    "plt.xlabel('False Positive Rate')\n",
    "plt.ylabel('True Positive Rate')\n",
    "plt.title('ROC Curve')\n",
    "plt.legend(loc=\"lower right\")\n",
    "plt.show()"
   ]
  },
  {
   "cell_type": "code",
   "execution_count": 180,
   "metadata": {
    "collapsed": false
   },
   "outputs": [
    {
     "data": {
      "text/html": [
       "<div>\n",
       "<table border=\"1\" class=\"dataframe\">\n",
       "  <thead>\n",
       "    <tr style=\"text-align: right;\">\n",
       "      <th></th>\n",
       "      <th>Threshold</th>\n",
       "      <th>True Positive Rate</th>\n",
       "      <th>True Negative Rate</th>\n",
       "      <th>False Positive Rate</th>\n",
       "    </tr>\n",
       "  </thead>\n",
       "  <tbody>\n",
       "    <tr>\n",
       "      <th>0</th>\n",
       "      <td>0.00</td>\n",
       "      <td>1.000000</td>\n",
       "      <td>0.000000</td>\n",
       "      <td>1.000000</td>\n",
       "    </tr>\n",
       "    <tr>\n",
       "      <th>1</th>\n",
       "      <td>0.05</td>\n",
       "      <td>1.000000</td>\n",
       "      <td>0.763158</td>\n",
       "      <td>0.236842</td>\n",
       "    </tr>\n",
       "    <tr>\n",
       "      <th>2</th>\n",
       "      <td>0.10</td>\n",
       "      <td>1.000000</td>\n",
       "      <td>0.842105</td>\n",
       "      <td>0.157895</td>\n",
       "    </tr>\n",
       "    <tr>\n",
       "      <th>3</th>\n",
       "      <td>0.15</td>\n",
       "      <td>1.000000</td>\n",
       "      <td>0.842105</td>\n",
       "      <td>0.157895</td>\n",
       "    </tr>\n",
       "    <tr>\n",
       "      <th>4</th>\n",
       "      <td>0.20</td>\n",
       "      <td>1.000000</td>\n",
       "      <td>0.868421</td>\n",
       "      <td>0.131579</td>\n",
       "    </tr>\n",
       "    <tr>\n",
       "      <th>5</th>\n",
       "      <td>0.25</td>\n",
       "      <td>0.944444</td>\n",
       "      <td>0.894737</td>\n",
       "      <td>0.105263</td>\n",
       "    </tr>\n",
       "    <tr>\n",
       "      <th>6</th>\n",
       "      <td>0.30</td>\n",
       "      <td>0.944444</td>\n",
       "      <td>0.894737</td>\n",
       "      <td>0.105263</td>\n",
       "    </tr>\n",
       "    <tr>\n",
       "      <th>7</th>\n",
       "      <td>0.35</td>\n",
       "      <td>0.944444</td>\n",
       "      <td>0.921053</td>\n",
       "      <td>0.078947</td>\n",
       "    </tr>\n",
       "    <tr>\n",
       "      <th>8</th>\n",
       "      <td>0.40</td>\n",
       "      <td>0.944444</td>\n",
       "      <td>0.921053</td>\n",
       "      <td>0.078947</td>\n",
       "    </tr>\n",
       "    <tr>\n",
       "      <th>9</th>\n",
       "      <td>0.45</td>\n",
       "      <td>0.888889</td>\n",
       "      <td>0.921053</td>\n",
       "      <td>0.078947</td>\n",
       "    </tr>\n",
       "    <tr>\n",
       "      <th>10</th>\n",
       "      <td>0.50</td>\n",
       "      <td>0.833333</td>\n",
       "      <td>0.947368</td>\n",
       "      <td>0.052632</td>\n",
       "    </tr>\n",
       "    <tr>\n",
       "      <th>11</th>\n",
       "      <td>0.55</td>\n",
       "      <td>0.833333</td>\n",
       "      <td>0.947368</td>\n",
       "      <td>0.052632</td>\n",
       "    </tr>\n",
       "    <tr>\n",
       "      <th>12</th>\n",
       "      <td>0.60</td>\n",
       "      <td>0.833333</td>\n",
       "      <td>0.947368</td>\n",
       "      <td>0.052632</td>\n",
       "    </tr>\n",
       "    <tr>\n",
       "      <th>13</th>\n",
       "      <td>0.65</td>\n",
       "      <td>0.833333</td>\n",
       "      <td>0.947368</td>\n",
       "      <td>0.052632</td>\n",
       "    </tr>\n",
       "    <tr>\n",
       "      <th>14</th>\n",
       "      <td>0.70</td>\n",
       "      <td>0.833333</td>\n",
       "      <td>1.000000</td>\n",
       "      <td>0.000000</td>\n",
       "    </tr>\n",
       "    <tr>\n",
       "      <th>15</th>\n",
       "      <td>0.75</td>\n",
       "      <td>0.722222</td>\n",
       "      <td>1.000000</td>\n",
       "      <td>0.000000</td>\n",
       "    </tr>\n",
       "    <tr>\n",
       "      <th>16</th>\n",
       "      <td>0.80</td>\n",
       "      <td>0.722222</td>\n",
       "      <td>1.000000</td>\n",
       "      <td>0.000000</td>\n",
       "    </tr>\n",
       "    <tr>\n",
       "      <th>17</th>\n",
       "      <td>0.85</td>\n",
       "      <td>0.722222</td>\n",
       "      <td>1.000000</td>\n",
       "      <td>0.000000</td>\n",
       "    </tr>\n",
       "    <tr>\n",
       "      <th>18</th>\n",
       "      <td>0.90</td>\n",
       "      <td>0.722222</td>\n",
       "      <td>1.000000</td>\n",
       "      <td>0.000000</td>\n",
       "    </tr>\n",
       "    <tr>\n",
       "      <th>19</th>\n",
       "      <td>0.95</td>\n",
       "      <td>0.611111</td>\n",
       "      <td>1.000000</td>\n",
       "      <td>0.000000</td>\n",
       "    </tr>\n",
       "  </tbody>\n",
       "</table>\n",
       "</div>"
      ],
      "text/plain": [
       "    Threshold  True Positive Rate  True Negative Rate  False Positive Rate\n",
       "0        0.00            1.000000            0.000000             1.000000\n",
       "1        0.05            1.000000            0.763158             0.236842\n",
       "2        0.10            1.000000            0.842105             0.157895\n",
       "3        0.15            1.000000            0.842105             0.157895\n",
       "4        0.20            1.000000            0.868421             0.131579\n",
       "5        0.25            0.944444            0.894737             0.105263\n",
       "6        0.30            0.944444            0.894737             0.105263\n",
       "7        0.35            0.944444            0.921053             0.078947\n",
       "8        0.40            0.944444            0.921053             0.078947\n",
       "9        0.45            0.888889            0.921053             0.078947\n",
       "10       0.50            0.833333            0.947368             0.052632\n",
       "11       0.55            0.833333            0.947368             0.052632\n",
       "12       0.60            0.833333            0.947368             0.052632\n",
       "13       0.65            0.833333            0.947368             0.052632\n",
       "14       0.70            0.833333            1.000000             0.000000\n",
       "15       0.75            0.722222            1.000000             0.000000\n",
       "16       0.80            0.722222            1.000000             0.000000\n",
       "17       0.85            0.722222            1.000000             0.000000\n",
       "18       0.90            0.722222            1.000000             0.000000\n",
       "19       0.95            0.611111            1.000000             0.000000"
      ]
     },
     "execution_count": 180,
     "metadata": {},
     "output_type": "execute_result"
    }
   ],
   "source": [
    "cutoff=[]\n",
    "tpr=[]\n",
    "fpr=[]\n",
    "tnr=[]\n",
    "for i in np.arange(0,1,0.05):\n",
    "    cutoff.append(i)\n",
    "    pred_prob=log_regression_pitcher.predict_proba(X_test)[:,[1]]\n",
    "    pred=pred_prob>i\n",
    "    pred=pred.astype(int)\n",
    "    x=confusion_matrix(y_test, pred)\n",
    "    tpr1=x[1,1]/(x[1,0]+x[1,1])\n",
    "    tnr1=x[0,0]/(x[0,0]+x[0,1])\n",
    "    fpr1=x[0,1]/(x[0,0]+x[0,1])\n",
    "    tpr.append(tpr1)\n",
    "    fpr.append(fpr1)\n",
    "    tnr.append(tnr1)\n",
    "threshold=DataFrame([cutoff,tpr,tnr,fpr]).transpose()\n",
    "threshold.columns=['Threshold','True Positive Rate','True Negative Rate','False Positive Rate']\n",
    "threshold.to_csv('threshold_model2.csv')\n",
    "threshold"
   ]
  },
  {
   "cell_type": "code",
   "execution_count": 181,
   "metadata": {
    "collapsed": false
   },
   "outputs": [
    {
     "data": {
      "text/html": [
       "<div>\n",
       "<table border=\"1\" class=\"dataframe\">\n",
       "  <thead>\n",
       "    <tr style=\"text-align: right;\">\n",
       "      <th></th>\n",
       "      <th>Variable</th>\n",
       "      <th>Coeffecient</th>\n",
       "    </tr>\n",
       "  </thead>\n",
       "  <tbody>\n",
       "    <tr>\n",
       "      <th>59</th>\n",
       "      <td>BB/9_PIT</td>\n",
       "      <td>0.898690</td>\n",
       "    </tr>\n",
       "    <tr>\n",
       "      <th>20</th>\n",
       "      <td>TSN All-Star_AW</td>\n",
       "      <td>0.391155</td>\n",
       "    </tr>\n",
       "    <tr>\n",
       "      <th>8</th>\n",
       "      <td>Cy Young Award_AW</td>\n",
       "      <td>0.352168</td>\n",
       "    </tr>\n",
       "    <tr>\n",
       "      <th>37</th>\n",
       "      <td>G_batting_AP</td>\n",
       "      <td>0.320219</td>\n",
       "    </tr>\n",
       "    <tr>\n",
       "      <th>5</th>\n",
       "      <td>Baseball Magazine All-Star_AW</td>\n",
       "      <td>0.242840</td>\n",
       "    </tr>\n",
       "    <tr>\n",
       "      <th>56</th>\n",
       "      <td>GF_PIT</td>\n",
       "      <td>0.228625</td>\n",
       "    </tr>\n",
       "    <tr>\n",
       "      <th>3</th>\n",
       "      <td>All-Star Game MVP_AW</td>\n",
       "      <td>0.096745</td>\n",
       "    </tr>\n",
       "    <tr>\n",
       "      <th>16</th>\n",
       "      <td>Roberto Clemente Award_AW</td>\n",
       "      <td>0.062115</td>\n",
       "    </tr>\n",
       "    <tr>\n",
       "      <th>24</th>\n",
       "      <td>TSN Pitcher of the Year_AW</td>\n",
       "      <td>0.043886</td>\n",
       "    </tr>\n",
       "    <tr>\n",
       "      <th>12</th>\n",
       "      <td>Lou Gehrig Memorial Award_AW</td>\n",
       "      <td>0.043053</td>\n",
       "    </tr>\n",
       "    <tr>\n",
       "      <th>15</th>\n",
       "      <td>Pitching Triple Crown_AW</td>\n",
       "      <td>0.022606</td>\n",
       "    </tr>\n",
       "    <tr>\n",
       "      <th>1</th>\n",
       "      <td>height_MAS</td>\n",
       "      <td>-0.038608</td>\n",
       "    </tr>\n",
       "    <tr>\n",
       "      <th>6</th>\n",
       "      <td>Branch Rickey Award_AW</td>\n",
       "      <td>-0.103509</td>\n",
       "    </tr>\n",
       "    <tr>\n",
       "      <th>57</th>\n",
       "      <td>SF_PIT</td>\n",
       "      <td>-0.940470</td>\n",
       "    </tr>\n",
       "    <tr>\n",
       "      <th>54</th>\n",
       "      <td>ERA_PIT</td>\n",
       "      <td>-1.749637</td>\n",
       "    </tr>\n",
       "  </tbody>\n",
       "</table>\n",
       "</div>"
      ],
      "text/plain": [
       "                         Variable  Coeffecient\n",
       "59                       BB/9_PIT     0.898690\n",
       "20                TSN All-Star_AW     0.391155\n",
       "8               Cy Young Award_AW     0.352168\n",
       "37                   G_batting_AP     0.320219\n",
       "5   Baseball Magazine All-Star_AW     0.242840\n",
       "56                         GF_PIT     0.228625\n",
       "3            All-Star Game MVP_AW     0.096745\n",
       "16      Roberto Clemente Award_AW     0.062115\n",
       "24     TSN Pitcher of the Year_AW     0.043886\n",
       "12   Lou Gehrig Memorial Award_AW     0.043053\n",
       "15       Pitching Triple Crown_AW     0.022606\n",
       "1                      height_MAS    -0.038608\n",
       "6          Branch Rickey Award_AW    -0.103509\n",
       "57                         SF_PIT    -0.940470\n",
       "54                        ERA_PIT    -1.749637"
      ]
     },
     "execution_count": 181,
     "metadata": {},
     "output_type": "execute_result"
    }
   ],
   "source": [
    "coeffecients1=DataFrame(zip(X_train.columns,log_regression_pitcher.coef_.flatten()),columns=['Variable','Coeffecient'])\n",
    "imp_coefficients=coeffecients1[coeffecients1.Coeffecient<>0]\n",
    "imp_coefficients.sort_values(by='Coeffecient',ascending=False)"
   ]
  },
  {
   "cell_type": "markdown",
   "metadata": {},
   "source": [
    "### Decision Tree"
   ]
  },
  {
   "cell_type": "code",
   "execution_count": 182,
   "metadata": {
    "collapsed": false
   },
   "outputs": [
    {
     "name": "stdout",
     "output_type": "stream",
     "text": [
      "MODEL METRICS\n",
      "-------------\n",
      "Model Accuracy(Train): 1.0\n",
      "Model Accuracy(Test): 0.910714285714\n",
      "Confusion Matrix(Train):\n",
      "[[62  0]\n",
      " [ 0 22]]\n",
      "Confusion Matrix(Test):\n",
      "[[35  3]\n",
      " [ 2 16]]\n",
      "True Positive Rate: 0.888888888889\n",
      "False Positive Rate: 0.0789473684211\n",
      "ROC AUC: 0.90\n"
     ]
    },
    {
     "data": {
      "image/png": "[encoded data removed]",
      "text/plain": [
       "<matplotlib.figure.Figure at 0x28689ef0>"
      ]
     },
     "metadata": {},
     "output_type": "display_data"
    }
   ],
   "source": [
    "decision_tree_pitcher=tree.DecisionTreeClassifier(criterion='gini',max_depth=20)\n",
    "decision_tree_pitcher.fit(X_train,y_train)\n",
    "\n",
    "\n",
    "t1=decision_tree_pitcher.predict(X_train)\n",
    "t=decision_tree_pitcher.predict(X_test)\n",
    "#print classification_report(y_test,t)\n",
    "print \"MODEL METRICS\"\n",
    "print \"-------------\"\n",
    "print \"Model Accuracy(Train):\",accuracy_score(y_train,t1)\n",
    "print \"Model Accuracy(Test):\",accuracy_score(y_test,t)\n",
    "print \"Confusion Matrix(Train):\\n\",confusion_matrix(y_train,t1)\n",
    "print \"Confusion Matrix(Test):\\n\",confusion_matrix(y_test,t)\n",
    "x=confusion_matrix(y_test,t)\n",
    "tpr=x[1,1]/(x[1,0]+x[1,1])\n",
    "fpr=x[0,1]/(x[0,0]+x[0,1])\n",
    "print \"True Positive Rate:\",tpr\n",
    "print \"False Positive Rate:\",fpr\n",
    "\n",
    "fpr, tpr, _ =metrics.roc_curve(y_test,decision_tree_pitcher.predict_proba(X_test)[:,[1]],)\n",
    "# Calculate the AUC\n",
    "roc_auc = auc(fpr, tpr)\n",
    "print 'ROC AUC: %0.2f' % roc_auc\n",
    " \n",
    "# Plot of a ROC curve for a specific class\n",
    "plt.figure()\n",
    "plt.plot(fpr, tpr, label='ROC curve (area = %0.2f)' % roc_auc)\n",
    "plt.plot([0, 1], [0, 1], 'k--')\n",
    "plt.xlim([0.0, 1.0])\n",
    "plt.ylim([0.0, 1.05])\n",
    "plt.xlabel('False Positive Rate')\n",
    "plt.ylabel('True Positive Rate')\n",
    "plt.title('ROC Curve')\n",
    "plt.legend(loc=\"lower right\")\n",
    "plt.show()"
   ]
  },
  {
   "cell_type": "code",
   "execution_count": 183,
   "metadata": {
    "collapsed": true
   },
   "outputs": [],
   "source": [
    "tree.export_graphviz(decision_tree_pitcher,out_file='tree_pitcher.dot',feature_names=X_train.columns) \n",
    "from sklearn.externals.six import StringIO  \n",
    "import pydot\n",
    "dot_data2 = StringIO() \n",
    "tree.export_graphviz(decision_tree_pitcher, out_file=dot_data2) \n",
    "graph = pydot.graph_from_dot_data(dot_data2.getvalue()) "
   ]
  },
  {
   "cell_type": "markdown",
   "metadata": {},
   "source": [
    "### Support Vector Machine"
   ]
  },
  {
   "cell_type": "code",
   "execution_count": 190,
   "metadata": {
    "collapsed": false
   },
   "outputs": [
    {
     "name": "stdout",
     "output_type": "stream",
     "text": [
      "1.0\n",
      "0.964285714286\n",
      "0    62\n",
      "1    22\n",
      "Name: inducted_HOF, dtype: int64\n",
      "[[36  2]\n",
      " [ 0 18]]\n"
     ]
    }
   ],
   "source": [
    "svc_pitcher=svm.SVC()\n",
    "svc_pitcher.fit(X_train,y_train)\n",
    "print svc_pitcher.score(X_train,y_train)\n",
    "predict=svc_pitcher.predict(X_test)\n",
    "print accuracy_score(predict,y_test)\n",
    "print(y_train.value_counts())\n",
    "print confusion_matrix(y_test,predict)\n",
    "#print classification_report(y_test,predict)"
   ]
  },
  {
   "cell_type": "markdown",
   "metadata": {},
   "source": [
    "### Naive Bayes"
   ]
  },
  {
   "cell_type": "markdown",
   "metadata": {},
   "source": [
    "### Random Forests"
   ]
  },
  {
   "cell_type": "code",
   "execution_count": 184,
   "metadata": {
    "collapsed": false
   },
   "outputs": [
    {
     "name": "stdout",
     "output_type": "stream",
     "text": [
      "MODEL METRICS\n",
      "-------------\n",
      "Model Accuracy(Train): 0.988095238095\n",
      "Model Accuracy(Test): 0.964285714286\n",
      "Confusion Matrix(Train):\n",
      "[[62  0]\n",
      " [ 1 21]]\n",
      "Confusion Matrix(Test):\n",
      "[[38  0]\n",
      " [ 2 16]]\n",
      "True Positive Rate: 0.888888888889\n",
      "False Positive Rate: 0.0\n",
      "ROC AUC: 1.00\n"
     ]
    },
    {
     "data": {
      "image/png": "[encoded data removed]",
      "text/plain": [
       "<matplotlib.figure.Figure at 0x28556278>"
      ]
     },
     "metadata": {},
     "output_type": "display_data"
    }
   ],
   "source": [
    "rf_pitcher=RandomForestClassifier()\n",
    "rf_pitcher.fit(X_train,y_train)\n",
    "\n",
    "t1=rf_pitcher.predict(X_train)\n",
    "t=rf_pitcher.predict(X_test)\n",
    "#print classification_report(y_test,t)\n",
    "print \"MODEL METRICS\"\n",
    "print \"-------------\"\n",
    "print \"Model Accuracy(Train):\",accuracy_score(y_train,t1)\n",
    "print \"Model Accuracy(Test):\",accuracy_score(y_test,t)\n",
    "print \"Confusion Matrix(Train):\\n\",confusion_matrix(y_train,t1)\n",
    "print \"Confusion Matrix(Test):\\n\",confusion_matrix(y_test,t)\n",
    "x=confusion_matrix(y_test,t)\n",
    "tpr=x[1,1]/(x[1,0]+x[1,1])\n",
    "fpr=x[0,1]/(x[0,0]+x[0,1])\n",
    "print \"True Positive Rate:\",tpr\n",
    "print \"False Positive Rate:\",fpr\n",
    "\n",
    "\n",
    "fpr, tpr, _ =metrics.roc_curve(y_test,rf_pitcher.predict_proba(X_test)[:,[1]],)\n",
    "# Calculate the AUC\n",
    "roc_auc = auc(fpr, tpr)\n",
    "print 'ROC AUC: %0.2f' % roc_auc\n",
    " \n",
    "# Plot of a ROC curve for a specific class\n",
    "plt.figure()\n",
    "plt.plot(fpr, tpr, label='ROC curve (area = %0.2f)' % roc_auc)\n",
    "plt.plot([0, 1], [0, 1], 'k--')\n",
    "plt.xlim([0.0, 1.0])\n",
    "plt.ylim([0.0, 1.05])\n",
    "plt.xlabel('False Positive Rate')\n",
    "plt.ylabel('True Positive Rate')\n",
    "plt.title('ROC Curve')\n",
    "plt.legend(loc=\"lower right\")\n",
    "plt.show()"
   ]
  },
  {
   "cell_type": "code",
   "execution_count": 185,
   "metadata": {
    "collapsed": false
   },
   "outputs": [
    {
     "data": {
      "text/html": [
       "<div>\n",
       "<table border=\"1\" class=\"dataframe\">\n",
       "  <thead>\n",
       "    <tr style=\"text-align: right;\">\n",
       "      <th></th>\n",
       "      <th>Threshold</th>\n",
       "      <th>True Positive Rate</th>\n",
       "      <th>True Negative Rate</th>\n",
       "      <th>False Positive Rate</th>\n",
       "    </tr>\n",
       "  </thead>\n",
       "  <tbody>\n",
       "    <tr>\n",
       "      <th>0</th>\n",
       "      <td>0.0</td>\n",
       "      <td>1.000000</td>\n",
       "      <td>0.815789</td>\n",
       "      <td>0.184211</td>\n",
       "    </tr>\n",
       "    <tr>\n",
       "      <th>1</th>\n",
       "      <td>0.1</td>\n",
       "      <td>1.000000</td>\n",
       "      <td>0.894737</td>\n",
       "      <td>0.105263</td>\n",
       "    </tr>\n",
       "    <tr>\n",
       "      <th>2</th>\n",
       "      <td>0.2</td>\n",
       "      <td>1.000000</td>\n",
       "      <td>0.921053</td>\n",
       "      <td>0.078947</td>\n",
       "    </tr>\n",
       "    <tr>\n",
       "      <th>3</th>\n",
       "      <td>0.3</td>\n",
       "      <td>1.000000</td>\n",
       "      <td>0.947368</td>\n",
       "      <td>0.052632</td>\n",
       "    </tr>\n",
       "    <tr>\n",
       "      <th>4</th>\n",
       "      <td>0.4</td>\n",
       "      <td>1.000000</td>\n",
       "      <td>0.973684</td>\n",
       "      <td>0.026316</td>\n",
       "    </tr>\n",
       "    <tr>\n",
       "      <th>5</th>\n",
       "      <td>0.5</td>\n",
       "      <td>0.888889</td>\n",
       "      <td>1.000000</td>\n",
       "      <td>0.000000</td>\n",
       "    </tr>\n",
       "    <tr>\n",
       "      <th>6</th>\n",
       "      <td>0.6</td>\n",
       "      <td>0.777778</td>\n",
       "      <td>1.000000</td>\n",
       "      <td>0.000000</td>\n",
       "    </tr>\n",
       "    <tr>\n",
       "      <th>7</th>\n",
       "      <td>0.7</td>\n",
       "      <td>0.666667</td>\n",
       "      <td>1.000000</td>\n",
       "      <td>0.000000</td>\n",
       "    </tr>\n",
       "    <tr>\n",
       "      <th>8</th>\n",
       "      <td>0.8</td>\n",
       "      <td>0.388889</td>\n",
       "      <td>1.000000</td>\n",
       "      <td>0.000000</td>\n",
       "    </tr>\n",
       "    <tr>\n",
       "      <th>9</th>\n",
       "      <td>0.9</td>\n",
       "      <td>0.166667</td>\n",
       "      <td>1.000000</td>\n",
       "      <td>0.000000</td>\n",
       "    </tr>\n",
       "  </tbody>\n",
       "</table>\n",
       "</div>"
      ],
      "text/plain": [
       "   Threshold  True Positive Rate  True Negative Rate  False Positive Rate\n",
       "0        0.0            1.000000            0.815789             0.184211\n",
       "1        0.1            1.000000            0.894737             0.105263\n",
       "2        0.2            1.000000            0.921053             0.078947\n",
       "3        0.3            1.000000            0.947368             0.052632\n",
       "4        0.4            1.000000            0.973684             0.026316\n",
       "5        0.5            0.888889            1.000000             0.000000\n",
       "6        0.6            0.777778            1.000000             0.000000\n",
       "7        0.7            0.666667            1.000000             0.000000\n",
       "8        0.8            0.388889            1.000000             0.000000\n",
       "9        0.9            0.166667            1.000000             0.000000"
      ]
     },
     "execution_count": 185,
     "metadata": {},
     "output_type": "execute_result"
    }
   ],
   "source": [
    "cutoff=[]\n",
    "tpr=[]\n",
    "fpr=[]\n",
    "tnr=[]\n",
    "for i in np.arange(0,1,0.1):\n",
    "    cutoff.append(i)\n",
    "    pred_prob=rf_pitcher.predict_proba(X_test)[:,[1]]\n",
    "    pred=pred_prob>i\n",
    "    pred=pred.astype(int)\n",
    "    x=confusion_matrix(y_test, pred)\n",
    "    tpr1=x[1,1]/(x[1,0]+x[1,1])\n",
    "    tnr1=x[0,0]/(x[0,0]+x[0,1])\n",
    "    fpr1=x[0,1]/(x[0,0]+x[0,1])\n",
    "    tpr.append(tpr1)\n",
    "    fpr.append(fpr1)\n",
    "    tnr.append(tnr1)\n",
    "threshold=DataFrame([cutoff,tpr,tnr,fpr]).transpose()\n",
    "threshold.columns=['Threshold','True Positive Rate','True Negative Rate','False Positive Rate']\n",
    "threshold.to_csv('threshold_model2.csv')\n",
    "threshold"
   ]
  },
  {
   "cell_type": "markdown",
   "metadata": {},
   "source": [
    "### Gradient Boosting"
   ]
  },
  {
   "cell_type": "code",
   "execution_count": 186,
   "metadata": {
    "collapsed": false
   },
   "outputs": [
    {
     "name": "stdout",
     "output_type": "stream",
     "text": [
      "MODEL METRICS\n",
      "-------------\n",
      "Model Accuracy(Train): 1.0\n",
      "Model Accuracy(Test): 0.946428571429\n",
      "Confusion Matrix(Train):\n",
      "[[62  0]\n",
      " [ 0 22]]\n",
      "Confusion Matrix(Test):\n",
      "[[37  1]\n",
      " [ 2 16]]\n",
      "True Positive Rate: 0.888888888889\n",
      "False Positive Rate: 0.0263157894737\n",
      "ROC AUC: 0.99\n"
     ]
    },
    {
     "data": {
      "image/png": "[encoded data removed]",
      "text/plain": [
       "<matplotlib.figure.Figure at 0x27323630>"
      ]
     },
     "metadata": {},
     "output_type": "display_data"
    }
   ],
   "source": [
    "gbt_pitcher=GradientBoostingClassifier(n_estimators=100,learning_rate=1.0,max_depth=1,random_state=0)\n",
    "gbt_pitcher.fit(X_train,y_train)\n",
    "\n",
    "t1=gbt_pitcher.predict(X_train)\n",
    "t=gbt_pitcher.predict(X_test)\n",
    "#print classification_report(y_test,t)\n",
    "print \"MODEL METRICS\"\n",
    "print \"-------------\"\n",
    "print \"Model Accuracy(Train):\",accuracy_score(y_train,t1)\n",
    "print \"Model Accuracy(Test):\",accuracy_score(y_test,t)\n",
    "print \"Confusion Matrix(Train):\\n\",confusion_matrix(y_train,t1)\n",
    "print \"Confusion Matrix(Test):\\n\",confusion_matrix(y_test,t)\n",
    "x=confusion_matrix(y_test,t)\n",
    "tpr=x[1,1]/(x[1,0]+x[1,1])\n",
    "fpr=x[0,1]/(x[0,0]+x[0,1])\n",
    "print \"True Positive Rate:\",tpr\n",
    "print \"False Positive Rate:\",fpr\n",
    "\n",
    "\n",
    "fpr, tpr, _ =metrics.roc_curve(y_test,gbt_pitcher.predict_proba(X_test)[:,[1]],)\n",
    "# Calculate the AUC\n",
    "roc_auc = auc(fpr, tpr)\n",
    "print 'ROC AUC: %0.2f' % roc_auc\n",
    " \n",
    "# Plot of a ROC curve for a specific class\n",
    "plt.figure()\n",
    "plt.plot(fpr, tpr, label='ROC curve (area = %0.2f)' % roc_auc)\n",
    "plt.plot([0, 1], [0, 1], 'k--')\n",
    "plt.xlim([0.0, 1.0])\n",
    "plt.ylim([0.0, 1.05])\n",
    "plt.xlabel('False Positive Rate')\n",
    "plt.ylabel('True Positive Rate')\n",
    "plt.title('ROC Curve')\n",
    "plt.legend(loc=\"lower right\")\n",
    "plt.show()"
   ]
  },
  {
   "cell_type": "code",
   "execution_count": 187,
   "metadata": {
    "collapsed": false
   },
   "outputs": [
    {
     "data": {
      "text/html": [
       "<div>\n",
       "<table border=\"1\" class=\"dataframe\">\n",
       "  <thead>\n",
       "    <tr style=\"text-align: right;\">\n",
       "      <th></th>\n",
       "      <th>Threshold</th>\n",
       "      <th>True Positive Rate</th>\n",
       "      <th>True Negative Rate</th>\n",
       "      <th>False Positive Rate</th>\n",
       "    </tr>\n",
       "  </thead>\n",
       "  <tbody>\n",
       "    <tr>\n",
       "      <th>0</th>\n",
       "      <td>0.000</td>\n",
       "      <td>1.000000</td>\n",
       "      <td>0.000000</td>\n",
       "      <td>1.000000</td>\n",
       "    </tr>\n",
       "    <tr>\n",
       "      <th>1</th>\n",
       "      <td>0.005</td>\n",
       "      <td>1.000000</td>\n",
       "      <td>0.921053</td>\n",
       "      <td>0.078947</td>\n",
       "    </tr>\n",
       "    <tr>\n",
       "      <th>2</th>\n",
       "      <td>0.010</td>\n",
       "      <td>1.000000</td>\n",
       "      <td>0.921053</td>\n",
       "      <td>0.078947</td>\n",
       "    </tr>\n",
       "    <tr>\n",
       "      <th>3</th>\n",
       "      <td>0.015</td>\n",
       "      <td>0.944444</td>\n",
       "      <td>0.921053</td>\n",
       "      <td>0.078947</td>\n",
       "    </tr>\n",
       "    <tr>\n",
       "      <th>4</th>\n",
       "      <td>0.020</td>\n",
       "      <td>0.944444</td>\n",
       "      <td>0.921053</td>\n",
       "      <td>0.078947</td>\n",
       "    </tr>\n",
       "    <tr>\n",
       "      <th>5</th>\n",
       "      <td>0.025</td>\n",
       "      <td>0.944444</td>\n",
       "      <td>0.921053</td>\n",
       "      <td>0.078947</td>\n",
       "    </tr>\n",
       "    <tr>\n",
       "      <th>6</th>\n",
       "      <td>0.030</td>\n",
       "      <td>0.944444</td>\n",
       "      <td>0.921053</td>\n",
       "      <td>0.078947</td>\n",
       "    </tr>\n",
       "    <tr>\n",
       "      <th>7</th>\n",
       "      <td>0.035</td>\n",
       "      <td>0.944444</td>\n",
       "      <td>0.921053</td>\n",
       "      <td>0.078947</td>\n",
       "    </tr>\n",
       "    <tr>\n",
       "      <th>8</th>\n",
       "      <td>0.040</td>\n",
       "      <td>0.944444</td>\n",
       "      <td>0.921053</td>\n",
       "      <td>0.078947</td>\n",
       "    </tr>\n",
       "    <tr>\n",
       "      <th>9</th>\n",
       "      <td>0.045</td>\n",
       "      <td>0.944444</td>\n",
       "      <td>0.947368</td>\n",
       "      <td>0.052632</td>\n",
       "    </tr>\n",
       "  </tbody>\n",
       "</table>\n",
       "</div>"
      ],
      "text/plain": [
       "   Threshold  True Positive Rate  True Negative Rate  False Positive Rate\n",
       "0      0.000            1.000000            0.000000             1.000000\n",
       "1      0.005            1.000000            0.921053             0.078947\n",
       "2      0.010            1.000000            0.921053             0.078947\n",
       "3      0.015            0.944444            0.921053             0.078947\n",
       "4      0.020            0.944444            0.921053             0.078947\n",
       "5      0.025            0.944444            0.921053             0.078947\n",
       "6      0.030            0.944444            0.921053             0.078947\n",
       "7      0.035            0.944444            0.921053             0.078947\n",
       "8      0.040            0.944444            0.921053             0.078947\n",
       "9      0.045            0.944444            0.947368             0.052632"
      ]
     },
     "execution_count": 187,
     "metadata": {},
     "output_type": "execute_result"
    }
   ],
   "source": [
    "\n",
    "cutoff=[]\n",
    "tpr=[]\n",
    "fpr=[]\n",
    "tnr=[]\n",
    "for i in np.arange(0,0.05,0.005):\n",
    "    cutoff.append(i)\n",
    "    pred_prob=gbt_pitcher.predict_proba(X_test)[:,[1]]\n",
    "    pred=pred_prob>i\n",
    "    pred=pred.astype(int)\n",
    "    x=confusion_matrix(y_test, pred)\n",
    "    tpr1=x[1,1]/(x[1,0]+x[1,1])\n",
    "    tnr1=x[0,0]/(x[0,0]+x[0,1])\n",
    "    fpr1=x[0,1]/(x[0,0]+x[0,1])\n",
    "    tpr.append(tpr1)\n",
    "    fpr.append(fpr1)\n",
    "    tnr.append(tnr1)\n",
    "threshold=DataFrame([cutoff,tpr,tnr,fpr]).transpose()\n",
    "threshold.columns=['Threshold','True Positive Rate','True Negative Rate','False Positive Rate']\n",
    "threshold.to_csv('threshold_model2.csv')\n",
    "threshold"
   ]
  },
  {
   "cell_type": "code",
   "execution_count": 188,
   "metadata": {
    "collapsed": false
   },
   "outputs": [
    {
     "name": "stdout",
     "output_type": "stream",
     "text": [
      "[[37  1]\n",
      " [ 2 16]]\n",
      "[[35  3]\n",
      " [ 0 18]]\n"
     ]
    }
   ],
   "source": [
    "print confusion_matrix(y_test, t)\n",
    "pred_prob=gbt_pitcher.predict_proba(X_test)[:,[1]]\n",
    "pred=pred_prob>.01\n",
    "pred=pred.astype(int)  \n",
    "print confusion_matrix(y_test, pred)"
   ]
  },
  {
   "cell_type": "code",
   "execution_count": 189,
   "metadata": {
    "collapsed": false
   },
   "outputs": [
    {
     "data": {
      "text/plain": [
       "<matplotlib.text.Text at 0x27304dd8>"
      ]
     },
     "execution_count": 189,
     "metadata": {},
     "output_type": "execute_result"
    },
    {
     "data": {
      "image/png": "[encoded data removed]",
      "text/plain": [
       "<matplotlib.figure.Figure at 0x27312080>"
      ]
     },
     "metadata": {},
     "output_type": "display_data"
    }
   ],
   "source": [
    "plt.figure(figsize=(20,10))\n",
    "feat_imp = pd.Series(gbt_pitcher.feature_importances_, X_test.columns).sort_values(ascending=False)\n",
    "feat_imp.plot(kind='bar', title='Feature Importances')\n",
    "plt.ylabel('Feature Importance Score')"
   ]
  },
  {
   "cell_type": "markdown",
   "metadata": {},
   "source": [
    "# 10. MODELLING FOR CATCHERS"
   ]
  },
  {
   "cell_type": "code",
   "execution_count": 190,
   "metadata": {
    "collapsed": false
   },
   "outputs": [
    {
     "name": "stderr",
     "output_type": "stream",
     "text": [
      "C:\\Users\\raviteja\\Anaconda2\\lib\\site-packages\\ipykernel\\__main__.py:4: SettingWithCopyWarning: \n",
      "A value is trying to be set on a copy of a slice from a DataFrame\n",
      "\n",
      "See the caveats in the documentation: http://pandas.pydata.org/pandas-docs/stable/indexing.html#indexing-view-versus-copy\n",
      "C:\\Users\\raviteja\\Anaconda2\\lib\\site-packages\\ipykernel\\__main__.py:5: SettingWithCopyWarning: \n",
      "A value is trying to be set on a copy of a slice from a DataFrame\n",
      "\n",
      "See the caveats in the documentation: http://pandas.pydata.org/pandas-docs/stable/indexing.html#indexing-view-versus-copy\n"
     ]
    },
    {
     "name": "stdout",
     "output_type": "stream",
     "text": [
      "(77, 73)\n",
      "0    68\n",
      "1     9\n",
      "Name: inducted_HOF, dtype: int64\n",
      "1    9\n",
      "Name: inducted_HOF, dtype: int64\n"
     ]
    }
   ],
   "source": [
    "#catcher.drop(pitchingcol,axis=1,inplace=True)\n",
    "catcher_elligible=catcher[catcher.HOF_Eligibility==1]\n",
    "catcher_hof=catcher[catcher.inducted_HOF==1]\n",
    "catcher_elligible.drop(['HOF_Eligibility','player_cat'],axis=1,inplace=True)\n",
    "catcher_hof.drop(['HOF_Eligibility','player_cat'],axis=1,inplace=True)\n",
    "x=catcher_elligible.append(catcher_hof)\n",
    "print x.shape\n",
    "print x.inducted_HOF.value_counts()\n",
    "print catcher_hof.inducted_HOF.value_counts()\n",
    "catcher_elligible=catcher_elligible.sample(n=20)\n",
    "mdl_rdy=catcher_elligible.append(catcher_hof)\n",
    "x=mdl_rdy.drop(['inducted_HOF'],axis=1)\n",
    "y=mdl_rdy.inducted_HOF\n",
    "X_train, X_test, y_train, y_test = train_test_split(x, y, test_size=0.5, random_state=42)"
   ]
  },
  {
   "cell_type": "code",
   "execution_count": 191,
   "metadata": {
    "collapsed": false
   },
   "outputs": [
    {
     "data": {
      "text/plain": [
       "(29, 73)"
      ]
     },
     "execution_count": 191,
     "metadata": {},
     "output_type": "execute_result"
    }
   ],
   "source": [
    "mdl_rdy.shape"
   ]
  },
  {
   "cell_type": "code",
   "execution_count": 192,
   "metadata": {
    "collapsed": false
   },
   "outputs": [
    {
     "data": {
      "text/html": [
       "<div>\n",
       "<table border=\"1\" class=\"dataframe\">\n",
       "  <thead>\n",
       "    <tr style=\"text-align: right;\">\n",
       "      <th></th>\n",
       "      <th>weight_MAS</th>\n",
       "      <th>height_MAS</th>\n",
       "      <th>ALCS MVP_AW</th>\n",
       "      <th>All-Star Game MVP_AW</th>\n",
       "      <th>Babe Ruth Award_AW</th>\n",
       "      <th>Baseball Magazine All-Star_AW</th>\n",
       "      <th>Branch Rickey Award_AW</th>\n",
       "      <th>Comeback Player of the Year_AW</th>\n",
       "      <th>Cy Young Award_AW</th>\n",
       "      <th>Gold Glove_AW</th>\n",
       "      <th>...</th>\n",
       "      <th>BA_BAT</th>\n",
       "      <th>TB_BAT</th>\n",
       "      <th>TOB_BAT</th>\n",
       "      <th>SBA/ATT_BAT</th>\n",
       "      <th>BB/9_PIT</th>\n",
       "      <th>HOF_Eligibility</th>\n",
       "      <th>inducted_HOF</th>\n",
       "      <th>G_IF_AP</th>\n",
       "      <th>G_F_AP</th>\n",
       "      <th>player_cat</th>\n",
       "    </tr>\n",
       "    <tr>\n",
       "      <th>Player_ID</th>\n",
       "      <th></th>\n",
       "      <th></th>\n",
       "      <th></th>\n",
       "      <th></th>\n",
       "      <th></th>\n",
       "      <th></th>\n",
       "      <th></th>\n",
       "      <th></th>\n",
       "      <th></th>\n",
       "      <th></th>\n",
       "      <th></th>\n",
       "      <th></th>\n",
       "      <th></th>\n",
       "      <th></th>\n",
       "      <th></th>\n",
       "      <th></th>\n",
       "      <th></th>\n",
       "      <th></th>\n",
       "      <th></th>\n",
       "      <th></th>\n",
       "      <th></th>\n",
       "    </tr>\n",
       "  </thead>\n",
       "  <tbody>\n",
       "    <tr>\n",
       "      <th>abadan01</th>\n",
       "      <td>-0.036333</td>\n",
       "      <td>0.363074</td>\n",
       "      <td>-0.043887</td>\n",
       "      <td>-0.052857</td>\n",
       "      <td>-0.059657</td>\n",
       "      <td>-0.100013</td>\n",
       "      <td>-0.036315</td>\n",
       "      <td>-0.0339</td>\n",
       "      <td>-0.053629</td>\n",
       "      <td>-0.104201</td>\n",
       "      <td>...</td>\n",
       "      <td>-0.801648</td>\n",
       "      <td>-0.459380</td>\n",
       "      <td>-0.465746</td>\n",
       "      <td>-0.320105</td>\n",
       "      <td>-0.412000</td>\n",
       "      <td>0</td>\n",
       "      <td>0</td>\n",
       "      <td>-0.676774</td>\n",
       "      <td>-0.974547</td>\n",
       "      <td>Catcher</td>\n",
       "    </tr>\n",
       "    <tr>\n",
       "      <th>abadijo01</th>\n",
       "      <td>0.353456</td>\n",
       "      <td>-0.035663</td>\n",
       "      <td>-0.043887</td>\n",
       "      <td>-0.052857</td>\n",
       "      <td>-0.059657</td>\n",
       "      <td>-0.100013</td>\n",
       "      <td>-0.036315</td>\n",
       "      <td>-0.0339</td>\n",
       "      <td>-0.053629</td>\n",
       "      <td>-0.104201</td>\n",
       "      <td>...</td>\n",
       "      <td>0.282711</td>\n",
       "      <td>-0.446815</td>\n",
       "      <td>-0.458131</td>\n",
       "      <td>-0.320105</td>\n",
       "      <td>-0.412000</td>\n",
       "      <td>0</td>\n",
       "      <td>0</td>\n",
       "      <td>-0.651625</td>\n",
       "      <td>-0.952990</td>\n",
       "      <td>Catcher</td>\n",
       "    </tr>\n",
       "    <tr>\n",
       "      <th>abbotda01</th>\n",
       "      <td>0.256009</td>\n",
       "      <td>-0.434400</td>\n",
       "      <td>-0.043887</td>\n",
       "      <td>-0.052857</td>\n",
       "      <td>-0.059657</td>\n",
       "      <td>-0.100013</td>\n",
       "      <td>-0.036315</td>\n",
       "      <td>-0.0339</td>\n",
       "      <td>-0.053629</td>\n",
       "      <td>-0.104201</td>\n",
       "      <td>...</td>\n",
       "      <td>-0.402147</td>\n",
       "      <td>-0.457984</td>\n",
       "      <td>-0.473360</td>\n",
       "      <td>-0.320105</td>\n",
       "      <td>-0.368485</td>\n",
       "      <td>0</td>\n",
       "      <td>0</td>\n",
       "      <td>-0.727072</td>\n",
       "      <td>-1.028437</td>\n",
       "      <td>Catcher</td>\n",
       "    </tr>\n",
       "    <tr>\n",
       "      <th>abbotfr01</th>\n",
       "      <td>-0.231227</td>\n",
       "      <td>-0.833137</td>\n",
       "      <td>-0.043887</td>\n",
       "      <td>-0.052857</td>\n",
       "      <td>-0.059657</td>\n",
       "      <td>-0.100013</td>\n",
       "      <td>-0.036315</td>\n",
       "      <td>-0.0339</td>\n",
       "      <td>-0.053629</td>\n",
       "      <td>-0.104201</td>\n",
       "      <td>...</td>\n",
       "      <td>0.149211</td>\n",
       "      <td>-0.262534</td>\n",
       "      <td>-0.270809</td>\n",
       "      <td>-0.136790</td>\n",
       "      <td>-0.412000</td>\n",
       "      <td>0</td>\n",
       "      <td>0</td>\n",
       "      <td>-0.632763</td>\n",
       "      <td>-0.934128</td>\n",
       "      <td>Catcher</td>\n",
       "    </tr>\n",
       "    <tr>\n",
       "      <th>abbotje01</th>\n",
       "      <td>0.256009</td>\n",
       "      <td>0.761811</td>\n",
       "      <td>-0.043887</td>\n",
       "      <td>-0.052857</td>\n",
       "      <td>-0.059657</td>\n",
       "      <td>-0.100013</td>\n",
       "      <td>-0.036315</td>\n",
       "      <td>-0.0339</td>\n",
       "      <td>-0.053629</td>\n",
       "      <td>-0.104201</td>\n",
       "      <td>...</td>\n",
       "      <td>0.609341</td>\n",
       "      <td>-0.115946</td>\n",
       "      <td>-0.173341</td>\n",
       "      <td>-0.179094</td>\n",
       "      <td>-0.412000</td>\n",
       "      <td>0</td>\n",
       "      <td>0</td>\n",
       "      <td>-0.727072</td>\n",
       "      <td>-0.363849</td>\n",
       "      <td>Catcher</td>\n",
       "    </tr>\n",
       "  </tbody>\n",
       "</table>\n",
       "<p>5 rows × 75 columns</p>\n",
       "</div>"
      ],
      "text/plain": [
       "           weight_MAS  height_MAS  ALCS MVP_AW  All-Star Game MVP_AW  \\\n",
       "Player_ID                                                              \n",
       "abadan01    -0.036333    0.363074    -0.043887             -0.052857   \n",
       "abadijo01    0.353456   -0.035663    -0.043887             -0.052857   \n",
       "abbotda01    0.256009   -0.434400    -0.043887             -0.052857   \n",
       "abbotfr01   -0.231227   -0.833137    -0.043887             -0.052857   \n",
       "abbotje01    0.256009    0.761811    -0.043887             -0.052857   \n",
       "\n",
       "           Babe Ruth Award_AW  Baseball Magazine All-Star_AW  \\\n",
       "Player_ID                                                      \n",
       "abadan01            -0.059657                      -0.100013   \n",
       "abadijo01           -0.059657                      -0.100013   \n",
       "abbotda01           -0.059657                      -0.100013   \n",
       "abbotfr01           -0.059657                      -0.100013   \n",
       "abbotje01           -0.059657                      -0.100013   \n",
       "\n",
       "           Branch Rickey Award_AW  Comeback Player of the Year_AW  \\\n",
       "Player_ID                                                           \n",
       "abadan01                -0.036315                         -0.0339   \n",
       "abadijo01               -0.036315                         -0.0339   \n",
       "abbotda01               -0.036315                         -0.0339   \n",
       "abbotfr01               -0.036315                         -0.0339   \n",
       "abbotje01               -0.036315                         -0.0339   \n",
       "\n",
       "           Cy Young Award_AW  Gold Glove_AW     ...        BA_BAT    TB_BAT  \\\n",
       "Player_ID                                       ...                           \n",
       "abadan01           -0.053629      -0.104201     ...     -0.801648 -0.459380   \n",
       "abadijo01          -0.053629      -0.104201     ...      0.282711 -0.446815   \n",
       "abbotda01          -0.053629      -0.104201     ...     -0.402147 -0.457984   \n",
       "abbotfr01          -0.053629      -0.104201     ...      0.149211 -0.262534   \n",
       "abbotje01          -0.053629      -0.104201     ...      0.609341 -0.115946   \n",
       "\n",
       "            TOB_BAT  SBA/ATT_BAT  BB/9_PIT  HOF_Eligibility  inducted_HOF  \\\n",
       "Player_ID                                                                   \n",
       "abadan01  -0.465746    -0.320105 -0.412000                0             0   \n",
       "abadijo01 -0.458131    -0.320105 -0.412000                0             0   \n",
       "abbotda01 -0.473360    -0.320105 -0.368485                0             0   \n",
       "abbotfr01 -0.270809    -0.136790 -0.412000                0             0   \n",
       "abbotje01 -0.173341    -0.179094 -0.412000                0             0   \n",
       "\n",
       "            G_IF_AP    G_F_AP  player_cat  \n",
       "Player_ID                                  \n",
       "abadan01  -0.676774 -0.974547     Catcher  \n",
       "abadijo01 -0.651625 -0.952990     Catcher  \n",
       "abbotda01 -0.727072 -1.028437     Catcher  \n",
       "abbotfr01 -0.632763 -0.934128     Catcher  \n",
       "abbotje01 -0.727072 -0.363849     Catcher  \n",
       "\n",
       "[5 rows x 75 columns]"
      ]
     },
     "execution_count": 192,
     "metadata": {},
     "output_type": "execute_result"
    }
   ],
   "source": [
    "catcher.head()"
   ]
  },
  {
   "cell_type": "markdown",
   "metadata": {},
   "source": [
    "### Logistic Regression"
   ]
  },
  {
   "cell_type": "code",
   "execution_count": 193,
   "metadata": {
    "collapsed": false
   },
   "outputs": [
    {
     "name": "stdout",
     "output_type": "stream",
     "text": [
      "MODEL METRICS\n",
      "-------------\n",
      "Model Accuracy(Train): 1.0\n",
      "Model Accuracy(Test): 0.866666666667\n",
      "Confusion Matrix(Train):\n",
      "[[9 0]\n",
      " [0 5]]\n",
      "Confusion Matrix(Test):\n",
      "[[10  1]\n",
      " [ 1  3]]\n",
      "ROC AUC: 0.80\n"
     ]
    },
    {
     "data": {
      "image/png": "[encoded data removed]",
      "text/plain": [
       "<matplotlib.figure.Figure at 0x282f8470>"
      ]
     },
     "metadata": {},
     "output_type": "display_data"
    }
   ],
   "source": [
    "log_regression_catcher=LogisticRegression(penalty='l1')\n",
    "log_regression_catcher.fit(X_train,y_train)\n",
    "\n",
    "\n",
    "print \"MODEL METRICS\"\n",
    "print \"-------------\"\n",
    "print \"Model Accuracy(Train):\",log_regression_catcher.score(X_train,y_train)\n",
    "t1=log_regression_catcher.predict(X_train)\n",
    "t=log_regression_catcher.predict(X_test)\n",
    "print \"Model Accuracy(Test):\",accuracy_score(y_test,t)\n",
    "\n",
    "print \"Confusion Matrix(Train):\\n\",confusion_matrix(y_train,t1)\n",
    "print \"Confusion Matrix(Test):\\n\",confusion_matrix(y_test,t)\n",
    "\n",
    "\n",
    "fpr, tpr, _ =metrics.roc_curve(y_test,log_regression_catcher.predict_proba(X_test)[:,[1]],)\n",
    "# Calculate the AUC\n",
    "roc_auc = auc(fpr, tpr)\n",
    "print 'ROC AUC: %0.2f' % roc_auc\n",
    " \n",
    "# Plot of a ROC curve for a specific class\n",
    "plt.figure()\n",
    "plt.plot(fpr, tpr, label='ROC curve (area = %0.2f)' % roc_auc)\n",
    "plt.plot([0, 1], [0, 1], 'k--')\n",
    "plt.xlim([0.0, 1.0])\n",
    "plt.ylim([0.0, 1.05])\n",
    "plt.xlabel('False Positive Rate')\n",
    "plt.ylabel('True Positive Rate')\n",
    "plt.title('ROC Curve')\n",
    "plt.legend(loc=\"lower right\")\n",
    "plt.show()"
   ]
  },
  {
   "cell_type": "code",
   "execution_count": 194,
   "metadata": {
    "collapsed": false
   },
   "outputs": [
    {
     "data": {
      "text/html": [
       "<div>\n",
       "<table border=\"1\" class=\"dataframe\">\n",
       "  <thead>\n",
       "    <tr style=\"text-align: right;\">\n",
       "      <th></th>\n",
       "      <th>Variable</th>\n",
       "      <th>Coeffecient</th>\n",
       "    </tr>\n",
       "  </thead>\n",
       "  <tbody>\n",
       "    <tr>\n",
       "      <th>63</th>\n",
       "      <td>SB_FIE</td>\n",
       "      <td>-0.494463</td>\n",
       "    </tr>\n",
       "    <tr>\n",
       "      <th>11</th>\n",
       "      <td>Hutch Award_AW</td>\n",
       "      <td>0.059968</td>\n",
       "    </tr>\n",
       "    <tr>\n",
       "      <th>3</th>\n",
       "      <td>All-Star Game MVP_AW</td>\n",
       "      <td>0.310581</td>\n",
       "    </tr>\n",
       "    <tr>\n",
       "      <th>20</th>\n",
       "      <td>TSN All-Star_AW</td>\n",
       "      <td>0.499395</td>\n",
       "    </tr>\n",
       "  </tbody>\n",
       "</table>\n",
       "</div>"
      ],
      "text/plain": [
       "                Variable  Coeffecient\n",
       "63                SB_FIE    -0.494463\n",
       "11        Hutch Award_AW     0.059968\n",
       "3   All-Star Game MVP_AW     0.310581\n",
       "20       TSN All-Star_AW     0.499395"
      ]
     },
     "execution_count": 194,
     "metadata": {},
     "output_type": "execute_result"
    }
   ],
   "source": [
    "coeffecients1=DataFrame(zip(X_train.columns,log_regression_catcher.coef_.flatten()),columns=['Variable','Coeffecient'])\n",
    "imp_coefficients=coeffecients1[coeffecients1.Coeffecient<>0]\n",
    "imp_coefficients.sort_values(by='Coeffecient')"
   ]
  },
  {
   "cell_type": "markdown",
   "metadata": {},
   "source": [
    "### Decision Tree"
   ]
  },
  {
   "cell_type": "code",
   "execution_count": 195,
   "metadata": {
    "collapsed": false
   },
   "outputs": [
    {
     "name": "stdout",
     "output_type": "stream",
     "text": [
      "MODEL METRICS\n",
      "-------------\n",
      "Model Accuracy(Train): 1.0\n",
      "Model Accuracy(Test): 0.666666666667\n",
      "Confusion Matrix(Train):\n",
      "[[9 0]\n",
      " [0 5]]\n",
      "Confusion Matrix(Test):\n",
      "[[10  1]\n",
      " [ 4  0]]\n",
      "ROC AUC: 0.45\n"
     ]
    },
    {
     "data": {
      "image/png": "[encoded data removed]",
      "text/plain": [
       "<matplotlib.figure.Figure at 0x28b27860>"
      ]
     },
     "metadata": {},
     "output_type": "display_data"
    }
   ],
   "source": [
    "decision_tree_catcher=tree.DecisionTreeClassifier(criterion='gini',max_depth=20)\n",
    "decision_tree_catcher.fit(X_train,y_train)\n",
    "\n",
    "print \"MODEL METRICS\"\n",
    "print \"-------------\"\n",
    "print \"Model Accuracy(Train):\",decision_tree_catcher.score(X_train,y_train)\n",
    "t1=decision_tree_catcher.predict(X_train)\n",
    "t=decision_tree_catcher.predict(X_test)\n",
    "print \"Model Accuracy(Test):\",accuracy_score(y_test,t)\n",
    "print \"Confusion Matrix(Train):\\n\",confusion_matrix(y_train,t1)\n",
    "print \"Confusion Matrix(Test):\\n\",confusion_matrix(y_test,t)\n",
    "\n",
    "\n",
    "fpr, tpr, _ =metrics.roc_curve(y_test,decision_tree_catcher.predict_proba(X_test)[:,[1]],)\n",
    "# Calculate the AUC\n",
    "roc_auc = auc(fpr, tpr)\n",
    "print 'ROC AUC: %0.2f' % roc_auc\n",
    " \n",
    "# Plot of a ROC curve for a specific class\n",
    "plt.figure()\n",
    "plt.plot(fpr, tpr, label='ROC curve (area = %0.2f)' % roc_auc)\n",
    "plt.plot([0, 1], [0, 1], 'k--')\n",
    "plt.xlim([0.0, 1.0])\n",
    "plt.ylim([0.0, 1.05])\n",
    "plt.xlabel('False Positive Rate')\n",
    "plt.ylabel('True Positive Rate')\n",
    "plt.title('ROC Curve')\n",
    "plt.legend(loc=\"lower right\")\n",
    "plt.show()"
   ]
  },
  {
   "cell_type": "code",
   "execution_count": 196,
   "metadata": {
    "collapsed": true
   },
   "outputs": [],
   "source": [
    "tree.export_graphviz(decision_tree_catcher,out_file='tree_catcher.dot',feature_names=X_train.columns) \n",
    "from sklearn.externals.six import StringIO  \n",
    "import pydot\n",
    "dot_data2 = StringIO() \n",
    "tree.export_graphviz(decision_tree_pitcher, out_file=dot_data2) \n",
    "graph = pydot.graph_from_dot_data(dot_data2.getvalue()) "
   ]
  },
  {
   "cell_type": "markdown",
   "metadata": {},
   "source": [
    "### Support Vector Machine"
   ]
  },
  {
   "cell_type": "code",
   "execution_count": 840,
   "metadata": {
    "collapsed": false
   },
   "outputs": [
    {
     "name": "stdout",
     "output_type": "stream",
     "text": [
      "1.0\n",
      "0.888888888889\n",
      "1    9\n",
      "0    8\n",
      "Name: inducted_HOF, dtype: int64\n",
      "[[10  2]\n",
      " [ 0  6]]\n"
     ]
    }
   ],
   "source": [
    "svm_catcher=svm.SVC()\n",
    "svm_catcher.fit(X_train,y_train)\n",
    "print svm_catcher.score(X_train,y_train)\n",
    "predict=svm_catcher.predict(X_test)\n",
    "print accuracy_score(predict,y_test)\n",
    "print(y_train.value_counts())\n",
    "print confusion_matrix(y_test,predict)\n",
    "#print classification_report(y_test,predict)"
   ]
  },
  {
   "cell_type": "markdown",
   "metadata": {},
   "source": [
    "### Naive Bayes"
   ]
  },
  {
   "cell_type": "code",
   "execution_count": 841,
   "metadata": {
    "collapsed": false
   },
   "outputs": [
    {
     "name": "stdout",
     "output_type": "stream",
     "text": [
      "MODEL METRICS\n",
      "-------------\n",
      "Model Accuracy(Train): 0.882352941176\n",
      "Model Accuracy(Test): 0.722222222222\n",
      "Confusion Matrix(Train):\n",
      "[[8 0]\n",
      " [2 7]]\n",
      "Confusion Matrix(Test):\n",
      "[[9 3]\n",
      " [2 4]]\n",
      "ROC AUC: 0.71\n"
     ]
    },
    {
     "data": {
      "image/png": "[encoded data removed]",
      "text/plain": [
       "<matplotlib.figure.Figure at 0x251b8ef0>"
      ]
     },
     "metadata": {},
     "output_type": "display_data"
    }
   ],
   "source": [
    "naive_bayes_catcher=GaussianNB()\n",
    "naive_bayes_catcher.fit(X_train,y_train)\n",
    "\n",
    "print \"MODEL METRICS\"\n",
    "print \"-------------\"\n",
    "print \"Model Accuracy(Train):\",naive_bayes_catcher.score(X_train,y_train)\n",
    "t1=naive_bayes_catcher.predict(X_train)\n",
    "t=naive_bayes_catcher.predict(X_test)\n",
    "print \"Model Accuracy(Test):\",accuracy_score(y_test,t)\n",
    "print \"Confusion Matrix(Train):\\n\",confusion_matrix(y_train,t1)\n",
    "print \"Confusion Matrix(Test):\\n\",confusion_matrix(y_test,t)\n",
    "\n",
    "fpr, tpr, _ =metrics.roc_curve(y_test,naive_bayes_catcher.predict_proba(X_test)[:,[1]],)\n",
    "# Calculate the AUC\n",
    "roc_auc = auc(fpr, tpr)\n",
    "print 'ROC AUC: %0.2f' % roc_auc\n",
    " \n",
    "# Plot of a ROC curve for a specific class\n",
    "plt.figure()\n",
    "plt.plot(fpr, tpr, label='ROC curve (area = %0.2f)' % roc_auc)\n",
    "plt.plot([0, 1], [0, 1], 'k--')\n",
    "plt.xlim([0.0, 1.0])\n",
    "plt.ylim([0.0, 1.05])\n",
    "plt.xlabel('False Positive Rate')\n",
    "plt.ylabel('True Positive Rate')\n",
    "plt.title('ROC Curve')\n",
    "plt.legend(loc=\"lower right\")\n",
    "plt.show()"
   ]
  },
  {
   "cell_type": "markdown",
   "metadata": {},
   "source": [
    "### Random Forests"
   ]
  },
  {
   "cell_type": "code",
   "execution_count": 197,
   "metadata": {
    "collapsed": false
   },
   "outputs": [
    {
     "name": "stdout",
     "output_type": "stream",
     "text": [
      "MODEL METRICS\n",
      "-------------\n",
      "Model Accuracy(Train): 1.0\n",
      "Model Accuracy(Test): 0.733333333333\n",
      "Confusion Matrix(Train):\n",
      "[[9 0]\n",
      " [0 5]]\n",
      "Confusion Matrix(Test):\n",
      "[[8 3]\n",
      " [1 3]]\n",
      "ROC AUC: 0.88\n"
     ]
    },
    {
     "data": {
      "image/png": "[encoded data removed]",
      "text/plain": [
       "<matplotlib.figure.Figure at 0x27368208>"
      ]
     },
     "metadata": {},
     "output_type": "display_data"
    }
   ],
   "source": [
    "rf_catcher=RandomForestClassifier()\n",
    "rf_catcher.fit(X_train,y_train)\n",
    "\n",
    "print \"MODEL METRICS\"\n",
    "print \"-------------\"\n",
    "print \"Model Accuracy(Train):\",rf_catcher.score(X_train,y_train)\n",
    "t1=rf_catcher.predict(X_train)\n",
    "t=rf_catcher.predict(X_test)\n",
    "print \"Model Accuracy(Test):\",accuracy_score(y_test,t)\n",
    "print \"Confusion Matrix(Train):\\n\",confusion_matrix(y_train,t1)\n",
    "print \"Confusion Matrix(Test):\\n\",confusion_matrix(y_test,t)\n",
    "\n",
    "fpr, tpr, _ =metrics.roc_curve(y_test,rf_catcher.predict_proba(X_test)[:,[1]],)\n",
    "# Calculate the AUC\n",
    "roc_auc = auc(fpr, tpr)\n",
    "print 'ROC AUC: %0.2f' % roc_auc\n",
    " \n",
    "# Plot of a ROC curve for a specific class\n",
    "plt.figure()\n",
    "plt.plot(fpr, tpr, label='ROC curve (area = %0.2f)' % roc_auc)\n",
    "plt.plot([0, 1], [0, 1], 'k--')\n",
    "plt.xlim([0.0, 1.0])\n",
    "plt.ylim([0.0, 1.05])\n",
    "plt.xlabel('False Positive Rate')\n",
    "plt.ylabel('True Positive Rate')\n",
    "plt.title('ROC Curve')\n",
    "plt.legend(loc=\"lower right\")\n",
    "plt.show()"
   ]
  },
  {
   "cell_type": "markdown",
   "metadata": {},
   "source": [
    "### Gradient Boosting"
   ]
  },
  {
   "cell_type": "code",
   "execution_count": 198,
   "metadata": {
    "collapsed": false
   },
   "outputs": [
    {
     "name": "stdout",
     "output_type": "stream",
     "text": [
      "MODEL METRICS\n",
      "-------------\n",
      "Model Accuracy(Train): 1.0\n",
      "Model Accuracy(Test): 0.866666666667\n",
      "Confusion Matrix(Train):\n",
      "[[9 0]\n",
      " [0 5]]\n",
      "Confusion Matrix(Test):\n",
      "[[10  1]\n",
      " [ 1  3]]\n",
      "ROC AUC: 0.80\n"
     ]
    },
    {
     "data": {
      "image/png": "[encoded data removed]",
      "text/plain": [
       "<matplotlib.figure.Figure at 0x2736c358>"
      ]
     },
     "metadata": {},
     "output_type": "display_data"
    }
   ],
   "source": [
    "gbt_catcher=GradientBoostingClassifier(n_estimators=100,learning_rate=1.0,max_depth=1,random_state=0)\n",
    "gbt_catcher.fit(X_train,y_train)\n",
    "\n",
    "print \"MODEL METRICS\"\n",
    "print \"-------------\"\n",
    "print \"Model Accuracy(Train):\",gbt_catcher.score(X_train,y_train)\n",
    "t1=gbt_catcher.predict(X_train)\n",
    "t=gbt_catcher.predict(X_test)\n",
    "print \"Model Accuracy(Test):\",accuracy_score(y_test,t)\n",
    "print \"Confusion Matrix(Train):\\n\",confusion_matrix(y_train,t1)\n",
    "print \"Confusion Matrix(Test):\\n\",confusion_matrix(y_test,t)\n",
    "\n",
    "fpr, tpr, _ =metrics.roc_curve(y_test,gbt_catcher.predict_proba(X_test)[:,[1]],)\n",
    "# Calculate the AUC\n",
    "roc_auc = auc(fpr, tpr)\n",
    "print 'ROC AUC: %0.2f' % roc_auc\n",
    " \n",
    "# Plot of a ROC curve for a specific class\n",
    "plt.figure()\n",
    "plt.plot(fpr, tpr, label='ROC curve (area = %0.2f)' % roc_auc)\n",
    "plt.plot([0, 1], [0, 1], 'k--')\n",
    "plt.xlim([0.0, 1.0])\n",
    "plt.ylim([0.0, 1.05])\n",
    "plt.xlabel('False Positive Rate')\n",
    "plt.ylabel('True Positive Rate')\n",
    "plt.title('ROC Curve')\n",
    "plt.legend(loc=\"lower right\")\n",
    "plt.show()"
   ]
  },
  {
   "cell_type": "code",
   "execution_count": null,
   "metadata": {
    "collapsed": true
   },
   "outputs": [],
   "source": []
  },
  {
   "cell_type": "code",
   "execution_count": null,
   "metadata": {
    "collapsed": true
   },
   "outputs": [],
   "source": []
  },
  {
   "cell_type": "code",
   "execution_count": null,
   "metadata": {
    "collapsed": true
   },
   "outputs": [],
   "source": []
  },
  {
   "cell_type": "code",
   "execution_count": null,
   "metadata": {
    "collapsed": true
   },
   "outputs": [],
   "source": []
  }
 ],
 "metadata": {
  "kernelspec": {
   "display_name": "Python 2",
   "language": "python",
   "name": "python2"
  },
  "language_info": {
   "codemirror_mode": {
    "name": "ipython",
    "version": 2
   },
   "file_extension": ".py",
   "mimetype": "text/x-python",
   "name": "python",
   "nbconvert_exporter": "python",
   "pygments_lexer": "ipython2",
   "version": "2.7.11"
  }
 },
 "nbformat": 4,
 "nbformat_minor": 0
}
